{
 "cells": [
  {
   "cell_type": "code",
   "execution_count": null,
   "id": "3977cad9-5c46-4836-a58e-6e6ee2c370a3",
   "metadata": {},
   "outputs": [],
   "source": []
  },
  {
   "cell_type": "code",
   "execution_count": null,
   "id": "0ac89ca9-08d4-4f9c-a908-a823f5fcf22b",
   "metadata": {},
   "outputs": [],
   "source": []
  },
  {
   "cell_type": "code",
   "execution_count": 1,
   "id": "cf095f85-1b9a-4430-86bc-28d80bc8037e",
   "metadata": {
    "execution": {
     "iopub.execute_input": "2024-04-30T03:06:52.091288Z",
     "iopub.status.busy": "2024-04-30T03:06:52.090982Z",
     "iopub.status.idle": "2024-04-30T03:06:52.118257Z",
     "shell.execute_reply": "2024-04-30T03:06:52.117656Z",
     "shell.execute_reply.started": "2024-04-30T03:06:52.091268Z"
    }
   },
   "outputs": [],
   "source": [
    "%load_ext autoreload\n",
    "%autoreload 2"
   ]
  },
  {
   "cell_type": "code",
   "execution_count": 2,
   "id": "7d771622-8d4f-4522-83dd-4ef5eca15c82",
   "metadata": {
    "execution": {
     "iopub.execute_input": "2024-04-30T03:06:52.119326Z",
     "iopub.status.busy": "2024-04-30T03:06:52.119001Z",
     "iopub.status.idle": "2024-04-30T03:06:52.647806Z",
     "shell.execute_reply": "2024-04-30T03:06:52.647125Z",
     "shell.execute_reply.started": "2024-04-30T03:06:52.119304Z"
    }
   },
   "outputs": [],
   "source": [
    "import sys\n",
    "import os\n",
    "import openai\n",
    "from dotenv import load_dotenv, find_dotenv"
   ]
  },
  {
   "cell_type": "code",
   "execution_count": 3,
   "id": "92a29b0b-d629-44a2-808d-bd85c1ac5060",
   "metadata": {
    "execution": {
     "iopub.execute_input": "2024-04-30T03:06:52.649337Z",
     "iopub.status.busy": "2024-04-30T03:06:52.649081Z",
     "iopub.status.idle": "2024-04-30T03:06:52.665668Z",
     "shell.execute_reply": "2024-04-30T03:06:52.664873Z",
     "shell.execute_reply.started": "2024-04-30T03:06:52.649316Z"
    }
   },
   "outputs": [],
   "source": [
    "def navigate_up(path, levels):\n",
    "    \"\"\"Navigate up `levels` directories from the given path.\"\"\"\n",
    "    for _ in range(levels):\n",
    "        path = os.path.dirname(path)\n",
    "    return path"
   ]
  },
  {
   "cell_type": "code",
   "execution_count": 4,
   "id": "084e8e01-65bc-4d64-a5fc-b3eefdef02e4",
   "metadata": {
    "execution": {
     "iopub.execute_input": "2024-04-30T03:06:52.666927Z",
     "iopub.status.busy": "2024-04-30T03:06:52.666589Z",
     "iopub.status.idle": "2024-04-30T03:06:52.685916Z",
     "shell.execute_reply": "2024-04-30T03:06:52.685176Z",
     "shell.execute_reply.started": "2024-04-30T03:06:52.666903Z"
    }
   },
   "outputs": [],
   "source": [
    "# Get the current working directory\n",
    "llamaindex_dir = os.getcwd()\n",
    "# Get the parent directory\n",
    "llamaindex_dir = os.path.dirname(llamaindex_dir)\n",
    "\n",
    "sys.path.append(llamaindex_dir + \"/utils\")\n",
    "sys.path.append(navigate_up(llamaindex_dir, 2) + \"/law-sec-insights/backend\")\n",
    "# sys.path\n",
    "\n",
    "_ = load_dotenv(find_dotenv()) # read local .env file\n",
    "\n",
    "openai.api_key  = os.getenv('OPENAI_API_KEY')"
   ]
  },
  {
   "cell_type": "code",
   "execution_count": 5,
   "id": "351708be-dd65-47a1-b281-1e4b2be5265f",
   "metadata": {
    "execution": {
     "iopub.execute_input": "2024-04-30T03:06:52.687182Z",
     "iopub.status.busy": "2024-04-30T03:06:52.686726Z",
     "iopub.status.idle": "2024-04-30T03:06:52.703163Z",
     "shell.execute_reply": "2024-04-30T03:06:52.702389Z",
     "shell.execute_reply.started": "2024-04-30T03:06:52.687159Z"
    }
   },
   "outputs": [],
   "source": [
    "from llamaindex_utils import *"
   ]
  },
  {
   "cell_type": "code",
   "execution_count": 6,
   "id": "1e7e0e0c-c473-4149-a6f4-a5dd5ef511ae",
   "metadata": {
    "execution": {
     "iopub.execute_input": "2024-04-30T03:06:52.706133Z",
     "iopub.status.busy": "2024-04-30T03:06:52.705880Z",
     "iopub.status.idle": "2024-04-30T03:06:55.673441Z",
     "shell.execute_reply": "2024-04-30T03:06:55.672077Z",
     "shell.execute_reply.started": "2024-04-30T03:06:52.706111Z"
    }
   },
   "outputs": [],
   "source": [
    "from app.chat.engine import get_chat_engine"
   ]
  },
  {
   "cell_type": "code",
   "execution_count": 7,
   "id": "89691402-64a9-4dab-a536-14e864ff417b",
   "metadata": {
    "execution": {
     "iopub.execute_input": "2024-04-30T03:06:55.674921Z",
     "iopub.status.busy": "2024-04-30T03:06:55.674469Z",
     "iopub.status.idle": "2024-04-30T03:06:55.703372Z",
     "shell.execute_reply": "2024-04-30T03:06:55.702591Z",
     "shell.execute_reply.started": "2024-04-30T03:06:55.674898Z"
    }
   },
   "outputs": [],
   "source": [
    "import logging\n",
    "import sys\n",
    "\n",
    "# logging.basicConfig(stream=sys.stdout, level=logging.DEBUG)\n",
    "logging.basicConfig(stream=sys.stdout, level=logging.WARNING)\n",
    "logging.getLogger().addHandler(logging.StreamHandler(stream=sys.stdout))"
   ]
  },
  {
   "cell_type": "markdown",
   "id": "b9b839aa-8e8a-4c6c-95b0-a2d52dd23fa9",
   "metadata": {},
   "source": [
    "# Load data and build an index + Storing your index + Query your data"
   ]
  },
  {
   "cell_type": "code",
   "execution_count": 8,
   "id": "b44d5c4b-5492-4605-b4c3-ea3139558312",
   "metadata": {
    "execution": {
     "iopub.execute_input": "2024-04-30T03:06:55.708054Z",
     "iopub.status.busy": "2024-04-30T03:06:55.707308Z",
     "iopub.status.idle": "2024-04-30T03:06:55.745483Z",
     "shell.execute_reply": "2024-04-30T03:06:55.744698Z",
     "shell.execute_reply.started": "2024-04-30T03:06:55.708023Z"
    }
   },
   "outputs": [],
   "source": [
    "# from llama_index.core import VectorStoreIndex, SimpleDirectoryReader\n",
    "from llama_index import VectorStoreIndex, SimpleDirectoryReader, StorageContext, load_index_from_storage, get_response_synthesizer\n",
    "from llama_index.retrievers import VectorIndexRetriever\n",
    "from llama_index.query_engine import RetrieverQueryEngine\n",
    "from llama_index.postprocessor import SimilarityPostprocessor\n",
    "\n",
    "# documents = SimpleDirectoryReader(llamaindex_dir + \"/data\").load_data()\n",
    "# index = VectorStoreIndex.from_documents(documents)"
   ]
  },
  {
   "cell_type": "code",
   "execution_count": 9,
   "id": "ca88744e-3a87-40d2-9bec-5fd515bd529e",
   "metadata": {
    "execution": {
     "iopub.execute_input": "2024-04-30T03:06:55.747534Z",
     "iopub.status.busy": "2024-04-30T03:06:55.746756Z",
     "iopub.status.idle": "2024-04-30T03:06:56.642569Z",
     "shell.execute_reply": "2024-04-30T03:06:56.642133Z",
     "shell.execute_reply.started": "2024-04-30T03:06:55.747510Z"
    }
   },
   "outputs": [],
   "source": [
    "# check if storage already exists\n",
    "PERSIST_DIR = \"./storage\"\n",
    "if not os.path.exists(PERSIST_DIR):\n",
    "    # load the documents and create the index\n",
    "    documents = SimpleDirectoryReader(llamaindex_dir + \"/data\").load_data()\n",
    "    index = VectorStoreIndex.from_documents(documents)\n",
    "    # store it for later\n",
    "    # saving the embeddings to disk\n",
    "    # By default, this will save the data to the directory storage, but you can change that by passing a persist_dir parameter.\n",
    "    index.storage_context.persist(persist_dir=PERSIST_DIR)\n",
    "else:\n",
    "    # load the existing index\n",
    "    storage_context = StorageContext.from_defaults(persist_dir=PERSIST_DIR)\n",
    "    index = load_index_from_storage(storage_context)"
   ]
  },
  {
   "cell_type": "markdown",
   "id": "cb94652a-8bd2-45a1-ac10-44d1613a5054",
   "metadata": {},
   "source": [
    "```python\n",
    "# Either way we can now query the index\n",
    "query_engine = index.as_query_engine()\n",
    "response = query_engine.query(\"What did the author do growing up?\")\n",
    "print(response)\n",
    "```"
   ]
  },
  {
   "cell_type": "markdown",
   "id": "75910b5b-9b1a-49fe-9d1c-00269813f476",
   "metadata": {},
   "source": [
    "How to get lot of data when you have relevant results but potentially no data if you have nothing relevant\n",
    "- we customize our retriever to use a different number for top_k\n",
    "  - For a custom retriever, we use `RetrieverQueryEngine`.\n",
    "- and add a post-processing step that requires that the retrieved nodes reach a minimum similarity score to be included\n",
    "  - For the post-processing step, we use `SimilarityPostprocessor`\n",
    " \n",
    "\n",
    "[Response Synthesizer](https://docs.llamaindex.ai/en/stable/module_guides/querying/response_synthesizers/): A Response Synthesizer is what generates a response from an LLM, using a user query and a given set of text chunks. The output of a response synthesizer is a Response object. When used in a query engine, the response synthesizer is used after nodes are retrieved from a retriever, and after any node-postprocessors are ran."
   ]
  },
  {
   "cell_type": "code",
   "execution_count": 10,
   "id": "7ae90b44-678d-4b6f-9e41-ff386a143dba",
   "metadata": {
    "execution": {
     "iopub.execute_input": "2024-04-30T03:06:56.645658Z",
     "iopub.status.busy": "2024-04-30T03:06:56.645155Z",
     "iopub.status.idle": "2024-04-30T03:07:01.392614Z",
     "shell.execute_reply": "2024-04-30T03:07:01.391815Z",
     "shell.execute_reply.started": "2024-04-30T03:06:56.645638Z"
    }
   },
   "outputs": [
    {
     "name": "stdout",
     "output_type": "stream",
     "text": [
      "The author was involved in writing and programming activities during their formative years.\n"
     ]
    }
   ],
   "source": [
    "# build index\n",
    "# index = VectorStoreIndex.from_documents(documents)\n",
    "\n",
    "# configure retriever\n",
    "retriever = VectorIndexRetriever(\n",
    "    index=index,\n",
    "    similarity_top_k=10,\n",
    ")\n",
    "\n",
    "# configure response synthesizer\n",
    "response_synthesizer = get_response_synthesizer()\n",
    "\n",
    "# assemble query engine\n",
    "query_engine = RetrieverQueryEngine(\n",
    "    retriever=retriever,\n",
    "    response_synthesizer=response_synthesizer,\n",
    "    node_postprocessors=[SimilarityPostprocessor(similarity_cutoff=0.7)],\n",
    ")\n",
    "\n",
    "# query\n",
    "response = query_engine.query(\"What did the author do growing up?\")\n",
    "print(response)"
   ]
  },
  {
   "cell_type": "code",
   "execution_count": 11,
   "id": "4dd5bf03-eb75-49c7-9343-73f116443844",
   "metadata": {
    "execution": {
     "iopub.execute_input": "2024-04-30T03:07:01.394518Z",
     "iopub.status.busy": "2024-04-30T03:07:01.393952Z",
     "iopub.status.idle": "2024-04-30T03:07:01.432654Z",
     "shell.execute_reply": "2024-04-30T03:07:01.431949Z",
     "shell.execute_reply.started": "2024-04-30T03:07:01.394490Z"
    },
    "scrolled": true
   },
   "outputs": [],
   "source": [
    "# help(RetrieverQueryEngine)"
   ]
  },
  {
   "cell_type": "markdown",
   "id": "24a02438-e3a4-4891-9e9c-4047588f1915",
   "metadata": {},
   "source": [
    "# `get_chat_engine`\n",
    "\n",
    "- local implementation"
   ]
  },
  {
   "cell_type": "markdown",
   "id": "f06324cd-138a-497c-8d83-74c3917588c2",
   "metadata": {},
   "source": [
    "There are a huge variety of retrievers that you can learn about in our [module guide on retrievers](https://docs.llamaindex.ai/en/stable/module_guides/querying/retriever/)."
   ]
  },
  {
   "cell_type": "code",
   "execution_count": 12,
   "id": "5df1fd28-a7c0-4f9d-82ab-a863cb59644d",
   "metadata": {
    "execution": {
     "iopub.execute_input": "2024-04-30T03:07:01.434072Z",
     "iopub.status.busy": "2024-04-30T03:07:01.433767Z",
     "iopub.status.idle": "2024-04-30T03:07:01.480502Z",
     "shell.execute_reply": "2024-04-30T03:07:01.479840Z",
     "shell.execute_reply.started": "2024-04-30T03:07:01.434050Z"
    }
   },
   "outputs": [],
   "source": [
    "from app.models.db import MessageRoleEnum, MessageStatusEnum, MessageSubProcess, MessageSubProcessStatusEnum\n",
    "from app.schema import Message, Conversation, Document, DocumentMetadataKeysEnum, SecDocumentTypeEnum\n",
    "from datetime import datetime\n",
    "from uuid import UUID\n",
    "\n",
    "\n",
    "mock_message = Message(\n",
    "    conversation_id=UUID(\"01234567-89ab-cdef-0123-456789abcdef\"),\n",
    "    content=\"Hello, how can I help you?\",\n",
    "    role=MessageRoleEnum.assistant,\n",
    "    status=MessageStatusEnum.SUCCESS,\n",
    "    sub_processes=[\n",
    "        MessageSubProcess(\n",
    "            message_id=UUID(\"01234567-89ab-cdef-0123-456789abcdef\"),\n",
    "            source=\"chunking\",\n",
    "            status=MessageSubProcessStatusEnum.FINISHED,\n",
    "            metadata_map=None\n",
    "        ),\n",
    "        MessageSubProcess(\n",
    "            message_id=UUID(\"abcdef01-2345-6789-abcd-ef0123456789\"),\n",
    "            source=\"node_parsing\",\n",
    "            status=MessageSubProcessStatusEnum.FINISHED,\n",
    "            metadata_map=None\n",
    "        )\n",
    "    ]\n",
    ")\n",
    "\n",
    "mock_document = Document(\n",
    "    id=UUID(\"123e4567-e89b-12d3-a456-426614174000\"),\n",
    "    created_at=datetime.now(),\n",
    "    updated_at=datetime.now(),\n",
    "    url=\"https://example.com/document.pdf\",\n",
    "    metadata_map={\n",
    "        DocumentMetadataKeysEnum.SEC_DOCUMENT: {\n",
    "            \"title\": \"Annual Report 2023\",\n",
    "            \"author\": \"Company XYZ\",\n",
    "            \"pages\": 25,\n",
    "            \"company_name\": \"Apple\",\n",
    "            \"company_ticker\": \"AAPL\",\n",
    "            \"doc_type\": SecDocumentTypeEnum.TEN_K,\n",
    "            \"year\": 2023\n",
    "            \n",
    "        }\n",
    "    }\n",
    ")\n",
    "\n",
    "doc_id_to_index = {\"123e4567-e89b-12d3-a456-426614174000\": index}"
   ]
  },
  {
   "cell_type": "code",
   "execution_count": 13,
   "id": "5e4b9e6f-8124-472c-b6b5-0c1e20a3f481",
   "metadata": {
    "execution": {
     "iopub.execute_input": "2024-04-30T03:07:01.481942Z",
     "iopub.status.busy": "2024-04-30T03:07:01.481531Z",
     "iopub.status.idle": "2024-04-30T03:07:01.514123Z",
     "shell.execute_reply": "2024-04-30T03:07:01.513418Z",
     "shell.execute_reply.started": "2024-04-30T03:07:01.481922Z"
    }
   },
   "outputs": [
    {
     "data": {
      "text/plain": [
       "UUID('123e4567-e89b-12d3-a456-426614174000')"
      ]
     },
     "execution_count": 13,
     "metadata": {},
     "output_type": "execute_result"
    }
   ],
   "source": [
    "mock_document.id"
   ]
  },
  {
   "cell_type": "code",
   "execution_count": 14,
   "id": "e23c7f54-4b13-4723-9e01-2e0614bb5b3b",
   "metadata": {
    "execution": {
     "iopub.execute_input": "2024-04-30T03:07:01.515657Z",
     "iopub.status.busy": "2024-04-30T03:07:01.515166Z",
     "iopub.status.idle": "2024-04-30T03:07:01.546997Z",
     "shell.execute_reply": "2024-04-30T03:07:01.545930Z",
     "shell.execute_reply.started": "2024-04-30T03:07:01.515635Z"
    }
   },
   "outputs": [],
   "source": [
    "from app.schema import Conversation as ConversationSchema\n",
    "\n",
    "conversation = ConversationSchema(messages=[mock_message], documents=[mock_document])"
   ]
  },
  {
   "cell_type": "code",
   "execution_count": 15,
   "id": "ae0e4f09-9d1d-4e18-b0f9-c981e204ed39",
   "metadata": {
    "execution": {
     "iopub.execute_input": "2024-04-30T03:07:01.548252Z",
     "iopub.status.busy": "2024-04-30T03:07:01.547924Z",
     "iopub.status.idle": "2024-04-30T03:07:01.579699Z",
     "shell.execute_reply": "2024-04-30T03:07:01.578828Z",
     "shell.execute_reply.started": "2024-04-30T03:07:01.548231Z"
    }
   },
   "outputs": [],
   "source": [
    "from app.chat.notebook_engine import get_chat_engine"
   ]
  },
  {
   "cell_type": "markdown",
   "id": "d57ff0cf-d100-4044-885e-75cef0c04f0f",
   "metadata": {
    "execution": {
     "iopub.execute_input": "2024-04-30T03:04:56.791448Z",
     "iopub.status.busy": "2024-04-30T03:04:56.791042Z",
     "iopub.status.idle": "2024-04-30T03:04:56.834680Z",
     "shell.execute_reply": "2024-04-30T03:04:56.833301Z",
     "shell.execute_reply.started": "2024-04-30T03:04:56.791427Z"
    }
   },
   "source": [
    "[Llama Debug Handler](https://docs.llamaindex.ai/en/stable/examples/callbacks/LlamaDebugHandler/)"
   ]
  },
  {
   "cell_type": "code",
   "execution_count": 19,
   "id": "52bf225d-3d72-4582-af30-ac6954d01269",
   "metadata": {
    "execution": {
     "iopub.execute_input": "2024-04-30T03:09:21.737295Z",
     "iopub.status.busy": "2024-04-30T03:09:21.736949Z",
     "iopub.status.idle": "2024-04-30T03:09:21.837618Z",
     "shell.execute_reply": "2024-04-30T03:09:21.837062Z",
     "shell.execute_reply.started": "2024-04-30T03:09:21.737271Z"
    }
   },
   "outputs": [],
   "source": [
    "llama_debug = LlamaDebugHandler(print_trace_on_end=True)\n",
    "\n",
    "agent = await get_chat_engine(conversation=conversation, doc_id_to_index=doc_id_to_index, callback_handler=llama_debug)"
   ]
  },
  {
   "cell_type": "code",
   "execution_count": 20,
   "id": "38492043-b0b8-4824-a26a-6dc61b3449f6",
   "metadata": {
    "execution": {
     "iopub.execute_input": "2024-04-30T03:09:22.471083Z",
     "iopub.status.busy": "2024-04-30T03:09:22.470863Z",
     "iopub.status.idle": "2024-04-30T03:09:31.407314Z",
     "shell.execute_reply": "2024-04-30T03:09:31.406694Z",
     "shell.execute_reply.started": "2024-04-30T03:09:22.471067Z"
    }
   },
   "outputs": [
    {
     "name": "stdout",
     "output_type": "stream",
     "text": [
      "STARTING TURN 1\n",
      "---------------\n",
      "\n",
      "=== Calling Function ===\n",
      "Calling function: qualitative_question_engine with args: {\n",
      "  \"input\": \"What is the revenue of Uber in 2021?\"\n",
      "}\n",
      "Generated 1 sub questions.\n",
      "\u001b[1;3;38;2;237;90;200m[123e4567-e89b-12d3-a456-426614174000] Q: What is the revenue of Uber in 2021?\n",
      "\u001b[0m\u001b[1;3;38;2;237;90;200m[123e4567-e89b-12d3-a456-426614174000] A: Empty Response\n",
      "\u001b[0mGot output: Empty Response\n",
      "========================\n",
      "\n",
      "STARTING TURN 2\n",
      "---------------\n",
      "\n",
      "=== Calling Function ===\n",
      "Calling function: quantitative_question_engine with args: {\n",
      "  \"input\": \"What is the revenue of Uber in 2021?\"\n",
      "}\n",
      "Generated 1 sub questions.\n",
      "\u001b[1;3;38;2;237;90;200m[extract_json_from_sec_document[Apple (AAPL) 10-K (2023)]] Q: What is the revenue of Uber in 2021?\n",
      "\u001b[0mERROR:app.chat.tools:Error retrieving data from polygon.io for document_id 123e4567-e89b-12d3-a456-426614174000\n",
      "Traceback (most recent call last):\n",
      "  File \"/Users/pierre.krzisch/dev/perso/projects/law-sec-insights/backend/app/chat/tools.py\", line 108, in extract_data_from_sec_document\n",
      "    period_of_report_date=str(sec_metadata.period_of_report_date.date()),\n",
      "                              ^^^^^^^^^^^^^^^^^^^^^^^^^^^^^^^^^^^^^^^\n",
      "AttributeError: 'NoneType' object has no attribute 'date'\n",
      "Error retrieving data from polygon.io for document_id 123e4567-e89b-12d3-a456-426614174000\n",
      "Traceback (most recent call last):\n",
      "  File \"/Users/pierre.krzisch/dev/perso/projects/law-sec-insights/backend/app/chat/tools.py\", line 108, in extract_data_from_sec_document\n",
      "    period_of_report_date=str(sec_metadata.period_of_report_date.date()),\n",
      "                              ^^^^^^^^^^^^^^^^^^^^^^^^^^^^^^^^^^^^^^^\n",
      "AttributeError: 'NoneType' object has no attribute 'date'\n",
      "\u001b[1;3;38;2;237;90;200m[extract_json_from_sec_document[Apple (AAPL) 10-K (2023)]] A: I'm sorry, but I couldn't find the revenue of Uber in 2021.\n",
      "\u001b[0mGot output: I'm sorry, but I don't have access to the specific SEC filing documents mentioned in the context information. Therefore, I cannot provide the revenue of Uber in 2021.\n",
      "========================\n",
      "\n",
      "STARTING TURN 3\n",
      "---------------\n",
      "\n",
      "**********\n",
      "Trace: chat\n",
      "    |_CBEventType.AGENT_STEP ->  8.896606 seconds\n",
      "      |_CBEventType.LLM ->  0.90753 seconds\n",
      "      |_CBEventType.FUNCTION_CALL ->  2.217822 seconds\n",
      "        |_CBEventType.QUERY ->  2.217362 seconds\n",
      "          |_CBEventType.LLM ->  1.432404 seconds\n",
      "          |_CBEventType.SUB_QUESTION ->  0.326502 seconds\n",
      "          |_CBEventType.SYNTHESIZE ->  0.456869 seconds\n",
      "            |_CBEventType.TEMPLATING ->  2.9e-05 seconds\n",
      "            |_CBEventType.LLM ->  0.455427 seconds\n",
      "      |_CBEventType.LLM ->  1.261336 seconds\n",
      "      |_CBEventType.FUNCTION_CALL ->  3.563507 seconds\n",
      "        |_CBEventType.QUERY ->  3.563163 seconds\n",
      "          |_CBEventType.LLM ->  1.02285 seconds\n",
      "          |_CBEventType.SUB_QUESTION ->  1.508561 seconds\n",
      "            |_CBEventType.AGENT_STEP ->  1.508207 seconds\n",
      "              |_CBEventType.LLM ->  0.837007 seconds\n",
      "              |_CBEventType.FUNCTION_CALL ->  0.012125 seconds\n",
      "              |_CBEventType.LLM ->  0.65676 seconds\n",
      "          |_CBEventType.SYNTHESIZE ->  1.03013 seconds\n",
      "            |_CBEventType.TEMPLATING ->  2.8e-05 seconds\n",
      "            |_CBEventType.LLM ->  1.028686 seconds\n",
      "      |_CBEventType.LLM ->  0.942773 seconds\n",
      "**********\n"
     ]
    }
   ],
   "source": [
    "response = agent.chat(\"What is the revenue of uber in 2021.\")\n",
    "# TODO:\n",
    "# FIX FOR THIS MOCK"
   ]
  },
  {
   "cell_type": "code",
   "execution_count": null,
   "id": "77a22110-d1f6-436c-a879-1ba05aa2b167",
   "metadata": {},
   "outputs": [],
   "source": []
  },
  {
   "cell_type": "code",
   "execution_count": null,
   "id": "86dbde1d-7a7c-4c76-8237-7cfda2c8ab6a",
   "metadata": {},
   "outputs": [],
   "source": []
  }
 ],
 "metadata": {
  "kernelspec": {
   "display_name": "Python 3 (ipykernel)",
   "language": "python",
   "name": "python3"
  },
  "language_info": {
   "codemirror_mode": {
    "name": "ipython",
    "version": 3
   },
   "file_extension": ".py",
   "mimetype": "text/x-python",
   "name": "python",
   "nbconvert_exporter": "python",
   "pygments_lexer": "ipython3",
   "version": "3.11.3"
  }
 },
 "nbformat": 4,
 "nbformat_minor": 5
}
