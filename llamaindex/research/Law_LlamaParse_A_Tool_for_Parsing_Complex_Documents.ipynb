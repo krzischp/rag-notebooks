{
 "cells": [
  {
   "cell_type": "code",
   "execution_count": null,
   "id": "f530b164-5bf1-4651-8b7d-6363c1c106e5",
   "metadata": {
    "id": "f530b164-5bf1-4651-8b7d-6363c1c106e5"
   },
   "outputs": [],
   "source": []
  },
  {
   "cell_type": "code",
   "execution_count": null,
   "id": "6dc83154-cb37-4d79-bdf9-b7c460003abc",
   "metadata": {
    "id": "6dc83154-cb37-4d79-bdf9-b7c460003abc"
   },
   "outputs": [],
   "source": []
  },
  {
   "cell_type": "code",
   "execution_count": 1,
   "id": "5b93f5e8-e75a-48cc-9634-4c921193a5bf",
   "metadata": {
    "colab": {
     "base_uri": "https://localhost:8080/"
    },
    "execution": {
     "iopub.execute_input": "2024-05-08T23:32:10.841315Z",
     "iopub.status.busy": "2024-05-08T23:32:10.841003Z",
     "iopub.status.idle": "2024-05-08T23:32:10.845076Z",
     "shell.execute_reply": "2024-05-08T23:32:10.844268Z",
     "shell.execute_reply.started": "2024-05-08T23:32:10.841290Z"
    },
    "id": "5b93f5e8-e75a-48cc-9634-4c921193a5bf",
    "outputId": "8817f49b-8d56-433d-cd67-75f05c4a38e9"
   },
   "outputs": [],
   "source": [
    "# !pip install -qU llama-index llama-parse python-dotenv"
   ]
  },
  {
   "cell_type": "code",
   "execution_count": 2,
   "id": "R02fTKMT07xh",
   "metadata": {
    "colab": {
     "base_uri": "https://localhost:8080/"
    },
    "execution": {
     "iopub.execute_input": "2024-05-08T23:32:11.061990Z",
     "iopub.status.busy": "2024-05-08T23:32:11.061693Z",
     "iopub.status.idle": "2024-05-08T23:32:11.066381Z",
     "shell.execute_reply": "2024-05-08T23:32:11.064670Z",
     "shell.execute_reply.started": "2024-05-08T23:32:11.061967Z"
    },
    "id": "R02fTKMT07xh",
    "outputId": "cefaea46-6100-43a7-dc57-e7e6fd49fbcd"
   },
   "outputs": [],
   "source": [
    "# !pip install -qU llama-index-postprocessor-flag-embedding-reranker git+https://github.com/FlagOpen/FlagEmbedding.git"
   ]
  },
  {
   "cell_type": "code",
   "execution_count": 1,
   "id": "0VrlPfKedU9D",
   "metadata": {
    "colab": {
     "base_uri": "https://localhost:8080/"
    },
    "execution": {
     "iopub.execute_input": "2024-05-15T23:39:14.726675Z",
     "iopub.status.busy": "2024-05-15T23:39:14.726507Z",
     "iopub.status.idle": "2024-05-15T23:39:14.746024Z",
     "shell.execute_reply": "2024-05-15T23:39:14.745192Z",
     "shell.execute_reply.started": "2024-05-15T23:39:14.726657Z"
    },
    "id": "0VrlPfKedU9D",
    "outputId": "58cb1de2-06b0-4cd9-b32f-99b472e30a1f"
   },
   "outputs": [],
   "source": [
    "# !pip show torch\n",
    "# Name: llama-index\n",
    "# Version: 0.10.35\n",
    "\n",
    "# Name: llama-index-postprocessor-flag-embedding-reranker\n",
    "# Version: 0.1.2"
   ]
  },
  {
   "cell_type": "markdown",
   "id": "e04d840f-1001-40ad-9cc5-edfd8e9fb5dc",
   "metadata": {
    "id": "e04d840f-1001-40ad-9cc5-edfd8e9fb5dc"
   },
   "source": [
    "Reference notebook: [LlamaParse - A Tool for Parsing Complex Documents.ipynb](https://colab.research.google.com/drive/1IVQkSGwS5kdTiKBwz85PO6vg_WaNx15c?usp=sharing#scrollTo=pLlEWwpFqFrp)"
   ]
  },
  {
   "cell_type": "code",
   "execution_count": 2,
   "id": "bdb8a285-293c-4997-8404-31b0038946b4",
   "metadata": {
    "execution": {
     "iopub.execute_input": "2024-05-15T23:39:14.785930Z",
     "iopub.status.busy": "2024-05-15T23:39:14.785615Z",
     "iopub.status.idle": "2024-05-15T23:39:14.804064Z",
     "shell.execute_reply": "2024-05-15T23:39:14.803463Z",
     "shell.execute_reply.started": "2024-05-15T23:39:14.785909Z"
    },
    "id": "bdb8a285-293c-4997-8404-31b0038946b4"
   },
   "outputs": [],
   "source": [
    "%load_ext autoreload\n",
    "%autoreload 2"
   ]
  },
  {
   "cell_type": "code",
   "execution_count": 3,
   "id": "uImn4RF10D1D",
   "metadata": {
    "colab": {
     "base_uri": "https://localhost:8080/"
    },
    "execution": {
     "iopub.execute_input": "2024-05-15T23:39:14.993599Z",
     "iopub.status.busy": "2024-05-15T23:39:14.993347Z",
     "iopub.status.idle": "2024-05-15T23:39:15.003248Z",
     "shell.execute_reply": "2024-05-15T23:39:15.002310Z",
     "shell.execute_reply.started": "2024-05-15T23:39:14.993579Z"
    },
    "id": "uImn4RF10D1D",
    "outputId": "9011bcb7-cc64-4907-da29-ee5be5cfc517"
   },
   "outputs": [],
   "source": [
    "# from google.colab import drive\n",
    "# drive.mount('/content/drive')"
   ]
  },
  {
   "cell_type": "code",
   "execution_count": 4,
   "id": "9yQMCOXW2W0F",
   "metadata": {
    "execution": {
     "iopub.execute_input": "2024-05-15T23:39:15.201666Z",
     "iopub.status.busy": "2024-05-15T23:39:15.201421Z",
     "iopub.status.idle": "2024-05-15T23:39:15.211787Z",
     "shell.execute_reply": "2024-05-15T23:39:15.210410Z",
     "shell.execute_reply.started": "2024-05-15T23:39:15.201647Z"
    },
    "id": "9yQMCOXW2W0F"
   },
   "outputs": [],
   "source": [
    "# wd_path = \"/content/drive/MyDrive/Colab Notebooks/rag-notebooks\"\n",
    "wd_path = \"..\""
   ]
  },
  {
   "cell_type": "code",
   "execution_count": 5,
   "id": "ada44d98-9335-493c-8fe3-15f03ac46783",
   "metadata": {
    "execution": {
     "iopub.execute_input": "2024-05-15T23:39:15.418193Z",
     "iopub.status.busy": "2024-05-15T23:39:15.417914Z",
     "iopub.status.idle": "2024-05-15T23:39:15.913481Z",
     "shell.execute_reply": "2024-05-15T23:39:15.912578Z",
     "shell.execute_reply.started": "2024-05-15T23:39:15.418172Z"
    },
    "id": "ada44d98-9335-493c-8fe3-15f03ac46783"
   },
   "outputs": [],
   "source": [
    "import sys\n",
    "import openai\n",
    "import os\n",
    "import getpass\n",
    "import logging\n",
    "\n",
    "from dotenv import load_dotenv, find_dotenv"
   ]
  },
  {
   "cell_type": "code",
   "execution_count": 6,
   "id": "63c93c84-b6ba-4f62-903d-e9c4e2b05813",
   "metadata": {
    "execution": {
     "iopub.execute_input": "2024-05-15T23:39:15.915299Z",
     "iopub.status.busy": "2024-05-15T23:39:15.915028Z",
     "iopub.status.idle": "2024-05-15T23:39:15.929413Z",
     "shell.execute_reply": "2024-05-15T23:39:15.928442Z",
     "shell.execute_reply.started": "2024-05-15T23:39:15.915279Z"
    }
   },
   "outputs": [],
   "source": [
    "def navigate_up(path, levels):\n",
    "    \"\"\"Navigate up `levels` directories from the given path.\"\"\"\n",
    "    for _ in range(levels):\n",
    "        path = os.path.dirname(path)\n",
    "    return path\n",
    "\n",
    "# Get the current working directory\n",
    "llamaindex_dir = os.getcwd()\n",
    "# Get the parent directory\n",
    "llamaindex_dir = os.path.dirname(llamaindex_dir)\n",
    "\n",
    "sys.path.append(llamaindex_dir + \"/utils\")\n",
    "sys.path.append(navigate_up(llamaindex_dir, 2) + \"/law-sec-insights/backend\")\n",
    "# sys.path"
   ]
  },
  {
   "cell_type": "code",
   "execution_count": 7,
   "id": "4f923f8f-3718-4f90-a066-0b70f47635f5",
   "metadata": {
    "colab": {
     "base_uri": "https://localhost:8080/"
    },
    "execution": {
     "iopub.execute_input": "2024-05-15T23:39:15.930723Z",
     "iopub.status.busy": "2024-05-15T23:39:15.930431Z",
     "iopub.status.idle": "2024-05-15T23:39:15.944058Z",
     "shell.execute_reply": "2024-05-15T23:39:15.943420Z",
     "shell.execute_reply.started": "2024-05-15T23:39:15.930700Z"
    },
    "id": "4f923f8f-3718-4f90-a066-0b70f47635f5",
    "outputId": "0db8c902-205b-4de8-c68e-e75b8a4c477f"
   },
   "outputs": [],
   "source": [
    "# os.environ[\"LLAMA_CLOUD_API_KEY\"] = getpass.getpass(\"LLamaParse API Key:\")"
   ]
  },
  {
   "cell_type": "code",
   "execution_count": 8,
   "id": "x1Gfo0Ac1eur",
   "metadata": {
    "colab": {
     "base_uri": "https://localhost:8080/"
    },
    "execution": {
     "iopub.execute_input": "2024-05-15T23:39:16.036033Z",
     "iopub.status.busy": "2024-05-15T23:39:16.035700Z",
     "iopub.status.idle": "2024-05-15T23:39:16.050965Z",
     "shell.execute_reply": "2024-05-15T23:39:16.050017Z",
     "shell.execute_reply.started": "2024-05-15T23:39:16.036005Z"
    },
    "id": "x1Gfo0Ac1eur",
    "outputId": "47d98395-1495-4dbc-fbe0-4024919960b8"
   },
   "outputs": [],
   "source": [
    "# os.environ[\"OPENAI_API_KEY\"] = getpass.getpass(\"OpenAI API Key:\")"
   ]
  },
  {
   "cell_type": "code",
   "execution_count": 9,
   "id": "NF0wBES1cf3t",
   "metadata": {
    "colab": {
     "base_uri": "https://localhost:8080/"
    },
    "execution": {
     "iopub.execute_input": "2024-05-15T23:39:16.240114Z",
     "iopub.status.busy": "2024-05-15T23:39:16.239562Z",
     "iopub.status.idle": "2024-05-15T23:39:16.254802Z",
     "shell.execute_reply": "2024-05-15T23:39:16.253838Z",
     "shell.execute_reply.started": "2024-05-15T23:39:16.240088Z"
    },
    "id": "NF0wBES1cf3t",
    "outputId": "400111ed-fb86-45c1-8018-94f6b1689a03"
   },
   "outputs": [],
   "source": [
    "# os.environ[\"HF_TOKEN\"] = getpass.getpass(\"Hugging Face API Key:\")"
   ]
  },
  {
   "cell_type": "code",
   "execution_count": 10,
   "id": "yhK3alBB-48Z",
   "metadata": {
    "execution": {
     "iopub.execute_input": "2024-05-15T23:39:16.440209Z",
     "iopub.status.busy": "2024-05-15T23:39:16.439888Z",
     "iopub.status.idle": "2024-05-15T23:39:16.456968Z",
     "shell.execute_reply": "2024-05-15T23:39:16.456207Z",
     "shell.execute_reply.started": "2024-05-15T23:39:16.440184Z"
    },
    "id": "yhK3alBB-48Z"
   },
   "outputs": [],
   "source": [
    "import nest_asyncio\n",
    "\n",
    "nest_asyncio.apply()"
   ]
  },
  {
   "cell_type": "code",
   "execution_count": 11,
   "id": "2fbbf2e5-5ab9-4e6d-a4cf-9171f2334167",
   "metadata": {
    "execution": {
     "iopub.execute_input": "2024-05-15T23:39:16.636571Z",
     "iopub.status.busy": "2024-05-15T23:39:16.636180Z",
     "iopub.status.idle": "2024-05-15T23:39:16.652837Z",
     "shell.execute_reply": "2024-05-15T23:39:16.651408Z",
     "shell.execute_reply.started": "2024-05-15T23:39:16.636542Z"
    },
    "id": "2fbbf2e5-5ab9-4e6d-a4cf-9171f2334167"
   },
   "outputs": [],
   "source": [
    "# logging.basicConfig(stream=sys.stdout, level=logging.DEBUG)\n",
    "logging.basicConfig(stream=sys.stdout, level=logging.WARNING)\n",
    "logging.getLogger().addHandler(logging.StreamHandler(stream=sys.stdout))"
   ]
  },
  {
   "cell_type": "code",
   "execution_count": 12,
   "id": "a89606fe-1732-4df4-bf54-520ae1d72e0e",
   "metadata": {
    "execution": {
     "iopub.execute_input": "2024-05-15T23:39:16.844133Z",
     "iopub.status.busy": "2024-05-15T23:39:16.843810Z",
     "iopub.status.idle": "2024-05-15T23:39:20.400486Z",
     "shell.execute_reply": "2024-05-15T23:39:20.399637Z",
     "shell.execute_reply.started": "2024-05-15T23:39:16.844107Z"
    }
   },
   "outputs": [],
   "source": [
    "from llama_index.core.callbacks.global_handlers import set_global_handler\n",
    "\n",
    "set_global_handler(\"simple\")\n",
    "# set_global_handler(\"langfuse\")"
   ]
  },
  {
   "cell_type": "code",
   "execution_count": 13,
   "id": "7e4a2f96-760f-43f4-bdef-442d195cf877",
   "metadata": {
    "execution": {
     "iopub.execute_input": "2024-05-15T23:39:20.402575Z",
     "iopub.status.busy": "2024-05-15T23:39:20.402116Z",
     "iopub.status.idle": "2024-05-15T23:39:20.433257Z",
     "shell.execute_reply": "2024-05-15T23:39:20.432461Z",
     "shell.execute_reply.started": "2024-05-15T23:39:20.402552Z"
    },
    "id": "7e4a2f96-760f-43f4-bdef-442d195cf877"
   },
   "outputs": [],
   "source": [
    "# import llama_parse\n",
    "# import llama_index\n",
    "# import os\n",
    "\n",
    "# llama_parse_path = os.path.dirname(llama_parse.__file__)\n",
    "# llama_index_path = os.path.dirname(llama_index.__file__)\n",
    "\n",
    "# print(llama_parse_path)\n",
    "# print(llama_index_path)"
   ]
  },
  {
   "cell_type": "markdown",
   "id": "24eb6d43-b829-4043-bdda-149592dead7e",
   "metadata": {},
   "source": [
    "# Helpers"
   ]
  },
  {
   "cell_type": "code",
   "execution_count": 14,
   "id": "65958267-1d22-4131-b581-af29f06dc829",
   "metadata": {
    "execution": {
     "iopub.execute_input": "2024-05-15T23:39:20.434428Z",
     "iopub.status.busy": "2024-05-15T23:39:20.434095Z",
     "iopub.status.idle": "2024-05-15T23:39:20.479578Z",
     "shell.execute_reply": "2024-05-15T23:39:20.478794Z",
     "shell.execute_reply.started": "2024-05-15T23:39:20.434408Z"
    }
   },
   "outputs": [],
   "source": [
    "from llamaindex_utils import *\n",
    "from duvidas import *"
   ]
  },
  {
   "cell_type": "markdown",
   "id": "186a7d92-c3ea-4622-a86a-8635bf3f01fd",
   "metadata": {
    "id": "186a7d92-c3ea-4622-a86a-8635bf3f01fd"
   },
   "source": [
    "# Law questions"
   ]
  },
  {
   "cell_type": "code",
   "execution_count": 15,
   "id": "88f78b06-a355-4959-baaa-2308c9155c3e",
   "metadata": {
    "colab": {
     "base_uri": "https://localhost:8080/"
    },
    "execution": {
     "iopub.execute_input": "2024-05-15T23:39:20.482136Z",
     "iopub.status.busy": "2024-05-15T23:39:20.481867Z",
     "iopub.status.idle": "2024-05-15T23:39:20.512895Z",
     "shell.execute_reply": "2024-05-15T23:39:20.512216Z",
     "shell.execute_reply.started": "2024-05-15T23:39:20.482113Z"
    },
    "id": "88f78b06-a355-4959-baaa-2308c9155c3e",
    "outputId": "10d33a6f-2693-49af-a08c-4fec89961ed0"
   },
   "outputs": [
    {
     "name": "stdout",
     "output_type": "stream",
     "text": [
      "Quem é o  Devedor? (Emitente)\n",
      "Depois de responder, identifica a cláusula desta seção entre as cláusulas abaixo:\n",
      "['EMITENTE', 'DADOS DA OPERAÇÃO DE CRÉDITO', 'AVALISTA(S)', 'DESTINAÇÃO DO CRÉDITO', 'ENCARGOS FINANCEIROS', 'FORMA DE PAGAMENTO', 'COMISSÃO FLAT', 'TARIFAS', 'IOF', 'INADIMPLEMENTO', 'HONORÁRIOS ADVOCATÍCIOS', 'PLANILHA DE CÁLCULO PARA COBRANÇA', 'AUTORIZAÇÃO PARA DÉBITO EM CONTA', 'DESPESAS CARTORÁRIAS', 'LIQUIDAÇÃO/AMORTIZAÇÃO ANTECIPADA', 'VENCIMENTO EXTRAORDINÁRIO/ANTECIPADO', 'CLAUSULA ESPECIAL DE VENCIMENTO ANTECIPADO', 'COMUNICAÇÃO DENALTERAÇÃO ESTATUTÁRIA E DE DIRIGENTES', 'SUSPENSÃO DE LIBERAÇÃO DE CREDITO', 'PRESERVAÇÃO DE DIREITOS', 'COMPENSAÇÃO DE CRÉDITOS', 'CESSÃO', 'IMPUTAÇÃO AO PAGAMENTO', 'PREVENÇÃO E COMBATE À CORRUPÇÃO', 'RESPONSABILIDADE SOCIOAMBIENTAL', 'DECLARAÇÃO ESPECIAL', 'SISTEMA DE INFORMAÇÕES DE CRÉDITO DO BANCO CENTRAL - SCR', 'CENTRAIS DE ATENDIMENTO TELEFÔNICO', 'AVALISTAS', 'FORMALIZAÇÃO', 'LOCAL DO PAGAMENTO']\n",
      "Clausula: <completa>\n",
      "\n",
      "Quem é o  Credor? (Credor ou Nome do banco)\n",
      "Depois de responder, identifica a cláusula desta seção entre as cláusulas abaixo:\n",
      "['EMITENTE', 'DADOS DA OPERAÇÃO DE CRÉDITO', 'AVALISTA(S)', 'DESTINAÇÃO DO CRÉDITO', 'ENCARGOS FINANCEIROS', 'FORMA DE PAGAMENTO', 'COMISSÃO FLAT', 'TARIFAS', 'IOF', 'INADIMPLEMENTO', 'HONORÁRIOS ADVOCATÍCIOS', 'PLANILHA DE CÁLCULO PARA COBRANÇA', 'AUTORIZAÇÃO PARA DÉBITO EM CONTA', 'DESPESAS CARTORÁRIAS', 'LIQUIDAÇÃO/AMORTIZAÇÃO ANTECIPADA', 'VENCIMENTO EXTRAORDINÁRIO/ANTECIPADO', 'CLAUSULA ESPECIAL DE VENCIMENTO ANTECIPADO', 'COMUNICAÇÃO DENALTERAÇÃO ESTATUTÁRIA E DE DIRIGENTES', 'SUSPENSÃO DE LIBERAÇÃO DE CREDITO', 'PRESERVAÇÃO DE DIREITOS', 'COMPENSAÇÃO DE CRÉDITOS', 'CESSÃO', 'IMPUTAÇÃO AO PAGAMENTO', 'PREVENÇÃO E COMBATE À CORRUPÇÃO', 'RESPONSABILIDADE SOCIOAMBIENTAL', 'DECLARAÇÃO ESPECIAL', 'SISTEMA DE INFORMAÇÕES DE CRÉDITO DO BANCO CENTRAL - SCR', 'CENTRAIS DE ATENDIMENTO TELEFÔNICO', 'AVALISTAS', 'FORMALIZAÇÃO', 'LOCAL DO PAGAMENTO']\n",
      "Clausula: <completa>\n",
      "\n",
      "Em que data o documento foi assinado?\n",
      "Depois de responder, identifica a cláusula desta seção entre as cláusulas abaixo:\n",
      "['EMITENTE', 'DADOS DA OPERAÇÃO DE CRÉDITO', 'AVALISTA(S)', 'DESTINAÇÃO DO CRÉDITO', 'ENCARGOS FINANCEIROS', 'FORMA DE PAGAMENTO', 'COMISSÃO FLAT', 'TARIFAS', 'IOF', 'INADIMPLEMENTO', 'HONORÁRIOS ADVOCATÍCIOS', 'PLANILHA DE CÁLCULO PARA COBRANÇA', 'AUTORIZAÇÃO PARA DÉBITO EM CONTA', 'DESPESAS CARTORÁRIAS', 'LIQUIDAÇÃO/AMORTIZAÇÃO ANTECIPADA', 'VENCIMENTO EXTRAORDINÁRIO/ANTECIPADO', 'CLAUSULA ESPECIAL DE VENCIMENTO ANTECIPADO', 'COMUNICAÇÃO DENALTERAÇÃO ESTATUTÁRIA E DE DIRIGENTES', 'SUSPENSÃO DE LIBERAÇÃO DE CREDITO', 'PRESERVAÇÃO DE DIREITOS', 'COMPENSAÇÃO DE CRÉDITOS', 'CESSÃO', 'IMPUTAÇÃO AO PAGAMENTO', 'PREVENÇÃO E COMBATE À CORRUPÇÃO', 'RESPONSABILIDADE SOCIOAMBIENTAL', 'DECLARAÇÃO ESPECIAL', 'SISTEMA DE INFORMAÇÕES DE CRÉDITO DO BANCO CENTRAL - SCR', 'CENTRAIS DE ATENDIMENTO TELEFÔNICO', 'AVALISTAS', 'FORMALIZAÇÃO', 'LOCAL DO PAGAMENTO']\n",
      "Clausula: <completa>\n",
      "\n",
      "Qual é o Vencimento/Prazo? (ou Forma de pagamento, assim costuma aparecer o numero de parcelas)\n",
      "Depois de responder, identifica a cláusula desta seção entre as cláusulas abaixo:\n",
      "['EMITENTE', 'DADOS DA OPERAÇÃO DE CRÉDITO', 'AVALISTA(S)', 'DESTINAÇÃO DO CRÉDITO', 'ENCARGOS FINANCEIROS', 'FORMA DE PAGAMENTO', 'COMISSÃO FLAT', 'TARIFAS', 'IOF', 'INADIMPLEMENTO', 'HONORÁRIOS ADVOCATÍCIOS', 'PLANILHA DE CÁLCULO PARA COBRANÇA', 'AUTORIZAÇÃO PARA DÉBITO EM CONTA', 'DESPESAS CARTORÁRIAS', 'LIQUIDAÇÃO/AMORTIZAÇÃO ANTECIPADA', 'VENCIMENTO EXTRAORDINÁRIO/ANTECIPADO', 'CLAUSULA ESPECIAL DE VENCIMENTO ANTECIPADO', 'COMUNICAÇÃO DENALTERAÇÃO ESTATUTÁRIA E DE DIRIGENTES', 'SUSPENSÃO DE LIBERAÇÃO DE CREDITO', 'PRESERVAÇÃO DE DIREITOS', 'COMPENSAÇÃO DE CRÉDITOS', 'CESSÃO', 'IMPUTAÇÃO AO PAGAMENTO', 'PREVENÇÃO E COMBATE À CORRUPÇÃO', 'RESPONSABILIDADE SOCIOAMBIENTAL', 'DECLARAÇÃO ESPECIAL', 'SISTEMA DE INFORMAÇÕES DE CRÉDITO DO BANCO CENTRAL - SCR', 'CENTRAIS DE ATENDIMENTO TELEFÔNICO', 'AVALISTAS', 'FORMALIZAÇÃO', 'LOCAL DO PAGAMENTO']\n",
      "Clausula: <completa>\n",
      "\n",
      "Qual é o Valor? (valor do empréstimo)\n",
      "Depois de responder, identifica a cláusula desta seção entre as cláusulas abaixo:\n",
      "['EMITENTE', 'DADOS DA OPERAÇÃO DE CRÉDITO', 'AVALISTA(S)', 'DESTINAÇÃO DO CRÉDITO', 'ENCARGOS FINANCEIROS', 'FORMA DE PAGAMENTO', 'COMISSÃO FLAT', 'TARIFAS', 'IOF', 'INADIMPLEMENTO', 'HONORÁRIOS ADVOCATÍCIOS', 'PLANILHA DE CÁLCULO PARA COBRANÇA', 'AUTORIZAÇÃO PARA DÉBITO EM CONTA', 'DESPESAS CARTORÁRIAS', 'LIQUIDAÇÃO/AMORTIZAÇÃO ANTECIPADA', 'VENCIMENTO EXTRAORDINÁRIO/ANTECIPADO', 'CLAUSULA ESPECIAL DE VENCIMENTO ANTECIPADO', 'COMUNICAÇÃO DENALTERAÇÃO ESTATUTÁRIA E DE DIRIGENTES', 'SUSPENSÃO DE LIBERAÇÃO DE CREDITO', 'PRESERVAÇÃO DE DIREITOS', 'COMPENSAÇÃO DE CRÉDITOS', 'CESSÃO', 'IMPUTAÇÃO AO PAGAMENTO', 'PREVENÇÃO E COMBATE À CORRUPÇÃO', 'RESPONSABILIDADE SOCIOAMBIENTAL', 'DECLARAÇÃO ESPECIAL', 'SISTEMA DE INFORMAÇÕES DE CRÉDITO DO BANCO CENTRAL - SCR', 'CENTRAIS DE ATENDIMENTO TELEFÔNICO', 'AVALISTAS', 'FORMALIZAÇÃO', 'LOCAL DO PAGAMENTO']\n",
      "Clausula: <completa>\n",
      "\n",
      "Qual é a Destinação do Crédito? (O que será creditado na conta corrente da Emitente)\n",
      "Depois de responder, identifica a cláusula desta seção entre as cláusulas abaixo:\n",
      "['EMITENTE', 'DADOS DA OPERAÇÃO DE CRÉDITO', 'AVALISTA(S)', 'DESTINAÇÃO DO CRÉDITO', 'ENCARGOS FINANCEIROS', 'FORMA DE PAGAMENTO', 'COMISSÃO FLAT', 'TARIFAS', 'IOF', 'INADIMPLEMENTO', 'HONORÁRIOS ADVOCATÍCIOS', 'PLANILHA DE CÁLCULO PARA COBRANÇA', 'AUTORIZAÇÃO PARA DÉBITO EM CONTA', 'DESPESAS CARTORÁRIAS', 'LIQUIDAÇÃO/AMORTIZAÇÃO ANTECIPADA', 'VENCIMENTO EXTRAORDINÁRIO/ANTECIPADO', 'CLAUSULA ESPECIAL DE VENCIMENTO ANTECIPADO', 'COMUNICAÇÃO DENALTERAÇÃO ESTATUTÁRIA E DE DIRIGENTES', 'SUSPENSÃO DE LIBERAÇÃO DE CREDITO', 'PRESERVAÇÃO DE DIREITOS', 'COMPENSAÇÃO DE CRÉDITOS', 'CESSÃO', 'IMPUTAÇÃO AO PAGAMENTO', 'PREVENÇÃO E COMBATE À CORRUPÇÃO', 'RESPONSABILIDADE SOCIOAMBIENTAL', 'DECLARAÇÃO ESPECIAL', 'SISTEMA DE INFORMAÇÕES DE CRÉDITO DO BANCO CENTRAL - SCR', 'CENTRAIS DE ATENDIMENTO TELEFÔNICO', 'AVALISTAS', 'FORMALIZAÇÃO', 'LOCAL DO PAGAMENTO']\n",
      "Clausula: <completa>\n",
      "\n",
      "O que consta sobre a Alteração de Controle/ Reorganização? (Costuma constar na cláusula de vencimento antecipado. Palavras chaves: 'inadimplemento' ou 'antecipadamente vencidas' / 'transferido o controle do capital e/ou substituído')\n",
      "Depois de responder, identifica a cláusula desta seção entre as cláusulas abaixo:\n",
      "['EMITENTE', 'DADOS DA OPERAÇÃO DE CRÉDITO', 'AVALISTA(S)', 'DESTINAÇÃO DO CRÉDITO', 'ENCARGOS FINANCEIROS', 'FORMA DE PAGAMENTO', 'COMISSÃO FLAT', 'TARIFAS', 'IOF', 'INADIMPLEMENTO', 'HONORÁRIOS ADVOCATÍCIOS', 'PLANILHA DE CÁLCULO PARA COBRANÇA', 'AUTORIZAÇÃO PARA DÉBITO EM CONTA', 'DESPESAS CARTORÁRIAS', 'LIQUIDAÇÃO/AMORTIZAÇÃO ANTECIPADA', 'VENCIMENTO EXTRAORDINÁRIO/ANTECIPADO', 'CLAUSULA ESPECIAL DE VENCIMENTO ANTECIPADO', 'COMUNICAÇÃO DENALTERAÇÃO ESTATUTÁRIA E DE DIRIGENTES', 'SUSPENSÃO DE LIBERAÇÃO DE CREDITO', 'PRESERVAÇÃO DE DIREITOS', 'COMPENSAÇÃO DE CRÉDITOS', 'CESSÃO', 'IMPUTAÇÃO AO PAGAMENTO', 'PREVENÇÃO E COMBATE À CORRUPÇÃO', 'RESPONSABILIDADE SOCIOAMBIENTAL', 'DECLARAÇÃO ESPECIAL', 'SISTEMA DE INFORMAÇÕES DE CRÉDITO DO BANCO CENTRAL - SCR', 'CENTRAIS DE ATENDIMENTO TELEFÔNICO', 'AVALISTAS', 'FORMALIZAÇÃO', 'LOCAL DO PAGAMENTO']\n",
      "Clausula: <completa>\n",
      "\n",
      "O que consta na clausula de cessão? (ceder, transferir, ou onerar a qualquer título..)\n",
      "Depois de responder, identifica a cláusula desta seção entre as cláusulas abaixo:\n",
      "['EMITENTE', 'DADOS DA OPERAÇÃO DE CRÉDITO', 'AVALISTA(S)', 'DESTINAÇÃO DO CRÉDITO', 'ENCARGOS FINANCEIROS', 'FORMA DE PAGAMENTO', 'COMISSÃO FLAT', 'TARIFAS', 'IOF', 'INADIMPLEMENTO', 'HONORÁRIOS ADVOCATÍCIOS', 'PLANILHA DE CÁLCULO PARA COBRANÇA', 'AUTORIZAÇÃO PARA DÉBITO EM CONTA', 'DESPESAS CARTORÁRIAS', 'LIQUIDAÇÃO/AMORTIZAÇÃO ANTECIPADA', 'VENCIMENTO EXTRAORDINÁRIO/ANTECIPADO', 'CLAUSULA ESPECIAL DE VENCIMENTO ANTECIPADO', 'COMUNICAÇÃO DENALTERAÇÃO ESTATUTÁRIA E DE DIRIGENTES', 'SUSPENSÃO DE LIBERAÇÃO DE CREDITO', 'PRESERVAÇÃO DE DIREITOS', 'COMPENSAÇÃO DE CRÉDITOS', 'CESSÃO', 'IMPUTAÇÃO AO PAGAMENTO', 'PREVENÇÃO E COMBATE À CORRUPÇÃO', 'RESPONSABILIDADE SOCIOAMBIENTAL', 'DECLARAÇÃO ESPECIAL', 'SISTEMA DE INFORMAÇÕES DE CRÉDITO DO BANCO CENTRAL - SCR', 'CENTRAIS DE ATENDIMENTO TELEFÔNICO', 'AVALISTAS', 'FORMALIZAÇÃO', 'LOCAL DO PAGAMENTO']\n",
      "Clausula: <completa>\n",
      "\n",
      "Qual é a multa? (Da Mora / encargos / o não pagamento / inadimplemento / descumprimento de qualquer obrigação legal ou convencional / juros moratórios / multa)\n",
      "Depois de responder, identifica a cláusula desta seção entre as cláusulas abaixo:\n",
      "['EMITENTE', 'DADOS DA OPERAÇÃO DE CRÉDITO', 'AVALISTA(S)', 'DESTINAÇÃO DO CRÉDITO', 'ENCARGOS FINANCEIROS', 'FORMA DE PAGAMENTO', 'COMISSÃO FLAT', 'TARIFAS', 'IOF', 'INADIMPLEMENTO', 'HONORÁRIOS ADVOCATÍCIOS', 'PLANILHA DE CÁLCULO PARA COBRANÇA', 'AUTORIZAÇÃO PARA DÉBITO EM CONTA', 'DESPESAS CARTORÁRIAS', 'LIQUIDAÇÃO/AMORTIZAÇÃO ANTECIPADA', 'VENCIMENTO EXTRAORDINÁRIO/ANTECIPADO', 'CLAUSULA ESPECIAL DE VENCIMENTO ANTECIPADO', 'COMUNICAÇÃO DENALTERAÇÃO ESTATUTÁRIA E DE DIRIGENTES', 'SUSPENSÃO DE LIBERAÇÃO DE CREDITO', 'PRESERVAÇÃO DE DIREITOS', 'COMPENSAÇÃO DE CRÉDITOS', 'CESSÃO', 'IMPUTAÇÃO AO PAGAMENTO', 'PREVENÇÃO E COMBATE À CORRUPÇÃO', 'RESPONSABILIDADE SOCIOAMBIENTAL', 'DECLARAÇÃO ESPECIAL', 'SISTEMA DE INFORMAÇÕES DE CRÉDITO DO BANCO CENTRAL - SCR', 'CENTRAIS DE ATENDIMENTO TELEFÔNICO', 'AVALISTAS', 'FORMALIZAÇÃO', 'LOCAL DO PAGAMENTO']\n",
      "Clausula: <completa>\n",
      "\n",
      "Qual é a cláusula de pré-pagamento? (liquidação antecipada / amortização antecipada)\n",
      "Depois de responder, identifica a cláusula desta seção entre as cláusulas abaixo:\n",
      "['EMITENTE', 'DADOS DA OPERAÇÃO DE CRÉDITO', 'AVALISTA(S)', 'DESTINAÇÃO DO CRÉDITO', 'ENCARGOS FINANCEIROS', 'FORMA DE PAGAMENTO', 'COMISSÃO FLAT', 'TARIFAS', 'IOF', 'INADIMPLEMENTO', 'HONORÁRIOS ADVOCATÍCIOS', 'PLANILHA DE CÁLCULO PARA COBRANÇA', 'AUTORIZAÇÃO PARA DÉBITO EM CONTA', 'DESPESAS CARTORÁRIAS', 'LIQUIDAÇÃO/AMORTIZAÇÃO ANTECIPADA', 'VENCIMENTO EXTRAORDINÁRIO/ANTECIPADO', 'CLAUSULA ESPECIAL DE VENCIMENTO ANTECIPADO', 'COMUNICAÇÃO DENALTERAÇÃO ESTATUTÁRIA E DE DIRIGENTES', 'SUSPENSÃO DE LIBERAÇÃO DE CREDITO', 'PRESERVAÇÃO DE DIREITOS', 'COMPENSAÇÃO DE CRÉDITOS', 'CESSÃO', 'IMPUTAÇÃO AO PAGAMENTO', 'PREVENÇÃO E COMBATE À CORRUPÇÃO', 'RESPONSABILIDADE SOCIOAMBIENTAL', 'DECLARAÇÃO ESPECIAL', 'SISTEMA DE INFORMAÇÕES DE CRÉDITO DO BANCO CENTRAL - SCR', 'CENTRAIS DE ATENDIMENTO TELEFÔNICO', 'AVALISTAS', 'FORMALIZAÇÃO', 'LOCAL DO PAGAMENTO']\n",
      "Clausula: <completa>\n",
      "\n",
      "Quem é o avalista? ('Avalistas' / 'Terceiro(s) Garantidor(es)' / 'cessão fiduciária') E me da o cpf/cnpj dele.\n",
      "Depois de responder, identifica a cláusula desta seção entre as cláusulas abaixo:\n",
      "['EMITENTE', 'DADOS DA OPERAÇÃO DE CRÉDITO', 'AVALISTA(S)', 'DESTINAÇÃO DO CRÉDITO', 'ENCARGOS FINANCEIROS', 'FORMA DE PAGAMENTO', 'COMISSÃO FLAT', 'TARIFAS', 'IOF', 'INADIMPLEMENTO', 'HONORÁRIOS ADVOCATÍCIOS', 'PLANILHA DE CÁLCULO PARA COBRANÇA', 'AUTORIZAÇÃO PARA DÉBITO EM CONTA', 'DESPESAS CARTORÁRIAS', 'LIQUIDAÇÃO/AMORTIZAÇÃO ANTECIPADA', 'VENCIMENTO EXTRAORDINÁRIO/ANTECIPADO', 'CLAUSULA ESPECIAL DE VENCIMENTO ANTECIPADO', 'COMUNICAÇÃO DENALTERAÇÃO ESTATUTÁRIA E DE DIRIGENTES', 'SUSPENSÃO DE LIBERAÇÃO DE CREDITO', 'PRESERVAÇÃO DE DIREITOS', 'COMPENSAÇÃO DE CRÉDITOS', 'CESSÃO', 'IMPUTAÇÃO AO PAGAMENTO', 'PREVENÇÃO E COMBATE À CORRUPÇÃO', 'RESPONSABILIDADE SOCIOAMBIENTAL', 'DECLARAÇÃO ESPECIAL', 'SISTEMA DE INFORMAÇÕES DE CRÉDITO DO BANCO CENTRAL - SCR', 'CENTRAIS DE ATENDIMENTO TELEFÔNICO', 'AVALISTAS', 'FORMALIZAÇÃO', 'LOCAL DO PAGAMENTO']\n",
      "Clausula: <completa>\n",
      "\n",
      "O que consta sobre o Cross default? (Costuma constar na cláusula de vencimento antecipado, inadimplemento ou 'antecipadamente vencidas' - 'qualquer obrigação principal ou acessória assumida neste instrumento...' )\n",
      "Depois de responder, identifica a cláusula desta seção entre as cláusulas abaixo:\n",
      "['EMITENTE', 'DADOS DA OPERAÇÃO DE CRÉDITO', 'AVALISTA(S)', 'DESTINAÇÃO DO CRÉDITO', 'ENCARGOS FINANCEIROS', 'FORMA DE PAGAMENTO', 'COMISSÃO FLAT', 'TARIFAS', 'IOF', 'INADIMPLEMENTO', 'HONORÁRIOS ADVOCATÍCIOS', 'PLANILHA DE CÁLCULO PARA COBRANÇA', 'AUTORIZAÇÃO PARA DÉBITO EM CONTA', 'DESPESAS CARTORÁRIAS', 'LIQUIDAÇÃO/AMORTIZAÇÃO ANTECIPADA', 'VENCIMENTO EXTRAORDINÁRIO/ANTECIPADO', 'CLAUSULA ESPECIAL DE VENCIMENTO ANTECIPADO', 'COMUNICAÇÃO DENALTERAÇÃO ESTATUTÁRIA E DE DIRIGENTES', 'SUSPENSÃO DE LIBERAÇÃO DE CREDITO', 'PRESERVAÇÃO DE DIREITOS', 'COMPENSAÇÃO DE CRÉDITOS', 'CESSÃO', 'IMPUTAÇÃO AO PAGAMENTO', 'PREVENÇÃO E COMBATE À CORRUPÇÃO', 'RESPONSABILIDADE SOCIOAMBIENTAL', 'DECLARAÇÃO ESPECIAL', 'SISTEMA DE INFORMAÇÕES DE CRÉDITO DO BANCO CENTRAL - SCR', 'CENTRAIS DE ATENDIMENTO TELEFÔNICO', 'AVALISTAS', 'FORMALIZAÇÃO', 'LOCAL DO PAGAMENTO']\n",
      "Clausula: <completa>\n",
      "\n",
      "Apontar se o referido contrato está vigente ou vencido / se contém INTERVIENIENTE ANUENTE / GARANTIDOR  / Está assinado por todas as partes, incluindo testemunhas? \n",
      "Depois de responder, identifica a cláusula desta seção entre as cláusulas abaixo:\n",
      "['EMITENTE', 'DADOS DA OPERAÇÃO DE CRÉDITO', 'AVALISTA(S)', 'DESTINAÇÃO DO CRÉDITO', 'ENCARGOS FINANCEIROS', 'FORMA DE PAGAMENTO', 'COMISSÃO FLAT', 'TARIFAS', 'IOF', 'INADIMPLEMENTO', 'HONORÁRIOS ADVOCATÍCIOS', 'PLANILHA DE CÁLCULO PARA COBRANÇA', 'AUTORIZAÇÃO PARA DÉBITO EM CONTA', 'DESPESAS CARTORÁRIAS', 'LIQUIDAÇÃO/AMORTIZAÇÃO ANTECIPADA', 'VENCIMENTO EXTRAORDINÁRIO/ANTECIPADO', 'CLAUSULA ESPECIAL DE VENCIMENTO ANTECIPADO', 'COMUNICAÇÃO DENALTERAÇÃO ESTATUTÁRIA E DE DIRIGENTES', 'SUSPENSÃO DE LIBERAÇÃO DE CREDITO', 'PRESERVAÇÃO DE DIREITOS', 'COMPENSAÇÃO DE CRÉDITOS', 'CESSÃO', 'IMPUTAÇÃO AO PAGAMENTO', 'PREVENÇÃO E COMBATE À CORRUPÇÃO', 'RESPONSABILIDADE SOCIOAMBIENTAL', 'DECLARAÇÃO ESPECIAL', 'SISTEMA DE INFORMAÇÕES DE CRÉDITO DO BANCO CENTRAL - SCR', 'CENTRAIS DE ATENDIMENTO TELEFÔNICO', 'AVALISTAS', 'FORMALIZAÇÃO', 'LOCAL DO PAGAMENTO']\n",
      "Clausula: <completa>\n",
      "\n"
     ]
    }
   ],
   "source": [
    "current_type = \"Cédula de Crédito Bancário\"\n",
    "for col_name, duvida_map in duvidas.items():\n",
    "    print(duvida_map[\"Cédula de Crédito Bancário\"])\n",
    "    print()"
   ]
  },
  {
   "cell_type": "code",
   "execution_count": 16,
   "id": "f0b36747-1c75-4c8b-9d4c-8ea0b1a57457",
   "metadata": {
    "execution": {
     "iopub.execute_input": "2024-05-15T23:39:20.514329Z",
     "iopub.status.busy": "2024-05-15T23:39:20.514027Z",
     "iopub.status.idle": "2024-05-15T23:39:20.566821Z",
     "shell.execute_reply": "2024-05-15T23:39:20.566037Z",
     "shell.execute_reply.started": "2024-05-15T23:39:20.514310Z"
    },
    "id": "f0b36747-1c75-4c8b-9d4c-8ea0b1a57457"
   },
   "outputs": [],
   "source": [
    "pdf_file_path = wd_path + \"/data/1.2.5.17.10.1.1 CCB 511300712 - BB.pdf\""
   ]
  },
  {
   "cell_type": "markdown",
   "id": "15db3a63-8bb5-4c24-ad46-0c6de514c54d",
   "metadata": {
    "id": "15db3a63-8bb5-4c24-ad46-0c6de514c54d"
   },
   "source": [
    "# Load and Parse PDFs"
   ]
  },
  {
   "cell_type": "code",
   "execution_count": 17,
   "id": "ae99f9e6-599d-4ecf-a89f-7c0cd83122bc",
   "metadata": {
    "execution": {
     "iopub.execute_input": "2024-05-15T23:39:20.567971Z",
     "iopub.status.busy": "2024-05-15T23:39:20.567683Z",
     "iopub.status.idle": "2024-05-15T23:39:20.607535Z",
     "shell.execute_reply": "2024-05-15T23:39:20.606842Z",
     "shell.execute_reply.started": "2024-05-15T23:39:20.567951Z"
    },
    "id": "ae99f9e6-599d-4ecf-a89f-7c0cd83122bc"
   },
   "outputs": [],
   "source": [
    "from llama_parse import LlamaParse  # pip install llama-parse\n",
    "\n",
    "# parser = LlamaParse(\n",
    "#     # api_key=\"...\",  # can also be set in your env as LLAMA_CLOUD_API_KEY\n",
    "#     result_type=\"markdown\"  # \"markdown\" and \"text\" are available\n",
    "# )\n",
    "\n",
    "parser = LlamaParse(\n",
    "    result_type=\"markdown\",\n",
    "    verbose=True,\n",
    "    language=\"pt\",\n",
    "    num_workers=2,\n",
    ")\n",
    "\n",
    "# sync\n",
    "# documents = parser.load_data(\"./my_file.pdf\")\n",
    "\n",
    "# async\n",
    "# docs0 = await parser.aload_data(\"../data/1.2.5.17.10.1.1 CCB 511300712 - BB.pdf\")"
   ]
  },
  {
   "cell_type": "markdown",
   "id": "7eea26ea-688e-457f-be3b-c67e916c6192",
   "metadata": {
    "id": "7eea26ea-688e-457f-be3b-c67e916c6192"
   },
   "source": [
    "# LlamaIndex Recursive Query Engine"
   ]
  },
  {
   "cell_type": "markdown",
   "id": "9ec405ce-b79a-4c5d-b038-1dd39265df74",
   "metadata": {},
   "source": [
    "## Extract documents"
   ]
  },
  {
   "cell_type": "code",
   "execution_count": 18,
   "id": "320a48de-9835-477f-bc76-8651fda9db5a",
   "metadata": {
    "execution": {
     "iopub.execute_input": "2024-05-15T23:39:22.120545Z",
     "iopub.status.busy": "2024-05-15T23:39:22.120215Z",
     "iopub.status.idle": "2024-05-15T23:39:22.728496Z",
     "shell.execute_reply": "2024-05-15T23:39:22.727941Z",
     "shell.execute_reply.started": "2024-05-15T23:39:22.120520Z"
    },
    "id": "320a48de-9835-477f-bc76-8651fda9db5a"
   },
   "outputs": [],
   "source": [
    "from llama_index.core.settings import Settings\n",
    "from llama_index.llms.openai import OpenAI\n",
    "from llama_index.embeddings.openai import OpenAIEmbedding\n",
    "from llama_index.core.node_parser import MarkdownElementNodeParser\n",
    "from llama_index.core import VectorStoreIndex\n",
    "from llama_index.core.storage.storage_context import StorageContext\n",
    "from llama_index.core.indices.loading import load_index_from_storage\n",
    "from llama_index.core.response.notebook_utils import display_source_node\n",
    "from llama_index.core.callbacks import CallbackManager, LlamaDebugHandler\n",
    "\n",
    "Settings.llm = OpenAI(model=\"gpt-3.5-turbo\")\n",
    "Settings.embed_model = OpenAIEmbedding(model=\"text-embedding-3-small\")\n",
    "\n",
    "llama_debug = LlamaDebugHandler(print_trace_on_end=True)\n",
    "Settings.callback_manager = CallbackManager([llama_debug])"
   ]
  },
  {
   "cell_type": "code",
   "execution_count": 19,
   "id": "510aacbf-3b7f-44f2-9d5c-47b57853e142",
   "metadata": {
    "execution": {
     "iopub.execute_input": "2024-05-15T23:39:22.730391Z",
     "iopub.status.busy": "2024-05-15T23:39:22.729850Z",
     "iopub.status.idle": "2024-05-15T23:39:22.760421Z",
     "shell.execute_reply": "2024-05-15T23:39:22.759776Z",
     "shell.execute_reply.started": "2024-05-15T23:39:22.730369Z"
    }
   },
   "outputs": [],
   "source": [
    "# \"DISPOSIÇÕES APLICÁVEIS AOS CONTRATOS DO BNDES\".lower()"
   ]
  },
  {
   "cell_type": "code",
   "execution_count": 20,
   "id": "33ae4093-9d88-404d-895d-8991f196aaa5",
   "metadata": {
    "colab": {
     "base_uri": "https://localhost:8080/"
    },
    "execution": {
     "iopub.execute_input": "2024-05-15T23:39:23.133705Z",
     "iopub.status.busy": "2024-05-15T23:39:23.133383Z",
     "iopub.status.idle": "2024-05-15T23:39:23.171872Z",
     "shell.execute_reply": "2024-05-15T23:39:23.171204Z",
     "shell.execute_reply.started": "2024-05-15T23:39:23.133680Z"
    },
    "id": "33ae4093-9d88-404d-895d-8991f196aaa5",
    "outputId": "8444479d-4192-4bb9-d73a-094eef157172"
   },
   "outputs": [
    {
     "data": {
      "text/plain": [
       "True"
      ]
     },
     "execution_count": 20,
     "metadata": {},
     "output_type": "execute_result"
    }
   ],
   "source": [
    "PERSIST_DIR = wd_path + \"/data/storage\"\n",
    "\n",
    "os.path.exists(PERSIST_DIR)"
   ]
  },
  {
   "cell_type": "code",
   "execution_count": 21,
   "id": "22dbbbfa-4c69-4ad0-ad9f-04165de8fb6d",
   "metadata": {
    "execution": {
     "iopub.execute_input": "2024-05-15T23:39:23.407500Z",
     "iopub.status.busy": "2024-05-15T23:39:23.407206Z",
     "iopub.status.idle": "2024-05-15T23:39:24.043014Z",
     "shell.execute_reply": "2024-05-15T23:39:24.042304Z",
     "shell.execute_reply.started": "2024-05-15T23:39:23.407478Z"
    },
    "id": "22dbbbfa-4c69-4ad0-ad9f-04165de8fb6d"
   },
   "outputs": [
    {
     "name": "stdout",
     "output_type": "stream",
     "text": [
      "**********\n",
      "Trace: index_construction\n",
      "**********\n"
     ]
    }
   ],
   "source": [
    "# check if storage already exists\n",
    "\n",
    "get_from_storage = os.path.exists(PERSIST_DIR)\n",
    "# get_from_storage = False\n",
    "\n",
    "# node_parser_type = \"markdown\"\n",
    "node_parser_type = \"metadata\"\n",
    "if not get_from_storage:\n",
    "    # load the documents and create the index\n",
    "    # documents = SimpleDirectoryReader(llamaindex_dir + \"/data\").load_data()\n",
    "    documents = await parser.aload_data(pdf_file_path)\n",
    "    if node_parser_type == \"markdown\":\n",
    "        node_parser = MarkdownElementNodeParser(llm=OpenAI(model=\"gpt-3.5-turbo\"), num_workers=8)\n",
    "        nodes = node_parser.get_nodes_from_documents(documents=[documents[0]])\n",
    "        base_nodes, objects = node_parser.get_nodes_and_objects(nodes)\n",
    "        nodes_to_index = base_nodes+objects\n",
    "    if node_parser_type == \"metadata\":\n",
    "        pipeline = get_metadata_node_parser_pipeline()\n",
    "        nodes_to_index = pipeline.run(\n",
    "            documents=documents,\n",
    "            # nodes=base_nodes + objects,\n",
    "            in_place=True,\n",
    "            show_progress=True,\n",
    "        )\n",
    "    # Excluding metadata from text to be embedded\n",
    "    for n in nodes_to_index:\n",
    "        n.excluded_embed_metadata_keys = [\"questions_this_excerpt_can_answer\", \"prev_section_summary\", \"section_summary\"]\n",
    "    recursive_index = VectorStoreIndex(nodes=nodes_to_index)\n",
    "    # index = VectorStoreIndex.from_documents(documents)\n",
    "    # store it for later\n",
    "    # saving the embeddings to disk\n",
    "    # By default, this will save the data to the directory storage, but you can change that by passing a persist_dir parameter.\n",
    "    recursive_index.storage_context.persist(persist_dir=PERSIST_DIR)\n",
    "else:\n",
    "    # load the existing index\n",
    "    storage_context = StorageContext.from_defaults(persist_dir=PERSIST_DIR)\n",
    "    recursive_index = load_index_from_storage(storage_context)"
   ]
  },
  {
   "cell_type": "code",
   "execution_count": 22,
   "id": "b419e541-3006-468b-8bb4-019db0c8e33b",
   "metadata": {
    "execution": {
     "iopub.execute_input": "2024-05-15T23:39:24.045026Z",
     "iopub.status.busy": "2024-05-15T23:39:24.044575Z",
     "iopub.status.idle": "2024-05-15T23:39:24.075939Z",
     "shell.execute_reply": "2024-05-15T23:39:24.075133Z",
     "shell.execute_reply.started": "2024-05-15T23:39:24.045004Z"
    }
   },
   "outputs": [],
   "source": [
    "# from llama_index.core.schema import MetadataMode\n",
    "\n",
    "\n",
    "# n_index = 0\n",
    "# nodes_to_index[n_index].excluded_embed_metadata_keys = [\"questions_this_excerpt_can_answer\", \"prev_section_summary\", \"section_summary\"]\n",
    "# nodes_to_index[n_index]\n",
    "\n",
    "# print(nodes_to_index[n_index].get_content(metadata_mode=MetadataMode.EMBED))"
   ]
  },
  {
   "cell_type": "code",
   "execution_count": 23,
   "id": "0adfa19d-0a76-4291-a083-41745fbfe4c4",
   "metadata": {
    "execution": {
     "iopub.execute_input": "2024-05-15T23:39:24.077404Z",
     "iopub.status.busy": "2024-05-15T23:39:24.076968Z",
     "iopub.status.idle": "2024-05-15T23:39:24.107825Z",
     "shell.execute_reply": "2024-05-15T23:39:24.107099Z",
     "shell.execute_reply.started": "2024-05-15T23:39:24.077383Z"
    }
   },
   "outputs": [],
   "source": [
    "# recursive_index = VectorStoreIndex(nodes=nodes_to_index)\n",
    "# recursive_index.storage_context.persist(persist_dir=PERSIST_DIR)"
   ]
  },
  {
   "cell_type": "markdown",
   "id": "c574d579-f8c8-4495-b632-d4fa84d0609f",
   "metadata": {},
   "source": [
    "## Check metadata and content"
   ]
  },
  {
   "cell_type": "code",
   "execution_count": 24,
   "id": "87cdb7f2-a3dc-49bd-8d3e-c8c686c5fa4f",
   "metadata": {
    "execution": {
     "iopub.execute_input": "2024-05-15T23:39:24.524414Z",
     "iopub.status.busy": "2024-05-15T23:39:24.524083Z",
     "iopub.status.idle": "2024-05-15T23:39:24.559205Z",
     "shell.execute_reply": "2024-05-15T23:39:24.558486Z",
     "shell.execute_reply.started": "2024-05-15T23:39:24.524388Z"
    }
   },
   "outputs": [],
   "source": [
    "# UPDATE DOCUMENTS WITHOUT HAVING TO PARSE AGAIN\n",
    "# for n in nodes_to_index:\n",
    "#     n.excluded_embed_metadata_keys = [\"questions_this_excerpt_can_answer\", \"prev_section_summary\", \"section_summary\"]"
   ]
  },
  {
   "cell_type": "code",
   "execution_count": 71,
   "id": "de596058-3fa7-4422-b34c-2a1c384f8814",
   "metadata": {
    "execution": {
     "iopub.execute_input": "2024-05-16T00:49:15.844870Z",
     "iopub.status.busy": "2024-05-16T00:49:15.844580Z",
     "iopub.status.idle": "2024-05-16T00:49:15.880325Z",
     "shell.execute_reply": "2024-05-16T00:49:15.879482Z",
     "shell.execute_reply.started": "2024-05-16T00:49:15.844847Z"
    }
   },
   "outputs": [],
   "source": [
    "# n_index = 5\n",
    "# print(nodes_to_index[n_index].get_content(metadata_mode=MetadataMode.EMBED))\n",
    "# print(nodes_to_index[n_index].get_content(metadata_mode=MetadataMode.LLM))"
   ]
  },
  {
   "cell_type": "code",
   "execution_count": 26,
   "id": "7752230f-5b81-4954-9deb-455d9c7dd045",
   "metadata": {
    "execution": {
     "iopub.execute_input": "2024-05-15T23:39:25.592678Z",
     "iopub.status.busy": "2024-05-15T23:39:25.592355Z",
     "iopub.status.idle": "2024-05-15T23:39:25.627622Z",
     "shell.execute_reply": "2024-05-15T23:39:25.626685Z",
     "shell.execute_reply.started": "2024-05-15T23:39:25.592652Z"
    }
   },
   "outputs": [],
   "source": [
    "# print(objects[1].metadata[\"col_schema\"])\n",
    "# print(base_nodes[1].metadata)\n",
    "# nodes_with_metadata[0].metadata\n",
    "# TODO: add metadata to these base nodes"
   ]
  },
  {
   "cell_type": "code",
   "execution_count": 70,
   "id": "80d461c4-2da6-4a90-99bf-f7a967a98a30",
   "metadata": {
    "execution": {
     "iopub.execute_input": "2024-05-16T00:49:11.509494Z",
     "iopub.status.busy": "2024-05-16T00:49:11.509205Z",
     "iopub.status.idle": "2024-05-16T00:49:11.544273Z",
     "shell.execute_reply": "2024-05-16T00:49:11.543465Z",
     "shell.execute_reply.started": "2024-05-16T00:49:11.509471Z"
    }
   },
   "outputs": [],
   "source": [
    "# duvidas[\"Data de Assinatura\"][current_type]"
   ]
  },
  {
   "cell_type": "code",
   "execution_count": 69,
   "id": "d5314bca-31c7-45b3-9a6f-123f7ed3cb16",
   "metadata": {
    "execution": {
     "iopub.execute_input": "2024-05-16T00:49:05.806717Z",
     "iopub.status.busy": "2024-05-16T00:49:05.806428Z",
     "iopub.status.idle": "2024-05-16T00:49:05.842642Z",
     "shell.execute_reply": "2024-05-16T00:49:05.841579Z",
     "shell.execute_reply.started": "2024-05-16T00:49:05.806695Z"
    }
   },
   "outputs": [],
   "source": [
    "# nodes_with_metadata[0].metadata[\"questions_this_excerpt_can_answer\"]\n",
    "# nodes_to_index[0].metadata\n",
    "\n",
    "# for node in nodes_to_index:\n",
    "#     if \"ribeirao\" in node.get_content().lower():\n",
    "#         print(\"\\n\\n-------------------\")\n",
    "#         print(node.get_content())\n",
    "#         print(node.id_)"
   ]
  },
  {
   "cell_type": "code",
   "execution_count": 112,
   "id": "8b54ff99-7fef-4d62-9932-3f5fd34ab595",
   "metadata": {
    "execution": {
     "iopub.execute_input": "2024-05-12T14:50:52.263504Z",
     "iopub.status.busy": "2024-05-12T14:50:52.263204Z",
     "iopub.status.idle": "2024-05-12T14:50:52.305534Z",
     "shell.execute_reply": "2024-05-12T14:50:52.304467Z",
     "shell.execute_reply.started": "2024-05-12T14:50:52.263480Z"
    },
    "scrolled": true
   },
   "outputs": [
    {
     "name": "stdout",
     "output_type": "stream",
     "text": [
      "length:  28\n",
      "\n",
      "\n",
      "----------------------- ea2927aa-13e7-429f-ab2e-62441f32e654 -----------------------\n",
      "questions_this_excerpt_can_answer: 1. Qual é o valor da Cédula de Crédito Bancário emitida pela ALLIAGE S/A INDUSTRIAS MEDICO ODONTOLOGICA em favor do Banco do Brasil S.A.?\n",
      "2. Qual é a data de vencimento final da Cédula de Crédito Bancário?\n",
      "3. Onde devem ser cumpridas as obrigações assumidas nesta Cédula de Crédito Bancário?\n",
      "\n",
      "Resumo de nível mais alto: Este contexto fornece informações sobre uma Cédula de Crédito Bancário emitida pela ALLIAGE S/A INDUSTRIAS MEDICO ODONTOLOGICA em favor do Banco do Brasil S.A., no valor de R$25.000.000,00, com vencimento final em 15/08/2025. O documento foi aditado, retificado e ratificado, e as obrigações devem ser cumpridas na Agência do Banco do Brasil S.A. em Ribeirão Preto-SP.\n",
      "prev_section_summary: - Como solicitar correções ou exclusões de informações no SCR\n",
      "- Números de telefone para entrar em contato com o Banco para sugestões, reclamações ou esclarecimentos sobre o instrumento financeiro\n",
      "- Responsabilidades dos avalistas mencionados na Cédula de Crédito Bancário\n",
      "section_summary: - Tipo de documento: Cédula de Crédito Bancário\n",
      "- Emitente: ALLIAGE S/A INDUSTRIAS MEDICO ODONTOLOGICA\n",
      "- Beneficiário: Banco do Brasil S.A.\n",
      "- Valor: R$25.000.000,00\n",
      "- Data de vencimento final: 15/08/2025\n",
      "- Local de cumprimento das obrigações: Agência do Banco do Brasil S.A. em Ribeirão Preto-SP.\n"
     ]
    }
   ],
   "source": [
    "\n",
    "# print_nodes_parsing_result(base_nodes)\n",
    "# print_nodes_parsing_result(objects, \"embed\")\n",
    "# print_nodes_parsing_result(objects, \"llm\")\n",
    "# print_nodes_parsing_result(nodes_with_metadata, \"embed\")\n",
    "\n",
    "# ids_list = [\"b7d05e4d-21d4-44a5-90a8-a1a188b20072\", \"16966cdb-8c94-40ae-8ab7-4719558a0045\"]\n",
    "# ids_list = [\"956167cb-3426-4b92-a71c-5a2e725eb167\", \"ea2982c0-4153-448c-9923-a0bd4181c06a\"]\n",
    "ids_list = [\"ea2927aa-13e7-429f-ab2e-62441f32e654\"]\n",
    "print_nodes_parsing_result(nodes_to_index, metadata_mode=\"all\", only_metadata=True, ids_list=ids_list)\n",
    "# SEEMS LIKE THE IDEA OF RECURSIVE RETRIEVER IS:\n",
    "# - EMBEDDING RETRIEVAL: WITHOUT THE TABLE NODES CONTENT\n",
    "# - LLM INTERPRETATION: WITH THE TABLE NODES CONTENT"
   ]
  },
  {
   "cell_type": "code",
   "execution_count": 19,
   "id": "010f942b-f911-41f6-9917-b8926e574bf4",
   "metadata": {
    "execution": {
     "iopub.execute_input": "2024-05-08T23:35:45.471854Z",
     "iopub.status.busy": "2024-05-08T23:35:45.471551Z",
     "iopub.status.idle": "2024-05-08T23:35:45.535873Z",
     "shell.execute_reply": "2024-05-08T23:35:45.534807Z",
     "shell.execute_reply.started": "2024-05-08T23:35:45.471829Z"
    },
    "id": "010f942b-f911-41f6-9917-b8926e574bf4"
   },
   "outputs": [],
   "source": [
    "# print(documents[0].text[:500])\n",
    "\n",
    "# ## CEDULA DE CREDITO BANCARIO\n",
    "\n",
    "# INTRODUÇÃO: Nr. 511.300.712\n",
    "\n",
    "# 1. EMITENTE:\n",
    "\n",
    "# |Razão ou denominação social:|ALLIAGE S/A INDUSTRIAS MEDICO ODONTOLOGICA|\n",
    "# |---|---|\n",
    "# |CNPJ:|55.979.736/0001-45|\n",
    "# |Conta Corrente:|000.003.203-4|\n",
    "# |Endereço:|ROD ABRAÃO ASSED S/N KM 53 MAIS 450 METROS, RECREIO ANHANGUERA|\n",
    "# |Cidade:|RIBEIRÃO PRETO-SP|\n",
    "# |CEP:|14.097-500|\n",
    "# |E-MAIL:|fabiola.furtadoCalliage-global.com|\n",
    "\n",
    "# 2. DADOS DA OPERAÇÃO DE CRÉDITO:\n",
    "\n",
    "# |Valor:|R$25.000.000,00 (vinte e cinco milhões de reais)|\n",
    "# |---|---|\n",
    "# |Vencimento:|1"
   ]
  },
  {
   "cell_type": "code",
   "execution_count": null,
   "id": "6af784e2-e2e8-4f83-a892-6376347abac6",
   "metadata": {},
   "outputs": [],
   "source": [
    "# from IPython.display import Markdown, display\n",
    "\n",
    "# # define prompt viewing function\n",
    "# def display_prompt_dict(prompts_dict):\n",
    "#     for k, p in prompts_dict.items():\n",
    "#         text_md = f\"**Prompt Key**: {k}\" f\"**Text:** \"\n",
    "#         display(Markdown(text_md))\n",
    "#         print(p.get_template())\n",
    "#         display(Markdown(\"\"))\n",
    "# prompts_dict = query_engine_base.get_prompts()\n",
    "\n",
    "# display_prompt_dict(prompts_dict)"
   ]
  },
  {
   "cell_type": "markdown",
   "id": "97a02a64-96a3-431e-b5ea-bed657dac951",
   "metadata": {
    "id": "97a02a64-96a3-431e-b5ea-bed657dac951"
   },
   "source": [
    "## Retriever\n",
    "\n",
    "- [Node Postprocessor](https://docs.llamaindex.ai/en/stable/module_guides/querying/node_postprocessors/)"
   ]
  },
  {
   "cell_type": "code",
   "execution_count": 28,
   "id": "d88189f8-d458-44df-ab3f-74d453379fa5",
   "metadata": {
    "execution": {
     "iopub.execute_input": "2024-05-15T23:39:35.604208Z",
     "iopub.status.busy": "2024-05-15T23:39:35.603915Z",
     "iopub.status.idle": "2024-05-15T23:39:35.635531Z",
     "shell.execute_reply": "2024-05-15T23:39:35.634792Z",
     "shell.execute_reply.started": "2024-05-15T23:39:35.604188Z"
    }
   },
   "outputs": [],
   "source": [
    "from duvidas import duvidas\n",
    "\n",
    "duvida = duvidas[\"Data de Assinatura\"][current_type]"
   ]
  },
  {
   "cell_type": "code",
   "execution_count": 29,
   "id": "84f9ba0a-ead4-46ef-8e38-4765321974e7",
   "metadata": {
    "execution": {
     "iopub.execute_input": "2024-05-15T23:39:35.826621Z",
     "iopub.status.busy": "2024-05-15T23:39:35.826374Z",
     "iopub.status.idle": "2024-05-15T23:39:35.859538Z",
     "shell.execute_reply": "2024-05-15T23:39:35.858652Z",
     "shell.execute_reply.started": "2024-05-15T23:39:35.826603Z"
    }
   },
   "outputs": [],
   "source": [
    "debug_post_process = False\n",
    "show_retrievals = False\n",
    "if debug_post_process:\n",
    "    from llama_index.postprocessor.flag_embedding_reranker import FlagEmbeddingReranker\n",
    "\n",
    "    base_retriever = recursive_index.as_retriever(similarity_top_k=15)\n",
    "    reranker = FlagEmbeddingReranker(\n",
    "        top_n=5,\n",
    "        model=\"BAAI/bge-reranker-large\",\n",
    "    )\n",
    "    if show_retrievals:\n",
    "        retrievals = processor.postprocess_nodes(base_retriever.retrieve(duvida))\n",
    "else:\n",
    "    base_retriever = recursive_index.as_retriever(similarity_top_k=2)\n",
    "    if show_retrievals:\n",
    "        retrievals = base_retriever.retrieve(duvida)"
   ]
  },
  {
   "cell_type": "code",
   "execution_count": 30,
   "id": "dad2a8a1-805b-48f7-a41d-93f420209657",
   "metadata": {
    "colab": {
     "base_uri": "https://localhost:8080/",
     "height": 924
    },
    "execution": {
     "iopub.execute_input": "2024-05-15T23:39:36.046922Z",
     "iopub.status.busy": "2024-05-15T23:39:36.046559Z",
     "iopub.status.idle": "2024-05-15T23:39:36.078232Z",
     "shell.execute_reply": "2024-05-15T23:39:36.077426Z",
     "shell.execute_reply.started": "2024-05-15T23:39:36.046897Z"
    },
    "id": "dad2a8a1-805b-48f7-a41d-93f420209657",
    "outputId": "c0c88a7c-5bc1-4aed-8766-cfe62325a71e"
   },
   "outputs": [],
   "source": [
    "if show_retrievals:\n",
    "    for n in retrievals:\n",
    "        display_source_node(n, source_length=5000)"
   ]
  },
  {
   "cell_type": "markdown",
   "id": "40dfa9d1-3a6d-4f8f-b18f-3bd7cf690516",
   "metadata": {
    "id": "40dfa9d1-3a6d-4f8f-b18f-3bd7cf690516"
   },
   "source": [
    "## Query engine"
   ]
  },
  {
   "cell_type": "markdown",
   "id": "f50c011c-d283-49e8-93a3-e2e17d3691dc",
   "metadata": {
    "id": "f50c011c-d283-49e8-93a3-e2e17d3691dc"
   },
   "source": [
    "### Base"
   ]
  },
  {
   "cell_type": "code",
   "execution_count": 39,
   "id": "c700599c-56f5-4cce-a4e3-e23ceceb3d3e",
   "metadata": {
    "execution": {
     "iopub.execute_input": "2024-05-15T23:42:31.967482Z",
     "iopub.status.busy": "2024-05-15T23:42:31.967148Z",
     "iopub.status.idle": "2024-05-15T23:42:32.007987Z",
     "shell.execute_reply": "2024-05-15T23:42:32.007249Z",
     "shell.execute_reply.started": "2024-05-15T23:42:31.967461Z"
    },
    "id": "c700599c-56f5-4cce-a4e3-e23ceceb3d3e"
   },
   "outputs": [],
   "source": [
    "from duvidas import duvidas\n",
    "from llama_index.core.query_engine.retriever_query_engine import RetrieverQueryEngine\n",
    "query_engine_base = RetrieverQueryEngine.from_args(base_retriever, verbose=True)"
   ]
  },
  {
   "cell_type": "code",
   "execution_count": 108,
   "id": "77220418-daf0-4ec7-bfcf-b138eba2163a",
   "metadata": {
    "execution": {
     "iopub.execute_input": "2024-05-16T02:51:14.139271Z",
     "iopub.status.busy": "2024-05-16T02:51:14.138974Z",
     "iopub.status.idle": "2024-05-16T02:51:16.255236Z",
     "shell.execute_reply": "2024-05-16T02:51:16.254469Z",
     "shell.execute_reply.started": "2024-05-16T02:51:14.139247Z"
    }
   },
   "outputs": [
    {
     "name": "stdout",
     "output_type": "stream",
     "text": [
      "CPU times: user 35.4 ms, sys: 18.8 ms, total: 54.1 ms\n",
      "Wall time: 2.07 s\n"
     ]
    }
   ],
   "source": [
    "%%time\n",
    "\n",
    "from duvidas import duvidas\n",
    "\n",
    "recursive_search = False\n",
    "# recursive_search = True\n",
    "not_to_search = [\n",
    "    # DONE\n",
    "    \"Objeto\", \"Data de Assinatura\", \"Alteração de Controle/ Reorganização\", \"Cessão\", \n",
    "     # TODO LATER\n",
    "     \"Observações\"]\n",
    "\n",
    "# to_search = [\"Garantias\"]\n",
    "# to_search = [\"Cross default\"]\n",
    "# to_search = [\"Objeto\", \"Cessão\"]\n",
    "# to_search = [\"Alteração de Controle/ Reorganização\"]\n",
    "# to_search = [\"Data de Assinatura\"]\n",
    "to_search = [\"Devedor\"]\n",
    "# current_type = \"Contrato de Financiamento\"\n",
    "current_type = \"Cédula de Crédito Bancário\"\n",
    "responses = {}\n",
    "\n",
    "original_stdout = sys.stdout\n",
    "with open(wd_path + '/data/query_engine_output.txt', 'w') as f:\n",
    "    # Redirect stdout to the file\n",
    "    sys.stdout = f\n",
    "    \n",
    "    for col_name, duvida_map in duvidas.items():\n",
    "        # if col_name not in not_to_search:\n",
    "        responses[col_name] = dict()\n",
    "        if col_name in to_search:\n",
    "            print(\"\\n\\n\\n------------- \" + col_name.upper() + \"-------------\\n\")\n",
    "            if recursive_search:\n",
    "                responses[col_name][\"text\"] = recursive_query_engine.query(\n",
    "                    duvidas[col_name][current_type]\n",
    "                )\n",
    "            else:\n",
    "                responses[col_name][\"text\"] = query_engine_base.query(\n",
    "                    duvidas[col_name][current_type]\n",
    "                )\n",
    "    # Restore the original stdout\n",
    "    sys.stdout = original_stdout\n",
    "# 17 seconds"
   ]
  },
  {
   "cell_type": "code",
   "execution_count": 109,
   "id": "42bce343-db21-42c5-b54d-5b1cd4d502c2",
   "metadata": {
    "execution": {
     "iopub.execute_input": "2024-05-16T02:51:16.257156Z",
     "iopub.status.busy": "2024-05-16T02:51:16.256893Z",
     "iopub.status.idle": "2024-05-16T02:51:16.294405Z",
     "shell.execute_reply": "2024-05-16T02:51:16.293341Z",
     "shell.execute_reply.started": "2024-05-16T02:51:16.257136Z"
    }
   },
   "outputs": [
    {
     "name": "stdout",
     "output_type": "stream",
     "text": [
      "\n",
      "\n",
      "\n",
      "------------- DEVEDOR-------------\n",
      "\n",
      "O devedor (emitente) é a ALLIAGE S/A Indústrias Médico Odontológica.\n"
     ]
    }
   ],
   "source": [
    "for col_name, response in responses.items():\n",
    "    print(\"\\n\\n\\n------------- \" + col_name.upper() + \"-------------\\n\")\n",
    "    print(response)\n",
    "\n",
    "# ------------- DATA DE ASSINATURA-------------\n",
    "\n",
    "# A data de assinatura, ou data de emissão, é 15/08/2025.\n",
    "# O documento foi assinado em 18 de novembro de 2020."
   ]
  },
  {
   "cell_type": "code",
   "execution_count": 86,
   "id": "62f52bd5-d4b3-4444-a9eb-b7a97abdab99",
   "metadata": {
    "execution": {
     "iopub.execute_input": "2024-05-16T01:38:25.990383Z",
     "iopub.status.busy": "2024-05-16T01:38:25.990094Z",
     "iopub.status.idle": "2024-05-16T01:38:26.543418Z",
     "shell.execute_reply": "2024-05-16T01:38:26.542473Z",
     "shell.execute_reply.started": "2024-05-16T01:38:25.990361Z"
    }
   },
   "outputs": [],
   "source": [
    "# Find the retrieved nodes\n",
    "# for n in responses[\"Devedor\"].source_nodes:\n",
    "#     display_source_node(n, source_length=5000)"
   ]
  },
  {
   "cell_type": "code",
   "execution_count": 110,
   "id": "66573e73-614a-4229-87d8-f91936387a3e",
   "metadata": {
    "execution": {
     "iopub.execute_input": "2024-05-16T02:51:27.958223Z",
     "iopub.status.busy": "2024-05-16T02:51:27.957952Z",
     "iopub.status.idle": "2024-05-16T02:51:28.773803Z",
     "shell.execute_reply": "2024-05-16T02:51:28.773057Z",
     "shell.execute_reply.started": "2024-05-16T02:51:27.958201Z"
    }
   },
   "outputs": [
    {
     "name": "stdout",
     "output_type": "stream",
     "text": [
      "\n",
      "\n",
      "\n",
      "------------- DEVEDOR-------------\n",
      "\n",
      "** Messages: **\n",
      "user: Uma seção deste documento foi dedicada a responder à seguinte dúvida: ```Identifica o  Devedor (Emitente)```.\n",
      "\n",
      "Aqui está o conteúdo desta seção:\n",
      "```PARÁGRAFO ÚNICO - Qualquer recebimento das prestações Tora dos prazos avencados constituira mera Loleranci 3, que nao dos afetaraprazosde forma algumaavençadosconstituirá mera tolerância, que não as datas de seus vencimentos ou as afetará declausulasforma alguma as datas de seus»-venctimentós ou as dema is condicoes deste Instrumento nem demais cláusulas e condições deste Instruífénto, nem importara novacao ou modificacao do ajustado, inclusive importará novação ou modificação do quanto encargos resultantes rajustadê, inclusive ao5 da mora, imputando se ao quanto aos encargos resultantes dêã&mora, imputando-se pagamento do debito valor recebido obrigatoriamente ao pagamento do debito o valor recebido obrWgatoriamente na na seguinte ordem: multa juros moratorios juros seguinte ordem: multa, jJutosNN môóratórios, juros remuneratorios outros acessorios debitados, principal remuneratórios, outros acesséftias gdebitados, principal vencido principal vincendo - A quitacao da divida resultante vencido e principal vincendo.. apos A quitávão da deste Titulo dar liquidacao dívida resultante se-a do saldo devedor deste Título dar-se-á após! à “liquidação do saldo devedor da(s) parcela(s) referida(s) na(s) clausula(s) Forma de da(s) parcelats) referiáa(3) ha(s) cláusula(s) Forma de Pagamento antes descrita.\n",
      "\n",
      "COMISSAOPagamento antes descrita (8x.\n",
      "\n",
      "Dia base para debito dos encargos: dia 15 de cada mes.|\n",
      "|Quantidade de Parcelas:|15 (QUINZE) parcelas de capital.|\n",
      "|Cronograma de Pagamento:|em 15/02/2022, R$1.666.666,67, em 15/05/2022, R$1.666.666,67, em 15/08/2022, R$1.666.666,67, em 15/11/2022, R$1.666.666,67, em 15/02/2023, R$1.666.666,67, em 15/05/2023, R$1.666.666,67, em 15/08/2023, R$1.666.666,67, em 15/11/2023, R$1.656.666,62, em 15/02/2024, R$1.666.666,67, em 15/05/2024, R$1.666.666,67, em 15/08/2024, R$1.666.666,67, em 15/11/2024, R$1.666.666,67, em 15/02/2025, R$1.666.666,67, em 15/05/2025, R$1.666.666,67, em 15/08/2025, R$1.666.666,67.|\n",
      "\n",
      "# 3. AVALISTA(S):\n",
      "\n",
      "HG EMPREENDIMENTOS PARTICIPACOES S/A, sediado (a) em HG EMPREENDIMENTOS E PARTICIPACOES FAZENDA PEDRA RURAL, S/A, sediado(a) em FAZENDA “DA”DA S/N, ZONA SERRANA SP Cep: 14.150-000 PEDRA S/N, ZONA RURAL, SERRANA - SP, Cep: 04.787.677/0001-72 inscrito (a) no CNPJ sob nL 147150-0009 e inscrito(a) no CNEJ sob o nr.```\n",
      "\n",
      "Identifica a cláusula desta seção entre as cláusulas abaixo:\n",
      "['EMITENTE', 'DADOS DA OPERAÇÃO DE CRÉDITO', 'AVALISTA(S)', 'DESTINAÇÃO DO CRÉDITO', 'ENCARGOS FINANCEIROS', 'FORMA DE PAGAMENTO', 'COMISSÃO FLAT', 'TARIFAS', 'IOF', 'INADIMPLEMENTO', 'HONORÁRIOS ADVOCATÍCIOS', 'PLANILHA DE CÁLCULO PARA COBRANÇA', 'AUTORIZAÇÃO PARA DÉBITO EM CONTA', 'DESPESAS CARTORÁRIAS', 'LIQUIDAÇÃO/AMORTIZAÇÃO ANTECIPADA', 'VENCIMENTO EXTRAORDINÁRIO/ANTECIPADO', 'CLAUSULA ESPECIAL DE VENCIMENTO ANTECIPADO', 'COMUNICAÇÃO DENALTERAÇÃO ESTATUTÁRIA E DE DIRIGENTES', 'SUSPENSÃO DE LIBERAÇÃO DE CREDITO', 'PRESERVAÇÃO DE DIREITOS', 'COMPENSAÇÃO DE CRÉDITOS', 'CESSÃO', 'IMPUTAÇÃO AO PAGAMENTO', 'PREVENÇÃO E COMBATE À CORRUPÇÃO', 'RESPONSABILIDADE SOCIOAMBIENTAL', 'DECLARAÇÃO ESPECIAL', 'SISTEMA DE INFORMAÇÕES DE CRÉDITO DO BANCO CENTRAL - SCR', 'CENTRAIS DE ATENDIMENTO TELEFÔNICO', 'AVALISTAS', 'FORMALIZAÇÃO', 'LOCAL DO PAGAMENTO']\n",
      "\n",
      "Clausula: \n",
      "**************************************************\n",
      "** Response: **\n",
      "assistant: AVALISTA(S)\n",
      "**************************************************\n",
      "\n",
      "\n",
      "AVALISTA(S)\n"
     ]
    }
   ],
   "source": [
    "from llamaindex_utils import *\n",
    "from duvidas import *\n",
    "\n",
    "for col_name, duvida_map in duvidas.items():\n",
    "    # if col_name not in not_to_search:\n",
    "    if col_name in to_search:\n",
    "        print(\"\\n\\n\\n------------- \" + col_name.upper() + \"-------------\\n\")\n",
    "        responses[col_name][\"clausula\"] = await _agenerate_all_nodes_llm_answer(responses[col_name].source_nodes, current_type, duvida_map[current_type])\n",
    "        # print(answer)\n",
    "# assistant: AVALISTA(S)"
   ]
  },
  {
   "cell_type": "code",
   "execution_count": null,
   "id": "7058499c-7b84-4e73-87c6-4e9c0b4558ad",
   "metadata": {},
   "outputs": [],
   "source": [
    "# to_search = [\"Alteração de Controle/ Reorganização\"]\n",
    "# assistant: CLAUSULA ESPECIAL DE VENCIMENTO ANTECIPADO: RIGHT\n",
    "# IDEA: TO IMPROVE THE RESULT: try HierarchicalNodeParser with AutoMergingRetriever → so we search by the more granular texts (128 tokens and then 2048 tokens for llm interpretation)"
   ]
  },
  {
   "cell_type": "code",
   "execution_count": 56,
   "id": "b5779356-6ff6-4126-bd76-8d093cea06f6",
   "metadata": {
    "colab": {
     "base_uri": "https://localhost:8080/"
    },
    "execution": {
     "iopub.execute_input": "2024-05-09T02:20:10.892835Z",
     "iopub.status.busy": "2024-05-09T02:20:10.892539Z",
     "iopub.status.idle": "2024-05-09T02:20:10.955546Z",
     "shell.execute_reply": "2024-05-09T02:20:10.954697Z",
     "shell.execute_reply.started": "2024-05-09T02:20:10.892813Z"
    },
    "id": "b5779356-6ff6-4126-bd76-8d093cea06f6",
    "outputId": "6fa39e1b-72bc-4c6c-8930-0b6f7e041938"
   },
   "outputs": [],
   "source": [
    "# ------------- ALTERAÇÃO DE CONTROLE/ REORGANIZAÇÃO-------------\n",
    "\n",
    "# WITH RECURSIVE: A cláusula de vencimento antecipado menciona que o Banco do Brasil S.A. poderá considerar vencidas antecipadamente as operações de crédito se houver inadimplemento ou se ocorrer a transferência do controle do capital direto e/ou indireto, bem como a substituição de acionistas que resulte em perda do controle societário.\n",
    "\n",
    "# NO RECURSIVE: A cláusula de vencimento antecipado menciona que o banco pode considerar antecipadamente vencidas as operações de crédito se houver transferência de controle direto e/ou indireto do capital, alteração na titularidade do capital social envolvendo acionistas com variação superior a 10%, ou alteração societária que resulte em perda de controle societário. Também é destacado que qualquer modificação no estatuto ou nos dirigentes deve ser comunicada ao Banco do Brasil durante a vigência da operação de crédito.\n"
   ]
  },
  {
   "cell_type": "markdown",
   "id": "70682855-a244-4264-900e-15309e90ea64",
   "metadata": {
    "id": "70682855-a244-4264-900e-15309e90ea64"
   },
   "source": [
    "### Recursive with reranking"
   ]
  },
  {
   "cell_type": "code",
   "execution_count": 71,
   "id": "fd8cfc65-620d-4ead-8528-3ebf43d59bbc",
   "metadata": {
    "colab": {
     "base_uri": "https://localhost:8080/"
    },
    "execution": {
     "iopub.execute_input": "2024-05-09T03:29:10.926521Z",
     "iopub.status.busy": "2024-05-09T03:29:10.926211Z",
     "iopub.status.idle": "2024-05-09T03:29:24.901125Z",
     "shell.execute_reply": "2024-05-09T03:29:24.898389Z",
     "shell.execute_reply.started": "2024-05-09T03:29:10.926492Z"
    },
    "id": "fd8cfc65-620d-4ead-8528-3ebf43d59bbc",
    "outputId": "bce92e21-b44d-411b-d38e-bfc79019d8a3"
   },
   "outputs": [],
   "source": [
    "from llama_index.postprocessor.flag_embedding_reranker import FlagEmbeddingReranker\n",
    "\n",
    "reranker = FlagEmbeddingReranker(\n",
    "    top_n=5,\n",
    "    model=\"BAAI/bge-reranker-large\",\n",
    ")\n",
    "\n",
    "recursive_query_engine = recursive_index.as_query_engine(\n",
    "    similarity_top_k=15,\n",
    "    node_postprocessors=[reranker],\n",
    "    verbose=True\n",
    ")"
   ]
  },
  {
   "cell_type": "code",
   "execution_count": 23,
   "id": "She0FFa1cTLF",
   "metadata": {
    "colab": {
     "base_uri": "https://localhost:8080/"
    },
    "execution": {
     "iopub.execute_input": "2024-05-08T23:39:05.608167Z",
     "iopub.status.busy": "2024-05-08T23:39:05.607852Z",
     "iopub.status.idle": "2024-05-08T23:39:05.667174Z",
     "shell.execute_reply": "2024-05-08T23:39:05.666376Z",
     "shell.execute_reply.started": "2024-05-08T23:39:05.608143Z"
    },
    "id": "She0FFa1cTLF",
    "outputId": "c26a74ff-2d25-42ca-ca90-1700bde6c666"
   },
   "outputs": [],
   "source": [
    "# !python --version\n",
    "# Python 3.10.12\n",
    "\n",
    "response = recursive_query_engine.query(\n",
    "    # duvidas[\"Data de Assinatura\"][current_type]\n",
    "    duvidas[\"Alteração de Controle/ Reorganização\"][current_type]\n",
    "    )\n",
    "# MIGHT HAVE OUT OF MEMORY ISSUES"
   ]
  },
  {
   "cell_type": "code",
   "execution_count": 22,
   "id": "e012de6b-9903-4d2b-92f5-00a19c2d6354",
   "metadata": {
    "colab": {
     "base_uri": "https://localhost:8080/"
    },
    "execution": {
     "iopub.execute_input": "2024-05-08T23:38:57.547514Z",
     "iopub.status.busy": "2024-05-08T23:38:57.546974Z",
     "iopub.status.idle": "2024-05-08T23:38:57.612965Z",
     "shell.execute_reply": "2024-05-08T23:38:57.612137Z",
     "shell.execute_reply.started": "2024-05-08T23:38:57.547482Z"
    },
    "id": "e012de6b-9903-4d2b-92f5-00a19c2d6354",
    "outputId": "27e9edb9-ac45-4695-ae1a-e641c2db06d0"
   },
   "outputs": [
    {
     "name": "stdout",
     "output_type": "stream",
     "text": [
      "Na cláusula de Alteração de Controle/Reorganização, consta que o banco poderá considerar antecipadamente vencidas as obrigações da operação de crédito se houver transferência do controle direto e/ou indireto do capital, alteração de titularidade do capital social envolvendo qualquer acionista com variação superior a 10% do capital social, ou alteração social de qualquer controlada que resulte em perda de controle societário. Além disso, a cláusula prevê a comunicação obrigatória ao Banco do Brasil em caso de modificação do estatuto ou dos dirigentes durante a vigência da operação de crédito.\n"
     ]
    }
   ],
   "source": [
    "print(response)\n",
    "# A data de assinatura da Cédula de Crédito Bancário é 18 de novembro de 2020 em Ribeirão Preto, São Paulo.\n",
    "\n",
    "# A Alteração de Controle/Reorganização mencionada na cláusula de vencimento antecipado da cédula de crédito bancário ocorre quando há a transferência do controle direto e/ou indireto do capital, alteração de titularidade do capital social com variação superior a 10%, ou mudança na estrutura societária que resulte em perda de controle societário."
   ]
  },
  {
   "cell_type": "code",
   "execution_count": null,
   "id": "eFo2GcF24AWQ",
   "metadata": {
    "id": "eFo2GcF24AWQ"
   },
   "outputs": [],
   "source": []
  }
 ],
 "metadata": {
  "colab": {
   "provenance": []
  },
  "kernelspec": {
   "display_name": "Python 3 (ipykernel)",
   "language": "python",
   "name": "python3"
  },
  "language_info": {
   "codemirror_mode": {
    "name": "ipython",
    "version": 3
   },
   "file_extension": ".py",
   "mimetype": "text/x-python",
   "name": "python",
   "nbconvert_exporter": "python",
   "pygments_lexer": "ipython3",
   "version": "3.11.3"
  }
 },
 "nbformat": 4,
 "nbformat_minor": 5
}
