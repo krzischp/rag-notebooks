{
 "cells": [
  {
   "cell_type": "code",
   "execution_count": null,
   "id": "f530b164-5bf1-4651-8b7d-6363c1c106e5",
   "metadata": {
    "id": "f530b164-5bf1-4651-8b7d-6363c1c106e5"
   },
   "outputs": [],
   "source": []
  },
  {
   "cell_type": "code",
   "execution_count": null,
   "id": "6dc83154-cb37-4d79-bdf9-b7c460003abc",
   "metadata": {
    "id": "6dc83154-cb37-4d79-bdf9-b7c460003abc"
   },
   "outputs": [],
   "source": []
  },
  {
   "cell_type": "code",
   "execution_count": 1,
   "id": "5b93f5e8-e75a-48cc-9634-4c921193a5bf",
   "metadata": {
    "colab": {
     "base_uri": "https://localhost:8080/"
    },
    "execution": {
     "iopub.execute_input": "2024-05-08T23:32:10.841315Z",
     "iopub.status.busy": "2024-05-08T23:32:10.841003Z",
     "iopub.status.idle": "2024-05-08T23:32:10.845076Z",
     "shell.execute_reply": "2024-05-08T23:32:10.844268Z",
     "shell.execute_reply.started": "2024-05-08T23:32:10.841290Z"
    },
    "id": "5b93f5e8-e75a-48cc-9634-4c921193a5bf",
    "outputId": "8817f49b-8d56-433d-cd67-75f05c4a38e9"
   },
   "outputs": [],
   "source": [
    "# !pip install -qU llama-index llama-parse python-dotenv"
   ]
  },
  {
   "cell_type": "code",
   "execution_count": 2,
   "id": "R02fTKMT07xh",
   "metadata": {
    "colab": {
     "base_uri": "https://localhost:8080/"
    },
    "execution": {
     "iopub.execute_input": "2024-05-08T23:32:11.061990Z",
     "iopub.status.busy": "2024-05-08T23:32:11.061693Z",
     "iopub.status.idle": "2024-05-08T23:32:11.066381Z",
     "shell.execute_reply": "2024-05-08T23:32:11.064670Z",
     "shell.execute_reply.started": "2024-05-08T23:32:11.061967Z"
    },
    "id": "R02fTKMT07xh",
    "outputId": "cefaea46-6100-43a7-dc57-e7e6fd49fbcd"
   },
   "outputs": [],
   "source": [
    "# !pip install -qU llama-index-postprocessor-flag-embedding-reranker git+https://github.com/FlagOpen/FlagEmbedding.git"
   ]
  },
  {
   "cell_type": "code",
   "execution_count": 1,
   "id": "0VrlPfKedU9D",
   "metadata": {
    "colab": {
     "base_uri": "https://localhost:8080/"
    },
    "execution": {
     "iopub.execute_input": "2024-05-08T23:35:08.105604Z",
     "iopub.status.busy": "2024-05-08T23:35:08.105321Z",
     "iopub.status.idle": "2024-05-08T23:35:08.109079Z",
     "shell.execute_reply": "2024-05-08T23:35:08.108410Z",
     "shell.execute_reply.started": "2024-05-08T23:35:08.105580Z"
    },
    "id": "0VrlPfKedU9D",
    "outputId": "58cb1de2-06b0-4cd9-b32f-99b472e30a1f"
   },
   "outputs": [],
   "source": [
    "# !pip show torch\n",
    "# Name: llama-index\n",
    "# Version: 0.10.35\n",
    "\n",
    "# Name: llama-index-postprocessor-flag-embedding-reranker\n",
    "# Version: 0.1.2"
   ]
  },
  {
   "cell_type": "markdown",
   "id": "e04d840f-1001-40ad-9cc5-edfd8e9fb5dc",
   "metadata": {
    "id": "e04d840f-1001-40ad-9cc5-edfd8e9fb5dc"
   },
   "source": [
    "Reference notebook: [LlamaParse - A Tool for Parsing Complex Documents.ipynb](https://colab.research.google.com/drive/1IVQkSGwS5kdTiKBwz85PO6vg_WaNx15c?usp=sharing#scrollTo=pLlEWwpFqFrp)"
   ]
  },
  {
   "cell_type": "code",
   "execution_count": 2,
   "id": "bdb8a285-293c-4997-8404-31b0038946b4",
   "metadata": {
    "execution": {
     "iopub.execute_input": "2024-05-08T23:35:10.752748Z",
     "iopub.status.busy": "2024-05-08T23:35:10.752410Z",
     "iopub.status.idle": "2024-05-08T23:35:10.774403Z",
     "shell.execute_reply": "2024-05-08T23:35:10.773495Z",
     "shell.execute_reply.started": "2024-05-08T23:35:10.752721Z"
    },
    "id": "bdb8a285-293c-4997-8404-31b0038946b4"
   },
   "outputs": [],
   "source": [
    "%load_ext autoreload\n",
    "%autoreload 2"
   ]
  },
  {
   "cell_type": "code",
   "execution_count": 3,
   "id": "uImn4RF10D1D",
   "metadata": {
    "colab": {
     "base_uri": "https://localhost:8080/"
    },
    "execution": {
     "iopub.execute_input": "2024-05-08T23:35:11.659068Z",
     "iopub.status.busy": "2024-05-08T23:35:11.658785Z",
     "iopub.status.idle": "2024-05-08T23:35:11.669546Z",
     "shell.execute_reply": "2024-05-08T23:35:11.668786Z",
     "shell.execute_reply.started": "2024-05-08T23:35:11.659045Z"
    },
    "id": "uImn4RF10D1D",
    "outputId": "9011bcb7-cc64-4907-da29-ee5be5cfc517"
   },
   "outputs": [],
   "source": [
    "# from google.colab import drive\n",
    "# drive.mount('/content/drive')"
   ]
  },
  {
   "cell_type": "code",
   "execution_count": 4,
   "id": "9yQMCOXW2W0F",
   "metadata": {
    "execution": {
     "iopub.execute_input": "2024-05-08T23:35:11.991775Z",
     "iopub.status.busy": "2024-05-08T23:35:11.991445Z",
     "iopub.status.idle": "2024-05-08T23:35:12.003407Z",
     "shell.execute_reply": "2024-05-08T23:35:12.002568Z",
     "shell.execute_reply.started": "2024-05-08T23:35:11.991747Z"
    },
    "id": "9yQMCOXW2W0F"
   },
   "outputs": [],
   "source": [
    "# wd_path = \"/content/drive/MyDrive/Colab Notebooks/rag-notebooks\"\n",
    "wd_path = \"..\""
   ]
  },
  {
   "cell_type": "code",
   "execution_count": 5,
   "id": "ada44d98-9335-493c-8fe3-15f03ac46783",
   "metadata": {
    "execution": {
     "iopub.execute_input": "2024-05-08T23:35:12.393500Z",
     "iopub.status.busy": "2024-05-08T23:35:12.393211Z",
     "iopub.status.idle": "2024-05-08T23:35:12.824354Z",
     "shell.execute_reply": "2024-05-08T23:35:12.823789Z",
     "shell.execute_reply.started": "2024-05-08T23:35:12.393479Z"
    },
    "id": "ada44d98-9335-493c-8fe3-15f03ac46783"
   },
   "outputs": [],
   "source": [
    "import sys\n",
    "import openai\n",
    "import os\n",
    "import getpass\n",
    "import logging\n",
    "\n",
    "from dotenv import load_dotenv, find_dotenv"
   ]
  },
  {
   "cell_type": "code",
   "execution_count": 6,
   "id": "4f923f8f-3718-4f90-a066-0b70f47635f5",
   "metadata": {
    "colab": {
     "base_uri": "https://localhost:8080/"
    },
    "execution": {
     "iopub.execute_input": "2024-05-08T23:35:12.826078Z",
     "iopub.status.busy": "2024-05-08T23:35:12.825767Z",
     "iopub.status.idle": "2024-05-08T23:35:12.839815Z",
     "shell.execute_reply": "2024-05-08T23:35:12.838960Z",
     "shell.execute_reply.started": "2024-05-08T23:35:12.826055Z"
    },
    "id": "4f923f8f-3718-4f90-a066-0b70f47635f5",
    "outputId": "0db8c902-205b-4de8-c68e-e75b8a4c477f"
   },
   "outputs": [],
   "source": [
    "# os.environ[\"LLAMA_CLOUD_API_KEY\"] = getpass.getpass(\"LLamaParse API Key:\")"
   ]
  },
  {
   "cell_type": "code",
   "execution_count": 7,
   "id": "x1Gfo0Ac1eur",
   "metadata": {
    "colab": {
     "base_uri": "https://localhost:8080/"
    },
    "execution": {
     "iopub.execute_input": "2024-05-08T23:35:13.055070Z",
     "iopub.status.busy": "2024-05-08T23:35:13.054753Z",
     "iopub.status.idle": "2024-05-08T23:35:13.069004Z",
     "shell.execute_reply": "2024-05-08T23:35:13.068261Z",
     "shell.execute_reply.started": "2024-05-08T23:35:13.055046Z"
    },
    "id": "x1Gfo0Ac1eur",
    "outputId": "47d98395-1495-4dbc-fbe0-4024919960b8"
   },
   "outputs": [],
   "source": [
    "# os.environ[\"OPENAI_API_KEY\"] = getpass.getpass(\"OpenAI API Key:\")"
   ]
  },
  {
   "cell_type": "code",
   "execution_count": 8,
   "id": "NF0wBES1cf3t",
   "metadata": {
    "colab": {
     "base_uri": "https://localhost:8080/"
    },
    "execution": {
     "iopub.execute_input": "2024-05-08T23:35:13.311813Z",
     "iopub.status.busy": "2024-05-08T23:35:13.311447Z",
     "iopub.status.idle": "2024-05-08T23:35:13.330614Z",
     "shell.execute_reply": "2024-05-08T23:35:13.329607Z",
     "shell.execute_reply.started": "2024-05-08T23:35:13.311784Z"
    },
    "id": "NF0wBES1cf3t",
    "outputId": "400111ed-fb86-45c1-8018-94f6b1689a03"
   },
   "outputs": [],
   "source": [
    "# os.environ[\"HF_TOKEN\"] = getpass.getpass(\"Hugging Face API Key:\")"
   ]
  },
  {
   "cell_type": "code",
   "execution_count": 9,
   "id": "yhK3alBB-48Z",
   "metadata": {
    "execution": {
     "iopub.execute_input": "2024-05-08T23:35:13.525069Z",
     "iopub.status.busy": "2024-05-08T23:35:13.524836Z",
     "iopub.status.idle": "2024-05-08T23:35:13.540126Z",
     "shell.execute_reply": "2024-05-08T23:35:13.538810Z",
     "shell.execute_reply.started": "2024-05-08T23:35:13.525051Z"
    },
    "id": "yhK3alBB-48Z"
   },
   "outputs": [],
   "source": [
    "import nest_asyncio\n",
    "\n",
    "nest_asyncio.apply()"
   ]
  },
  {
   "cell_type": "code",
   "execution_count": 28,
   "id": "2fbbf2e5-5ab9-4e6d-a4cf-9171f2334167",
   "metadata": {
    "execution": {
     "iopub.execute_input": "2024-05-08T23:41:09.764977Z",
     "iopub.status.busy": "2024-05-08T23:41:09.764660Z",
     "iopub.status.idle": "2024-05-08T23:41:09.825417Z",
     "shell.execute_reply": "2024-05-08T23:41:09.824649Z",
     "shell.execute_reply.started": "2024-05-08T23:41:09.764953Z"
    },
    "id": "2fbbf2e5-5ab9-4e6d-a4cf-9171f2334167"
   },
   "outputs": [],
   "source": [
    "# logging.basicConfig(stream=sys.stdout, level=logging.DEBUG)\n",
    "logging.basicConfig(stream=sys.stdout, level=logging.WARNING)\n",
    "logging.getLogger().addHandler(logging.StreamHandler(stream=sys.stdout))"
   ]
  },
  {
   "cell_type": "code",
   "execution_count": 33,
   "id": "a89606fe-1732-4df4-bf54-520ae1d72e0e",
   "metadata": {
    "execution": {
     "iopub.execute_input": "2024-05-08T23:42:02.602017Z",
     "iopub.status.busy": "2024-05-08T23:42:02.601657Z",
     "iopub.status.idle": "2024-05-08T23:42:02.662146Z",
     "shell.execute_reply": "2024-05-08T23:42:02.661389Z",
     "shell.execute_reply.started": "2024-05-08T23:42:02.601986Z"
    }
   },
   "outputs": [],
   "source": [
    "from llama_index.core.callbacks.global_handlers import set_global_handler\n",
    "\n",
    "set_global_handler(\"simple\")\n",
    "# set_global_handler(\"langfuse\")"
   ]
  },
  {
   "cell_type": "code",
   "execution_count": 40,
   "id": "7e4a2f96-760f-43f4-bdef-442d195cf877",
   "metadata": {
    "execution": {
     "iopub.execute_input": "2024-05-08T23:45:11.344207Z",
     "iopub.status.busy": "2024-05-08T23:45:11.343878Z",
     "iopub.status.idle": "2024-05-08T23:45:11.402413Z",
     "shell.execute_reply": "2024-05-08T23:45:11.401694Z",
     "shell.execute_reply.started": "2024-05-08T23:45:11.344180Z"
    },
    "id": "7e4a2f96-760f-43f4-bdef-442d195cf877"
   },
   "outputs": [],
   "source": [
    "# import llama_parse\n",
    "# import llama_index\n",
    "# import os\n",
    "\n",
    "# llama_parse_path = os.path.dirname(llama_parse.__file__)\n",
    "# llama_index_path = os.path.dirname(llama_index.__file__)\n",
    "\n",
    "# print(llama_parse_path)\n",
    "# print(llama_index_path)"
   ]
  },
  {
   "cell_type": "markdown",
   "id": "186a7d92-c3ea-4622-a86a-8635bf3f01fd",
   "metadata": {
    "id": "186a7d92-c3ea-4622-a86a-8635bf3f01fd"
   },
   "source": [
    "# Law questions"
   ]
  },
  {
   "cell_type": "code",
   "execution_count": 13,
   "id": "88f78b06-a355-4959-baaa-2308c9155c3e",
   "metadata": {
    "colab": {
     "base_uri": "https://localhost:8080/"
    },
    "execution": {
     "iopub.execute_input": "2024-05-08T23:35:26.015782Z",
     "iopub.status.busy": "2024-05-08T23:35:26.015363Z",
     "iopub.status.idle": "2024-05-08T23:35:26.059190Z",
     "shell.execute_reply": "2024-05-08T23:35:26.058443Z",
     "shell.execute_reply.started": "2024-05-08T23:35:26.015757Z"
    },
    "id": "88f78b06-a355-4959-baaa-2308c9155c3e",
    "outputId": "10d33a6f-2693-49af-a08c-4fec89961ed0"
   },
   "outputs": [
    {
     "name": "stdout",
     "output_type": "stream",
     "text": [
      "{'Contrato de Financiamento': 'Quem é o Devedor? (BENEFICIÁRIA / DEVEDOR)', 'Cédula de Crédito Bancário': 'Quem é o  Devedor? (Emitente)'}\n",
      "{'Contrato de Financiamento': 'Quem é o Credor? (BNDES / FINEP)', 'Cédula de Crédito Bancário': 'Quem é o  Credor? (Credor ou Nome do banco)'}\n",
      "{'Contrato de Financiamento': 'Qual é a data de assinatura? (Costuma estar no final do documento, após a frase `E, por estarem justos e contratados, firmam o presente em 3 (três) vias...`)', 'Cédula de Crédito Bancário': 'Qual é a data de assinatura? (Data de emissão)'}\n",
      "{'Contrato de Financiamento': \"Qual é o Vencimento/Prazo? ('liquidar com a última prestação')\", 'Cédula de Crédito Bancário': 'Qual é o Vencimento/Prazo? (ou Forma de pagamento, assim costuma aparecer o numero de parcelas)'}\n",
      "{'Contrato de Financiamento': 'Qual é o Valor (crédito no valor de [...])', 'Cédula de Crédito Bancário': 'Qual é o Valor? (valor do empréstimo)'}\n",
      "{'Contrato de Financiamento': 'Qual é a FINALIDADE DO CONTRATO?', 'Cédula de Crédito Bancário': 'Qual é a Destinação do Crédito? (O que será creditado na conta corrente da Emitente?)'}\n",
      "{'Contrato de Financiamento': \"O que consta na clausula de Alteração de Controle/ Reorganização? (palavras chaves: 'controle direto e indireto'/ 'Vencimento Antecipado do contrato')\", 'Cédula de Crédito Bancário': \"O que consta na clausula de Alteração de Controle/ Reorganização? (palavras chaves: 'vencimento antecipado', 'inadimplemento' ou 'antecipadamente vencidas' / 'transferido o controle do capital' e/ou 'substituído')\"}\n",
      "{'Contrato de Financiamento': \"O que consta na clausula de cessão? (palavras chaves: 'ceder' / 'transferir')\", 'Cédula de Crédito Bancário': \"O que consta na clausula de cessão? (palavras chaves: 'ceder', 'transferir', ou 'onerar a qualquer título...')\"}\n"
     ]
    }
   ],
   "source": [
    "duvidas = {\n",
    "    \"Devedor\": {\n",
    "        \"Contrato de Financiamento\": \"Quem é o Devedor? (BENEFICIÁRIA / DEVEDOR)\",\n",
    "        \"Cédula de Crédito Bancário\": \"Quem é o  Devedor? (Emitente)\"\n",
    "    },\n",
    "    \"Credor\": {\n",
    "        \"Contrato de Financiamento\": \"Quem é o Credor? (BNDES / FINEP)\",\n",
    "        \"Cédula de Crédito Bancário\": \"Quem é o  Credor? (Credor ou Nome do banco)\"\n",
    "    },\n",
    "    \"Data de Assinatura\": {\n",
    "        \"Contrato de Financiamento\": \"Qual é a data de assinatura? (Costuma estar no final do documento, após a frase `E, por estarem justos e contratados, firmam o presente em 3 (três) vias...`)\",\n",
    "        \"Cédula de Crédito Bancário\": \"Qual é a data de assinatura? (Data de emissão)\"\n",
    "    },\n",
    "    \"Vencimento/Prazo\": {\n",
    "        \"Contrato de Financiamento\": \"Qual é o Vencimento/Prazo? ('liquidar com a última prestação')\",\n",
    "        \"Cédula de Crédito Bancário\": \"Qual é o Vencimento/Prazo? (ou Forma de pagamento, assim costuma aparecer o numero de parcelas)\"\n",
    "    },\n",
    "    \"Valor\": {\n",
    "        \"Contrato de Financiamento\": \"Qual é o Valor (crédito no valor de [...])\",\n",
    "        \"Cédula de Crédito Bancário\": \"Qual é o Valor? (valor do empréstimo)\"\n",
    "    },\n",
    "    \"Objeto\": {\n",
    "        \"Contrato de Financiamento\": \"Qual é a FINALIDADE DO CONTRATO?\",\n",
    "        \"Cédula de Crédito Bancário\": \"Qual é a Destinação do Crédito? (O que será creditado na conta corrente da Emitente?)\"\n",
    "    },\n",
    "    \"Alteração de Controle/ Reorganização\": {\"Contrato de Financiamento\": \"O que consta na clausula de Alteração de Controle/ Reorganização? (palavras chaves: 'controle direto e indireto'/ 'Vencimento Antecipado do contrato')\",\n",
    "                         \"Cédula de Crédito Bancário\": \"O que consta na clausula de Alteração de Controle/ Reorganização? (palavras chaves: 'vencimento antecipado', 'inadimplemento' ou 'antecipadamente vencidas' / 'transferido o controle do capital' e/ou 'substituído')\"\n",
    "    },\n",
    "    \"Cessão\": {\"Contrato de Financiamento\": \"O que consta na clausula de cessão? (palavras chaves: 'ceder' / 'transferir')\",\n",
    "               \"Cédula de Crédito Bancário\": \"O que consta na clausula de cessão? (palavras chaves: 'ceder', 'transferir', ou 'onerar a qualquer título...')\"\n",
    "    }\n",
    "}\n",
    "\n",
    "current_type = \"Cédula de Crédito Bancário\"\n",
    "for search, question in duvidas.items():\n",
    "    print(question)"
   ]
  },
  {
   "cell_type": "code",
   "execution_count": 14,
   "id": "f0b36747-1c75-4c8b-9d4c-8ea0b1a57457",
   "metadata": {
    "execution": {
     "iopub.execute_input": "2024-05-08T23:35:27.073798Z",
     "iopub.status.busy": "2024-05-08T23:35:27.073474Z",
     "iopub.status.idle": "2024-05-08T23:35:27.108383Z",
     "shell.execute_reply": "2024-05-08T23:35:27.107695Z",
     "shell.execute_reply.started": "2024-05-08T23:35:27.073774Z"
    },
    "id": "f0b36747-1c75-4c8b-9d4c-8ea0b1a57457"
   },
   "outputs": [],
   "source": [
    "pdf_file_path = wd_path + \"/data/1.2.5.17.10.1.1 CCB 511300712 - BB.pdf\""
   ]
  },
  {
   "cell_type": "markdown",
   "id": "15db3a63-8bb5-4c24-ad46-0c6de514c54d",
   "metadata": {
    "id": "15db3a63-8bb5-4c24-ad46-0c6de514c54d"
   },
   "source": [
    "# Load and Parse PDFs"
   ]
  },
  {
   "cell_type": "code",
   "execution_count": 15,
   "id": "ae99f9e6-599d-4ecf-a89f-7c0cd83122bc",
   "metadata": {
    "execution": {
     "iopub.execute_input": "2024-05-08T23:35:37.289010Z",
     "iopub.status.busy": "2024-05-08T23:35:37.288713Z",
     "iopub.status.idle": "2024-05-08T23:35:38.237865Z",
     "shell.execute_reply": "2024-05-08T23:35:38.237360Z",
     "shell.execute_reply.started": "2024-05-08T23:35:37.288987Z"
    },
    "id": "ae99f9e6-599d-4ecf-a89f-7c0cd83122bc"
   },
   "outputs": [],
   "source": [
    "from llama_parse import LlamaParse  # pip install llama-parse\n",
    "\n",
    "# parser = LlamaParse(\n",
    "#     # api_key=\"...\",  # can also be set in your env as LLAMA_CLOUD_API_KEY\n",
    "#     result_type=\"markdown\"  # \"markdown\" and \"text\" are available\n",
    "# )\n",
    "\n",
    "parser = LlamaParse(\n",
    "    result_type=\"markdown\",\n",
    "    verbose=True,\n",
    "    language=\"pt\",\n",
    "    num_workers=2,\n",
    ")\n",
    "\n",
    "# sync\n",
    "# documents = parser.load_data(\"./my_file.pdf\")\n",
    "\n",
    "# async\n",
    "# docs0 = await parser.aload_data(\"../data/1.2.5.17.10.1.1 CCB 511300712 - BB.pdf\")"
   ]
  },
  {
   "cell_type": "markdown",
   "id": "7eea26ea-688e-457f-be3b-c67e916c6192",
   "metadata": {
    "id": "7eea26ea-688e-457f-be3b-c67e916c6192"
   },
   "source": [
    "# LlamaIndex Recursive Query Engine"
   ]
  },
  {
   "cell_type": "code",
   "execution_count": 42,
   "id": "320a48de-9835-477f-bc76-8651fda9db5a",
   "metadata": {
    "execution": {
     "iopub.execute_input": "2024-05-08T23:50:04.672379Z",
     "iopub.status.busy": "2024-05-08T23:50:04.672086Z",
     "iopub.status.idle": "2024-05-08T23:50:04.735150Z",
     "shell.execute_reply": "2024-05-08T23:50:04.734289Z",
     "shell.execute_reply.started": "2024-05-08T23:50:04.672356Z"
    },
    "id": "320a48de-9835-477f-bc76-8651fda9db5a"
   },
   "outputs": [],
   "source": [
    "from llama_index.core.settings import Settings\n",
    "from llama_index.llms.openai import OpenAI\n",
    "from llama_index.embeddings.openai import OpenAIEmbedding\n",
    "from llama_index.core.node_parser import MarkdownElementNodeParser\n",
    "from llama_index.core import VectorStoreIndex\n",
    "from llama_index.core.storage.storage_context import StorageContext\n",
    "from llama_index.core.indices.loading import load_index_from_storage\n",
    "from llama_index.core.response.notebook_utils import display_source_node\n",
    "from llama_index.core.callbacks import CallbackManager, LlamaDebugHandler\n",
    "\n",
    "Settings.llm = OpenAI(model=\"gpt-3.5-turbo\")\n",
    "Settings.embed_model = OpenAIEmbedding(model=\"text-embedding-3-small\")\n",
    "\n",
    "llama_debug = LlamaDebugHandler(print_trace_on_end=True)\n",
    "Settings.callback_manager = CallbackManager([llama_debug])"
   ]
  },
  {
   "cell_type": "code",
   "execution_count": 47,
   "id": "510aacbf-3b7f-44f2-9d5c-47b57853e142",
   "metadata": {
    "execution": {
     "iopub.execute_input": "2024-05-09T01:54:21.809103Z",
     "iopub.status.busy": "2024-05-09T01:54:21.808786Z",
     "iopub.status.idle": "2024-05-09T01:54:21.935550Z",
     "shell.execute_reply": "2024-05-09T01:54:21.934966Z",
     "shell.execute_reply.started": "2024-05-09T01:54:21.809070Z"
    }
   },
   "outputs": [
    {
     "data": {
      "text/plain": [
       "'disposições aplicáveis aos contratos do bndes'"
      ]
     },
     "execution_count": 47,
     "metadata": {},
     "output_type": "execute_result"
    }
   ],
   "source": [
    "\"DISPOSIÇÕES APLICÁVEIS AOS CONTRATOS DO BNDES\".lower()"
   ]
  },
  {
   "cell_type": "code",
   "execution_count": 17,
   "id": "33ae4093-9d88-404d-895d-8991f196aaa5",
   "metadata": {
    "colab": {
     "base_uri": "https://localhost:8080/"
    },
    "execution": {
     "iopub.execute_input": "2024-05-08T23:35:41.425735Z",
     "iopub.status.busy": "2024-05-08T23:35:41.425264Z",
     "iopub.status.idle": "2024-05-08T23:35:41.470251Z",
     "shell.execute_reply": "2024-05-08T23:35:41.469559Z",
     "shell.execute_reply.started": "2024-05-08T23:35:41.425708Z"
    },
    "id": "33ae4093-9d88-404d-895d-8991f196aaa5",
    "outputId": "8444479d-4192-4bb9-d73a-094eef157172"
   },
   "outputs": [
    {
     "data": {
      "text/plain": [
       "True"
      ]
     },
     "execution_count": 17,
     "metadata": {},
     "output_type": "execute_result"
    }
   ],
   "source": [
    "PERSIST_DIR = wd_path + \"/data/storage\"\n",
    "\n",
    "os.path.exists(PERSIST_DIR)"
   ]
  },
  {
   "cell_type": "code",
   "execution_count": 18,
   "id": "22dbbbfa-4c69-4ad0-ad9f-04165de8fb6d",
   "metadata": {
    "execution": {
     "iopub.execute_input": "2024-05-08T23:35:43.596505Z",
     "iopub.status.busy": "2024-05-08T23:35:43.596166Z",
     "iopub.status.idle": "2024-05-08T23:35:44.177068Z",
     "shell.execute_reply": "2024-05-08T23:35:44.176286Z",
     "shell.execute_reply.started": "2024-05-08T23:35:43.596478Z"
    },
    "id": "22dbbbfa-4c69-4ad0-ad9f-04165de8fb6d"
   },
   "outputs": [],
   "source": [
    "# check if storage already exists\n",
    "if not os.path.exists(PERSIST_DIR):\n",
    "    # load the documents and create the index\n",
    "    # documents = SimpleDirectoryReader(llamaindex_dir + \"/data\").load_data()\n",
    "    documents = await parser.aload_data(pdf_file_path)\n",
    "\n",
    "    node_parser = MarkdownElementNodeParser(llm=OpenAI(model=\"gpt-3.5-turbo\"), num_workers=8)\n",
    "    nodes = node_parser.get_nodes_from_documents(documents=[documents[0]])\n",
    "    base_nodes, objects = node_parser.get_nodes_and_objects(nodes)\n",
    "    recursive_index = VectorStoreIndex(nodes=base_nodes+objects)\n",
    "    # index = VectorStoreIndex.from_documents(documents)\n",
    "    # store it for later\n",
    "    # saving the embeddings to disk\n",
    "    # By default, this will save the data to the directory storage, but you can change that by passing a persist_dir parameter.\n",
    "    recursive_index.storage_context.persist(persist_dir=PERSIST_DIR)\n",
    "else:\n",
    "    # load the existing index\n",
    "    storage_context = StorageContext.from_defaults(persist_dir=PERSIST_DIR)\n",
    "    recursive_index = load_index_from_storage(storage_context)"
   ]
  },
  {
   "cell_type": "code",
   "execution_count": 19,
   "id": "010f942b-f911-41f6-9917-b8926e574bf4",
   "metadata": {
    "execution": {
     "iopub.execute_input": "2024-05-08T23:35:45.471854Z",
     "iopub.status.busy": "2024-05-08T23:35:45.471551Z",
     "iopub.status.idle": "2024-05-08T23:35:45.535873Z",
     "shell.execute_reply": "2024-05-08T23:35:45.534807Z",
     "shell.execute_reply.started": "2024-05-08T23:35:45.471829Z"
    },
    "id": "010f942b-f911-41f6-9917-b8926e574bf4"
   },
   "outputs": [],
   "source": [
    "# print(documents[0].text[:500])\n",
    "\n",
    "# ## CEDULA DE CREDITO BANCARIO\n",
    "\n",
    "# INTRODUÇÃO: Nr. 511.300.712\n",
    "\n",
    "# 1. EMITENTE:\n",
    "\n",
    "# |Razão ou denominação social:|ALLIAGE S/A INDUSTRIAS MEDICO ODONTOLOGICA|\n",
    "# |---|---|\n",
    "# |CNPJ:|55.979.736/0001-45|\n",
    "# |Conta Corrente:|000.003.203-4|\n",
    "# |Endereço:|ROD ABRAÃO ASSED S/N KM 53 MAIS 450 METROS, RECREIO ANHANGUERA|\n",
    "# |Cidade:|RIBEIRÃO PRETO-SP|\n",
    "# |CEP:|14.097-500|\n",
    "# |E-MAIL:|fabiola.furtadoCalliage-global.com|\n",
    "\n",
    "# 2. DADOS DA OPERAÇÃO DE CRÉDITO:\n",
    "\n",
    "# |Valor:|R$25.000.000,00 (vinte e cinco milhões de reais)|\n",
    "# |---|---|\n",
    "# |Vencimento:|1"
   ]
  },
  {
   "cell_type": "markdown",
   "id": "97a02a64-96a3-431e-b5ea-bed657dac951",
   "metadata": {
    "id": "97a02a64-96a3-431e-b5ea-bed657dac951"
   },
   "source": [
    "## Retriever"
   ]
  },
  {
   "cell_type": "code",
   "execution_count": 25,
   "id": "5e87e5dc-7741-45c3-b4c6-38fe9269880d",
   "metadata": {
    "execution": {
     "iopub.execute_input": "2024-05-08T23:40:32.824020Z",
     "iopub.status.busy": "2024-05-08T23:40:32.823673Z",
     "iopub.status.idle": "2024-05-08T23:40:32.881345Z",
     "shell.execute_reply": "2024-05-08T23:40:32.880668Z",
     "shell.execute_reply.started": "2024-05-08T23:40:32.823993Z"
    },
    "id": "5e87e5dc-7741-45c3-b4c6-38fe9269880d"
   },
   "outputs": [],
   "source": [
    "base_retriever = recursive_index.as_retriever(similarity_top_k=2)"
   ]
  },
  {
   "cell_type": "code",
   "execution_count": 34,
   "id": "5e187381-5e6d-412a-bf44-4aff105049d9",
   "metadata": {
    "execution": {
     "iopub.execute_input": "2024-05-08T23:42:17.925290Z",
     "iopub.status.busy": "2024-05-08T23:42:17.924941Z",
     "iopub.status.idle": "2024-05-08T23:42:18.359045Z",
     "shell.execute_reply": "2024-05-08T23:42:18.358203Z",
     "shell.execute_reply.started": "2024-05-08T23:42:17.925263Z"
    },
    "id": "5e187381-5e6d-412a-bf44-4aff105049d9"
   },
   "outputs": [],
   "source": [
    "retrievals = base_retriever.retrieve(\n",
    "    # \"Can you tell me about the key concepts for safety finetuning\"\n",
    "    # duvidas[\"Devedor\"]\n",
    "    # duvidas[\"Objeto\"][\"Cédula de Crédito Bancário\"]\n",
    "    # duvidas[\"Data de Assinatura\"][current_type]\n",
    "    duvidas[\"Alteração de Controle/ Reorganização\"][current_type]\n",
    ")"
   ]
  },
  {
   "cell_type": "code",
   "execution_count": 35,
   "id": "dad2a8a1-805b-48f7-a41d-93f420209657",
   "metadata": {
    "colab": {
     "base_uri": "https://localhost:8080/",
     "height": 924
    },
    "execution": {
     "iopub.execute_input": "2024-05-08T23:42:19.796901Z",
     "iopub.status.busy": "2024-05-08T23:42:19.796550Z",
     "iopub.status.idle": "2024-05-08T23:42:19.861419Z",
     "shell.execute_reply": "2024-05-08T23:42:19.860596Z",
     "shell.execute_reply.started": "2024-05-08T23:42:19.796873Z"
    },
    "id": "dad2a8a1-805b-48f7-a41d-93f420209657",
    "outputId": "c0c88a7c-5bc1-4aed-8766-cfe62325a71e"
   },
   "outputs": [
    {
     "data": {
      "text/markdown": [
       "**Node ID:** acb4edff-4884-4095-b1d2-1b75b9a01c76<br>**Similarity:** 0.6369511159669077<br>**Text:** (II) O CONSELHO DE CONTROLE DE ATIVIDADES FINANCEIRAS (COAF) CONCLUIR PELA EXISTÊNCIA DE QUAISQUER DOS CRIMES DE \"LAVAGEM\" OU OCULTAÇÃO DE BENS, DIREITOS E/ZVALORES, POR NOS COMETIDOS POR MIM (NÓS OU no vdgsos ADMINISTRADORES/DIRIGENTES), PREVISTOS NA LEI 9_9. No SUA PRATICA 03.03.1998, OU DE FUNDADOS INDÍCIOS DE SUA PRÁTICA, Phu OU CONDENADO SER (MOS) INDICIADO(S), DENUNCIADO(S) 4. OU “CONDENADO(S) RADORES DI JUDICIALMENTE (NÓS OU NOSSOS ADMINISTRADORES\" QU DIRIGENTES) IMES PELA PRÁTICAS DE QUAISQUER DESSES CRIMES: ANTECIPADO CLAUSULA ESPECIAL DE VENCIMENTO ANTECIPADOW- SEM PREJUIZO DE ANTE PADO OUTRAS CAUSAS DE VENCIMENTO ANTECIPADOY DA OBRIGACAO, STRUMENTO PREVISTA EM CLAUSULAS DESTE INSTRUMENTO OU DECORRENTES DE VENGIDA A 0 LEI, O BANCO PODERA CONSIDERAR NENSIDA A OPERACAO DE CREDITO IDACAO SE, NA E EXIGIR SUA IMEDIATA LIQUIDAÇÃO -SHKANA SUA VIGENCIA E SEM BANCO 1 EXPRESSA CONCORDANCIA DO BANCO: T)FOR TRANSFERIDO O CONTROLE DE NOSSO CAP DIRETO E/ OU INDIRETO PÉ NGESO, CAPITAL SOCIAL; II) HOUVER LARIDADE DE ALTERACAO DE TITULARIDADE DE NOSSO CAPITAL SOCIAL, STA DI ENVOLVENDO QUALQUER ACIONISTA, DIRETO OU INDIRETO, INCLUSIVE RE COM TRANSFERENCIAS ENTRE SI, COM VARIACAO SUPERIOR A 10% (DEZ TOT DO GAP POR CENTO) DO TGFAL DO GAPITAL SOCIAL; III) HOUVER ALTERACAO OCIAL DE QU DO CAPITAL SOCÉBEL, \"DE 'OUALQUER DE NOSSAS CONTROLADAS QUE PERDA DE RESULTE EM PERDA, be NOSSO CONTROLE SOCIETARIO, DIRETO OU SSAS EMPRESAS INDIRETO, DESSAS. ALTERACAOEMPRESAS. COMUNICAÇÃO DENALTERAÇÃO ESTATUTÁRIA E DE DIRIGENTES - ometemo Comprometemo-nos %a comunicar ao Banco do Brasil se, durante cia a vigência da presente operação de crédito, for modificado s0 es tu nosso” estatuto” (ou, se for o caso, nosso contrato social) ou subst ui for substituído qualquer um dos nossos atuais dirigentes (ou dhi Ls ado SUSPENSAOadministradores, no caso de cooperativa). SUSPENSÃOSDE LIBERAÇÃO DE CREDITO - DECLARO-ME(AMO-NOS) CIENTE(8) DE QUE ALÉM DAS SITUAÇÕES PREVISTAS NA CLÁUSULA \"VENCIMENTO EXTRAORDINÁRIO/ANTECIPADO\", DESTE INSTRUMENTO, O BANCO DO BRASIL S.A. PODERÁ SUSPENDER A LIBERAÇÃO DE VALORES QUANDO DEIXAR(MOS) DE APRESENTAR AO BANCO DO BRASIL S.A. NO PRAZO POR ESTE INDICADO, A DOCUMENTAÇÃO NECESSÁRIA PARA A RENOVAÇÃO DO MEU(NOSSO) LIMITE DE CRÉDITO, BEM COMO QUANDO FOR(MOS) NEGATIVADO(S) EM QUAISQUER ÓRGÃOS DE PROTEÇÃO AO CRÉDITO OU NO CADASTRO DE EMITENTES DE CHEQUES SEM FUNDOS (CCF), TIVER (MOS) ENCERRADA(S) MINHA/NOSSA(S) CONTA (S) CORRENTE(S) EM ESTABELECIMENTO DE CRÉDITO, EM DECORRÊNCIA DE\n",
       "\n",
       "- Continua na página 8 -—\n",
       "---\n",
       " Continuação da CEDULA DE CREDITO BANCARIO nr.<br>"
      ],
      "text/plain": [
       "<IPython.core.display.Markdown object>"
      ]
     },
     "metadata": {},
     "output_type": "display_data"
    },
    {
     "data": {
      "text/markdown": [
       "**Node ID:** 2423f2d8-e508-4163-be85-93d04ab7af47<br>**Similarity:** 0.5851084319265688<br>**Text:** 10.931, de 02.08.2004, e%não ZMhavérá necessidade de o cessionário ser financeira instituição Tinancéira ou entidade a ela equiparada. O ra cessionário ficarás sub-rogado em todos os direitos do cedente, podendô, inclusive cobrar os juros e demais go na f\n",
       "\n",
       "IMPUTAÇÃO AO PAGAMENTO - Declaro-me(amos) ciente(s) que as quantias r ceb quafitiasrecebidas para crédito serão imputadas ao pagamento das ve as dás. verbas a seguir discriminadas, obrigatoriamente na seguinte ordem: multa, juros moratórios, juros remuneratórios, outros acessórios debitados, principal vencido e principal vincendo.\n",
       "\n",
       "PREVENÇÃO E COMBATE À CORRUPÇÃO - Declaro(amos) conhecer e me (nos) comprometo (emos) a: a) respeitar o Programa de Integridade, a Política Específica de Prevenção e Combate à Lavagem de Dinheiro, ao Financiamento do Terrorismo e à Corrupção, o Código de Ética e as Normas de Conduta do BANCO DO BRASIL S.A,., especialmente as regras relacionadas a brindes, presentes, hospitalidade e evitar situações que configurem conflito de\n",
       "\n",
       "- Continua na página 9 -\n",
       "---\n",
       " Continuação da CEDULA DE CREDITO BANCARIO nr. 511.300.712, emitida nesta data por ALLIAGE S/A INDUSTRIAS MEDICO ODONTOLOGICA, em favor do Banco do Brasil S.A., no valor de R$25.000.000,00, com vencimento final em 15/08/2025.\n",
       "\n",
       "a) respeitar Lei 12.846/2013, Decreto 8.420/2015 e qualquer legislação brasileira ou estrangeira anticorrupção, não utilizando negócio realizado, nem eventual assistência creditícia concedida ou intermediada pelo BANCO DO BRASIL S.A., como meio para cometimento de qualquer ato ilícito, inclusive contra o BANCO DO BRASIL S.A.;\n",
       "\n",
       "b) comunicar imediatamente o BANCO DO BRASIL S.A. na ciência de situação que viole as normas previstas nas letras \"a\" e imen \"b\", e, concordar que em caso de seu descumprimento, e/ou minha (nossa) inclusão no Cadastro Nacional de Empresas Inidoneas Suspensas - CEIS, no Cadastro de Entidades Inidôneas e Suspensas - CEIS, no Cadastro de Entidades Privadas Sem Fins Lucrativos Impedidas CEPIM e/ou no Cadastro Nacional das Empresas Punidas CNEP, BANCO DO BRASIL S.A. poderá interromper ou considerar vencido antecipadamente o presente ou outros instrumentos de crédito relacionados a mim ou a meu Grupo Empresarial, sem necessidade de previa notificação judicial ou extrajudicial, ou dever de qualquer indenização.<br>"
      ],
      "text/plain": [
       "<IPython.core.display.Markdown object>"
      ]
     },
     "metadata": {},
     "output_type": "display_data"
    }
   ],
   "source": [
    "for n in retrievals:\n",
    "    display_source_node(n, source_length=5000)"
   ]
  },
  {
   "cell_type": "markdown",
   "id": "40dfa9d1-3a6d-4f8f-b18f-3bd7cf690516",
   "metadata": {
    "id": "40dfa9d1-3a6d-4f8f-b18f-3bd7cf690516"
   },
   "source": [
    "## Query engine"
   ]
  },
  {
   "cell_type": "markdown",
   "id": "f50c011c-d283-49e8-93a3-e2e17d3691dc",
   "metadata": {
    "id": "f50c011c-d283-49e8-93a3-e2e17d3691dc"
   },
   "source": [
    "### Base"
   ]
  },
  {
   "cell_type": "code",
   "execution_count": 43,
   "id": "c700599c-56f5-4cce-a4e3-e23ceceb3d3e",
   "metadata": {
    "execution": {
     "iopub.execute_input": "2024-05-08T23:50:12.831944Z",
     "iopub.status.busy": "2024-05-08T23:50:12.831597Z",
     "iopub.status.idle": "2024-05-08T23:50:12.891657Z",
     "shell.execute_reply": "2024-05-08T23:50:12.890807Z",
     "shell.execute_reply.started": "2024-05-08T23:50:12.831918Z"
    },
    "id": "c700599c-56f5-4cce-a4e3-e23ceceb3d3e"
   },
   "outputs": [],
   "source": [
    "from llama_index.core.query_engine.retriever_query_engine import RetrieverQueryEngine\n",
    "query_engine_base = RetrieverQueryEngine.from_args(base_retriever, verbose=True)"
   ]
  },
  {
   "cell_type": "code",
   "execution_count": 54,
   "id": "e948baea-00d8-4615-91f4-bc64046f277f",
   "metadata": {
    "execution": {
     "iopub.execute_input": "2024-05-09T02:16:49.439776Z",
     "iopub.status.busy": "2024-05-09T02:16:49.439458Z",
     "iopub.status.idle": "2024-05-09T02:16:49.501339Z",
     "shell.execute_reply": "2024-05-09T02:16:49.500626Z",
     "shell.execute_reply.started": "2024-05-09T02:16:49.439751Z"
    }
   },
   "outputs": [
    {
     "data": {
      "text/plain": [
       "13"
      ]
     },
     "execution_count": 54,
     "metadata": {},
     "output_type": "execute_result"
    }
   ],
   "source": [
    "len(duvidas)"
   ]
  },
  {
   "cell_type": "code",
   "execution_count": 88,
   "id": "77220418-daf0-4ec7-bfcf-b138eba2163a",
   "metadata": {
    "execution": {
     "iopub.execute_input": "2024-05-09T04:10:52.202733Z",
     "iopub.status.busy": "2024-05-09T04:10:52.202428Z",
     "iopub.status.idle": "2024-05-09T04:10:58.779085Z",
     "shell.execute_reply": "2024-05-09T04:10:58.778326Z",
     "shell.execute_reply.started": "2024-05-09T04:10:52.202709Z"
    }
   },
   "outputs": [
    {
     "name": "stdout",
     "output_type": "stream",
     "text": [
      "CPU times: user 309 ms, sys: 354 ms, total: 662 ms\n",
      "Wall time: 6.51 s\n"
     ]
    }
   ],
   "source": [
    "%%time\n",
    "\n",
    "from duvidas import duvidas\n",
    "\n",
    "# recursive_search = False\n",
    "recursive_search = True\n",
    "not_to_search = [\n",
    "    # DONE\n",
    "    \"Objeto\", \"Data de Assinatura\", \"Alteração de Controle/ Reorganização\", \"Cessão\", \n",
    "     # TODO LATER\n",
    "     \"Observações\"]\n",
    "\n",
    "# to_search = [\"Garantias\"]\n",
    "# to_search = [\"Cross default\"]\n",
    "# to_search = [\"Objeto\", \"Cessão\"]\n",
    "# to_search = [\"Alteração de Controle/ Reorganização\"]\n",
    "to_search = [\"Data de Assinatura\"]\n",
    "# current_type = \"Contrato de Financiamento\"\n",
    "current_type = \"Cédula de Crédito Bancário\"\n",
    "responses = {}\n",
    "\n",
    "original_stdout = sys.stdout\n",
    "with open(wd_path + '/data/query_engine_output.txt', 'w') as f:\n",
    "    # Redirect stdout to the file\n",
    "    sys.stdout = f\n",
    "    \n",
    "    for col_name, duvida_map in duvidas.items():\n",
    "        # if col_name not in not_to_search:\n",
    "        if col_name in to_search:\n",
    "            print(\"\\n\\n\\n------------- \" + col_name.upper() + \"-------------\\n\")\n",
    "            if recursive_search:\n",
    "                responses[col_name] = recursive_query_engine.query(\n",
    "                    duvidas[col_name][current_type]\n",
    "                )\n",
    "            else:\n",
    "                responses[col_name] = query_engine_base.query(\n",
    "                    duvidas[col_name][current_type]\n",
    "                )\n",
    "    # Restore the original stdout\n",
    "    sys.stdout = original_stdout\n",
    "# 17 seconds"
   ]
  },
  {
   "cell_type": "code",
   "execution_count": 89,
   "id": "1b64e59b-580e-420d-9cc1-1705bd55f4c6",
   "metadata": {
    "execution": {
     "iopub.execute_input": "2024-05-09T04:10:58.780964Z",
     "iopub.status.busy": "2024-05-09T04:10:58.780534Z",
     "iopub.status.idle": "2024-05-09T04:10:58.839698Z",
     "shell.execute_reply": "2024-05-09T04:10:58.838868Z",
     "shell.execute_reply.started": "2024-05-09T04:10:58.780938Z"
    }
   },
   "outputs": [
    {
     "name": "stdout",
     "output_type": "stream",
     "text": [
      "\n",
      "\n",
      "\n",
      "------------- DATA DE ASSINATURA-------------\n",
      "\n",
      "A data de assinatura, ou data de emissão, é 15/08/2025.\n"
     ]
    }
   ],
   "source": [
    "for col_name, response in responses.items():\n",
    "    print(\"\\n\\n\\n------------- \" + col_name.upper() + \"-------------\\n\")\n",
    "    print(response)"
   ]
  },
  {
   "cell_type": "code",
   "execution_count": 56,
   "id": "b5779356-6ff6-4126-bd76-8d093cea06f6",
   "metadata": {
    "colab": {
     "base_uri": "https://localhost:8080/"
    },
    "execution": {
     "iopub.execute_input": "2024-05-09T02:20:10.892835Z",
     "iopub.status.busy": "2024-05-09T02:20:10.892539Z",
     "iopub.status.idle": "2024-05-09T02:20:10.955546Z",
     "shell.execute_reply": "2024-05-09T02:20:10.954697Z",
     "shell.execute_reply.started": "2024-05-09T02:20:10.892813Z"
    },
    "id": "b5779356-6ff6-4126-bd76-8d093cea06f6",
    "outputId": "6fa39e1b-72bc-4c6c-8930-0b6f7e041938"
   },
   "outputs": [],
   "source": [
    "# ------------- ALTERAÇÃO DE CONTROLE/ REORGANIZAÇÃO-------------\n",
    "\n",
    "# WITH RECURSIVE: A cláusula de vencimento antecipado menciona que o Banco do Brasil S.A. poderá considerar vencidas antecipadamente as operações de crédito se houver inadimplemento ou se ocorrer a transferência do controle do capital direto e/ou indireto, bem como a substituição de acionistas que resulte em perda do controle societário.\n",
    "\n",
    "# NO RECURSIVE: A cláusula de vencimento antecipado menciona que o banco pode considerar antecipadamente vencidas as operações de crédito se houver transferência de controle direto e/ou indireto do capital, alteração na titularidade do capital social envolvendo acionistas com variação superior a 10%, ou alteração societária que resulte em perda de controle societário. Também é destacado que qualquer modificação no estatuto ou nos dirigentes deve ser comunicada ao Banco do Brasil durante a vigência da operação de crédito.\n"
   ]
  },
  {
   "cell_type": "markdown",
   "id": "70682855-a244-4264-900e-15309e90ea64",
   "metadata": {
    "id": "70682855-a244-4264-900e-15309e90ea64"
   },
   "source": [
    "### Recursive with reranking"
   ]
  },
  {
   "cell_type": "code",
   "execution_count": 71,
   "id": "fd8cfc65-620d-4ead-8528-3ebf43d59bbc",
   "metadata": {
    "colab": {
     "base_uri": "https://localhost:8080/"
    },
    "execution": {
     "iopub.execute_input": "2024-05-09T03:29:10.926521Z",
     "iopub.status.busy": "2024-05-09T03:29:10.926211Z",
     "iopub.status.idle": "2024-05-09T03:29:24.901125Z",
     "shell.execute_reply": "2024-05-09T03:29:24.898389Z",
     "shell.execute_reply.started": "2024-05-09T03:29:10.926492Z"
    },
    "id": "fd8cfc65-620d-4ead-8528-3ebf43d59bbc",
    "outputId": "bce92e21-b44d-411b-d38e-bfc79019d8a3"
   },
   "outputs": [],
   "source": [
    "from llama_index.postprocessor.flag_embedding_reranker import FlagEmbeddingReranker\n",
    "\n",
    "reranker = FlagEmbeddingReranker(\n",
    "    top_n=5,\n",
    "    model=\"BAAI/bge-reranker-large\",\n",
    ")\n",
    "\n",
    "recursive_query_engine = recursive_index.as_query_engine(\n",
    "    similarity_top_k=15,\n",
    "    node_postprocessors=[reranker],\n",
    "    verbose=True\n",
    ")"
   ]
  },
  {
   "cell_type": "code",
   "execution_count": 23,
   "id": "She0FFa1cTLF",
   "metadata": {
    "colab": {
     "base_uri": "https://localhost:8080/"
    },
    "execution": {
     "iopub.execute_input": "2024-05-08T23:39:05.608167Z",
     "iopub.status.busy": "2024-05-08T23:39:05.607852Z",
     "iopub.status.idle": "2024-05-08T23:39:05.667174Z",
     "shell.execute_reply": "2024-05-08T23:39:05.666376Z",
     "shell.execute_reply.started": "2024-05-08T23:39:05.608143Z"
    },
    "id": "She0FFa1cTLF",
    "outputId": "c26a74ff-2d25-42ca-ca90-1700bde6c666"
   },
   "outputs": [],
   "source": [
    "# !python --version\n",
    "# Python 3.10.12\n",
    "\n",
    "response = recursive_query_engine.query(\n",
    "    # duvidas[\"Data de Assinatura\"][current_type]\n",
    "    duvidas[\"Alteração de Controle/ Reorganização\"][current_type]\n",
    "    )\n",
    "# MIGHT HAVE OUT OF MEMORY ISSUES"
   ]
  },
  {
   "cell_type": "code",
   "execution_count": 22,
   "id": "e012de6b-9903-4d2b-92f5-00a19c2d6354",
   "metadata": {
    "colab": {
     "base_uri": "https://localhost:8080/"
    },
    "execution": {
     "iopub.execute_input": "2024-05-08T23:38:57.547514Z",
     "iopub.status.busy": "2024-05-08T23:38:57.546974Z",
     "iopub.status.idle": "2024-05-08T23:38:57.612965Z",
     "shell.execute_reply": "2024-05-08T23:38:57.612137Z",
     "shell.execute_reply.started": "2024-05-08T23:38:57.547482Z"
    },
    "id": "e012de6b-9903-4d2b-92f5-00a19c2d6354",
    "outputId": "27e9edb9-ac45-4695-ae1a-e641c2db06d0"
   },
   "outputs": [
    {
     "name": "stdout",
     "output_type": "stream",
     "text": [
      "Na cláusula de Alteração de Controle/Reorganização, consta que o banco poderá considerar antecipadamente vencidas as obrigações da operação de crédito se houver transferência do controle direto e/ou indireto do capital, alteração de titularidade do capital social envolvendo qualquer acionista com variação superior a 10% do capital social, ou alteração social de qualquer controlada que resulte em perda de controle societário. Além disso, a cláusula prevê a comunicação obrigatória ao Banco do Brasil em caso de modificação do estatuto ou dos dirigentes durante a vigência da operação de crédito.\n"
     ]
    }
   ],
   "source": [
    "print(response)\n",
    "# A data de assinatura da Cédula de Crédito Bancário é 18 de novembro de 2020 em Ribeirão Preto, São Paulo.\n",
    "\n",
    "# A Alteração de Controle/Reorganização mencionada na cláusula de vencimento antecipado da cédula de crédito bancário ocorre quando há a transferência do controle direto e/ou indireto do capital, alteração de titularidade do capital social com variação superior a 10%, ou mudança na estrutura societária que resulte em perda de controle societário."
   ]
  },
  {
   "cell_type": "code",
   "execution_count": null,
   "id": "eFo2GcF24AWQ",
   "metadata": {
    "id": "eFo2GcF24AWQ"
   },
   "outputs": [],
   "source": []
  }
 ],
 "metadata": {
  "colab": {
   "provenance": []
  },
  "kernelspec": {
   "display_name": "Python 3 (ipykernel)",
   "language": "python",
   "name": "python3"
  },
  "language_info": {
   "codemirror_mode": {
    "name": "ipython",
    "version": 3
   },
   "file_extension": ".py",
   "mimetype": "text/x-python",
   "name": "python",
   "nbconvert_exporter": "python",
   "pygments_lexer": "ipython3",
   "version": "3.11.3"
  }
 },
 "nbformat": 4,
 "nbformat_minor": 5
}
