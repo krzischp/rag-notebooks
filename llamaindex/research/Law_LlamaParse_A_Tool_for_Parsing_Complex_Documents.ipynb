{
 "cells": [
  {
   "cell_type": "code",
   "execution_count": null,
   "id": "f530b164-5bf1-4651-8b7d-6363c1c106e5",
   "metadata": {
    "id": "f530b164-5bf1-4651-8b7d-6363c1c106e5"
   },
   "outputs": [],
   "source": []
  },
  {
   "cell_type": "code",
   "execution_count": null,
   "id": "6dc83154-cb37-4d79-bdf9-b7c460003abc",
   "metadata": {
    "id": "6dc83154-cb37-4d79-bdf9-b7c460003abc"
   },
   "outputs": [],
   "source": []
  },
  {
   "cell_type": "code",
   "execution_count": 1,
   "id": "5b93f5e8-e75a-48cc-9634-4c921193a5bf",
   "metadata": {
    "colab": {
     "base_uri": "https://localhost:8080/"
    },
    "execution": {
     "iopub.execute_input": "2024-05-08T23:32:10.841315Z",
     "iopub.status.busy": "2024-05-08T23:32:10.841003Z",
     "iopub.status.idle": "2024-05-08T23:32:10.845076Z",
     "shell.execute_reply": "2024-05-08T23:32:10.844268Z",
     "shell.execute_reply.started": "2024-05-08T23:32:10.841290Z"
    },
    "id": "5b93f5e8-e75a-48cc-9634-4c921193a5bf",
    "outputId": "8817f49b-8d56-433d-cd67-75f05c4a38e9"
   },
   "outputs": [],
   "source": [
    "# !pip install -qU llama-index llama-parse python-dotenv"
   ]
  },
  {
   "cell_type": "code",
   "execution_count": 2,
   "id": "R02fTKMT07xh",
   "metadata": {
    "colab": {
     "base_uri": "https://localhost:8080/"
    },
    "execution": {
     "iopub.execute_input": "2024-05-08T23:32:11.061990Z",
     "iopub.status.busy": "2024-05-08T23:32:11.061693Z",
     "iopub.status.idle": "2024-05-08T23:32:11.066381Z",
     "shell.execute_reply": "2024-05-08T23:32:11.064670Z",
     "shell.execute_reply.started": "2024-05-08T23:32:11.061967Z"
    },
    "id": "R02fTKMT07xh",
    "outputId": "cefaea46-6100-43a7-dc57-e7e6fd49fbcd"
   },
   "outputs": [],
   "source": [
    "# !pip install -qU llama-index-postprocessor-flag-embedding-reranker git+https://github.com/FlagOpen/FlagEmbedding.git"
   ]
  },
  {
   "cell_type": "code",
   "execution_count": 1,
   "id": "0VrlPfKedU9D",
   "metadata": {
    "colab": {
     "base_uri": "https://localhost:8080/"
    },
    "execution": {
     "iopub.execute_input": "2024-05-11T18:11:27.513819Z",
     "iopub.status.busy": "2024-05-11T18:11:27.513558Z",
     "iopub.status.idle": "2024-05-11T18:11:27.517288Z",
     "shell.execute_reply": "2024-05-11T18:11:27.516529Z",
     "shell.execute_reply.started": "2024-05-11T18:11:27.513792Z"
    },
    "id": "0VrlPfKedU9D",
    "outputId": "58cb1de2-06b0-4cd9-b32f-99b472e30a1f"
   },
   "outputs": [],
   "source": [
    "# !pip show torch\n",
    "# Name: llama-index\n",
    "# Version: 0.10.35\n",
    "\n",
    "# Name: llama-index-postprocessor-flag-embedding-reranker\n",
    "# Version: 0.1.2"
   ]
  },
  {
   "cell_type": "markdown",
   "id": "e04d840f-1001-40ad-9cc5-edfd8e9fb5dc",
   "metadata": {
    "id": "e04d840f-1001-40ad-9cc5-edfd8e9fb5dc"
   },
   "source": [
    "Reference notebook: [LlamaParse - A Tool for Parsing Complex Documents.ipynb](https://colab.research.google.com/drive/1IVQkSGwS5kdTiKBwz85PO6vg_WaNx15c?usp=sharing#scrollTo=pLlEWwpFqFrp)"
   ]
  },
  {
   "cell_type": "code",
   "execution_count": 1,
   "id": "bdb8a285-293c-4997-8404-31b0038946b4",
   "metadata": {
    "execution": {
     "iopub.execute_input": "2024-05-11T18:13:08.631576Z",
     "iopub.status.busy": "2024-05-11T18:13:08.631358Z",
     "iopub.status.idle": "2024-05-11T18:13:08.655788Z",
     "shell.execute_reply": "2024-05-11T18:13:08.655284Z",
     "shell.execute_reply.started": "2024-05-11T18:13:08.631556Z"
    },
    "id": "bdb8a285-293c-4997-8404-31b0038946b4"
   },
   "outputs": [],
   "source": [
    "%load_ext autoreload\n",
    "%autoreload 2"
   ]
  },
  {
   "cell_type": "code",
   "execution_count": 2,
   "id": "uImn4RF10D1D",
   "metadata": {
    "colab": {
     "base_uri": "https://localhost:8080/"
    },
    "execution": {
     "iopub.execute_input": "2024-05-11T18:13:08.658357Z",
     "iopub.status.busy": "2024-05-11T18:13:08.658071Z",
     "iopub.status.idle": "2024-05-11T18:13:08.671248Z",
     "shell.execute_reply": "2024-05-11T18:13:08.670601Z",
     "shell.execute_reply.started": "2024-05-11T18:13:08.658333Z"
    },
    "id": "uImn4RF10D1D",
    "outputId": "9011bcb7-cc64-4907-da29-ee5be5cfc517"
   },
   "outputs": [],
   "source": [
    "# from google.colab import drive\n",
    "# drive.mount('/content/drive')"
   ]
  },
  {
   "cell_type": "code",
   "execution_count": 3,
   "id": "9yQMCOXW2W0F",
   "metadata": {
    "execution": {
     "iopub.execute_input": "2024-05-11T18:13:08.672215Z",
     "iopub.status.busy": "2024-05-11T18:13:08.671946Z",
     "iopub.status.idle": "2024-05-11T18:13:08.683034Z",
     "shell.execute_reply": "2024-05-11T18:13:08.682285Z",
     "shell.execute_reply.started": "2024-05-11T18:13:08.672197Z"
    },
    "id": "9yQMCOXW2W0F"
   },
   "outputs": [],
   "source": [
    "# wd_path = \"/content/drive/MyDrive/Colab Notebooks/rag-notebooks\"\n",
    "wd_path = \"..\""
   ]
  },
  {
   "cell_type": "code",
   "execution_count": 4,
   "id": "ada44d98-9335-493c-8fe3-15f03ac46783",
   "metadata": {
    "execution": {
     "iopub.execute_input": "2024-05-11T18:13:08.684501Z",
     "iopub.status.busy": "2024-05-11T18:13:08.684180Z",
     "iopub.status.idle": "2024-05-11T18:13:09.026013Z",
     "shell.execute_reply": "2024-05-11T18:13:09.025295Z",
     "shell.execute_reply.started": "2024-05-11T18:13:08.684472Z"
    },
    "id": "ada44d98-9335-493c-8fe3-15f03ac46783"
   },
   "outputs": [],
   "source": [
    "import sys\n",
    "import openai\n",
    "import os\n",
    "import getpass\n",
    "import logging\n",
    "\n",
    "from dotenv import load_dotenv, find_dotenv"
   ]
  },
  {
   "cell_type": "code",
   "execution_count": 5,
   "id": "4f923f8f-3718-4f90-a066-0b70f47635f5",
   "metadata": {
    "colab": {
     "base_uri": "https://localhost:8080/"
    },
    "execution": {
     "iopub.execute_input": "2024-05-11T18:13:09.027317Z",
     "iopub.status.busy": "2024-05-11T18:13:09.026877Z",
     "iopub.status.idle": "2024-05-11T18:13:09.038749Z",
     "shell.execute_reply": "2024-05-11T18:13:09.038202Z",
     "shell.execute_reply.started": "2024-05-11T18:13:09.027296Z"
    },
    "id": "4f923f8f-3718-4f90-a066-0b70f47635f5",
    "outputId": "0db8c902-205b-4de8-c68e-e75b8a4c477f"
   },
   "outputs": [],
   "source": [
    "# os.environ[\"LLAMA_CLOUD_API_KEY\"] = getpass.getpass(\"LLamaParse API Key:\")"
   ]
  },
  {
   "cell_type": "code",
   "execution_count": 6,
   "id": "x1Gfo0Ac1eur",
   "metadata": {
    "colab": {
     "base_uri": "https://localhost:8080/"
    },
    "execution": {
     "iopub.execute_input": "2024-05-11T18:13:09.039645Z",
     "iopub.status.busy": "2024-05-11T18:13:09.039473Z",
     "iopub.status.idle": "2024-05-11T18:13:09.053005Z",
     "shell.execute_reply": "2024-05-11T18:13:09.052146Z",
     "shell.execute_reply.started": "2024-05-11T18:13:09.039627Z"
    },
    "id": "x1Gfo0Ac1eur",
    "outputId": "47d98395-1495-4dbc-fbe0-4024919960b8"
   },
   "outputs": [],
   "source": [
    "# os.environ[\"OPENAI_API_KEY\"] = getpass.getpass(\"OpenAI API Key:\")"
   ]
  },
  {
   "cell_type": "code",
   "execution_count": 7,
   "id": "NF0wBES1cf3t",
   "metadata": {
    "colab": {
     "base_uri": "https://localhost:8080/"
    },
    "execution": {
     "iopub.execute_input": "2024-05-11T18:13:09.056707Z",
     "iopub.status.busy": "2024-05-11T18:13:09.056376Z",
     "iopub.status.idle": "2024-05-11T18:13:09.069565Z",
     "shell.execute_reply": "2024-05-11T18:13:09.068602Z",
     "shell.execute_reply.started": "2024-05-11T18:13:09.056680Z"
    },
    "id": "NF0wBES1cf3t",
    "outputId": "400111ed-fb86-45c1-8018-94f6b1689a03"
   },
   "outputs": [],
   "source": [
    "# os.environ[\"HF_TOKEN\"] = getpass.getpass(\"Hugging Face API Key:\")"
   ]
  },
  {
   "cell_type": "code",
   "execution_count": 8,
   "id": "yhK3alBB-48Z",
   "metadata": {
    "execution": {
     "iopub.execute_input": "2024-05-11T18:13:09.071455Z",
     "iopub.status.busy": "2024-05-11T18:13:09.071033Z",
     "iopub.status.idle": "2024-05-11T18:13:09.087546Z",
     "shell.execute_reply": "2024-05-11T18:13:09.086780Z",
     "shell.execute_reply.started": "2024-05-11T18:13:09.071427Z"
    },
    "id": "yhK3alBB-48Z"
   },
   "outputs": [],
   "source": [
    "import nest_asyncio\n",
    "\n",
    "nest_asyncio.apply()"
   ]
  },
  {
   "cell_type": "code",
   "execution_count": 9,
   "id": "2fbbf2e5-5ab9-4e6d-a4cf-9171f2334167",
   "metadata": {
    "execution": {
     "iopub.execute_input": "2024-05-11T18:13:09.091507Z",
     "iopub.status.busy": "2024-05-11T18:13:09.091163Z",
     "iopub.status.idle": "2024-05-11T18:13:09.106317Z",
     "shell.execute_reply": "2024-05-11T18:13:09.105543Z",
     "shell.execute_reply.started": "2024-05-11T18:13:09.091483Z"
    },
    "id": "2fbbf2e5-5ab9-4e6d-a4cf-9171f2334167"
   },
   "outputs": [],
   "source": [
    "# logging.basicConfig(stream=sys.stdout, level=logging.DEBUG)\n",
    "logging.basicConfig(stream=sys.stdout, level=logging.WARNING)\n",
    "logging.getLogger().addHandler(logging.StreamHandler(stream=sys.stdout))"
   ]
  },
  {
   "cell_type": "code",
   "execution_count": 10,
   "id": "a89606fe-1732-4df4-bf54-520ae1d72e0e",
   "metadata": {
    "execution": {
     "iopub.execute_input": "2024-05-11T18:13:09.107555Z",
     "iopub.status.busy": "2024-05-11T18:13:09.107164Z",
     "iopub.status.idle": "2024-05-11T18:13:11.517014Z",
     "shell.execute_reply": "2024-05-11T18:13:11.516246Z",
     "shell.execute_reply.started": "2024-05-11T18:13:09.107532Z"
    }
   },
   "outputs": [],
   "source": [
    "from llama_index.core.callbacks.global_handlers import set_global_handler\n",
    "\n",
    "set_global_handler(\"simple\")\n",
    "# set_global_handler(\"langfuse\")"
   ]
  },
  {
   "cell_type": "code",
   "execution_count": 11,
   "id": "7e4a2f96-760f-43f4-bdef-442d195cf877",
   "metadata": {
    "execution": {
     "iopub.execute_input": "2024-05-11T18:13:11.518703Z",
     "iopub.status.busy": "2024-05-11T18:13:11.518127Z",
     "iopub.status.idle": "2024-05-11T18:13:11.546762Z",
     "shell.execute_reply": "2024-05-11T18:13:11.545844Z",
     "shell.execute_reply.started": "2024-05-11T18:13:11.518669Z"
    },
    "id": "7e4a2f96-760f-43f4-bdef-442d195cf877"
   },
   "outputs": [],
   "source": [
    "# import llama_parse\n",
    "# import llama_index\n",
    "# import os\n",
    "\n",
    "# llama_parse_path = os.path.dirname(llama_parse.__file__)\n",
    "# llama_index_path = os.path.dirname(llama_index.__file__)\n",
    "\n",
    "# print(llama_parse_path)\n",
    "# print(llama_index_path)"
   ]
  },
  {
   "cell_type": "markdown",
   "id": "24eb6d43-b829-4043-bdda-149592dead7e",
   "metadata": {},
   "source": [
    "# Helpers"
   ]
  },
  {
   "cell_type": "code",
   "execution_count": 38,
   "id": "65958267-1d22-4131-b581-af29f06dc829",
   "metadata": {
    "execution": {
     "iopub.execute_input": "2024-05-11T18:31:25.826707Z",
     "iopub.status.busy": "2024-05-11T18:31:25.826414Z",
     "iopub.status.idle": "2024-05-11T18:31:25.870115Z",
     "shell.execute_reply": "2024-05-11T18:31:25.869229Z",
     "shell.execute_reply.started": "2024-05-11T18:31:25.826684Z"
    }
   },
   "outputs": [],
   "source": [
    "from llama_index.core.extractors import (\n",
    "    SummaryExtractor,\n",
    "    QuestionsAnsweredExtractor,\n",
    "    TitleExtractor,\n",
    "    KeywordExtractor,\n",
    "    BaseExtractor,\n",
    ")\n",
    "from llama_index.core.node_parser.text.sentence import SentenceSplitter\n",
    "# assume documents are defined -> extract nodes\n",
    "from llama_index.core.ingestion import IngestionPipeline"
   ]
  },
  {
   "cell_type": "code",
   "execution_count": 56,
   "id": "36c1c5e4-07f1-4398-a85e-41c492276d11",
   "metadata": {
    "execution": {
     "iopub.execute_input": "2024-05-12T14:13:03.033099Z",
     "iopub.status.busy": "2024-05-12T14:13:03.032766Z",
     "iopub.status.idle": "2024-05-12T14:13:03.075943Z",
     "shell.execute_reply": "2024-05-12T14:13:03.074980Z",
     "shell.execute_reply.started": "2024-05-12T14:13:03.033073Z"
    }
   },
   "outputs": [],
   "source": [
    "PT_QUESTION_GEN_TMPL = \"\"\"\\\n",
    "Aqui está o contexto:\n",
    "{context_str}\n",
    "\n",
    "Dada a informação contextual, gere {num_questions} perguntas que este contexto pode fornecer respostas específicas \\\n",
    "que dificilmente seriam encontradas em outro lugar.\n",
    "\n",
    "Resumos de nível mais alto do contexto circundante também podem ser fornecidos. Tente usar esses resumos para gerar melhores \\\n",
    "perguntas que este contexto possa responder.\n",
    "\n",
    "\"\"\"\n",
    "\n",
    "PT_SUMMARY_EXTRACT_TEMPLATE = \"\"\"\\\n",
    "Aqui está o conteúdo da seção:\n",
    "{context_str}\n",
    "\n",
    "Resuma os principais tópicos e entidades da seção. \\\n",
    "\n",
    "Resumo:\"\"\""
   ]
  },
  {
   "cell_type": "code",
   "execution_count": 57,
   "id": "e3312dcc-8e59-4443-8d33-2c7fabe70dee",
   "metadata": {
    "execution": {
     "iopub.execute_input": "2024-05-12T14:13:03.618321Z",
     "iopub.status.busy": "2024-05-12T14:13:03.617979Z",
     "iopub.status.idle": "2024-05-12T14:13:03.656077Z",
     "shell.execute_reply": "2024-05-12T14:13:03.655230Z",
     "shell.execute_reply.started": "2024-05-12T14:13:03.618301Z"
    }
   },
   "outputs": [],
   "source": [
    "\n",
    "def get_metadata_node_parser_pipeline():\n",
    "    qa_extractor = QuestionsAnsweredExtractor(questions=3)\n",
    "    \n",
    "    extractors = [\n",
    "        # TitleExtractor(nodes=5),\n",
    "        QuestionsAnsweredExtractor(questions=3, prompt_template=PT_QUESTION_GEN_TMPL),\n",
    "        SummaryExtractor(summaries=[\"prev\", \"self\"], prompt_template=PT_SUMMARY_EXTRACT_TEMPLATE),\n",
    "        # KeywordExtractor(keywords=10),\n",
    "        # CustomExtractor()\n",
    "    ]\n",
    "    \n",
    "    NODE_PARSER_CHUNK_SIZE = 512\n",
    "    NODE_PARSER_CHUNK_OVERLAP = 10\n",
    "    \n",
    "    \n",
    "    sentence_splitter = SentenceSplitter.from_defaults(\n",
    "        chunk_size=NODE_PARSER_CHUNK_SIZE,\n",
    "        chunk_overlap=NODE_PARSER_CHUNK_OVERLAP\n",
    "    )\n",
    "    \n",
    "    transformations = [sentence_splitter] + extractors\n",
    "    \n",
    "    pipeline = IngestionPipeline(\n",
    "        transformations=transformations\n",
    "    )\n",
    "    return pipeline\n",
    "\n",
    "def print_node_parsing_result(node, metadata_mode, only_metadata):\n",
    "    print(\"\\n\\n----------------------- \" + node.id_ + \" -----------------------\")\n",
    "    if only_metadata:\n",
    "        print(node.get_metadata_str(mode=metadata_mode))\n",
    "    else:\n",
    "        print(node.get_content(metadata_mode=metadata_mode))\n",
    "\n",
    "def print_nodes_parsing_result(nodes, metadata_mode=\"all\", only_metadata=False, ids_list=None):\n",
    "    print(\"length: \", len(nodes))\n",
    "    for node in nodes:\n",
    "        if ids_list is not None:\n",
    "            if node.id_ in ids_list:\n",
    "                print_node_parsing_result(node, metadata_mode, only_metadata)\n",
    "        else:\n",
    "            print_node_parsing_result(node, metadata_mode, only_metadata)"
   ]
  },
  {
   "cell_type": "markdown",
   "id": "186a7d92-c3ea-4622-a86a-8635bf3f01fd",
   "metadata": {
    "id": "186a7d92-c3ea-4622-a86a-8635bf3f01fd"
   },
   "source": [
    "# Law questions"
   ]
  },
  {
   "cell_type": "code",
   "execution_count": 58,
   "id": "88f78b06-a355-4959-baaa-2308c9155c3e",
   "metadata": {
    "colab": {
     "base_uri": "https://localhost:8080/"
    },
    "execution": {
     "iopub.execute_input": "2024-05-12T14:13:10.502232Z",
     "iopub.status.busy": "2024-05-12T14:13:10.501748Z",
     "iopub.status.idle": "2024-05-12T14:13:10.546345Z",
     "shell.execute_reply": "2024-05-12T14:13:10.545350Z",
     "shell.execute_reply.started": "2024-05-12T14:13:10.502209Z"
    },
    "id": "88f78b06-a355-4959-baaa-2308c9155c3e",
    "outputId": "10d33a6f-2693-49af-a08c-4fec89961ed0"
   },
   "outputs": [
    {
     "name": "stdout",
     "output_type": "stream",
     "text": [
      "{'Contrato de Financiamento': 'Quem é o Devedor? (BENEFICIÁRIA / DEVEDOR)', 'Cédula de Crédito Bancário': 'Quem é o  Devedor? (Emitente)'}\n",
      "{'Contrato de Financiamento': 'Quem é o Credor? (BNDES / FINEP)', 'Cédula de Crédito Bancário': 'Quem é o  Credor? (Credor ou Nome do banco)'}\n",
      "{'Contrato de Financiamento': 'Qual é a data de assinatura? (Costuma estar no final do documento, após a frase `E, por estarem justos e contratados, firmam o presente em 3 (três) vias...`)', 'Cédula de Crédito Bancário': 'Qual é a data de assinatura? (Data de emissão)'}\n",
      "{'Contrato de Financiamento': \"Qual é o Vencimento/Prazo? ('liquidar com a última prestação')\", 'Cédula de Crédito Bancário': 'Qual é o Vencimento/Prazo? (ou Forma de pagamento, assim costuma aparecer o numero de parcelas)'}\n",
      "{'Contrato de Financiamento': 'Qual é o Valor (crédito no valor de [...])', 'Cédula de Crédito Bancário': 'Qual é o Valor? (valor do empréstimo)'}\n",
      "{'Contrato de Financiamento': 'Qual é a FINALIDADE DO CONTRATO?', 'Cédula de Crédito Bancário': 'Qual é a Destinação do Crédito? (O que será creditado na conta corrente da Emitente?)'}\n",
      "{'Contrato de Financiamento': \"O que consta na clausula de Alteração de Controle/ Reorganização? (palavras chaves: 'controle direto e indireto'/ 'Vencimento Antecipado do contrato')\", 'Cédula de Crédito Bancário': \"O que consta na clausula de Alteração de Controle/ Reorganização? (palavras chaves: 'vencimento antecipado', 'inadimplemento' ou 'antecipadamente vencidas' / 'transferido o controle do capital' e/ou 'substituído')\"}\n",
      "{'Contrato de Financiamento': \"O que consta na clausula de cessão? (palavras chaves: 'ceder' / 'transferir')\", 'Cédula de Crédito Bancário': \"O que consta na clausula de cessão? (palavras chaves: 'ceder', 'transferir', ou 'onerar a qualquer título...')\"}\n"
     ]
    }
   ],
   "source": [
    "duvidas = {\n",
    "    \"Devedor\": {\n",
    "        \"Contrato de Financiamento\": \"Quem é o Devedor? (BENEFICIÁRIA / DEVEDOR)\",\n",
    "        \"Cédula de Crédito Bancário\": \"Quem é o  Devedor? (Emitente)\"\n",
    "    },\n",
    "    \"Credor\": {\n",
    "        \"Contrato de Financiamento\": \"Quem é o Credor? (BNDES / FINEP)\",\n",
    "        \"Cédula de Crédito Bancário\": \"Quem é o  Credor? (Credor ou Nome do banco)\"\n",
    "    },\n",
    "    \"Data de Assinatura\": {\n",
    "        \"Contrato de Financiamento\": \"Qual é a data de assinatura? (Costuma estar no final do documento, após a frase `E, por estarem justos e contratados, firmam o presente em 3 (três) vias...`)\",\n",
    "        \"Cédula de Crédito Bancário\": \"Qual é a data de assinatura? (Data de emissão)\"\n",
    "    },\n",
    "    \"Vencimento/Prazo\": {\n",
    "        \"Contrato de Financiamento\": \"Qual é o Vencimento/Prazo? ('liquidar com a última prestação')\",\n",
    "        \"Cédula de Crédito Bancário\": \"Qual é o Vencimento/Prazo? (ou Forma de pagamento, assim costuma aparecer o numero de parcelas)\"\n",
    "    },\n",
    "    \"Valor\": {\n",
    "        \"Contrato de Financiamento\": \"Qual é o Valor (crédito no valor de [...])\",\n",
    "        \"Cédula de Crédito Bancário\": \"Qual é o Valor? (valor do empréstimo)\"\n",
    "    },\n",
    "    \"Objeto\": {\n",
    "        \"Contrato de Financiamento\": \"Qual é a FINALIDADE DO CONTRATO?\",\n",
    "        \"Cédula de Crédito Bancário\": \"Qual é a Destinação do Crédito? (O que será creditado na conta corrente da Emitente?)\"\n",
    "    },\n",
    "    \"Alteração de Controle/ Reorganização\": {\"Contrato de Financiamento\": \"O que consta na clausula de Alteração de Controle/ Reorganização? (palavras chaves: 'controle direto e indireto'/ 'Vencimento Antecipado do contrato')\",\n",
    "                         \"Cédula de Crédito Bancário\": \"O que consta na clausula de Alteração de Controle/ Reorganização? (palavras chaves: 'vencimento antecipado', 'inadimplemento' ou 'antecipadamente vencidas' / 'transferido o controle do capital' e/ou 'substituído')\"\n",
    "    },\n",
    "    \"Cessão\": {\"Contrato de Financiamento\": \"O que consta na clausula de cessão? (palavras chaves: 'ceder' / 'transferir')\",\n",
    "               \"Cédula de Crédito Bancário\": \"O que consta na clausula de cessão? (palavras chaves: 'ceder', 'transferir', ou 'onerar a qualquer título...')\"\n",
    "    }\n",
    "}\n",
    "\n",
    "current_type = \"Cédula de Crédito Bancário\"\n",
    "for search, question in duvidas.items():\n",
    "    print(question)"
   ]
  },
  {
   "cell_type": "code",
   "execution_count": 59,
   "id": "f0b36747-1c75-4c8b-9d4c-8ea0b1a57457",
   "metadata": {
    "execution": {
     "iopub.execute_input": "2024-05-12T14:13:10.690517Z",
     "iopub.status.busy": "2024-05-12T14:13:10.690118Z",
     "iopub.status.idle": "2024-05-12T14:13:10.728637Z",
     "shell.execute_reply": "2024-05-12T14:13:10.727290Z",
     "shell.execute_reply.started": "2024-05-12T14:13:10.690494Z"
    },
    "id": "f0b36747-1c75-4c8b-9d4c-8ea0b1a57457"
   },
   "outputs": [],
   "source": [
    "pdf_file_path = wd_path + \"/data/1.2.5.17.10.1.1 CCB 511300712 - BB.pdf\""
   ]
  },
  {
   "cell_type": "markdown",
   "id": "15db3a63-8bb5-4c24-ad46-0c6de514c54d",
   "metadata": {
    "id": "15db3a63-8bb5-4c24-ad46-0c6de514c54d"
   },
   "source": [
    "# Load and Parse PDFs"
   ]
  },
  {
   "cell_type": "code",
   "execution_count": 60,
   "id": "ae99f9e6-599d-4ecf-a89f-7c0cd83122bc",
   "metadata": {
    "execution": {
     "iopub.execute_input": "2024-05-12T14:13:11.063536Z",
     "iopub.status.busy": "2024-05-12T14:13:11.063178Z",
     "iopub.status.idle": "2024-05-12T14:13:11.105036Z",
     "shell.execute_reply": "2024-05-12T14:13:11.104115Z",
     "shell.execute_reply.started": "2024-05-12T14:13:11.063507Z"
    },
    "id": "ae99f9e6-599d-4ecf-a89f-7c0cd83122bc"
   },
   "outputs": [],
   "source": [
    "from llama_parse import LlamaParse  # pip install llama-parse\n",
    "\n",
    "# parser = LlamaParse(\n",
    "#     # api_key=\"...\",  # can also be set in your env as LLAMA_CLOUD_API_KEY\n",
    "#     result_type=\"markdown\"  # \"markdown\" and \"text\" are available\n",
    "# )\n",
    "\n",
    "parser = LlamaParse(\n",
    "    result_type=\"markdown\",\n",
    "    verbose=True,\n",
    "    language=\"pt\",\n",
    "    num_workers=2,\n",
    ")\n",
    "\n",
    "# sync\n",
    "# documents = parser.load_data(\"./my_file.pdf\")\n",
    "\n",
    "# async\n",
    "# docs0 = await parser.aload_data(\"../data/1.2.5.17.10.1.1 CCB 511300712 - BB.pdf\")"
   ]
  },
  {
   "cell_type": "markdown",
   "id": "7eea26ea-688e-457f-be3b-c67e916c6192",
   "metadata": {
    "id": "7eea26ea-688e-457f-be3b-c67e916c6192"
   },
   "source": [
    "# LlamaIndex Recursive Query Engine"
   ]
  },
  {
   "cell_type": "markdown",
   "id": "9ec405ce-b79a-4c5d-b038-1dd39265df74",
   "metadata": {},
   "source": [
    "## Extract documents"
   ]
  },
  {
   "cell_type": "code",
   "execution_count": 61,
   "id": "320a48de-9835-477f-bc76-8651fda9db5a",
   "metadata": {
    "execution": {
     "iopub.execute_input": "2024-05-12T14:13:16.581273Z",
     "iopub.status.busy": "2024-05-12T14:13:16.580911Z",
     "iopub.status.idle": "2024-05-12T14:13:16.652335Z",
     "shell.execute_reply": "2024-05-12T14:13:16.651522Z",
     "shell.execute_reply.started": "2024-05-12T14:13:16.581247Z"
    },
    "id": "320a48de-9835-477f-bc76-8651fda9db5a"
   },
   "outputs": [],
   "source": [
    "from llama_index.core.settings import Settings\n",
    "from llama_index.llms.openai import OpenAI\n",
    "from llama_index.embeddings.openai import OpenAIEmbedding\n",
    "from llama_index.core.node_parser import MarkdownElementNodeParser\n",
    "from llama_index.core import VectorStoreIndex\n",
    "from llama_index.core.storage.storage_context import StorageContext\n",
    "from llama_index.core.indices.loading import load_index_from_storage\n",
    "from llama_index.core.response.notebook_utils import display_source_node\n",
    "from llama_index.core.callbacks import CallbackManager, LlamaDebugHandler\n",
    "\n",
    "Settings.llm = OpenAI(model=\"gpt-3.5-turbo\")\n",
    "Settings.embed_model = OpenAIEmbedding(model=\"text-embedding-3-small\")\n",
    "\n",
    "llama_debug = LlamaDebugHandler(print_trace_on_end=True)\n",
    "Settings.callback_manager = CallbackManager([llama_debug])"
   ]
  },
  {
   "cell_type": "code",
   "execution_count": 62,
   "id": "510aacbf-3b7f-44f2-9d5c-47b57853e142",
   "metadata": {
    "execution": {
     "iopub.execute_input": "2024-05-12T14:13:18.034906Z",
     "iopub.status.busy": "2024-05-12T14:13:18.034646Z",
     "iopub.status.idle": "2024-05-12T14:13:18.067744Z",
     "shell.execute_reply": "2024-05-12T14:13:18.067097Z",
     "shell.execute_reply.started": "2024-05-12T14:13:18.034887Z"
    }
   },
   "outputs": [],
   "source": [
    "# \"DISPOSIÇÕES APLICÁVEIS AOS CONTRATOS DO BNDES\".lower()"
   ]
  },
  {
   "cell_type": "code",
   "execution_count": 63,
   "id": "33ae4093-9d88-404d-895d-8991f196aaa5",
   "metadata": {
    "colab": {
     "base_uri": "https://localhost:8080/"
    },
    "execution": {
     "iopub.execute_input": "2024-05-12T14:13:18.739044Z",
     "iopub.status.busy": "2024-05-12T14:13:18.738749Z",
     "iopub.status.idle": "2024-05-12T14:13:18.780781Z",
     "shell.execute_reply": "2024-05-12T14:13:18.779822Z",
     "shell.execute_reply.started": "2024-05-12T14:13:18.739019Z"
    },
    "id": "33ae4093-9d88-404d-895d-8991f196aaa5",
    "outputId": "8444479d-4192-4bb9-d73a-094eef157172"
   },
   "outputs": [
    {
     "data": {
      "text/plain": [
       "True"
      ]
     },
     "execution_count": 63,
     "metadata": {},
     "output_type": "execute_result"
    }
   ],
   "source": [
    "PERSIST_DIR = wd_path + \"/data/storage\"\n",
    "\n",
    "os.path.exists(PERSIST_DIR)"
   ]
  },
  {
   "cell_type": "code",
   "execution_count": 64,
   "id": "22dbbbfa-4c69-4ad0-ad9f-04165de8fb6d",
   "metadata": {
    "execution": {
     "iopub.execute_input": "2024-05-12T14:13:27.730513Z",
     "iopub.status.busy": "2024-05-12T14:13:27.730222Z",
     "iopub.status.idle": "2024-05-12T14:14:26.401767Z",
     "shell.execute_reply": "2024-05-12T14:14:26.400890Z",
     "shell.execute_reply.started": "2024-05-12T14:13:27.730491Z"
    },
    "id": "22dbbbfa-4c69-4ad0-ad9f-04165de8fb6d"
   },
   "outputs": [
    {
     "name": "stdout",
     "output_type": "stream",
     "text": [
      "Started parsing the file under job_id e208f21b-c8a8-471c-8778-d8539edf53e3\n"
     ]
    },
    {
     "data": {
      "application/vnd.jupyter.widget-view+json": {
       "model_id": "4999500459b24d9b809517c06cf84870",
       "version_major": 2,
       "version_minor": 0
      },
      "text/plain": [
       "Parsing nodes:   0%|          | 0/1 [00:00<?, ?it/s]"
      ]
     },
     "metadata": {},
     "output_type": "display_data"
    },
    {
     "name": "stderr",
     "output_type": "stream",
     "text": [
      "  0%|                                                                                                                                                                                                                                | 0/28 [00:00<?, ?it/s]"
     ]
    },
    {
     "name": "stdout",
     "output_type": "stream",
     "text": [
      "** Messages: **\n",
      "user: Aqui está o contexto:\n",
      "16 do Decreto nº 6.514, de 22.07.2008, ou outra norma legal que venha substituí-lo, OBRIGANDO-ME(NOS) a informar ao Banco do Brasil S.A., impreterivelmente até a data da liberação de qualquer crédito por mim pleiteado, eventuais fatos ou\n",
      "\n",
      "- Continua na página 10 -\n",
      "---\n",
      "# Continuação da CEDULA DE CREDITO BANCARIO nr. 511.300.712, - Página 10 -\n",
      "\n",
      "emitida nesta data por ALLIAGE S/A INDUSTRIAS MEDICO ODONTOLOGICA, em favor do Banco do Brasil S.A., no valor de R$25.000.000,00, com vencimento final em 15/08/2025.\n",
      "\n",
      "circunstâncias que possam ensejar o enquadramento nas disposições legais aqui mencionadas.\n",
      "\n",
      "SISTEMA DE INFORMAÇÕES DE CRÉDITO DO BANCO CENTRAL - SCR -\n",
      "\n",
      "Declaro-me (amo-nos) cienteí(s) que fui (fomos) comunicado(s) que:\n",
      "\n",
      "1. os débitos e responsabilidades decorrentes de operações com características de crédito por mim(ínós) realizadas serão registrados no Sistema de Informações de Crédito do Banco Central - SCR;\n",
      "2. o SCR tem por finalidades fornecer informações ao Bacen para fins de supervisão do risco de crédito af*que estão expostas as instituições financeiras e propiciar o intercâmbio de informações entre essas instithições \"com o objetivo de subsidiar decisões de créditoçe de negócios; de negocios dados constan\n",
      "3. poderei (emos) ter acesso aos dado: Tonestahtes em meio Ce meu (nosso/nossos) nome (s) no SCR por, maAIiG da Central de Atendimento ao Público do Bacen (CAP); \"é WS 8 , exc\n",
      "4.\n",
      "\n",
      "Dada a informação contextual, gere 3 perguntas que este contexto pode fornecer respostas específicas que dificilmente seriam encontradas em outro lugar.\n",
      "\n",
      "Resumos de nível mais alto do contexto circundante também podem ser fornecidos. Tente usar esses resumos para gerar melhores perguntas que este contexto possa responder.\n",
      "\n",
      "\n",
      "**************************************************\n",
      "** Response: **\n",
      "assistant: 1. Quais são as obrigações legais que o Decreto nº 6.514 impõe ao informar ao Banco do Brasil S.A. antes da liberação de qualquer crédito pleiteado?\n",
      "2. Qual é o valor e a data de vencimento da Cédula de Crédito Bancário emitida pela ALLIAGE S/A INDUSTRIAS MEDICO ODONTOLOGICA em favor do Banco do Brasil S.A.?\n",
      "3. Como o Sistema de Informações de Crédito do Banco Central (SCR) funciona e quais são as finalidades do registro de débitos e responsabilidades decorrentes de operações de crédito?\n",
      "**************************************************\n",
      "\n",
      "\n"
     ]
    },
    {
     "name": "stderr",
     "output_type": "stream",
     "text": [
      "  4%|███████▋                                                                                                                                                                                                                | 1/28 [00:03<01:28,  3.29s/it]"
     ]
    },
    {
     "name": "stdout",
     "output_type": "stream",
     "text": [
      "** Messages: **\n",
      "user: Aqui está o contexto:\n",
      "REQUERER(MOS) RECUPERAÇÃO EXTRAJUDICIAL, JUDICIAL OU FALÊNCIA OU TIVER(MOS) FALÊNCIA OU INSOLVÊNCIA CIVIL REQUERIDA OU POR QUALQUER MOTIVO ENCERRAR(MÓS) NOSSAS ATIVIDADES E/OU DER(MOS) CAUSA AO ENCERRAMENTO DE MINHA (NOSSA) CONTA CORRENTE DE DEPÓSITOS, POR FARGASDE NORMAS LEGAIS OU REGULAMENTARES EDITADAS PELO CONSENHO WIOBETÁRIO NACIONAL E/OU PELO BANCO CENTRAL DO BRASIL;| |\n",
      "|C) SOFRER(MOS) PROTESTO CAMBIÁRIO;| |\n",
      "|D) SOFRER(MOS) AÇÃO JUDICIAL OU SPRTOÁNAS OU COMPR CAPAZ DE COLOCAR EM RISCO AS GARANTIAS CONSTKTUITBAS €4UCUMPRIMENTO DAS OBRIGAÇÕES AQUI ASSUMIDAS;| |\n",
      "|E) SE NÃO MANTIVER(MOS) EM DIA o E iEGURO(S) DO(S) BEM(NS) DADO(S) EM GARANTIA E/OU SEZ FRS” GARANTIAS, SEJA(M) ELA(S) PRESTADA(S) POR MIM(NÓS) OU POR TERCEIRO(S) GARANTIDOR(ES), FOREM DESVIADAS NO TODO OUZÉM' PARTEJOU NÃO FOREM EFETIVADAS OU FORMALIZADAS, OU SE TAIS GABANTIAS SE TORNAREM IMPRÓPRIAS OU INSUFICIENTES PARK ASSEGURAR AS OBRIGAÇÕES DESTE INSTRUMENTO E NÃO FOREM SURSTETUÍDAS OU REFORÇADAS NO PRAZO DE 10 (DEZ) DIAS DA-COMUNICAÇÃO QUE O BANCO DO BRASIL S.A.\n",
      "\n",
      "Dada a informação contextual, gere 3 perguntas que este contexto pode fornecer respostas específicas que dificilmente seriam encontradas em outro lugar.\n",
      "\n",
      "Resumos de nível mais alto do contexto circundante também podem ser fornecidos. Tente usar esses resumos para gerar melhores perguntas que este contexto possa responder.\n",
      "\n",
      "\n",
      "**************************************************\n",
      "** Response: **\n",
      "assistant: 1. Quais são as condições em que uma empresa pode requerer recuperação extrajudicial, judicial ou falência de acordo com as normas legais e regulamentares do Conselho Monetário Nacional e do Banco Central do Brasil?\n",
      "\n",
      "2. Como a falta de manutenção em dia e seguro dos bens dados em garantia pode afetar as obrigações assumidas neste instrumento e quais são as consequências caso as garantias se tornem impróprias ou insuficientes?\n",
      "\n",
      "3. Quais são as ações judiciais ou protestos cambiais que podem colocar em risco as garantias constitucionais e o cumprimento das obrigações assumidas neste instrumento?\n",
      "**************************************************\n",
      "\n",
      "\n",
      "** Messages: **\n",
      "user: Aqui está o contexto:\n",
      "nos estritos termos desta CEDULA DE CREDITO BANCARIO, por meio de planilhas de cálculos elaboradas para fins de cobrança judicial ou extrajudicial, que integrarão o presente Instrumento para todos os fins de direito, das quais constarão os lançamentos a débito ou a crédito efetuados em minha(nossa) conta corrente de depósitos, os montantes utilizados, as eventuais amortizações da dívida, os encargos financeiros e os encargos de inadimplemento, multas e demais obrigações, incidentes sobre o crédito.\n",
      "\n",
      "- Continua na página 5 -\n",
      "---\n",
      "1.2.5.17.10.1.1 CCB 511300712 - BB.pdf - Page 5\n",
      "\n",
      "Continuação da CEDULA DE CREDITO BANCARIO nr. 511.300.712, emitida nesta data por ALLIAGE S/A INDUSTRIAS MEDICO ODONTOLOGICA, em favor do Banco do Brasil S.A., no valor de R$25.000.000,00, com vencimento final em 15/08/2025.\n",
      "AUTORIZAÇÃO PARA DÉBITO EM CONTA - Autorizo(amos) o BANCO DO BRASIL S.A. a utilizar o saldo de qualquer espécie de conta que mantenho(amos) junto a qualquer agência do BANCO DO BRASIL S.A., para liquidação ou amortização da dívida resultante desta CEDULA DE CREDITO BANCARIO, inclusive para pagamento de tarifas, tributos, encargos, despesas com registro cartorário, ou qualquer despesa decorrente desta operação.\n",
      "DESPESAS CARTORÁRIAS - Declaro-me(amo-nos) ciente(s) e concorde(s) de que o BANCO DO BRASIL S.A., à seu critério exclusivo e a qualquer tempo, poderá levar a registro no(s) cartório(s) competente(s) este instrumento e seus garantia(s) nele(s) eventual(is) aditivo(s), inclusive a(s) garantia(s) nele(s) por mim(nos) ou por terceiro(s).\n",
      "\n",
      "Dada a informação contextual, gere 3 perguntas que este contexto pode fornecer respostas específicas que dificilmente seriam encontradas em outro lugar.\n",
      "\n",
      "Resumos de nível mais alto do contexto circundante também podem ser fornecidos. Tente usar esses resumos para gerar melhores perguntas que este contexto possa responder.\n",
      "\n",
      "\n",
      "**************************************************\n",
      "** Response: **\n",
      "assistant: 1. Quais são os encargos financeiros e de inadimplemento que podem incidir sobre o crédito mencionado na Cédula de Crédito Bancário?\n",
      "2. Em que data está previsto o vencimento final da Cédula de Crédito Bancário emitida pela ALLIAGE S/A INDUSTRIAS MEDICO ODONTOLOGICA em favor do Banco do Brasil S.A.?\n",
      "3. Quais são as autorizações concedidas pelo emitente da Cédula de Crédito Bancário ao Banco do Brasil S.A. em relação ao débito em conta e às despesas cartorárias?\n",
      "\n",
      "Resumo de nível mais alto: O contexto apresenta detalhes sobre uma Cédula de Crédito Bancário emitida pela ALLIAGE S/A INDUSTRIAS MEDICO ODONTOLOGICA em favor do Banco do Brasil S.A., incluindo informações sobre encargos, vencimento, autorizações para débito em conta e despesas cartorárias.\n",
      "**************************************************\n",
      "\n",
      "\n"
     ]
    },
    {
     "name": "stderr",
     "output_type": "stream",
     "text": [
      " 11%|███████████████████████▏                                                                                                                                                                                                | 3/28 [00:03<00:27,  1.09s/it]"
     ]
    },
    {
     "name": "stdout",
     "output_type": "stream",
     "text": [
      "** Messages: **\n",
      "user: Aqui está o contexto:\n",
      "A. E(NOS) FIZER;| |\n",
      "|F) DIRETAMENTE Ox ATRAVÉS DE PREPOSTOS OU MANDATÁRIOS, PRESTAR(MOS) AONBANCÇONDO\" BRASIL S.A. INFORMAÇÕES INCOMPLETAS OU ALTERADAS,” INCRUSTVE ATRAVÉS DE DOCUMENTO PÚBLICO OU PARTICULAR DE QUALQUER NATUREZA E/OU DEIXAR(MOS) DE PRESTAR INFORMAÇÕES QUE,%SE DO CONHECIMENTO DO BANCO DO BRASIL S.A. PODERIAM ALTERAR SEUS JULGAMENTOS E/OU AVALIAÇÕES;| |\n",
      "|G) NÃO, CONCLUIR(MOS) O REGISTRO DESTE INSTRUMENTO E DE SEUS) SN. EVENTUAL(IS) ADITIVO(S), INCLUSIVE QUANTO À(S) GARANTIA(S) NELE(S) PACTUADA(S), EM DECORRÊNCIA DE QUAISQUER IRREGULARIDADES E/OU PENDÊNCIAS DE RESPONSABILIDADE MINHA (NOSSA) E/OU DO(S) TERCEIRO(S) GARANTIDOR(ES), NO PRAZO DE 10 (DEZ) DIAS ÚTEIS, CONTADOS DA DATA DE ASSINATURA DO TÍTULO (PODENDO O BANCO DO BRASIL PRORROGAR O PRAZO PARA SOLUÇÃO DE EVENTUAL PENDÊNCIA);| |\n",
      "\n",
      "PARÁGRAFO ÚNICO - DECLARO-ME (AMO-NOS) CIENTE(S) DE QUE O BANCO, TAMBÉM, PODERÁ CONSIDERAR VENCIDO ANTECIPADAMENTE O PRESENTE INSTRUMENTO E IMEDIATA SUSTAÇÃO DE QUALQUER DESEMBOLSO, NA HIPÓTESE DE:\n",
      "\n",
      "(1) HOUVER DECISÃO ADMINISTRATIVA FINAL SANCIONADORA, EXARADA POR ÓRGÃO COMPETENTE, E/OU SENTENÇA TRANSITADA EM\n",
      "\n",
      "- Continua na página 7 -\n",
      "---\n",
      "# Continuação da CEDULA DE CREDITO BANCARIO nr.\n",
      "\n",
      "Dada a informação contextual, gere 3 perguntas que este contexto pode fornecer respostas específicas que dificilmente seriam encontradas em outro lugar.\n",
      "\n",
      "Resumos de nível mais alto do contexto circundante também podem ser fornecidos. Tente usar esses resumos para gerar melhores perguntas que este contexto possa responder.\n",
      "\n",
      "\n",
      "**************************************************\n",
      "** Response: **\n",
      "assistant: 1. Quais são as possíveis consequências para o devedor caso não forneça informações completas ou alteradas ao Banco do Brasil S.A.?\n",
      "2. Qual é o prazo estabelecido para concluir o registro do instrumento e eventuais aditivos, e quais são as condições que podem levar à suspensão desse registro?\n",
      "3. Sob quais circunstâncias o Banco do Brasil S.A. pode considerar antecipadamente vencido o presente instrumento e suspender qualquer desembolso?\n",
      "\n",
      "Resumo de nível mais alto:\n",
      "O contexto apresenta cláusulas e condições de um contrato de crédito bancário entre o devedor e o Banco do Brasil S.A., incluindo a obrigação de fornecer informações completas e corretas, prazos para registro do instrumento e possíveis consequências em caso de descumprimento das condições estabelecidas.\n",
      "**************************************************\n",
      "\n",
      "\n"
     ]
    },
    {
     "name": "stderr",
     "output_type": "stream",
     "text": [
      " 14%|██████████████████████████████▊                                                                                                                                                                                         | 4/28 [00:04<00:24,  1.00s/it]"
     ]
    },
    {
     "name": "stdout",
     "output_type": "stream",
     "text": [
      "** Messages: **\n",
      "user: Aqui está o contexto:\n",
      "PARÁGRAFO ÚNICO - Qualquer recebimento das prestações Tora dos prazos avencados constituira mera Loleranci 3, que nao dos afetaraprazosde forma algumaavençadosconstituirá mera tolerância, que não as datas de seus vencimentos ou as afetará declausulasforma alguma as datas de seus»-venctimentós ou as dema is condicoes deste Instrumento nem demais cláusulas e condições deste Instruífénto, nem importara novacao ou modificacao do ajustado, inclusive importará novação ou modificação do quanto encargos resultantes rajustadê, inclusive ao5 da mora, imputando se ao quanto aos encargos resultantes dêã&mora, imputando-se pagamento do debito valor recebido obrigatoriamente ao pagamento do debito o valor recebido obrWgatoriamente na na seguinte ordem: multa juros moratorios juros seguinte ordem: multa, jJutosNN môóratórios, juros remuneratorios outros acessorios debitados, principal remuneratórios, outros acesséftias gdebitados, principal vencido principal vincendo - A quitacao da divida resultante vencido e principal vincendo.. apos A quitávão da deste Titulo dar liquidacao dívida resultante se-a do saldo devedor deste Título dar-se-á após! à “liquidação do saldo devedor da(s) parcela(s) referida(s) na(s) clausula(s) Forma de da(s) parcelats) referiáa(3) ha(s) cláusula(s) Forma de Pagamento antes descrita.\n",
      "\n",
      "COMISSAOPagamento antes descrita (8x.\n",
      "\n",
      "Dada a informação contextual, gere 3 perguntas que este contexto pode fornecer respostas específicas que dificilmente seriam encontradas em outro lugar.\n",
      "\n",
      "Resumos de nível mais alto do contexto circundante também podem ser fornecidos. Tente usar esses resumos para gerar melhores perguntas que este contexto possa responder.\n",
      "\n",
      "\n",
      "**************************************************\n",
      "** Response: **\n",
      "assistant: 1. Quais são as consequências para o devedor caso ele não pague as prestações dentro dos prazos estabelecidos no contrato?\n",
      "\n",
      "2. Em que ordem os pagamentos recebidos serão imputados aos diferentes encargos resultantes da mora, de acordo com as cláusulas do contrato?\n",
      "\n",
      "3. Qual é o procedimento para a quitação da dívida resultante do saldo devedor do Título, de acordo com as cláusulas de pagamento descritas no contrato?\n",
      "**************************************************\n",
      "\n",
      "\n"
     ]
    },
    {
     "name": "stderr",
     "output_type": "stream",
     "text": [
      " 18%|██████████████████████████████████████▌                                                                                                                                                                                 | 5/28 [00:06<00:27,  1.20s/it]"
     ]
    },
    {
     "name": "stdout",
     "output_type": "stream",
     "text": [
      "** Messages: **\n",
      "user: Aqui está o contexto:\n",
      "OS pedidos de correçõesf* dex exêlusões e de manifestações de discordância quanto \"às informações di igidas constantes do SCR devem ser diriqidas ao Bacen ou à rene da instituição responsável pela f/remessáãupdlamen das informações, por meio de requerimento escrito, e fupdamentado, ou, quando for isa0 ju o caso, pela respectiva decisão jdudigial; quer Orma\n",
      "5. a consulta a quaisquer Winformações disponibilizadas financeir pelas instituições finânceitas e registradas em na meu (nosso/nossos) nome (s), x nã qualidade de responsável(is) aran por débitos ou garantias fe operações, depende de prévia autorização. ATEND\n",
      "\n",
      "CENTRAIS DE ATENDIMENTO TELEFÔNICO - Para eventuais sugestoes, informações, Sugestões, reclamações ou quaisquer outros esclarecimentos qué se esclarecimentos qué se fizerem necessários a respeito deste Banco Instrumento, o-Bantco coloca à minha(nossa) disposição os seguintes, telefonê&:\n",
      "\n",
      "Central de Atendimento BB-CABBE:\n",
      "\n",
      "- Para pitai - Pata caátads e regiões metropolitanas: 4004 0001;\n",
      "- Dema - Demars rêgiões: 0800 729 0001;\n",
      "\n",
      "SAE - Serviço de Atendimento ao Consumidor: 0800 729 0722;\n",
      "\n",
      "Central de Atendimento a pessoas com deficiência auditiva ou de fala: 0800 729 0088;\n",
      "\n",
      "Ouvidoria BB: 0800 729 5678.\n",
      "\n",
      "AVALISTAS - Comparece(ím) nesta CEDULA DE CREDITO BANCARIO, na condição de avalista(s), com obrigação sobre a totalidade da dívida, aís) pessoa(s) indicada(s) e qualificada(s) no item 3 do Preâmbulo.\n",
      "\n",
      "FORMALIZAÇÃO —- Esta CEDULA DE CREDITO BANCARIO é emitida em 2 (duas) vias, sendo que somente a primeira delas será negociável. As demais vias contém a expressão \"VIA NÃO NEGOCIÁVEL\".\n",
      "\n",
      "Dada a informação contextual, gere 3 perguntas que este contexto pode fornecer respostas específicas que dificilmente seriam encontradas em outro lugar.\n",
      "\n",
      "Resumos de nível mais alto do contexto circundante também podem ser fornecidos. Tente usar esses resumos para gerar melhores perguntas que este contexto possa responder.\n",
      "\n",
      "\n",
      "**************************************************\n",
      "** Response: **\n",
      "assistant: 1. Como posso solicitar correções ou exclusões de informações constantes do SCR?\n",
      "2. Quais são os números de telefone disponíveis para entrar em contato com o Banco para sugestões, reclamações ou esclarecimentos sobre este instrumento financeiro?\n",
      "3. Quais são as responsabilidades dos avalistas mencionados nesta Cédula de Crédito Bancário?\n",
      "\n",
      "Resumo de nível mais alto: O contexto fornece informações sobre como solicitar correções no SCR, números de telefone para entrar em contato com o Banco para esclarecimentos e as responsabilidades dos avalistas na Cédula de Crédito Bancário.\n",
      "**************************************************\n",
      "\n",
      "\n"
     ]
    },
    {
     "name": "stderr",
     "output_type": "stream",
     "text": [
      " 21%|██████████████████████████████████████████████▎                                                                                                                                                                         | 6/28 [00:06<00:19,  1.16it/s]"
     ]
    },
    {
     "name": "stdout",
     "output_type": "stream",
     "text": [
      "** Messages: **\n",
      "user: Aqui está o contexto:\n",
      "511.300.712, emitida nesta data por ALLIAGE S/A INDUSTRIAS MEDICO ODONTOLOGICA, em favor do Banco do Brasil S.A., no valor de R$25.000.000,00, com vencimento final em 15/08/2025.\n",
      "\n",
      "JULGADO EM RAZÃO DE PRÁTICA POR MIM (NÓS OU POR NOSSOS DIRIGENTES) OU COOBRIGADOS, DE ATOS QUE IMPORTEM EM DISCRIMINAÇÃO DE RAÇA OU GÊNERO, TRABALHO INFANTIL, TRABALHO ANÁLOGO AO ESCRAVO OU TRÁFICO DE PESSOAS, ASSÉDIO MORAL OU SEXUAL OU PROVEITO CRIMINOSO DA PROSTITUIÇÃO OU CRIME CONTRA O MEIO AMBIENTE OU CASSAÇÃO, SUSPENSÃO OU CANCELAMENTO DA LICENÇA AMBIENTAL PELO ÓRGÃO AMBIENTAL COMPETENTE, QUANDO APLICÁVEL.\n",
      "\n",
      "(II) O CONSELHO DE CONTROLE DE ATIVIDADES FINANCEIRAS (COAF) CONCLUIR PELA EXISTÊNCIA DE QUAISQUER DOS CRIMES DE \"LAVAGEM\" OU OCULTAÇÃO DE BENS, DIREITOS E/ZVALORES, POR NOS COMETIDOS POR MIM (NÓS OU no vdgsos ADMINISTRADORES/DIRIGENTES), PREVISTOS NA LEI 9. No SUA PRATICA 03.03.1998, OU DE FUNDADOS INDÍCIOS DE SUA PRÁTICA, OU CONDENADO SER (MOS) INDICIADO(S), DENUNCIADO(S) 4.\n",
      "\n",
      "Dada a informação contextual, gere 3 perguntas que este contexto pode fornecer respostas específicas que dificilmente seriam encontradas em outro lugar.\n",
      "\n",
      "Resumos de nível mais alto do contexto circundante também podem ser fornecidos. Tente usar esses resumos para gerar melhores perguntas que este contexto possa responder.\n",
      "\n",
      "\n",
      "**************************************************\n",
      "** Response: **\n",
      "assistant: 1. Quais são as condições específicas que podem levar à cassação, suspensão ou cancelamento da licença ambiental pela empresa ALLIAGE S/A INDUSTRIAS MEDICO ODONTOLOGICA?\n",
      "\n",
      "2. Qual é a relação entre a empresa ALLIAGE S/A INDUSTRIAS MEDICO ODONTOLOGICA e o Banco do Brasil S.A. que resultou na emissão da nota fiscal no valor de R$25.000.000,00 com vencimento em 15/08/2025?\n",
      "\n",
      "3. Quais são as medidas preventivas e de controle adotadas pela empresa ALLIAGE S/A INDUSTRIAS MEDICO ODONTOLOGICA para evitar a prática de crimes como lavagem de dinheiro, trabalho infantil, trabalho análogo ao escravo, entre outros, conforme mencionado no contexto fornecido?\n",
      "**************************************************\n",
      "\n",
      "\n"
     ]
    },
    {
     "name": "stderr",
     "output_type": "stream",
     "text": [
      " 25%|██████████████████████████████████████████████████████                                                                                                                                                                  | 7/28 [00:07<00:20,  1.03it/s]"
     ]
    },
    {
     "name": "stdout",
     "output_type": "stream",
     "text": [
      "** Messages: **\n",
      "user: Aqui está o contexto:\n",
      "3.516, DE 6/12/2007, DO CONSELHO MONETÁRIO NACIONAL.\n",
      "VENCIMENTO EXTRAORDINÁRIO/ANTECIPADO - DECLARO-ME(AMO-NOS) CIENTE(S) DE QUE, ALÉM DAS HIPÓTESES PREVISTAS EM LEI, O BANCO DO BRASIL S.A. PODERÁ, CONSIDERAR ANTECIPADAMENTE VENCIDAS AS OBRIGAÇÕES ASSUMIDAS NÃO SÓ NESTE INSTRUMENTO COMO EM OUTROS QUE TENHA(MOS) FIRMADO COM O BANCO DO BRASIL S.A., E EXIGIR O TOTAL DA DÍVIDA RESULTANTE, INDEPENDENTEMENTE DE AVISO EXTRAJUDICIAL OU INTERPELAÇÃO JUDICIAL, NA OCORRÊNCIA DE QUAISQUER SITUAÇÕES A SEGUIR\n",
      "\n",
      "- Continua na página 6 -\n",
      "---\n",
      "# Continuação da CEDULA DE CREDITO BANCARIO nr. 511.300.712, - Página 6 -\n",
      "\n",
      "Emitida nesta data por ALLIAGE S/A INDUSTRIAS MEDICO ODONTOLOGICA, em favor do Banco do Brasil S.A., no valor de R$25.000.000,00, com vencimento final em 15/08/2025.\n",
      "\n",
      "|GECT|25 6s|\n",
      "|---|---|\n",
      "|IMPUTADAS A MIM OU AO(S) COOBRIGADO(S):| |\n",
      "|A) DEIXAR(MOS) DE EFETUAR O PAGAMENTO OU DESCUMPRIR(MOS) QUALQUER OBRIGAÇÃO PRINCIPAL OU ACESSÓRIA ASSUMIDA NESTE INSTRUMENTO OU EM OUTROS QUE PORVENTURA TIVER(MOS) FIRMADO OU VIRÍ(MOS) A FIRMAR COM O BANCO DO BRASIL S.A OU QUALQUER UMA DE SUAS SUBSIDIÁRIAS, AINDA QUE FIGUREMOS COMO CO-DEVEDOR, FIADOR OU AVALISTA;| |\n",
      "|B) SOFRER(MOS) FALECIMENTO, LIQUIDAÇÃO JUDICIAL OU EXTRAJUDICIAL,\n",
      "\n",
      "Dada a informação contextual, gere 3 perguntas que este contexto pode fornecer respostas específicas que dificilmente seriam encontradas em outro lugar.\n",
      "\n",
      "Resumos de nível mais alto do contexto circundante também podem ser fornecidos. Tente usar esses resumos para gerar melhores perguntas que este contexto possa responder.\n",
      "\n",
      "\n",
      "**************************************************\n",
      "** Response: **\n",
      "assistant: 1. Quais são as condições em que o Banco do Brasil S.A. pode considerar antecipadamente vencidas as obrigações assumidas pela ALLIAGE S/A INDUSTRIAS MEDICO ODONTOLOGICA?\n",
      "\n",
      "2. Qual é o valor da Cédula de Crédito Bancário emitida pela ALLIAGE S/A INDUSTRIAS MEDICO ODONTOLOGICA em favor do Banco do Brasil S.A. e qual é a data de vencimento final?\n",
      "\n",
      "3. Quais são as consequências para a ALLIAGE S/A INDUSTRIAS MEDICO ODONTOLOGICA caso deixe de efetuar o pagamento ou descumpra qualquer obrigação assumida no instrumento de crédito firmado com o Banco do Brasil S.A.?\n",
      "**************************************************\n",
      "\n",
      "\n"
     ]
    },
    {
     "name": "stderr",
     "output_type": "stream",
     "text": [
      " 29%|█████████████████████████████████████████████████████████████▋                                                                                                                                                          | 8/28 [00:09<00:26,  1.30s/it]"
     ]
    },
    {
     "name": "stdout",
     "output_type": "stream",
     "text": [
      "** Messages: **\n",
      "user: Aqui está o contexto:\n",
      "368 do, Código EXvil Brasileiro, entre o crédito do BANCO DO BRAZIL SXS2.,) representado pelo saldo devedor apresentado na cont-de abertura de crédito, e os créditos de qualquer natúrezàáà que” tenha (amos) ou venha (amos) a ter junto ao BANCO DO BRASIDMS.A RASIL $\n",
      "\n",
      "CESSÃO - Declaro-me famo-nos) C€Ciente(s) de que esta CEDULA DE CREDITO BANCARIO poderá ser objeto de cessão, nos termos do endosso Código Civil, e éndosso, «unos termos do da Lei nr. 10.931, de 02.08.2004, financeirae%nãoZMhavérá necessidade de o cessionário ser instituição Tinancéira ou entidade a ela equiparada. O cessionário ficarás sub-rogado em todos os direitos do cedente, podendô, inclusive cobrar os juros e demais go na IMPUTACAOencargos hã forma aqui pactuada.\n",
      "\n",
      "IMPUTAÇÃO AO PAGAMENTO - Declaro-me(amos) ciente(s) que as quantias recebidas para crédito serão imputadas ao pagamento das verbas a seguir discriminadas, obrigatoriamente na seguinte ordem: multa, juros moratórios, juros remuneratórios, outros acessórios debitados, principal vencido e principal vincendo.\n",
      "\n",
      "PREVENÇÃO E COMBATE À CORRUPÇÃO - Declaro(amos) conhecer e me (nos) comprometo (emos) a: a) respeitar o Programa de Integridade, a Política Específica de Prevenção e Combate à Lavagem de Dinheiro, ao Financiamento do Terrorismo e à Corrupção, o Código de Ética e as Normas de Conduta do BANCO DO BRASIL S.A, especialmente as regras relacionadas a brindes, presentes, hospitalidade e evitar situações que configurem conflito de\n",
      "\n",
      "# Continua na página 9\n",
      "---\n",
      "# Continuação da CEDULA DE CREDITO BANCARIO nr.\n",
      "\n",
      "Dada a informação contextual, gere 3 perguntas que este contexto pode fornecer respostas específicas que dificilmente seriam encontradas em outro lugar.\n",
      "\n",
      "Resumos de nível mais alto do contexto circundante também podem ser fornecidos. Tente usar esses resumos para gerar melhores perguntas que este contexto possa responder.\n",
      "\n",
      "\n",
      "**************************************************\n",
      "** Response: **\n",
      "assistant: 1. Quais são as verbas que devem ser pagas obrigatoriamente na ordem estabelecida pela imputação ao pagamento descrita na Cédula de Crédito Bancário?\n",
      "\n",
      "2. Quais são as obrigações e compromissos relacionados à prevenção e combate à corrupção que o declarante deve cumprir de acordo com o documento?\n",
      "\n",
      "3. Como funciona o processo de cessão da Cédula de Crédito Bancário e quais são os direitos e responsabilidades do cessionário em relação ao cedente?\n",
      "**************************************************\n",
      "\n",
      "\n"
     ]
    },
    {
     "name": "stderr",
     "output_type": "stream",
     "text": [
      " 32%|█████████████████████████████████████████████████████████████████████▍                                                                                                                                                  | 9/28 [00:10<00:19,  1.04s/it]"
     ]
    },
    {
     "name": "stdout",
     "output_type": "stream",
     "text": [
      "** Messages: **\n",
      "user: Aqui está o contexto:\n",
      "Esta CEDULA DE CREDITO BANCARIO poderá ser\n",
      "\n",
      "Continua na página 11 -\n",
      "\n",
      "Projeto São Sebastião - arnaldo.bernardi@lefosse.com - Arnaldo Bernardi - Lefosse Advogados - 04/03/2023 18:03:11 - 189.69.21.238\n",
      "---\n",
      "# Continuação da CEDULA DE CREDITO BANCARIO nr. 511.300.712, - Página 11 -\n",
      "\n",
      "Emitida nesta data por ALLIAGE S/A INDUSTRIAS MEDICO ODONTOLOGICA, em favor do Banco do Brasil S.A., no valor de R$25.000.000,00, com vencimento final em 15/08/2025.\n",
      "\n",
      "Aditada, retificada e ratificada mediante termo de aditamento escrito, com os requisitos previstos no \"caput\", quanto a quantidade de vias e a via negociável, que passará a integrar este Instrumento para todos os fins de direito.\n",
      "\n",
      "E por ser de minha(nossa) livre e espontânea vontade, assino(amos) esta CEDULA DE CREDITO BANCARIO em 2 (duas) vias de igual teor, para todos os fins de direito.\n",
      "\n",
      "LOCAL DO PAGAMENTO - Cumprirei(emos) as obrigações assumidas nesta CEDULA DE CREDITO BANCARIO junto à Agência do BANCO DO BRASIL S.A., em que for mantida minha(nossa) conta corrente, for praça de pagamento que fica designada como foro deste Instrumento.\n",
      "\n",
      "RIBEIRAO PRETO-SP, 18 de novembro de 2020.\n",
      "\n",
      "Dada a informação contextual, gere 3 perguntas que este contexto pode fornecer respostas específicas que dificilmente seriam encontradas em outro lugar.\n",
      "\n",
      "Resumos de nível mais alto do contexto circundante também podem ser fornecidos. Tente usar esses resumos para gerar melhores perguntas que este contexto possa responder.\n",
      "\n",
      "\n",
      "**************************************************\n",
      "** Response: **\n",
      "assistant: 1. Qual é o valor da Cédula de Crédito Bancário emitida pela ALLIAGE S/A INDUSTRIAS MEDICO ODONTOLOGICA em favor do Banco do Brasil S.A.?\n",
      "2. Qual é a data de vencimento final da Cédula de Crédito Bancário?\n",
      "3. Onde devem ser cumpridas as obrigações assumidas nesta Cédula de Crédito Bancário?\n",
      "\n",
      "Resumo de nível mais alto: Este contexto fornece informações sobre uma Cédula de Crédito Bancário emitida pela ALLIAGE S/A INDUSTRIAS MEDICO ODONTOLOGICA em favor do Banco do Brasil S.A., no valor de R$25.000.000,00, com vencimento final em 15/08/2025. O documento foi aditado, retificado e ratificado, e as obrigações devem ser cumpridas na Agência do Banco do Brasil S.A. em Ribeirão Preto-SP.\n",
      "**************************************************\n",
      "\n",
      "\n",
      "** Messages: **\n",
      "user: Aqui está o contexto:\n",
      "# CEDULA DE CREDITO BANCARIO\n",
      "\n",
      "Nr. 511.300.712\n",
      "\n",
      "# 1. EMITENTE:\n",
      "\n",
      "|Razão ou denominação social:|ALLIAGE S/A INDUSTRIAS MEDICO ODONTOLOGICA|\n",
      "|---|---|\n",
      "|CNPJ....:|55.979.736/0001-45|\n",
      "|Conta Corrente:|000.003.203-4|\n",
      "|Endereço:|ROD ABRAÃO ASSED S/N KM 53 MAIS 450 METROS, RECREIO ANHANGUERA|\n",
      "|Cidade..:|RIBEIRÃO PRETO-SP|\n",
      "|CEP:|14.097-500|\n",
      "|E-MAIL:|fabiola.furtadoCalliage-global.com|\n",
      "\n",
      "# 2. DADOS DA OPERAÇÃO DE CRÉDITO:\n",
      "\n",
      "|Valor:|R$25.000.000,00 (vinte e cinco milhões de reais)|\n",
      "|---|---|\n",
      "|Vencimento:|15/08/2025|\n",
      "|Comissão Flat:|0,68% (SEIS DECIMOS POR CENTO), sobre o crédito concedido.|\n",
      "|Encargos Financeiros:|Taxa media Ndo CW acrescida de sobretaxa efetiva de 2,48 pontos percentuais sobretaxa efetiva de 2,48 pontos percentuais fão ano.\n",
      "\n",
      "Dada a informação contextual, gere 3 perguntas que este contexto pode fornecer respostas específicas que dificilmente seriam encontradas em outro lugar.\n",
      "\n",
      "Resumos de nível mais alto do contexto circundante também podem ser fornecidos. Tente usar esses resumos para gerar melhores perguntas que este contexto possa responder.\n",
      "\n",
      "\n",
      "**************************************************\n",
      "** Response: **\n",
      "assistant: 1. Qual é o valor do crédito concedido pela ALLIAGE S/A Indústrias Médico Odontológica?\n",
      "2. Qual é a data de vencimento da operação de crédito?\n",
      "3. Qual é a taxa de comissão flat e os encargos financeiros associados ao crédito concedido pela ALLIAGE S/A Indústrias Médico Odontológica? \n",
      "\n",
      "Resumo de nível mais alto: A ALLIAGE S/A Indústrias Médico Odontológica está buscando um crédito bancário no valor de R$25.000.000,00 com vencimento em 15/08/2025, e as condições incluem uma comissão flat de 0,68% sobre o crédito concedido e encargos financeiros baseados na taxa média Ndo CW acrescida de sobretaxa efetiva de 2,48 pontos percentuais por ano.\n",
      "**************************************************\n",
      "\n",
      "\n"
     ]
    },
    {
     "name": "stderr",
     "output_type": "stream",
     "text": [
      " 39%|████████████████████████████████████████████████████████████████████████████████████▍                                                                                                                                  | 11/28 [00:10<00:12,  1.38it/s]"
     ]
    },
    {
     "name": "stdout",
     "output_type": "stream",
     "text": [
      "** Messages: **\n",
      "user: Aqui está o contexto:\n",
      "PARÁGRAFO ÚNICO - Em razão do disposto no \"caput\", autorizo(amos), desde já, o BANCO DO BRASIL S.A. a efetuar o débito em minha(nossa) conta de depósitos, mediante aviso de débito e/ou aviso no extrato de conta-corrente, do valor correspondente a todas e quaisquer despesas que o BANCO DO BRASIL S.A. incorrer para o procedimento de registro, inclusive as de impostos, taxas, custas e emolumentos.\n",
      "ANTECIPADA LIQUIDAÇÃO/AMORTIZAÇÃO ANTECIPADA - TENHO(MOS) CIÊNCIA DE QUE O BANCO DO BRASIL S.A. ASSEGURA-ME(NOS) O DIREITO À LIQUIDAÇÃO ANTECIPADA DESTE TÍTULO, INCLUSIVE COM UTILIZAÇÃO DE RECURSOS TRANSFERIDOS POR OUTRA INSTITUIÇÃO FINANCEIRA EM DECORRÊNCIA DA PORTABILIDADE DO CRÉDITO, CONFORME AUTORIZA O ARTIGO PRIMEIRO DA RESOLUÇÃO NR. 3.401, DE 06.09.2006, DO CONSELHO MONETÁRIO NACIONAL, OBSERVADO AINDA O SEGUINTE:\n",
      "A) A LIQUIDAÇÃO OU AMORTIZAÇÃO ANTECIPADA DA DÍVIDA, INDEPENDENTEMENTE DE QUAL SEJA A ORIGEM DOS RECURSOS, ME(NOS) SUJEITARÁ AO PAGAMENTO DE TARIFA EQUIVALENTE A 2% (DOIS POR CENTO) DO VALOR AMORTIZADO/LIQUIDADO, DEVIDO NA DATA DA LIQUIDAÇÃO OU AMORTIZAÇÃO ANTECIPADA.\n",
      "B) NÃO HAVERÁ A COBRANÇA DA TARIFA PREVISTA NA LETRA B) CASO NA DATA DA CONTRATAÇÃO DA OPERAÇÃO TIVER(MOS) SIDO ENQUADRADO(S) COMO MICRO OU PEQUENA EMPRESA, NOS TERMOS DA LEI COMPLEMENTAR No. 123, DE 14/12/2006, E DA RESOLUÇÃO No.\n",
      "\n",
      "Dada a informação contextual, gere 3 perguntas que este contexto pode fornecer respostas específicas que dificilmente seriam encontradas em outro lugar.\n",
      "\n",
      "Resumos de nível mais alto do contexto circundante também podem ser fornecidos. Tente usar esses resumos para gerar melhores perguntas que este contexto possa responder.\n",
      "\n",
      "\n",
      "**************************************************\n",
      "** Response: **\n",
      "assistant: 1. Quais são as condições para a liquidação antecipada de um título junto ao Banco do Brasil S.A. e quais são as tarifas envolvidas nesse processo?\n",
      "2. Como a Resolução NR. 3.401, de 06.09.2006, do Conselho Monetário Nacional, impacta a possibilidade de liquidação antecipada de uma dívida junto ao Banco do Brasil S.A.?\n",
      "3. Quais são os critérios para isenção da tarifa de 2% do valor amortizado/liquidado em caso de liquidação antecipada de uma dívida junto ao Banco do Brasil S.A.?\n",
      "**************************************************\n",
      "\n",
      "\n"
     ]
    },
    {
     "name": "stderr",
     "output_type": "stream",
     "text": [
      " 43%|████████████████████████████████████████████████████████████████████████████████████████████▏                                                                                                                          | 12/28 [00:13<00:17,  1.12s/it]"
     ]
    },
    {
     "name": "stdout",
     "output_type": "stream",
     "text": [
      "** Messages: **\n",
      "user: Aqui está o contexto:\n",
      "Dia base para debito dos encargos: dia 15 de cada mes.|\n",
      "|Quantidade de Parcelas:|15 (QUINZE) parcelas de capital.|\n",
      "|Cronograma de Pagamento:|em 15/02/2022, R$1.666.666,67, em 15/05/2022, R$1.666.666,67, em 15/08/2022, R$1.666.666,67, em 15/11/2022, R$1.666.666,67, em 15/02/2023, R$1.666.666,67, em 15/05/2023, R$1.666.666,67, em 15/08/2023, R$1.666.666,67, em 15/11/2023, R$1.656.666,62, em 15/02/2024, R$1.666.666,67, em 15/05/2024, R$1.666.666,67, em 15/08/2024, R$1.666.666,67, em 15/11/2024, R$1.666.666,67, em 15/02/2025, R$1.666.666,67, em 15/05/2025, R$1.666.666,67, em 15/08/2025, R$1.666.666,67.|\n",
      "\n",
      "# 3. AVALISTA(S):\n",
      "\n",
      "HG EMPREENDIMENTOS PARTICIPACOES S/A, sediado (a) em HG EMPREENDIMENTOS E PARTICIPACOES FAZENDA PEDRA RURAL, S/A, sediado(a) em FAZENDA “DA”DA S/N, ZONA SERRANA SP Cep: 14.150-000 PEDRA S/N, ZONA RURAL, SERRANA - SP, Cep: 04.787.677/0001-72 inscrito (a) no CNPJ sob nL 147150-0009 e inscrito(a) no CNEJ sob o nr.\n",
      "\n",
      "Dada a informação contextual, gere 3 perguntas que este contexto pode fornecer respostas específicas que dificilmente seriam encontradas em outro lugar.\n",
      "\n",
      "Resumos de nível mais alto do contexto circundante também podem ser fornecidos. Tente usar esses resumos para gerar melhores perguntas que este contexto possa responder.\n",
      "\n",
      "\n",
      "**************************************************\n",
      "** Response: **\n",
      "assistant: 1. Qual é a data de vencimento e o valor de cada uma das 15 parcelas de capital a serem pagas de acordo com o cronograma de pagamento fornecido?\n",
      "\n",
      "2. Quais são os dados de identificação do avalista HG EMPREENDIMENTOS PARTICIPACOES S/A e FAZENDA PEDRA RURAL, S/A, incluindo endereço e número de inscrição no CNPJ?\n",
      "\n",
      "3. Qual é a relação entre o devedor e os avalistas mencionados no contexto, e qual é a responsabilidade deles em relação ao empréstimo ou financiamento descrito?\n",
      "**************************************************\n",
      "\n",
      "\n",
      "** Messages: **\n",
      "user: Aqui está o contexto:\n",
      "f FLAT Alem aos encargos financeiros pactuados COMISSÃO FLAT - Além dos êhcargos financeiros pactuados, pagarei(emos) 4o BANCO DO BRASIL 5.A., por conta pagarei(emos) ao £fBANCO DO” BRASIL S.A., por conta ecao assessoria na ,.$eléçãoNe adequação da linha de crédito, nhe(nossa conforme minhélnossa) solicitação, Comissão Flat no (SEIS percentual de 0% 63) (SETS DECIMOS POR CENTO), calculada sobre credito o valor do Teérdi to concedido e exigida na data de sua acao primeira liberàçãox Autorizo(amos) o BANCO DO BRASIL S.A. a debitar .em minhãá(nossa) conta corrente, mediante aviso, oO valor dévido a tal título.\n",
      "\n",
      "TARIFAS - Além dos encargos financeiros pactuados, autorizo4(amaos) o BANCO DO BRASIL S.A. a debitar em mihhanossá) conta de depósitos, a título de remuneração sobremsrserviços, o valor correspondente à(s) tarifa(s) de aberturà de crédito, de manutenção e demais tarifas aplicáveis à operação, vigentes à época da cobrança, constantes da Tabela de Tarifas de Serviços Bancários, que se encontra disponível em qualquer agência do BANCO DO BRASIL S.A.; dizendo-me(nos) ciente(s) de que tais débitos ser-me(nos)-ão informados mediante aviso de débito e/ou aviso no extrato de conta corrente.\n",
      "\n",
      "IOF - Obrigo-me(amo-nos) a pagar o Imposto sobre Operações de Crédito, Câmbio e Seguros ou relativas à Títulos ou Valores Mobiliários (IOF), de acordo com a legislação em\n",
      "\n",
      "Continua na página 4\n",
      "---\n",
      "# Continuação da CEDULA DE CREDITO BANCARIO nr.\n",
      "\n",
      "Dada a informação contextual, gere 3 perguntas que este contexto pode fornecer respostas específicas que dificilmente seriam encontradas em outro lugar.\n",
      "\n",
      "Resumos de nível mais alto do contexto circundante também podem ser fornecidos. Tente usar esses resumos para gerar melhores perguntas que este contexto possa responder.\n",
      "\n",
      "\n",
      "**************************************************\n",
      "** Response: **\n",
      "assistant: 1. Quais são os encargos financeiros pactuados e as comissões a serem pagas ao Banco do Brasil S.A. em relação à linha de crédito solicitada?\n",
      "2. Quais são as tarifas aplicáveis à operação de crédito, incluindo a tarifa de abertura de crédito e de manutenção, conforme estabelecido na Tabela de Tarifas de Serviços Bancários do Banco do Brasil S.A.?\n",
      "3. Qual é a obrigação do devedor em relação ao Imposto sobre Operações de Crédito, Câmbio e Seguros ou relativas à Títulos ou Valores Mobiliários (IOF) de acordo com a legislação em vigor?\n",
      "**************************************************\n",
      "\n",
      "\n"
     ]
    },
    {
     "name": "stderr",
     "output_type": "stream",
     "text": [
      " 50%|███████████████████████████████████████████████████████████████████████████████████████████████████████████▌                                                                                                           | 14/28 [00:14<00:11,  1.17it/s]"
     ]
    },
    {
     "name": "stdout",
     "output_type": "stream",
     "text": [
      "** Messages: **\n",
      "user: Aqui está o contexto:\n",
      "OU “CONDENADO(S) RADORES DI JUDICIALMENTE (NÓS OU NOSSOS ADMINISTRADORES\" QU DIRIGENTES) IMES PELA PRÁTICAS DE QUAISQUER DESSES CRIMES: ANTECIPADO CLAUSULA ESPECIAL DE VENCIMENTO ANTECIPADOW- SEM PREJUIZO DE ANTE PADO OUTRAS CAUSAS DE VENCIMENTO ANTECIPADOY DA OBRIGACAO, STRUMENTO PREVISTA EM CLAUSULAS DESTE INSTRUMENTO OU DECORRENTES DE VENGIDA LEI, O BANCO PODERA CONSIDERAR NENSIDA A OPERACAO DE CREDITO IDACAO SE , ~NA E EXIGIR SUA IMEDIATA LIQUIDAÇÃO -SHKANA SUA VIGENCIA E SEM BANCO: EXPRESSA CONCORDANCIA DO BANCO: T)FOR TRANSFERIDO O CONTROLE DE NOSSO CAP DIRETO E/ OU INDIRETO PÉ NGESO, CAPITAL SOCIAL; II) HOUVER LARIDADE DE ALTERACAO DE TITULARIDADE DE NOSSO CAPITAL SOCIAL, STA DI ENVOLVENDO QUALQUER ACIONISTA, DIRETO OU INDIRETO, INCLUSIVE RE COM TRANSFERENCIAS ENTRE SI, COM VARIACAO SUPERIOR A 10% (DEZ TOT DO GAPOR CENTO) DO TGFAL DO GAPITAL SOCIAL; III) HOUVER ALTERACAO OCIAL DE QU DO CAPITAL SOCÉBEL, \"DE 'OUALQUER DE NOSSAS CONTROLADAS QUE PERDA DE RESULTE EM PERDA, be NOSSO CONTROLE SOCIETARIO, DIRETO OU SSAS EMPRESAS INDIRETO, DESSAS. ALTERACAOEMPRESAS.\n",
      "\n",
      "Dada a informação contextual, gere 3 perguntas que este contexto pode fornecer respostas específicas que dificilmente seriam encontradas em outro lugar.\n",
      "\n",
      "Resumos de nível mais alto do contexto circundante também podem ser fornecidos. Tente usar esses resumos para gerar melhores perguntas que este contexto possa responder.\n",
      "\n",
      "\n",
      "**************************************************\n",
      "** Response: **\n",
      "assistant: 1. Quais são as condições em que o banco pode considerar a antecipação da liquidação de uma operação de crédito?\n",
      "2. Quais são as circunstâncias em que o controle direto ou indireto de uma empresa pode resultar na imediata liquidação de uma operação de crédito?\n",
      "3. Como a transferência de controle societário ou alterações no capital social podem afetar a relação entre uma empresa e o banco em termos de operações de crédito?\n",
      "**************************************************\n",
      "\n",
      "\n"
     ]
    },
    {
     "name": "stderr",
     "output_type": "stream",
     "text": [
      " 54%|███████████████████████████████████████████████████████████████████████████████████████████████████████████████████▏                                                                                                   | 15/28 [00:15<00:13,  1.03s/it]"
     ]
    },
    {
     "name": "stdout",
     "output_type": "stream",
     "text": [
      "** Messages: **\n",
      "user: Aqui está o contexto:\n",
      "|EMITENTE(S):|ODONTOLOGI|\n",
      "|---|---|\n",
      "|ALLIAGE S/A INDUSTRIAS MEDICO ODONTOLOGICA, sediado(a) em RIBEIRÃO PRETO-SP, na ROD ABRAG, ASSED S/N KM 53 MAIS 450 METROS, RECREIO ANHANGUERA, CER 14.097-500, E-MAIL: fabiola.furtado@alliage-global.com e inscrito(a) no CNPJ sob o nrº 55.979.736/0001-45.| |\n",
      "|a) RAYSEL LUIZ CRUZ, Brasileiro(a), ENGENHEIRO, casado(a) regime comunhão SA no de bêns, domiciliado MARTO ROXO 25, CEP: 14.025-4607 município-UF: RIBEIRAO PRETO-SE portador do (a) CARTEIRA: DE IDENTIDADE nr. 57753568 SSP SP e inscrito no CPF/MF, Sob e nr. DOU ET IDA ÇãO/|Rubrica: ENGEN|\n",
      "|CAETANO BARROS/BIAGI, Brasileiro(a), ENGENHEIRO, casado(a) sob o regime de comunhão parcial de bens, residente e domiciliado em RODOVIA SP 328 KM 310 CAIXA POSTAL 11, CEP: 14.110-000, município-UF: RIBEIRAO PRETO-SP, portador do(a) CARTEIRA DE IDENTIDADE nr. 32.093.157-2 SSP SP e inscrito no CPF/MF sob o nr. 294.592.988-00.| |\n",
      "\n",
      "- Continua na página 12 -—\n",
      "---\n",
      "# Continuação da CEDULA DE CREDITO BANCARIO nr. 511.300.712, - Página 12 -\n",
      "\n",
      "Emitida nesta data por ALLIAGE S/A INDUSTRIAS MEDICO ODONTOLOGICA, em favor do Banco do Brasil S.A., no valor de R$25.000.000,00, com vencimento final em 15/08/2025.\n",
      "\n",
      "Dada a informação contextual, gere 3 perguntas que este contexto pode fornecer respostas específicas que dificilmente seriam encontradas em outro lugar.\n",
      "\n",
      "Resumos de nível mais alto do contexto circundante também podem ser fornecidos. Tente usar esses resumos para gerar melhores perguntas que este contexto possa responder.\n",
      "\n",
      "\n",
      "**************************************************\n",
      "** Response: **\n",
      "assistant: 1. Qual é o valor da Cédula de Crédito Bancário emitida pela ALLIAGE S/A INDUSTRIAS MEDICO ODONTOLOGICA em favor do Banco do Brasil S.A.?\n",
      "2. Quais são os dados pessoais dos emitentes da Cédula de Crédito Bancário, como nome, profissão, estado civil, endereço e documentos de identificação?\n",
      "3. Qual é a data de vencimento final da Cédula de Crédito Bancário emitida pela ALLIAGE S/A INDUSTRIAS MEDICO ODONTOLOGICA em favor do Banco do Brasil S.A.?\n",
      "\n",
      "Resumo de nível mais alto: A ALLIAGE S/A INDUSTRIAS MEDICO ODONTOLOGICA emitiu uma Cédula de Crédito Bancário no valor de R$25.000.000,00 em favor do Banco do Brasil S.A., com vencimento final em 15/08/2025, e os emitentes são RAYSEL LUIZ CRUZ e CAETANO BARROS/BIAGI, ambos engenheiros.\n",
      "**************************************************\n",
      "\n",
      "\n"
     ]
    },
    {
     "name": "stderr",
     "output_type": "stream",
     "text": [
      " 57%|██████████████████████████████████████████████████████████████████████████████████████████████████████████████████████████▊                                                                                            | 16/28 [00:16<00:11,  1.07it/s]"
     ]
    },
    {
     "name": "stdout",
     "output_type": "stream",
     "text": [
      "** Messages: **\n",
      "user: Aqui está o contexto:\n",
      "Por aval ao emitente:\n",
      "\n",
      "|HG EMPREENDIMENTOS E PARTICIPACOES S/A, sediado(a) em FAZENDA DA PEDRA S/N, ZONA RURAL, SERRANA - SP, Cep: 14.150-000 e inscrito(a) no CNPJ sob Oo nr. 04.787.677/0001-72, E-mail: Não possui endereço de e-mail.|Rubrica: A.: >)S | Rubricã: ENGENHE RD|\n",
      "|---|---|\n",
      "|LUIZ ROBERTO YSEL CRUZ, Brasileiro(a), 2» 50- universal casado(a) às o regime de comunhão efa D > ds domi MAR 0/ROXS residente460, omiciliado em RUA PROFESSOR MARIO/ROX porta 14.025-460, município-UF: RIBEIRAO PRETO- NA 0-SP EIRA DE SS CARTEFRA DE IDENTIDADE nr. 577535680Sep E/MF' sob 1» sb o nr. 000.277.788-60. cQU (RuSuca - CÓdvad >, Ài A | ) Rubrica: x [ E/ a CASADO|EEONEEDO BIAGI, Brasilfiro(sd, CAROS 1) “COMUNHAO UNIVERSAL, EIRAO PRE EMPRESARIO, residente em RIBETRAO Bairro: ETO - SP, na COND COLINA VERDE, 55 KM 312 CS.55, Bairro:ssCOLINA VERDE, CEP: 14.022-050, portador(a) do(a) CARTEIRA DE IDENTIDADE nr. 3.542.871 SSPSP, inscrito(a) no«-CPF sob%o nr. 551.123.078-20.|\n",
      "|INDOSTRIAL PEDRA AGROINDUSTRIAL \"S/A, sediado(a) em USINA DA PEDRA SN, ZONA RURAL, 2 ARENA ERRANA - o Cep: 14.150-000 e inscrito(a) no CNPJ redi@usped o) 71.304.687/0001-05, E-mail: GOI RS aom. br.|A.\n",
      "\n",
      "Dada a informação contextual, gere 3 perguntas que este contexto pode fornecer respostas específicas que dificilmente seriam encontradas em outro lugar.\n",
      "\n",
      "Resumos de nível mais alto do contexto circundante também podem ser fornecidos. Tente usar esses resumos para gerar melhores perguntas que este contexto possa responder.\n",
      "\n",
      "\n",
      "**************************************************\n",
      "** Response: **\n",
      "assistant: 1. Qual é o endereço e o CNPJ da empresa HG Empreendimentos e Participações S/A?\n",
      "2. Quais são os dados pessoais e de identificação de Luiz Roberto Ysel Cruz?\n",
      "3. Onde está localizada a Indústria Pedra Agroindustrial \"S/A\" e qual é o seu CNPJ?\n",
      "\n",
      "Resumo de nível mais alto: O contexto fornece informações detalhadas sobre empresas e indivíduos, incluindo endereços, CNPJs, dados pessoais e de identificação. Essas informações podem ser úteis para verificar a autenticidade de documentos, realizar pesquisas de mercado ou estabelecer parcerias comerciais.\n",
      "**************************************************\n",
      "\n",
      "\n",
      "** Messages: **\n",
      "user: Aqui está o contexto:\n",
      "br.|A.: \"/ KAYSEL pr : Rubrica: ENGEN RQ_ LUIZ ROBERTO SEL CRUZ, Brasileiro(a), sa1ENGENHEIR y casado(a) sob//o regime de comunhão univer Xofi ROXO residente e Aolniciliado em RUA PROFESSOR MARIO/RO ;, CEP: muni port 14.025-46 múnicípio-UF: RIBEIRÃO PRETO-SP, pórtador do(a) CARTEIR DE/ IDENTIDADE nr. 57753568 SSP SP e inscrito no CPF/MP/ sob/ó nr. 000.277.788-60.|\n",
      "\n",
      "Projeto São Sebastião - arnaldo.bernardi@lefosse.com - Arnaldo Bernardi - Lefosse Advogados - 04/03/2023 18:03:11 - 189.69.21.238\n",
      "\n",
      "Dada a informação contextual, gere 3 perguntas que este contexto pode fornecer respostas específicas que dificilmente seriam encontradas em outro lugar.\n",
      "\n",
      "Resumos de nível mais alto do contexto circundante também podem ser fornecidos. Tente usar esses resumos para gerar melhores perguntas que este contexto possa responder.\n",
      "\n",
      "\n",
      "**************************************************\n",
      "** Response: **\n",
      "assistant: 1. Qual é o endereço completo de Luiz Roberto Sel Cruz e qual é o seu estado civil?\n",
      "2. Qual é o projeto São Sebastião e qual é a relação de Arnaldo Bernardi com ele?\n",
      "3. Qual é o contato de Arnaldo Bernardi e qual é a empresa em que ele trabalha?\n",
      "**************************************************\n",
      "\n",
      "\n"
     ]
    },
    {
     "name": "stderr",
     "output_type": "stream",
     "text": [
      " 64%|██████████████████████████████████████████████████████████████████████████████████████████████████████████████████████████████████████████▏                                                                            | 18/28 [00:18<00:09,  1.10it/s]"
     ]
    },
    {
     "name": "stdout",
     "output_type": "stream",
     "text": [
      "** Messages: **\n",
      "user: Aqui está o contexto:\n",
      "511.300.712, - Página 4 -\n",
      "\n",
      "Emitida nesta data por ALLIAGE S/A INDUSTRIAS MEDICO ODONTOLOGICA, em favor do Banco do Brasil S.A., no valor de R$25.000.000,00, com vencimento final em 15/08/2025.\n",
      "\n",
      "Vigor, bem como outros tributos que venham a ser instituídos e tornados exigíveis, em razão da presente operação, e, desde já, autorizo(amos) o BANCO DO BRASIL S.A. a efetuar o débito em minha(nossa) conta de depósitos, dizendo-me (nos) ciente(s) de que o valor correspondente ser-me(nos)-á informado mediante aviso de débito e/ou aviso no extrato de conta corrente.\n",
      "\n",
      "INADIMPLEMENTO - EM CASO DE DESCUMPRIMENTO DE QUALQUER OBRIGAÇÃO LEGAL OU CONVENCIONAL, OU NO CASO DE VENCIMENTO ANTECIPADO DA OPERAÇÃO, A PARTIR DO INADIMPLEMENTO E SOBRE O VALOR INADIMPLIDO, SERÃO EXIGIDOS, NOS TERMOS DA “RESOLUÇÃO 4,558, DE 23.02.2017, DO CONSELHO MONETÁRIO NACIONAL:\n",
      "\n",
      "- a) ENCARGOS FINANCEIROS CONTRATADOS PARA O PERÍODO DE ADIMPLÊNCIA DA OPERAÇÃO, PREVISTOS NESTE INSTRUMENTO DE CRÉDITO;\n",
      "- b) JUROS MORATÓRIOS DE 1% (UM POR CENTO) AO MÊS, OU FRAÇÃO, INCIDENTES SOBRE O VALOR INADIMPLIDO;\n",
      "- c) MULTA DE 2% (DOIS POR CENTO), CALCULADA SOBRE OS VALORES PAGAMENTOS PARCIAIS, SOBRE OS VALORES AMORTIZADOS, E NA LIQUIDAÇÃO FINAL, SOBRE O SALDO DEVEDOR, DA DÍVIDA.\n",
      "\n",
      "Dada a informação contextual, gere 3 perguntas que este contexto pode fornecer respostas específicas que dificilmente seriam encontradas em outro lugar.\n",
      "\n",
      "Resumos de nível mais alto do contexto circundante também podem ser fornecidos. Tente usar esses resumos para gerar melhores perguntas que este contexto possa responder.\n",
      "\n",
      "\n",
      "**************************************************\n",
      "** Response: **\n",
      "assistant: 1. Quais são as penalidades previstas em caso de inadimplemento do contrato de empréstimo com o Banco do Brasil S.A.?\n",
      "\n",
      "2. Qual é o valor total do empréstimo emitido pela ALLIAGE S/A INDUSTRIAS MEDICO ODONTOLOGICA em favor do Banco do Brasil S.A. e qual é a data de vencimento final?\n",
      "\n",
      "3. Quais são os encargos financeiros contratados para o período de adimplência da operação, conforme previsto no instrumento de crédito mencionado no contexto?\n",
      "**************************************************\n",
      "\n",
      "\n"
     ]
    },
    {
     "name": "stderr",
     "output_type": "stream",
     "text": [
      " 68%|█████████████████████████████████████████████████████████████████████████████████████████████████████████████████████████████████████████████████▉                                                                     | 19/28 [00:18<00:06,  1.35it/s]"
     ]
    },
    {
     "name": "stdout",
     "output_type": "stream",
     "text": [
      "** Messages: **\n",
      "user: Aqui está o contexto:\n",
      "ou dever de qualquer indenização.\n",
      "\n",
      "RESPONSABILIDADE SOCIOAMBIENTAL 1) Obrigo-me (amo-nos) a:\n",
      "\n",
      "(a) cumprir, nas minhas (nossas) atividades na destinacao dos recursos vinculados este titulo de credi Lo, disposLo dos recursos vinculados a este títulb.de crédito, o disposto na Legislação Federal, Estadual, Distrital e Municipal referente a preservação do meió-ambiente;\n",
      "\n",
      "(b) adotar as medidas Eds ambiente *atões destinadas a evitar ou corrigir danos ao meio ambiente não antevistos no momento da contratação do crédito, bem Éomo cumprir ao estabelecido na legislação ambigntal aplicável, inclusive quanto à Lei de Biossegurança;\n",
      "\n",
      "(c) cumprir a Yegisláção social e trabalhista, especialmente as normas retativàs “a saúde e segurança ocupacional e a inexistência dà trabalho análogo ao escravo ou tráfico de pessoas, exploração pessoas,, exploração de mão de obra infantil e exploração sexual de menores;\n",
      "\n",
      "(d) implemenLar esf esforços junto ao(s) meuí(s)/nosso(s) fornecedor (es) direto fornecedor (és) direto(s) de produtos ou serviços, a fim de que esse (s) tambem se qúeese (&) também se comprometa(m) a conjugar esforços para proleger_ preservar protegar, preservar e prevenir práticas danosas ao ao meio ambiente ainda cumpr ambiente e ainda cumprir a legislação social e trabalhista.\n",
      "\n",
      "DECLARAÇÃO ESPECIAL - Declaro (amos) para fins do disposto no inciso II do Art. 11 do Decreto nº 6.321, de 21.12.2007, não adquirir, intermediar, transportar ou comercializar produto ou subproduto de origem animal ou vegetal produzido sobre área objeto de embargo lavrado nos termos do Art.\n",
      "\n",
      "Dada a informação contextual, gere 3 perguntas que este contexto pode fornecer respostas específicas que dificilmente seriam encontradas em outro lugar.\n",
      "\n",
      "Resumos de nível mais alto do contexto circundante também podem ser fornecidos. Tente usar esses resumos para gerar melhores perguntas que este contexto possa responder.\n",
      "\n",
      "\n",
      "**************************************************\n",
      "** Response: **\n",
      "assistant: 1) Quais são as medidas que a empresa se compromete a adotar para evitar danos ao meio ambiente e cumprir a legislação ambiental aplicável?\n",
      "2) Como a empresa garante que não está envolvida em práticas como trabalho análogo ao escravo, tráfico de pessoas, exploração de mão de obra infantil e exploração sexual de menores?\n",
      "3) Como a empresa garante que seus fornecedores diretos também estão comprometidos em proteger o meio ambiente e cumprir a legislação social e trabalhista?\n",
      "\n",
      "Resumo de nível mais alto: O contexto aborda a responsabilidade socioambiental da empresa, incluindo o cumprimento da legislação ambiental, social e trabalhista, a adoção de medidas para evitar danos ao meio ambiente e a garantia de que não está envolvida em práticas prejudiciais. Também destaca a importância de os fornecedores diretos também se comprometerem com essas práticas responsáveis.\n",
      "**************************************************\n",
      "\n",
      "\n"
     ]
    },
    {
     "name": "stderr",
     "output_type": "stream",
     "text": [
      " 71%|█████████████████████████████████████████████████████████████████████████████████████████████████████████████████████████████████████████████████████████▌                                                             | 20/28 [00:18<00:04,  1.64it/s]"
     ]
    },
    {
     "name": "stdout",
     "output_type": "stream",
     "text": [
      "** Messages: **\n",
      "user: Aqui está o contexto:\n",
      "PARÁGRAFO PRIMEIRO - OS ENCARGOS FINANCEIROS CONTRATADOS PARA O PERÍODO DE NORMALIDADE E OS JUROS MORATÓRIOS PREVISTOS NAS ALÍNEAS \"a\" E \"B\" SERÃO CALCULADOS, POR DIA DE ATRASO, E EXIGIDOS NOS PAGAMENTOS PARCIAIS E NA LIQUIDAÇÃO DA DÍVIDA, JUNTAMENTE COM AS AMORTIZAÇÕES DE PRINCIPAL, PROPORCIONALMENTE, AOS SEUS VALORES NOMINAIS.\n",
      "\n",
      "PARÁGRAFO SEGUNDO - SEM PREJUÍZO DOS ENCARGOS ANTERIORMENTE PREVISTOS, O DEVEDOR RESPONDERÁ POR PREJUÍZOS A QUE SUA MORA DER CAUSA, NOS TERMOS DO ARTIGO 395 DO CÓDIGO CIVIL, INCLUSIVE DESPESAS DE COBRANÇA E HONORÁRIOS ADVOCATÍCIOS QUANDO DEVIDOS!\n",
      "\n",
      "HONORÁRIOS ADVOCATÍCIOS - Caso tenha o Banco do Brasil S.A. que recorrer a meios de cobrança para o recebimento do seu crédito, obrigo-me (amo-nos) a pagar honorários advocatícios fixados em 10% (dez por cento) sobre o montante do débito apurado, nas cobranças extrajudiciais, e 20% (vinte por cento) nas cobranças judiciais.\n",
      "\n",
      "PLANILHA DE CÁLCULO PARA COBRANÇA - Declaro-me(amo-nos) ciente(s) de que o saldo devedor será demonstrado pelo BANCO DO BRASIL S.A.\n",
      "\n",
      "Dada a informação contextual, gere 3 perguntas que este contexto pode fornecer respostas específicas que dificilmente seriam encontradas em outro lugar.\n",
      "\n",
      "Resumos de nível mais alto do contexto circundante também podem ser fornecidos. Tente usar esses resumos para gerar melhores perguntas que este contexto possa responder.\n",
      "\n",
      "\n",
      "**************************************************\n",
      "** Response: **\n",
      "assistant: 1. Quais são os encargos financeiros e juros moratórios previstos para o período de normalidade de um contrato com o Banco do Brasil S.A.?\n",
      "2. Em que situações o devedor será responsável por prejuízos decorrentes de sua mora, de acordo com o artigo 395 do Código Civil?\n",
      "3. Qual é a porcentagem dos honorários advocatícios que o devedor deve pagar em caso de cobrança extrajudicial e judicial pelo Banco do Brasil S.A.?\n",
      "\n",
      "Resumo de nível mais alto: O contexto fornece informações detalhadas sobre os encargos financeiros, juros moratórios, responsabilidades do devedor em caso de mora e honorários advocatícios em um contrato com o Banco do Brasil S.A. Essas informações são importantes para entender as consequências financeiras e legais de um possível atraso no pagamento de uma dívida com o banco.\n",
      "**************************************************\n",
      "\n",
      "\n"
     ]
    },
    {
     "name": "stderr",
     "output_type": "stream",
     "text": [
      " 75%|█████████████████████████████████████████████████████████████████████████████████████████████████████████████████████████████████████████████████████████████████▎                                                     | 21/28 [00:20<00:06,  1.01it/s]"
     ]
    },
    {
     "name": "stdout",
     "output_type": "stream",
     "text": [
      "** Messages: **\n",
      "user: Aqui está o contexto:\n",
      "511.300.712, - Página 9 -\n",
      "\n",
      "Emitida nesta data por ALLIAGE S/A INDUSTRIAS MEDICO ODONTOLOGICA, em favor do Banco do Brasil S.A., no valor de R$25.000.000,00, com vencimento final em 15/08/2025.\n",
      "\n",
      "Interesses;\n",
      "\n",
      "b) respeitar Lei 12.846/2013, Decreto 8.420/2015 e qualquer legislação brasileira ou estrangeira anticorrupção, não utilizando negócio realizado, nem eventual assistência creditícia concedida ou intermediada pelo BANCO DO BRASIL S.A., como meio para cometimento de qualquer ato ilícito, inclusive contra o BANCO DO BRASIL S.A.;\n",
      "\n",
      "c) comunicar imediatamente o BANCO DO BRASIL S.A. na ciência de situação que viole as normas previstas nas letras \"a\" e imen \"b\", e, concordar que em caso de seu descumprimento, e/ou Emp Inidoneasminha (nossa) inclusão no Cadastro Nacional de Empresas Suspensas CEIS, no Cadastro de Entidades Inidôneas e Suspensas - CEIS, no Cadastro de Entidades Privadas Sem Lucrativos Impedidas CEPIM elou no Privadas Sem Fins Lucrativos Impedidas - Ari SÃO no Cadastro Nacional das Empresas Punidas CNEP, BANCO DO Cadastro Nacional das Empresas Punidas|- ECNEPB, o, BANCO DO BRASIL A. podera interromper ou considerar vencido anlecipadamenteBRASILE8.A.poderá interromper ou considerar? vencido antecipadamente o presente ou outros ins Lrumentos de crédito, relacionados mim ou meu Grupo Empresarial, sem presente ou outros \"instrumentos de crédito, relacionados à mim ou a meu necessidade de previa notificacao judicialGfiúpo Emprêsarial, sem ou extrajudicial, necessidade de previa notificação juditeialxopu extrajudicial, ou dever de qualquer indenizacao. ou dever de qualquer indenização.\n",
      "\n",
      "Dada a informação contextual, gere 3 perguntas que este contexto pode fornecer respostas específicas que dificilmente seriam encontradas em outro lugar.\n",
      "\n",
      "Resumos de nível mais alto do contexto circundante também podem ser fornecidos. Tente usar esses resumos para gerar melhores perguntas que este contexto possa responder.\n",
      "\n",
      "\n",
      "**************************************************\n",
      "** Response: **\n",
      "assistant: 1. Quais são as obrigações da empresa ALLIAGE S/A INDUSTRIAS MEDICO ODONTOLOGICA em relação à legislação anticorrupção, de acordo com o contrato emitido em favor do Banco do Brasil S.A. no valor de R$25.000.000,00?\n",
      "\n",
      "2. Em que circunstâncias a empresa ALLIAGE S/A INDUSTRIAS MEDICO ODONTOLOGICA deve comunicar imediatamente o Banco do Brasil S.A. e quais são as consequências caso não cumpra com as normas estabelecidas no contrato?\n",
      "\n",
      "3. Como a inclusão da empresa ALLIAGE S/A INDUSTRIAS MEDICO ODONTOLOGICA em diferentes cadastros de empresas punidas ou suspensas pode afetar os instrumentos de crédito relacionados ao seu Grupo Empresarial e qual é a postura do Banco do Brasil S.A. em relação a isso?\n",
      "**************************************************\n",
      "\n",
      "\n"
     ]
    },
    {
     "name": "stderr",
     "output_type": "stream",
     "text": [
      " 79%|████████████████████████████████████████████████████████████████████████████████████████████████████████████████████████████████████████████████████████████████████████▉                                              | 22/28 [00:22<00:06,  1.08s/it]"
     ]
    },
    {
     "name": "stdout",
     "output_type": "stream",
     "text": [
      "** Messages: **\n",
      "user: Aqui está o contexto:\n",
      "- Brasil, Bolsa e Balcão (B3); e por data-base, em cada mês, o dia definido para o débito dos encargos financeiros - indicado no item \"DADOS DA OPERAÇÃO\n",
      "\n",
      "- Continua na página 3 - Ex\n",
      "---\n",
      "# Continuação da CEDULA DE CREDITO BANCARIO nr. 511.300.712, - Página 3 -\n",
      "\n",
      "Emitida nesta data por ALLIAGE S/A INDUSTRIAS MEDICO ODONTOLOGICA, em favor do Banco do Brasil S.A., no valor de R$25.000.000,00, com vencimento final em 15/08/2025.\n",
      "\n",
      "DE CRÉDITO\" da introdução. Caso a data-base escolhida seja o dia 29, 30 ou 31, nos meses em que não existirem tais dias, será considerado, como data-base, o primeiro dia do mês subsequente.\n",
      "\n",
      "FORMA DE PAGAMENTO - Sem prejuízo do vencimento retroestipulado e das exigibilidades previstas nas demais cláusulas, inclusive encargos financeiros, obrigo-me(amos) a pagar ao BANCO DO BRASIL S.A. à dívida resultante desta CEDULA DE CREDITO BANCARIO, conforme parcelas, vencimentos e valores pactuados em DADOS DA OPERAÇÃO DEma CRÉDITO, obrigando-me(nos) ainda a liquidar com a última parcela, Incumprimento de todas as responsabilidades resultantes deste XTfistr qo prestações.\n",
      "\n",
      "Dada a informação contextual, gere 3 perguntas que este contexto pode fornecer respostas específicas que dificilmente seriam encontradas em outro lugar.\n",
      "\n",
      "Resumos de nível mais alto do contexto circundante também podem ser fornecidos. Tente usar esses resumos para gerar melhores perguntas que este contexto possa responder.\n",
      "\n",
      "\n",
      "**************************************************\n",
      "** Response: **\n",
      "assistant: 1. Qual é o valor da Cédula de Crédito Bancário emitida pela ALLIAGE S/A INDUSTRIAS MEDICO ODONTOLOGICA em favor do Banco do Brasil S.A.?\n",
      "2. Qual é a data de vencimento final da Cédula de Crédito Bancário?\n",
      "3. Como é definida a forma de pagamento da dívida resultante da Cédula de Crédito Bancário? \n",
      "\n",
      "Resumo de nível mais alto: Este contexto fornece informações detalhadas sobre uma Cédula de Crédito Bancário emitida pela ALLIAGE S/A INDUSTRIAS MEDICO ODONTOLOGICA em favor do Banco do Brasil S.A., incluindo o valor, a data de vencimento e a forma de pagamento. Além disso, são fornecidos detalhes sobre a data-base para débito dos encargos financeiros e as responsabilidades do devedor em relação ao pagamento da dívida.\n",
      "**************************************************\n",
      "\n",
      "\n"
     ]
    },
    {
     "name": "stderr",
     "output_type": "stream",
     "text": [
      " 82%|████████████████████████████████████████████████████████████████████████████████████████████████████████████████████████████████████████████████████████████████████████████████▌                                      | 23/28 [00:22<00:04,  1.15it/s]"
     ]
    },
    {
     "name": "stdout",
     "output_type": "stream",
     "text": [
      "** Messages: **\n",
      "user: Aqui está o contexto:\n",
      "ENCARGOS FINANCEIROS - Sobre à&s valores lançados na conta da operação, bem come sobre o saldo devedor daí decorrente e das quantias dele óriuhdas, devidas a título de acessórios, despesas, taxas e despesas, incidirão encargos financeiros taxa correspondente£, a) Faxã media dos Certificados de Depósitos ncarios (CDI) Interbancários (ED),' acrescidos de sobretaxa efetiva de ros 2,48 (dois inteiros e quarenta e oito centésimos) pontos Uai percentuais ao anóôó”.\n",
      "\n",
      "Referidosy encargos financeiros, calculados por dias úteis, debita serão, debitados e capitalizados mensalmente na conta vincul aa da vinfulada dã/ operação, a cada data-base, e deverão ser pagos integr lmene iÁtegralmente, conforme cronograma determinado a 15/02/2021 seguir: 15/02/2021, 15/05/2021, 15/08/2021, 15/11/2021, 15/02/2022, 15/05/2022 15/05/2022, 15/08/2022, 15/11/2022, 15/02/2023, 15/05/2023, 15/08/2023_ 15/08/2023, 15/11/2023, 15/02/2024, 15/05/2024, 15/08/2024, 15/11/2024 15/11/2024, 15/02/2025, 15/05/2025 e 15/08/2025.\n",
      "\n",
      "PARÁGRAFO ÚNICO - Para fins do disposto neste instrumento, enLende se entende-se por dias úteis todos os dias, exceto sábados, domingos e feriados bancários nacionais; por CDI, a taxa média dos Certificados de Depósitos Interbancários, divulgada pela B3 S.A.\n",
      "\n",
      "Dada a informação contextual, gere 3 perguntas que este contexto pode fornecer respostas específicas que dificilmente seriam encontradas em outro lugar.\n",
      "\n",
      "Resumos de nível mais alto do contexto circundante também podem ser fornecidos. Tente usar esses resumos para gerar melhores perguntas que este contexto possa responder.\n",
      "\n",
      "\n",
      "**************************************************\n",
      "** Response: **\n",
      "assistant: 1. Qual é a taxa de encargos financeiros que incidirá sobre os valores lançados na conta da operação, de acordo com o contexto fornecido?\n",
      "2. Como os encargos financeiros serão calculados e debitados na conta vinculada da operação ao longo do tempo, de acordo com o cronograma estabelecido?\n",
      "3. O que significa dias úteis no contexto dos encargos financeiros e como a taxa média dos Certificados de Depósitos Interbancários (CDI) é utilizada para calcular esses encargos?\n",
      "\n",
      "Resumo de nível mais alto: O contexto fornece informações detalhadas sobre os encargos financeiros que serão aplicados a uma operação, incluindo a taxa de juros, o cronograma de pagamento e os critérios de cálculo. Essas informações são essenciais para entender o impacto financeiro da operação e garantir o cumprimento das obrigações financeiras associadas a ela.\n",
      "**************************************************\n",
      "\n",
      "\n"
     ]
    },
    {
     "name": "stderr",
     "output_type": "stream",
     "text": [
      " 86%|████████████████████████████████████████████████████████████████████████████████████████████████████████████████████████████████████████████████████████████████████████████████████████▎                              | 24/28 [00:22<00:02,  1.47it/s]"
     ]
    },
    {
     "name": "stdout",
     "output_type": "stream",
     "text": [
      "** Messages: **\n",
      "user: Aqui está o contexto:\n",
      "ALTERACAOEMPRESAS. COMUNICAÇÃO DENALTERAÇÃO ESTATUTÁRIA E DE DIRIGENTES - ometemo Comprometemo-nos %a comunicar ao Banco do Brasil se, durante cia a vigência da presente operação de crédito, for modificado 5o es nosso” estatuto” (ou, se for o caso, nosso contrato social) ou subst ui fordhi substituído qualquer um dos nossos atuais dirigentes (ou ado SUSPENSAOadministradores, no caso de cooperativa).\n",
      "\n",
      "SUSPENSÃO DE LIBERAÇÃO DE CREDITO - DECLARO-ME(AMO-NOS) CIENTE(8) DE QUE ALÉM DAS SITUAÇÕES PREVISTAS NA CLÁUSULA \"VENCIMENTO EXTRAORDINÁRIO/ANTECIPADO\", DESTE INSTRUMENTO, O BANCO DO BRASIL S.A. PODERÁ SUSPENDER A LIBERAÇÃO DE VALORES QUANDO DEIXAR(MOS) DE APRESENTAR AO BANCO DO BRASIL S.A. NO PRAZO POR ESTE INDICADO, A DOCUMENTAÇÃO NECESSÁRIA PARA A RENOVAÇÃO DO MEU(NOSSO) LIMITE DE CRÉDITO, BEM COMO QUANDO FOR(MOS) NEGATIVADO(S) EM QUAISQUER ÓRGÃOS DE PROTEÇÃO AO CRÉDITO OU NO CADASTRO DE EMITENTES DE CHEQUES SEM FUNDOS (CCF), TIVER (MOS) ENCERRADA(S) MINHA/NOSSA(S) CONTA (S) CORRENTE(S) EM ESTABELECIMENTO DE CRÉDITO, EM DECORRÊNCIA DE\n",
      "\n",
      "- Continua na página 8 -—\n",
      "---\n",
      "# Continuação da CEDULA DE CREDITO BANCARIO nr. 511.300.712, - Página 8 -\n",
      "\n",
      "emitida nesta data por ALLIAGE S/A INDUSTRIAS MEDICO ODONTOLOGICA, em favor do Banco do Brasil S.A., no valor de R$25.000.000,00, com vencimento final em 15/08/2025.\n",
      "\n",
      "Dada a informação contextual, gere 3 perguntas que este contexto pode fornecer respostas específicas que dificilmente seriam encontradas em outro lugar.\n",
      "\n",
      "Resumos de nível mais alto do contexto circundante também podem ser fornecidos. Tente usar esses resumos para gerar melhores perguntas que este contexto possa responder.\n",
      "\n",
      "\n",
      "**************************************************\n",
      "** Response: **\n",
      "assistant: 1. Quais são as condições específicas que podem levar à suspensão da liberação de crédito por parte do Banco do Brasil S.A. para a empresa ALLIAGE S/A INDUSTRIAS MEDICO ODONTOLOGICA?\n",
      "\n",
      "2. Quais são as obrigações da empresa ALLIAGE S/A INDUSTRIAS MEDICO ODONTOLOGICA em relação à comunicação de alterações estatutárias e de dirigentes ao Banco do Brasil durante a vigência da operação de crédito?\n",
      "\n",
      "3. Como a empresa ALLIAGE S/A INDUSTRIAS MEDICO ODONTOLOGICA pode evitar a suspensão da liberação de valores por parte do Banco do Brasil S.A. em caso de negativação em órgãos de proteção ao crédito ou encerramento de contas correntes em estabelecimentos de crédito?\n",
      "**************************************************\n",
      "\n",
      "\n"
     ]
    },
    {
     "name": "stderr",
     "output_type": "stream",
     "text": [
      " 89%|███████████████████████████████████████████████████████████████████████████████████████████████████████████████████████████████████████████████████████████████████████████████████████████████▉                       | 25/28 [00:24<00:03,  1.05s/it]"
     ]
    },
    {
     "name": "stdout",
     "output_type": "stream",
     "text": [
      "** Messages: **\n",
      "user: Aqui está o contexto:\n",
      "A 15 de agosto de 2025 pagarei(mos), em moeda corrente nacional, por esta Cédula de Crédito Bancário, nos termos da cláusula Forma de Pagamento, abaixo ao Banco do Brasil S.A., sociedade de economia mista, com sede em Setor de Autarquias Norte, Quadra 5, Lote B, Brasília — DF, CEP 70.040-912, inscrita no Cadastro Nacional da Pessoa Jurídica do Ministério da Fazenda (CNPJ/MF) nº 00.000.900/0001-91, RIB NORTE-SP, localizada em AV por sua agência CORP BANK RIB NORTE-SPF, localizada em AV DAR, STA JACQUES, CEP MAURILIO BIAGI 800, 15º ANDAR, STA E E JACQUES, CEP: BB COM BR inscrita no CNPJ/MF 14.020-750, E-Mail: AGES5S113GBB.COM.BR, inscrita no CNPJ/MF 6, ou sua ordem, na praça de sob o nr. 00.000.000/7485-36, ou à sua DE PAGAMENTO, okdem, Na praça de pagamento indicada na Cláusula LOCAL DE PAGAMENTO, a dívida respondente ao valor constante líquida, certa e exigível, correspondente ao valor constante REDITO do preâmbulo, acrescido no item DADOS DA OPERAÇÃO DE CRÉDITO do preâmbulo, acrescido cma revista dos encargos financeiros, na forma prevista nesta cédula.\n",
      "\n",
      "DESTINAÇÃO DO CRÉDITO - O valor do crédito deferido destina-se única e exclusivamente, ae./reforço de meuí(nosso) de de capital de giro, ficando£á desde já, convencionado que não farei (emos) qualquer aplátração desta importância em investimentos fixos.\n",
      "\n",
      "Dada a informação contextual, gere 3 perguntas que este contexto pode fornecer respostas específicas que dificilmente seriam encontradas em outro lugar.\n",
      "\n",
      "Resumos de nível mais alto do contexto circundante também podem ser fornecidos. Tente usar esses resumos para gerar melhores perguntas que este contexto possa responder.\n",
      "\n",
      "\n",
      "**************************************************\n",
      "** Response: **\n",
      "assistant: 1. Qual é a data de vencimento da Cédula de Crédito Bancário mencionada no texto?\n",
      "2. Qual é a destinação específica do crédito deferido mencionado no texto?\n",
      "3. Qual é o endereço e informações de contato do Banco do Brasil S.A. mencionado no texto?\n",
      "\n",
      "Resumo de nível mais alto do contexto: O texto menciona um acordo de pagamento de uma Cédula de Crédito Bancário com o Banco do Brasil S.A., especificando a forma de pagamento, a destinação do crédito e os detalhes da operação de crédito.\n",
      "**************************************************\n",
      "\n",
      "\n",
      "** Messages: **\n",
      "user: Aqui está o contexto:\n",
      "NORMAS EMANADAS DO BANCO CENTRAL DO BRASIL, OU QUANDO A AUTORIDADE OU ÓRGÃO COMPETENTE CONCLUIR PELA PRÁTICA, POR MIM (NÓS) OU POR NOSSO(S) DIRIGENTE(S) DE: CRIMES CONTRA O MEIO AMBIENTE, PREVISTOS NA LEI Nº 9.605, DE 12.02.1998; CRIMES DE \"LAVAGEM\" OU OCULTAÇÃO DE BENS, DIREITOS E VALORES, NOS TERMOS DA LEI Nº 9.613, DE 03.03.1998. ESTAS OCORRÊNCIAS ABRANGEM, TAMBÉM, O(S) COOBRIGADO(S) NESTE INSTRUMENTO.\n",
      "\n",
      "PRESERVAÇÃO DE DIREITOS - Declaro-me(amo-nos) ciente(s) de que a abstenção do exercício, por parte do BANCO DO BRASIL por S.A, de quaisquer direitos que lhe assistam pot força do presente Instrumento ou a concordância com obrigações no cumprimento ou inadimplemento de minha (nossa) obrigação não podera afetarão aqueles direitos ou faculdades -- áquê, poderão ser exercidos a qualquer tempo -- e não alterarão, de nenhum modo, as condições estipuladas neste AAA UNO, nem obrigarão o BANCO DO BRASIL S.A relatifamentE à&vencimentos ou inadimplementos futuros.\n",
      "\n",
      "COMPENSAÇÃO DE CRÉDITOS - Autorizo (amos) o BANCO DO BRASIL S.A. em caráter irrevodávêl = irretratável, indepententimente de prévio avi£S& a proceder à compensação, do Codigq Civ prevista no artigo nr.\n",
      "\n",
      "Dada a informação contextual, gere 3 perguntas que este contexto pode fornecer respostas específicas que dificilmente seriam encontradas em outro lugar.\n",
      "\n",
      "Resumos de nível mais alto do contexto circundante também podem ser fornecidos. Tente usar esses resumos para gerar melhores perguntas que este contexto possa responder.\n",
      "\n",
      "\n",
      "**************************************************\n",
      "** Response: **\n",
      "assistant: 1. Quais são as consequências para o cliente caso o Banco do Brasil identifique a prática de crimes contra o meio ambiente ou de lavagem de dinheiro por parte do cliente ou de seus dirigentes?\n",
      "\n",
      "2. Como a preservação de direitos é garantida no presente Instrumento em relação às obrigações do cliente e do Banco do Brasil S.A.?\n",
      "\n",
      "3. Em que circunstâncias o Banco do Brasil S.A. está autorizado a proceder à compensação de créditos do cliente de forma irrevogável e irretratável, conforme previsto no Código Civil?\n",
      "**************************************************\n",
      "\n",
      "\n"
     ]
    },
    {
     "name": "stderr",
     "output_type": "stream",
     "text": [
      " 96%|███████████████████████████████████████████████████████████████████████████████████████████████████████████████████████████████████████████████████████████████████████████████████████████████████████████████▎       | 27/28 [00:24<00:00,  1.64it/s]"
     ]
    },
    {
     "name": "stdout",
     "output_type": "stream",
     "text": [
      "** Messages: **\n",
      "user: Aqui está o contexto:\n",
      "neste ato representada por LUIZ ROBERTO 04.78 7T6G7T7/0001-72, neste ato representada por LUIZ ROBERTO KAYSEL CRUZ, Brasileiro(a), ENGENHEIRO, casado(a) sob o regime de comunhão universal de bens, residente e domiciliado em RUA PROFESSOR MARIO ROXO 25, CEP: 14.025-460, município-UF: RIBEIRAO PRETO-SP, portador do(a) CARTEIRA DE IDENTIDADE nr. 57753568 SSP SP e inscrito no CPE/MF sob o nr. 000.277.788-60 e EDUARDO BIAGI, Brasileiro(a), CASADO(A)-COMUNHÃO UNIVERSAL, EMPRESÁRIO, residente em RIBEIRÃO PRETO - SP, na COND COLINA VERDE, 55 KM 312 CS.55, Bairro: COLINA VERDE, CEP: 14,022-050, portador (a) do (a) CARTEIRA DE IDENTIDADE nr. 3.542.871 SSPSP, inscrito(a) no CPF sob o nr. 551.123.078-20 e PEDRA AGROINDUSTRIAL S/A, sediado(a) em\n",
      "---\n",
      "# Continuação da CEDULA DE CREDITO BANCARIO nr. 511.300.712, - Página 2 -\n",
      "\n",
      "Emitida nesta data por ALLIAGE S/A INDUSTRIAS MEDICO ODONTOLOGICA, em favor do Banco do Brasil S.A., no valor de R$25.000.000,00, com vencimento final em 15/08/2025.\n",
      "\n",
      "USINA DA PEDRA SN, ZONA RURAL, SERRANA - SP, Cep: 14.150-000 e inscrito(a) no CNPJ sob o nr. 71.304.687/0001-05, E-mail: manfredi€Guspedra.com.br, neste ato representada por LUIZ ROBERTO KAYSEL CRUZ, acima qualificado.\n",
      "\n",
      "Dada a informação contextual, gere 3 perguntas que este contexto pode fornecer respostas específicas que dificilmente seriam encontradas em outro lugar.\n",
      "\n",
      "Resumos de nível mais alto do contexto circundante também podem ser fornecidos. Tente usar esses resumos para gerar melhores perguntas que este contexto possa responder.\n",
      "\n",
      "\n",
      "**************************************************\n",
      "** Response: **\n",
      "assistant: 1. Qual é o valor da Cédula de Crédito Bancário emitida pela ALLIAGE S/A INDUSTRIAS MEDICO ODONTOLOGICA em favor do Banco do Brasil S.A.?\n",
      "2. Qual é a data de vencimento final da Cédula de Crédito Bancário mencionada no contexto?\n",
      "3. Quem são os representantes da PEDRA AGROINDUSTRIAL S/A e da ALLIAGE S/A INDUSTRIAS MEDICO ODONTOLOGICA mencionados no contexto?\n",
      "\n",
      "Resumo de nível mais alto:\n",
      "O contexto descreve a emissão de uma Cédula de Crédito Bancário no valor de R$25.000.000,00 pela ALLIAGE S/A INDUSTRIAS MEDICO ODONTOLOGICA em favor do Banco do Brasil S.A., com vencimento final em 15/08/2025. Também menciona os representantes da PEDRA AGROINDUSTRIAL S/A e da ALLIAGE S/A INDUSTRIAS MEDICO ODONTOLOGICA.\n",
      "**************************************************\n",
      "\n",
      "\n"
     ]
    },
    {
     "name": "stderr",
     "output_type": "stream",
     "text": [
      "100%|███████████████████████████████████████████████████████████████████████████████████████████████████████████████████████████████████████████████████████████████████████████████████████████████████████████████████████| 28/28 [00:27<00:00,  1.01it/s]\n",
      "  0%|                                                                                                                                                                                                                                | 0/28 [00:00<?, ?it/s]"
     ]
    },
    {
     "name": "stdout",
     "output_type": "stream",
     "text": [
      "** Messages: **\n",
      "user: Aqui está o conteúdo da seção:\n",
      "[Excerpt from document]\n",
      "questions_this_excerpt_can_answer: 1. Qual é o endereço e o CNPJ da empresa HG Empreendimentos e Participações S/A?\n",
      "2. Quais são os dados pessoais e de identificação de Luiz Roberto Ysel Cruz?\n",
      "3. Onde está localizada a Indústria Pedra Agroindustrial \"S/A\" e qual é o seu CNPJ?\n",
      "\n",
      "Resumo de nível mais alto: O contexto fornece informações detalhadas sobre empresas e indivíduos, incluindo endereços, CNPJs, dados pessoais e de identificação. Essas informações podem ser úteis para verificar a autenticidade de documentos, realizar pesquisas de mercado ou estabelecer parcerias comerciais.\n",
      "Excerpt:\n",
      "-----\n",
      "Por aval ao emitente:\n",
      "\n",
      "|HG EMPREENDIMENTOS E PARTICIPACOES S/A, sediado(a) em FAZENDA DA PEDRA S/N, ZONA RURAL, SERRANA - SP, Cep: 14.150-000 e inscrito(a) no CNPJ sob Oo nr. 04.787.677/0001-72, E-mail: Não possui endereço de e-mail.|Rubrica: A.: >)S | Rubricã: ENGENHE RD|\n",
      "|---|---|\n",
      "|LUIZ ROBERTO YSEL CRUZ, Brasileiro(a), 2» 50- universal casado(a) às o regime de comunhão efa D > ds domi MAR 0/ROXS residente460, omiciliado em RUA PROFESSOR MARIO/ROX porta 14.025-460, município-UF: RIBEIRAO PRETO- NA 0-SP EIRA DE SS CARTEFRA DE IDENTIDADE nr. 577535680Sep E/MF' sob 1» sb o nr. 000.277.788-60. cQU (RuSuca - CÓdvad >, Ài A | ) Rubrica: x [ E/ a CASADO|EEONEEDO BIAGI, Brasilfiro(sd, CAROS 1) “COMUNHAO UNIVERSAL, EIRAO PRE EMPRESARIO, residente em RIBETRAO Bairro: ETO - SP, na COND COLINA VERDE, 55 KM 312 CS.55, Bairro:ssCOLINA VERDE, CEP: 14.022-050, portador(a) do(a) CARTEIRA DE IDENTIDADE nr. 3.542.871 SSPSP, inscrito(a) no«-CPF sob%o nr. 551.123.078-20.|\n",
      "|INDOSTRIAL PEDRA AGROINDUSTRIAL \"S/A, sediado(a) em USINA DA PEDRA SN, ZONA RURAL, 2 ARENA ERRANA - o Cep: 14.150-000 e inscrito(a) no CNPJ redi@usped o) 71.304.687/0001-05, E-mail: GOI RS aom. br.|A.\n",
      "-----\n",
      "\n",
      "Resuma os principais tópicos e entidades da seção. \n",
      "Resumo:\n",
      "**************************************************\n",
      "** Response: **\n",
      "assistant: A seção fornece informações detalhadas sobre a empresa HG Empreendimentos e Participações S/A, incluindo seu endereço e CNPJ. Além disso, apresenta dados pessoais e de identificação de Luiz Roberto Ysel Cruz e de Eoneedo Biagi. Também são fornecidos detalhes sobre a localização e CNPJ da Indústria Pedra Agroindustrial \"S/A\". Essas informações são úteis para verificar a autenticidade de documentos e estabelecer parcerias comerciais.\n",
      "**************************************************\n",
      "\n",
      "\n"
     ]
    },
    {
     "name": "stderr",
     "output_type": "stream",
     "text": [
      "  4%|███████▋                                                                                                                                                                                                                | 1/28 [00:02<01:13,  2.73s/it]"
     ]
    },
    {
     "name": "stdout",
     "output_type": "stream",
     "text": [
      "** Messages: **\n",
      "user: Aqui está o conteúdo da seção:\n",
      "[Excerpt from document]\n",
      "questions_this_excerpt_can_answer: 1. Quais são as condições em que uma empresa pode requerer recuperação extrajudicial, judicial ou falência de acordo com as normas legais e regulamentares do Conselho Monetário Nacional e do Banco Central do Brasil?\n",
      "\n",
      "2. Como a falta de manutenção em dia e seguro dos bens dados em garantia pode afetar as obrigações assumidas neste instrumento e quais são as consequências caso as garantias se tornem impróprias ou insuficientes?\n",
      "\n",
      "3. Quais são as ações judiciais ou protestos cambiais que podem colocar em risco as garantias constitucionais e o cumprimento das obrigações assumidas neste instrumento?\n",
      "Excerpt:\n",
      "-----\n",
      "REQUERER(MOS) RECUPERAÇÃO EXTRAJUDICIAL, JUDICIAL OU FALÊNCIA OU TIVER(MOS) FALÊNCIA OU INSOLVÊNCIA CIVIL REQUERIDA OU POR QUALQUER MOTIVO ENCERRAR(MÓS) NOSSAS ATIVIDADES E/OU DER(MOS) CAUSA AO ENCERRAMENTO DE MINHA (NOSSA) CONTA CORRENTE DE DEPÓSITOS, POR FARGASDE NORMAS LEGAIS OU REGULAMENTARES EDITADAS PELO CONSENHO WIOBETÁRIO NACIONAL E/OU PELO BANCO CENTRAL DO BRASIL;| |\n",
      "|C) SOFRER(MOS) PROTESTO CAMBIÁRIO;| |\n",
      "|D) SOFRER(MOS) AÇÃO JUDICIAL OU SPRTOÁNAS OU COMPR CAPAZ DE COLOCAR EM RISCO AS GARANTIAS CONSTKTUITBAS €4UCUMPRIMENTO DAS OBRIGAÇÕES AQUI ASSUMIDAS;| |\n",
      "|E) SE NÃO MANTIVER(MOS) EM DIA o E iEGURO(S) DO(S) BEM(NS) DADO(S) EM GARANTIA E/OU SEZ FRS” GARANTIAS, SEJA(M) ELA(S) PRESTADA(S) POR MIM(NÓS) OU POR TERCEIRO(S) GARANTIDOR(ES), FOREM DESVIADAS NO TODO OUZÉM' PARTEJOU NÃO FOREM EFETIVADAS OU FORMALIZADAS, OU SE TAIS GABANTIAS SE TORNAREM IMPRÓPRIAS OU INSUFICIENTES PARK ASSEGURAR AS OBRIGAÇÕES DESTE INSTRUMENTO E NÃO FOREM SURSTETUÍDAS OU REFORÇADAS NO PRAZO DE 10 (DEZ) DIAS DA-COMUNICAÇÃO QUE O BANCO DO BRASIL S.A.\n",
      "-----\n",
      "\n",
      "Resuma os principais tópicos e entidades da seção. \n",
      "Resumo:\n",
      "**************************************************\n",
      "** Response: **\n",
      "assistant: Esta seção aborda as condições em que uma empresa pode requerer recuperação extrajudicial, judicial ou falência de acordo com as normas legais e regulamentares do Conselho Monetário Nacional e do Banco Central do Brasil. Também discute como a falta de manutenção em dia e seguro dos bens dados em garantia pode afetar as obrigações assumidas, as consequências caso as garantias se tornem impróprias ou insuficientes, e as ações judiciais ou protestos cambiais que podem colocar em risco as garantias constitucionais e o cumprimento das obrigações assumidas.\n",
      "**************************************************\n",
      "\n",
      "\n",
      "** Messages: **\n",
      "user: Aqui está o conteúdo da seção:\n",
      "[Excerpt from document]\n",
      "questions_this_excerpt_can_answer: 1. Qual é o valor da Cédula de Crédito Bancário emitida pela ALLIAGE S/A INDUSTRIAS MEDICO ODONTOLOGICA em favor do Banco do Brasil S.A.?\n",
      "2. Qual é a data de vencimento final da Cédula de Crédito Bancário?\n",
      "3. Como é definida a forma de pagamento da dívida resultante da Cédula de Crédito Bancário? \n",
      "\n",
      "Resumo de nível mais alto: Este contexto fornece informações detalhadas sobre uma Cédula de Crédito Bancário emitida pela ALLIAGE S/A INDUSTRIAS MEDICO ODONTOLOGICA em favor do Banco do Brasil S.A., incluindo o valor, a data de vencimento e a forma de pagamento. Além disso, são fornecidos detalhes sobre a data-base para débito dos encargos financeiros e as responsabilidades do devedor em relação ao pagamento da dívida.\n",
      "Excerpt:\n",
      "-----\n",
      "- Brasil, Bolsa e Balcão (B3); e por data-base, em cada mês, o dia definido para o débito dos encargos financeiros - indicado no item \"DADOS DA OPERAÇÃO\n",
      "\n",
      "- Continua na página 3 - Ex\n",
      "---\n",
      "# Continuação da CEDULA DE CREDITO BANCARIO nr. 511.300.712, - Página 3 -\n",
      "\n",
      "Emitida nesta data por ALLIAGE S/A INDUSTRIAS MEDICO ODONTOLOGICA, em favor do Banco do Brasil S.A., no valor de R$25.000.000,00, com vencimento final em 15/08/2025.\n",
      "\n",
      "DE CRÉDITO\" da introdução. Caso a data-base escolhida seja o dia 29, 30 ou 31, nos meses em que não existirem tais dias, será considerado, como data-base, o primeiro dia do mês subsequente.\n",
      "\n",
      "FORMA DE PAGAMENTO - Sem prejuízo do vencimento retroestipulado e das exigibilidades previstas nas demais cláusulas, inclusive encargos financeiros, obrigo-me(amos) a pagar ao BANCO DO BRASIL S.A. à dívida resultante desta CEDULA DE CREDITO BANCARIO, conforme parcelas, vencimentos e valores pactuados em DADOS DA OPERAÇÃO DEma CRÉDITO, obrigando-me(nos) ainda a liquidar com a última parcela, Incumprimento de todas as responsabilidades resultantes deste XTfistr qo prestações.\n",
      "-----\n",
      "\n",
      "Resuma os principais tópicos e entidades da seção. \n",
      "Resumo:\n",
      "**************************************************\n",
      "** Response: **\n",
      "assistant: A seção fornece detalhes sobre uma Cédula de Crédito Bancário emitida pela ALLIAGE S/A INDUSTRIAS MEDICO ODONTOLOGICA em favor do Banco do Brasil S.A. O valor da cédula é de R$25.000.000,00 e a data de vencimento final é 15/08/2025. A forma de pagamento inclui parcelas, vencimentos e valores pactuados, com a obrigação de liquidar a dívida com a última parcela. Também são mencionados detalhes sobre a data-base para débito dos encargos financeiros e as responsabilidades do devedor em relação ao pagamento da dívida.\n",
      "**************************************************\n",
      "\n",
      "\n"
     ]
    },
    {
     "name": "stderr",
     "output_type": "stream",
     "text": [
      "  7%|███████████████▍                                                                                                                                                                                                        | 2/28 [00:03<00:37,  1.45s/it]"
     ]
    },
    {
     "name": "stdout",
     "output_type": "stream",
     "text": [
      "** Messages: **\n",
      "user: Aqui está o conteúdo da seção:\n",
      "[Excerpt from document]\n",
      "questions_this_excerpt_can_answer: 1. Quais são as condições específicas que podem levar à cassação, suspensão ou cancelamento da licença ambiental pela empresa ALLIAGE S/A INDUSTRIAS MEDICO ODONTOLOGICA?\n",
      "\n",
      "2. Qual é a relação entre a empresa ALLIAGE S/A INDUSTRIAS MEDICO ODONTOLOGICA e o Banco do Brasil S.A. que resultou na emissão da nota fiscal no valor de R$25.000.000,00 com vencimento em 15/08/2025?\n",
      "\n",
      "3. Quais são as medidas preventivas e de controle adotadas pela empresa ALLIAGE S/A INDUSTRIAS MEDICO ODONTOLOGICA para evitar a prática de crimes como lavagem de dinheiro, trabalho infantil, trabalho análogo ao escravo, entre outros, conforme mencionado no contexto fornecido?\n",
      "Excerpt:\n",
      "-----\n",
      "511.300.712, emitida nesta data por ALLIAGE S/A INDUSTRIAS MEDICO ODONTOLOGICA, em favor do Banco do Brasil S.A., no valor de R$25.000.000,00, com vencimento final em 15/08/2025.\n",
      "\n",
      "JULGADO EM RAZÃO DE PRÁTICA POR MIM (NÓS OU POR NOSSOS DIRIGENTES) OU COOBRIGADOS, DE ATOS QUE IMPORTEM EM DISCRIMINAÇÃO DE RAÇA OU GÊNERO, TRABALHO INFANTIL, TRABALHO ANÁLOGO AO ESCRAVO OU TRÁFICO DE PESSOAS, ASSÉDIO MORAL OU SEXUAL OU PROVEITO CRIMINOSO DA PROSTITUIÇÃO OU CRIME CONTRA O MEIO AMBIENTE OU CASSAÇÃO, SUSPENSÃO OU CANCELAMENTO DA LICENÇA AMBIENTAL PELO ÓRGÃO AMBIENTAL COMPETENTE, QUANDO APLICÁVEL.\n",
      "\n",
      "(II) O CONSELHO DE CONTROLE DE ATIVIDADES FINANCEIRAS (COAF) CONCLUIR PELA EXISTÊNCIA DE QUAISQUER DOS CRIMES DE \"LAVAGEM\" OU OCULTAÇÃO DE BENS, DIREITOS E/ZVALORES, POR NOS COMETIDOS POR MIM (NÓS OU no vdgsos ADMINISTRADORES/DIRIGENTES), PREVISTOS NA LEI 9. No SUA PRATICA 03.03.1998, OU DE FUNDADOS INDÍCIOS DE SUA PRÁTICA, OU CONDENADO SER (MOS) INDICIADO(S), DENUNCIADO(S) 4.\n",
      "-----\n",
      "\n",
      "Resuma os principais tópicos e entidades da seção. \n",
      "Resumo:\n",
      "**************************************************\n",
      "** Response: **\n",
      "assistant: A seção apresenta um trecho de um documento emitido pela empresa ALLIAGE S/A INDUSTRIAS MEDICO ODONTOLOGICA, que menciona a emissão de uma nota fiscal no valor de R$25.000.000,00 para o Banco do Brasil S.A. com vencimento em 15/08/2025. O documento destaca as condições que podem levar à cassação, suspensão ou cancelamento da licença ambiental da empresa, bem como as medidas preventivas e de controle adotadas para evitar práticas criminosas como lavagem de dinheiro, trabalho infantil, trabalho análogo ao escravo, entre outros. Também menciona a atuação do Conselho de Controle de Atividades Financeiras (COAF) em casos de crimes de lavagem de dinheiro.\n",
      "**************************************************\n",
      "\n",
      "\n"
     ]
    },
    {
     "name": "stderr",
     "output_type": "stream",
     "text": [
      " 14%|██████████████████████████████▊                                                                                                                                                                                         | 4/28 [00:04<00:21,  1.14it/s]"
     ]
    },
    {
     "name": "stdout",
     "output_type": "stream",
     "text": [
      "** Messages: **\n",
      "user: Aqui está o conteúdo da seção:\n",
      "[Excerpt from document]\n",
      "questions_this_excerpt_can_answer: 1. Como posso solicitar correções ou exclusões de informações constantes do SCR?\n",
      "2. Quais são os números de telefone disponíveis para entrar em contato com o Banco para sugestões, reclamações ou esclarecimentos sobre este instrumento financeiro?\n",
      "3. Quais são as responsabilidades dos avalistas mencionados nesta Cédula de Crédito Bancário?\n",
      "\n",
      "Resumo de nível mais alto: O contexto fornece informações sobre como solicitar correções no SCR, números de telefone para entrar em contato com o Banco para esclarecimentos e as responsabilidades dos avalistas na Cédula de Crédito Bancário.\n",
      "Excerpt:\n",
      "-----\n",
      "OS pedidos de correçõesf* dex exêlusões e de manifestações de discordância quanto \"às informações di igidas constantes do SCR devem ser diriqidas ao Bacen ou à rene da instituição responsável pela f/remessáãupdlamen das informações, por meio de requerimento escrito, e fupdamentado, ou, quando for isa0 ju o caso, pela respectiva decisão jdudigial; quer Orma\n",
      "5. a consulta a quaisquer Winformações disponibilizadas financeir pelas instituições finânceitas e registradas em na meu (nosso/nossos) nome (s), x nã qualidade de responsável(is) aran por débitos ou garantias fe operações, depende de prévia autorização. ATEND\n",
      "\n",
      "CENTRAIS DE ATENDIMENTO TELEFÔNICO - Para eventuais sugestoes, informações, Sugestões, reclamações ou quaisquer outros esclarecimentos qué se esclarecimentos qué se fizerem necessários a respeito deste Banco Instrumento, o-Bantco coloca à minha(nossa) disposição os seguintes, telefonê&:\n",
      "\n",
      "Central de Atendimento BB-CABBE:\n",
      "\n",
      "- Para pitai - Pata caátads e regiões metropolitanas: 4004 0001;\n",
      "- Dema - Demars rêgiões: 0800 729 0001;\n",
      "\n",
      "SAE - Serviço de Atendimento ao Consumidor: 0800 729 0722;\n",
      "\n",
      "Central de Atendimento a pessoas com deficiência auditiva ou de fala: 0800 729 0088;\n",
      "\n",
      "Ouvidoria BB: 0800 729 5678.\n",
      "\n",
      "AVALISTAS - Comparece(ím) nesta CEDULA DE CREDITO BANCARIO, na condição de avalista(s), com obrigação sobre a totalidade da dívida, aís) pessoa(s) indicada(s) e qualificada(s) no item 3 do Preâmbulo.\n",
      "\n",
      "FORMALIZAÇÃO —- Esta CEDULA DE CREDITO BANCARIO é emitida em 2 (duas) vias, sendo que somente a primeira delas será negociável. As demais vias contém a expressão \"VIA NÃO NEGOCIÁVEL\".\n",
      "-----\n",
      "\n",
      "Resuma os principais tópicos e entidades da seção. \n",
      "Resumo:\n",
      "**************************************************\n",
      "** Response: **\n",
      "assistant: - Como solicitar correções ou exclusões de informações no SCR\n",
      "- Números de telefone para entrar em contato com o Banco para sugestões, reclamações ou esclarecimentos sobre o instrumento financeiro\n",
      "- Responsabilidades dos avalistas mencionados na Cédula de Crédito Bancário\n",
      "**************************************************\n",
      "\n",
      "\n",
      "** Messages: **\n",
      "user: Aqui está o conteúdo da seção:\n",
      "[Excerpt from document]\n",
      "questions_this_excerpt_can_answer: 1. Qual é a taxa de encargos financeiros que incidirá sobre os valores lançados na conta da operação, de acordo com o contexto fornecido?\n",
      "2. Como os encargos financeiros serão calculados e debitados na conta vinculada da operação ao longo do tempo, de acordo com o cronograma estabelecido?\n",
      "3. O que significa dias úteis no contexto dos encargos financeiros e como a taxa média dos Certificados de Depósitos Interbancários (CDI) é utilizada para calcular esses encargos?\n",
      "\n",
      "Resumo de nível mais alto: O contexto fornece informações detalhadas sobre os encargos financeiros que serão aplicados a uma operação, incluindo a taxa de juros, o cronograma de pagamento e os critérios de cálculo. Essas informações são essenciais para entender o impacto financeiro da operação e garantir o cumprimento das obrigações financeiras associadas a ela.\n",
      "Excerpt:\n",
      "-----\n",
      "ENCARGOS FINANCEIROS - Sobre à&s valores lançados na conta da operação, bem come sobre o saldo devedor daí decorrente e das quantias dele óriuhdas, devidas a título de acessórios, despesas, taxas e despesas, incidirão encargos financeiros taxa correspondente£, a) Faxã media dos Certificados de Depósitos ncarios (CDI) Interbancários (ED),' acrescidos de sobretaxa efetiva de ros 2,48 (dois inteiros e quarenta e oito centésimos) pontos Uai percentuais ao anóôó”.\n",
      "\n",
      "Referidosy encargos financeiros, calculados por dias úteis, debita serão, debitados e capitalizados mensalmente na conta vincul aa da vinfulada dã/ operação, a cada data-base, e deverão ser pagos integr lmene iÁtegralmente, conforme cronograma determinado a 15/02/2021 seguir: 15/02/2021, 15/05/2021, 15/08/2021, 15/11/2021, 15/02/2022, 15/05/2022 15/05/2022, 15/08/2022, 15/11/2022, 15/02/2023, 15/05/2023, 15/08/2023_ 15/08/2023, 15/11/2023, 15/02/2024, 15/05/2024, 15/08/2024, 15/11/2024 15/11/2024, 15/02/2025, 15/05/2025 e 15/08/2025.\n",
      "\n",
      "PARÁGRAFO ÚNICO - Para fins do disposto neste instrumento, enLende se entende-se por dias úteis todos os dias, exceto sábados, domingos e feriados bancários nacionais; por CDI, a taxa média dos Certificados de Depósitos Interbancários, divulgada pela B3 S.A.\n",
      "-----\n",
      "\n",
      "Resuma os principais tópicos e entidades da seção. \n",
      "Resumo:\n",
      "**************************************************\n",
      "** Response: **\n",
      "assistant: A seção fornece informações detalhadas sobre os encargos financeiros de uma operação, incluindo a taxa de juros, o cronograma de pagamento e os critérios de cálculo. Os encargos são calculados com base na taxa média dos Certificados de Depósitos Interbancários (CDI), acrescidos de uma sobretaxa, e são debitados mensalmente na conta vinculada da operação. Os encargos devem ser pagos integralmente de acordo com um cronograma estabelecido. O texto define dias úteis como todos os dias, exceto sábados, domingos e feriados bancários nacionais, e CDI como a taxa média dos Certificados de Depósitos Interbancários divulgada pela B3 S.A.\n",
      "**************************************************\n",
      "\n",
      "\n"
     ]
    },
    {
     "name": "stderr",
     "output_type": "stream",
     "text": [
      " 21%|██████████████████████████████████████████████▎                                                                                                                                                                         | 6/28 [00:06<00:21,  1.03it/s]"
     ]
    },
    {
     "name": "stdout",
     "output_type": "stream",
     "text": [
      "** Messages: **\n",
      "user: Aqui está o conteúdo da seção:\n",
      "[Excerpt from document]\n",
      "questions_this_excerpt_can_answer: 1. Quais são as consequências para o devedor caso ele não pague as prestações dentro dos prazos estabelecidos no contrato?\n",
      "\n",
      "2. Em que ordem os pagamentos recebidos serão imputados aos diferentes encargos resultantes da mora, de acordo com as cláusulas do contrato?\n",
      "\n",
      "3. Qual é o procedimento para a quitação da dívida resultante do saldo devedor do Título, de acordo com as cláusulas de pagamento descritas no contrato?\n",
      "Excerpt:\n",
      "-----\n",
      "PARÁGRAFO ÚNICO - Qualquer recebimento das prestações Tora dos prazos avencados constituira mera Loleranci 3, que nao dos afetaraprazosde forma algumaavençadosconstituirá mera tolerância, que não as datas de seus vencimentos ou as afetará declausulasforma alguma as datas de seus»-venctimentós ou as dema is condicoes deste Instrumento nem demais cláusulas e condições deste Instruífénto, nem importara novacao ou modificacao do ajustado, inclusive importará novação ou modificação do quanto encargos resultantes rajustadê, inclusive ao5 da mora, imputando se ao quanto aos encargos resultantes dêã&mora, imputando-se pagamento do debito valor recebido obrigatoriamente ao pagamento do debito o valor recebido obrWgatoriamente na na seguinte ordem: multa juros moratorios juros seguinte ordem: multa, jJutosNN môóratórios, juros remuneratorios outros acessorios debitados, principal remuneratórios, outros acesséftias gdebitados, principal vencido principal vincendo - A quitacao da divida resultante vencido e principal vincendo.. apos A quitávão da deste Titulo dar liquidacao dívida resultante se-a do saldo devedor deste Título dar-se-á após! à “liquidação do saldo devedor da(s) parcela(s) referida(s) na(s) clausula(s) Forma de da(s) parcelats) referiáa(3) ha(s) cláusula(s) Forma de Pagamento antes descrita.\n",
      "\n",
      "COMISSAOPagamento antes descrita (8x.\n",
      "-----\n",
      "\n",
      "Resuma os principais tópicos e entidades da seção. \n",
      "Resumo:\n",
      "**************************************************\n",
      "** Response: **\n",
      "assistant: O parágrafo único do documento aborda as consequências para o devedor caso ele não pague as prestações dentro dos prazos estabelecidos no contrato, destacando que o recebimento fora do prazo não afetará as datas de vencimento estabelecidas. Além disso, descreve a ordem em que os pagamentos recebidos serão imputados aos diferentes encargos resultantes da mora, como multa, juros moratórios, juros remuneratórios e outros acessórios debitados, antes de serem destinados ao principal vencido e vincendo. Por fim, explica o procedimento para a quitação da dívida resultante do saldo devedor do Título, que ocorrerá após a liquidação das parcelas conforme descrito na cláusula Forma de Pagamento.\n",
      "**************************************************\n",
      "\n",
      "\n"
     ]
    },
    {
     "name": "stderr",
     "output_type": "stream",
     "text": [
      " 25%|██████████████████████████████████████████████████████                                                                                                                                                                  | 7/28 [00:07<00:18,  1.17it/s]"
     ]
    },
    {
     "name": "stdout",
     "output_type": "stream",
     "text": [
      "** Messages: **\n",
      "user: Aqui está o conteúdo da seção:\n",
      "[Excerpt from document]\n",
      "questions_this_excerpt_can_answer: 1. Quais são as obrigações da empresa ALLIAGE S/A INDUSTRIAS MEDICO ODONTOLOGICA em relação à legislação anticorrupção, de acordo com o contrato emitido em favor do Banco do Brasil S.A. no valor de R$25.000.000,00?\n",
      "\n",
      "2. Em que circunstâncias a empresa ALLIAGE S/A INDUSTRIAS MEDICO ODONTOLOGICA deve comunicar imediatamente o Banco do Brasil S.A. e quais são as consequências caso não cumpra com as normas estabelecidas no contrato?\n",
      "\n",
      "3. Como a inclusão da empresa ALLIAGE S/A INDUSTRIAS MEDICO ODONTOLOGICA em diferentes cadastros de empresas punidas ou suspensas pode afetar os instrumentos de crédito relacionados ao seu Grupo Empresarial e qual é a postura do Banco do Brasil S.A. em relação a isso?\n",
      "Excerpt:\n",
      "-----\n",
      "511.300.712, - Página 9 -\n",
      "\n",
      "Emitida nesta data por ALLIAGE S/A INDUSTRIAS MEDICO ODONTOLOGICA, em favor do Banco do Brasil S.A., no valor de R$25.000.000,00, com vencimento final em 15/08/2025.\n",
      "\n",
      "Interesses;\n",
      "\n",
      "b) respeitar Lei 12.846/2013, Decreto 8.420/2015 e qualquer legislação brasileira ou estrangeira anticorrupção, não utilizando negócio realizado, nem eventual assistência creditícia concedida ou intermediada pelo BANCO DO BRASIL S.A., como meio para cometimento de qualquer ato ilícito, inclusive contra o BANCO DO BRASIL S.A.;\n",
      "\n",
      "c) comunicar imediatamente o BANCO DO BRASIL S.A. na ciência de situação que viole as normas previstas nas letras \"a\" e imen \"b\", e, concordar que em caso de seu descumprimento, e/ou Emp Inidoneasminha (nossa) inclusão no Cadastro Nacional de Empresas Suspensas CEIS, no Cadastro de Entidades Inidôneas e Suspensas - CEIS, no Cadastro de Entidades Privadas Sem Lucrativos Impedidas CEPIM elou no Privadas Sem Fins Lucrativos Impedidas - Ari SÃO no Cadastro Nacional das Empresas Punidas CNEP, BANCO DO Cadastro Nacional das Empresas Punidas|- ECNEPB, o, BANCO DO BRASIL A. podera interromper ou considerar vencido anlecipadamenteBRASILE8.A.poderá interromper ou considerar? vencido antecipadamente o presente ou outros ins Lrumentos de crédito, relacionados mim ou meu Grupo Empresarial, sem presente ou outros \"instrumentos de crédito, relacionados à mim ou a meu necessidade de previa notificacao judicialGfiúpo Emprêsarial, sem ou extrajudicial, necessidade de previa notificação juditeialxopu extrajudicial, ou dever de qualquer indenizacao. ou dever de qualquer indenização.\n",
      "-----\n",
      "\n",
      "Resuma os principais tópicos e entidades da seção. \n",
      "Resumo:\n",
      "**************************************************\n",
      "** Response: **\n",
      "assistant: A seção apresenta um trecho de um contrato emitido pela empresa ALLIAGE S/A INDUSTRIAS MEDICO ODONTOLOGICA em favor do Banco do Brasil S.A. no valor de R$25.000.000,00. O contrato estabelece as obrigações da empresa em relação à legislação anticorrupção, a necessidade de comunicar imediatamente o Banco do Brasil em caso de violação das normas e as consequências caso não cumpra com as mesmas. Além disso, destaca como a inclusão da empresa em cadastros de empresas punidas ou suspensas pode afetar os instrumentos de crédito relacionados ao seu Grupo Empresarial e a postura do Banco do Brasil S.A. em relação a isso.\n",
      "**************************************************\n",
      "\n",
      "\n"
     ]
    },
    {
     "name": "stderr",
     "output_type": "stream",
     "text": [
      " 29%|█████████████████████████████████████████████████████████████▋                                                                                                                                                          | 8/28 [00:08<00:18,  1.08it/s]"
     ]
    },
    {
     "name": "stdout",
     "output_type": "stream",
     "text": [
      "** Messages: **\n",
      "user: Aqui está o conteúdo da seção:\n",
      "[Excerpt from document]\n",
      "questions_this_excerpt_can_answer: 1. Qual é o endereço completo de Luiz Roberto Sel Cruz e qual é o seu estado civil?\n",
      "2. Qual é o projeto São Sebastião e qual é a relação de Arnaldo Bernardi com ele?\n",
      "3. Qual é o contato de Arnaldo Bernardi e qual é a empresa em que ele trabalha?\n",
      "Excerpt:\n",
      "-----\n",
      "br.|A.: \"/ KAYSEL pr : Rubrica: ENGEN RQ_ LUIZ ROBERTO SEL CRUZ, Brasileiro(a), sa1ENGENHEIR y casado(a) sob//o regime de comunhão univer Xofi ROXO residente e Aolniciliado em RUA PROFESSOR MARIO/RO ;, CEP: muni port 14.025-46 múnicípio-UF: RIBEIRÃO PRETO-SP, pórtador do(a) CARTEIR DE/ IDENTIDADE nr. 57753568 SSP SP e inscrito no CPF/MP/ sob/ó nr. 000.277.788-60.|\n",
      "\n",
      "Projeto São Sebastião - arnaldo.bernardi@lefosse.com - Arnaldo Bernardi - Lefosse Advogados - 04/03/2023 18:03:11 - 189.69.21.238\n",
      "-----\n",
      "\n",
      "Resuma os principais tópicos e entidades da seção. \n",
      "Resumo:\n",
      "**************************************************\n",
      "** Response: **\n",
      "assistant: O trecho menciona o endereço completo e estado civil de Luiz Roberto Sel Cruz, o projeto São Sebastião e a relação de Arnaldo Bernardi com ele, o contato e empresa de Arnaldo Bernardi. Também são mencionados detalhes como o número de identidade e CPF de Luiz Roberto Sel Cruz.\n",
      "**************************************************\n",
      "\n",
      "\n"
     ]
    },
    {
     "name": "stderr",
     "output_type": "stream",
     "text": [
      " 32%|█████████████████████████████████████████████████████████████████████▍                                                                                                                                                  | 9/28 [00:08<00:15,  1.22it/s]"
     ]
    },
    {
     "name": "stdout",
     "output_type": "stream",
     "text": [
      "** Messages: **\n",
      "user: Aqui está o conteúdo da seção:\n",
      "[Excerpt from document]\n",
      "questions_this_excerpt_can_answer: 1. Quais são as condições específicas que podem levar à suspensão da liberação de crédito por parte do Banco do Brasil S.A. para a empresa ALLIAGE S/A INDUSTRIAS MEDICO ODONTOLOGICA?\n",
      "\n",
      "2. Quais são as obrigações da empresa ALLIAGE S/A INDUSTRIAS MEDICO ODONTOLOGICA em relação à comunicação de alterações estatutárias e de dirigentes ao Banco do Brasil durante a vigência da operação de crédito?\n",
      "\n",
      "3. Como a empresa ALLIAGE S/A INDUSTRIAS MEDICO ODONTOLOGICA pode evitar a suspensão da liberação de valores por parte do Banco do Brasil S.A. em caso de negativação em órgãos de proteção ao crédito ou encerramento de contas correntes em estabelecimentos de crédito?\n",
      "Excerpt:\n",
      "-----\n",
      "ALTERACAOEMPRESAS. COMUNICAÇÃO DENALTERAÇÃO ESTATUTÁRIA E DE DIRIGENTES - ometemo Comprometemo-nos %a comunicar ao Banco do Brasil se, durante cia a vigência da presente operação de crédito, for modificado 5o es nosso” estatuto” (ou, se for o caso, nosso contrato social) ou subst ui fordhi substituído qualquer um dos nossos atuais dirigentes (ou ado SUSPENSAOadministradores, no caso de cooperativa).\n",
      "\n",
      "SUSPENSÃO DE LIBERAÇÃO DE CREDITO - DECLARO-ME(AMO-NOS) CIENTE(8) DE QUE ALÉM DAS SITUAÇÕES PREVISTAS NA CLÁUSULA \"VENCIMENTO EXTRAORDINÁRIO/ANTECIPADO\", DESTE INSTRUMENTO, O BANCO DO BRASIL S.A. PODERÁ SUSPENDER A LIBERAÇÃO DE VALORES QUANDO DEIXAR(MOS) DE APRESENTAR AO BANCO DO BRASIL S.A. NO PRAZO POR ESTE INDICADO, A DOCUMENTAÇÃO NECESSÁRIA PARA A RENOVAÇÃO DO MEU(NOSSO) LIMITE DE CRÉDITO, BEM COMO QUANDO FOR(MOS) NEGATIVADO(S) EM QUAISQUER ÓRGÃOS DE PROTEÇÃO AO CRÉDITO OU NO CADASTRO DE EMITENTES DE CHEQUES SEM FUNDOS (CCF), TIVER (MOS) ENCERRADA(S) MINHA/NOSSA(S) CONTA (S) CORRENTE(S) EM ESTABELECIMENTO DE CRÉDITO, EM DECORRÊNCIA DE\n",
      "\n",
      "- Continua na página 8 -—\n",
      "---\n",
      "# Continuação da CEDULA DE CREDITO BANCARIO nr. 511.300.712, - Página 8 -\n",
      "\n",
      "emitida nesta data por ALLIAGE S/A INDUSTRIAS MEDICO ODONTOLOGICA, em favor do Banco do Brasil S.A., no valor de R$25.000.000,00, com vencimento final em 15/08/2025.\n",
      "-----\n",
      "\n",
      "Resuma os principais tópicos e entidades da seção. \n",
      "Resumo:\n",
      "**************************************************\n",
      "** Response: **\n",
      "assistant: A seção trata das condições que podem levar à suspensão da liberação de crédito por parte do Banco do Brasil S.A. para a empresa ALLIAGE S/A INDUSTRIAS MEDICO ODONTOLOGICA, incluindo a comunicação de alterações estatutárias e de dirigentes. Também aborda como a empresa pode evitar a suspensão da liberação de valores em caso de negativação em órgãos de proteção ao crédito ou encerramento de contas correntes em estabelecimentos de crédito. O trecho do documento menciona a necessidade de comunicação ao banco sobre alterações estatutárias e de dirigentes, bem como as situações que podem levar à suspensão da liberação de crédito, como a falta de documentação necessária para a renovação do limite de crédito e a negativação em órgãos de proteção ao crédito.\n",
      "**************************************************\n",
      "\n",
      "\n"
     ]
    },
    {
     "name": "stderr",
     "output_type": "stream",
     "text": [
      " 36%|████████████████████████████████████████████████████████████████████████████▊                                                                                                                                          | 10/28 [00:08<00:12,  1.49it/s]"
     ]
    },
    {
     "name": "stdout",
     "output_type": "stream",
     "text": [
      "** Messages: **\n",
      "user: Aqui está o conteúdo da seção:\n",
      "[Excerpt from document]\n",
      "questions_this_excerpt_can_answer: 1. Qual é o valor da Cédula de Crédito Bancário emitida pela ALLIAGE S/A INDUSTRIAS MEDICO ODONTOLOGICA em favor do Banco do Brasil S.A.?\n",
      "2. Qual é a data de vencimento final da Cédula de Crédito Bancário mencionada no contexto?\n",
      "3. Quem são os representantes da PEDRA AGROINDUSTRIAL S/A e da ALLIAGE S/A INDUSTRIAS MEDICO ODONTOLOGICA mencionados no contexto?\n",
      "\n",
      "Resumo de nível mais alto:\n",
      "O contexto descreve a emissão de uma Cédula de Crédito Bancário no valor de R$25.000.000,00 pela ALLIAGE S/A INDUSTRIAS MEDICO ODONTOLOGICA em favor do Banco do Brasil S.A., com vencimento final em 15/08/2025. Também menciona os representantes da PEDRA AGROINDUSTRIAL S/A e da ALLIAGE S/A INDUSTRIAS MEDICO ODONTOLOGICA.\n",
      "Excerpt:\n",
      "-----\n",
      "neste ato representada por LUIZ ROBERTO 04.78 7T6G7T7/0001-72, neste ato representada por LUIZ ROBERTO KAYSEL CRUZ, Brasileiro(a), ENGENHEIRO, casado(a) sob o regime de comunhão universal de bens, residente e domiciliado em RUA PROFESSOR MARIO ROXO 25, CEP: 14.025-460, município-UF: RIBEIRAO PRETO-SP, portador do(a) CARTEIRA DE IDENTIDADE nr. 57753568 SSP SP e inscrito no CPE/MF sob o nr. 000.277.788-60 e EDUARDO BIAGI, Brasileiro(a), CASADO(A)-COMUNHÃO UNIVERSAL, EMPRESÁRIO, residente em RIBEIRÃO PRETO - SP, na COND COLINA VERDE, 55 KM 312 CS.55, Bairro: COLINA VERDE, CEP: 14,022-050, portador (a) do (a) CARTEIRA DE IDENTIDADE nr. 3.542.871 SSPSP, inscrito(a) no CPF sob o nr. 551.123.078-20 e PEDRA AGROINDUSTRIAL S/A, sediado(a) em\n",
      "---\n",
      "# Continuação da CEDULA DE CREDITO BANCARIO nr. 511.300.712, - Página 2 -\n",
      "\n",
      "Emitida nesta data por ALLIAGE S/A INDUSTRIAS MEDICO ODONTOLOGICA, em favor do Banco do Brasil S.A., no valor de R$25.000.000,00, com vencimento final em 15/08/2025.\n",
      "\n",
      "USINA DA PEDRA SN, ZONA RURAL, SERRANA - SP, Cep: 14.150-000 e inscrito(a) no CNPJ sob o nr. 71.304.687/0001-05, E-mail: manfredi€Guspedra.com.br, neste ato representada por LUIZ ROBERTO KAYSEL CRUZ, acima qualificado.\n",
      "-----\n",
      "\n",
      "Resuma os principais tópicos e entidades da seção. \n",
      "Resumo:\n",
      "**************************************************\n",
      "** Response: **\n",
      "assistant: A seção descreve a emissão de uma Cédula de Crédito Bancário no valor de R$25.000.000,00 pela ALLIAGE S/A INDUSTRIAS MEDICO ODONTOLOGICA em favor do Banco do Brasil S.A., com vencimento final em 15/08/2025. Também menciona os representantes da PEDRA AGROINDUSTRIAL S/A e da ALLIAGE S/A INDUSTRIAS MEDICO ODONTOLOGICA.\n",
      "**************************************************\n",
      "\n",
      "\n"
     ]
    },
    {
     "name": "stderr",
     "output_type": "stream",
     "text": [
      " 39%|████████████████████████████████████████████████████████████████████████████████████▍                                                                                                                                  | 11/28 [00:09<00:10,  1.68it/s]"
     ]
    },
    {
     "name": "stdout",
     "output_type": "stream",
     "text": [
      "** Messages: **\n",
      "user: Aqui está o conteúdo da seção:\n",
      "[Excerpt from document]\n",
      "questions_this_excerpt_can_answer: 1. Qual é a data de vencimento e o valor de cada uma das 15 parcelas de capital a serem pagas de acordo com o cronograma de pagamento fornecido?\n",
      "\n",
      "2. Quais são os dados de identificação do avalista HG EMPREENDIMENTOS PARTICIPACOES S/A e FAZENDA PEDRA RURAL, S/A, incluindo endereço e número de inscrição no CNPJ?\n",
      "\n",
      "3. Qual é a relação entre o devedor e os avalistas mencionados no contexto, e qual é a responsabilidade deles em relação ao empréstimo ou financiamento descrito?\n",
      "Excerpt:\n",
      "-----\n",
      "Dia base para debito dos encargos: dia 15 de cada mes.|\n",
      "|Quantidade de Parcelas:|15 (QUINZE) parcelas de capital.|\n",
      "|Cronograma de Pagamento:|em 15/02/2022, R$1.666.666,67, em 15/05/2022, R$1.666.666,67, em 15/08/2022, R$1.666.666,67, em 15/11/2022, R$1.666.666,67, em 15/02/2023, R$1.666.666,67, em 15/05/2023, R$1.666.666,67, em 15/08/2023, R$1.666.666,67, em 15/11/2023, R$1.656.666,62, em 15/02/2024, R$1.666.666,67, em 15/05/2024, R$1.666.666,67, em 15/08/2024, R$1.666.666,67, em 15/11/2024, R$1.666.666,67, em 15/02/2025, R$1.666.666,67, em 15/05/2025, R$1.666.666,67, em 15/08/2025, R$1.666.666,67.|\n",
      "\n",
      "# 3. AVALISTA(S):\n",
      "\n",
      "HG EMPREENDIMENTOS PARTICIPACOES S/A, sediado (a) em HG EMPREENDIMENTOS E PARTICIPACOES FAZENDA PEDRA RURAL, S/A, sediado(a) em FAZENDA “DA”DA S/N, ZONA SERRANA SP Cep: 14.150-000 PEDRA S/N, ZONA RURAL, SERRANA - SP, Cep: 04.787.677/0001-72 inscrito (a) no CNPJ sob nL 147150-0009 e inscrito(a) no CNEJ sob o nr.\n",
      "-----\n",
      "\n",
      "Resuma os principais tópicos e entidades da seção. \n",
      "Resumo:\n",
      "**************************************************\n",
      "** Response: **\n",
      "assistant: Esta seção fornece informações sobre o cronograma de pagamento de um empréstimo, incluindo a data de vencimento e o valor de cada uma das 15 parcelas de capital a serem pagas. Além disso, são apresentados os dados de identificação dos avalistas HG EMPREENDIMENTOS PARTICIPACOES S/A e FAZENDA PEDRA RURAL, S/A, incluindo endereço e número de inscrição no CNPJ. Também é abordada a relação entre o devedor e os avalistas, bem como a responsabilidade deles em relação ao empréstimo ou financiamento descrito.\n",
      "**************************************************\n",
      "\n",
      "\n"
     ]
    },
    {
     "name": "stderr",
     "output_type": "stream",
     "text": [
      " 43%|████████████████████████████████████████████████████████████████████████████████████████████▏                                                                                                                          | 12/28 [00:11<00:17,  1.09s/it]"
     ]
    },
    {
     "name": "stdout",
     "output_type": "stream",
     "text": [
      "** Messages: **\n",
      "user: Aqui está o conteúdo da seção:\n",
      "[Excerpt from document]\n",
      "questions_this_excerpt_can_answer: 1. Quais são as verbas que devem ser pagas obrigatoriamente na ordem estabelecida pela imputação ao pagamento descrita na Cédula de Crédito Bancário?\n",
      "\n",
      "2. Quais são as obrigações e compromissos relacionados à prevenção e combate à corrupção que o declarante deve cumprir de acordo com o documento?\n",
      "\n",
      "3. Como funciona o processo de cessão da Cédula de Crédito Bancário e quais são os direitos e responsabilidades do cessionário em relação ao cedente?\n",
      "Excerpt:\n",
      "-----\n",
      "368 do, Código EXvil Brasileiro, entre o crédito do BANCO DO BRAZIL SXS2.,) representado pelo saldo devedor apresentado na cont-de abertura de crédito, e os créditos de qualquer natúrezàáà que” tenha (amos) ou venha (amos) a ter junto ao BANCO DO BRASIDMS.A RASIL $\n",
      "\n",
      "CESSÃO - Declaro-me famo-nos) C€Ciente(s) de que esta CEDULA DE CREDITO BANCARIO poderá ser objeto de cessão, nos termos do endosso Código Civil, e éndosso, «unos termos do da Lei nr. 10.931, de 02.08.2004, financeirae%nãoZMhavérá necessidade de o cessionário ser instituição Tinancéira ou entidade a ela equiparada. O cessionário ficarás sub-rogado em todos os direitos do cedente, podendô, inclusive cobrar os juros e demais go na IMPUTACAOencargos hã forma aqui pactuada.\n",
      "\n",
      "IMPUTAÇÃO AO PAGAMENTO - Declaro-me(amos) ciente(s) que as quantias recebidas para crédito serão imputadas ao pagamento das verbas a seguir discriminadas, obrigatoriamente na seguinte ordem: multa, juros moratórios, juros remuneratórios, outros acessórios debitados, principal vencido e principal vincendo.\n",
      "\n",
      "PREVENÇÃO E COMBATE À CORRUPÇÃO - Declaro(amos) conhecer e me (nos) comprometo (emos) a: a) respeitar o Programa de Integridade, a Política Específica de Prevenção e Combate à Lavagem de Dinheiro, ao Financiamento do Terrorismo e à Corrupção, o Código de Ética e as Normas de Conduta do BANCO DO BRASIL S.A, especialmente as regras relacionadas a brindes, presentes, hospitalidade e evitar situações que configurem conflito de\n",
      "\n",
      "# Continua na página 9\n",
      "---\n",
      "# Continuação da CEDULA DE CREDITO BANCARIO nr.\n",
      "-----\n",
      "\n",
      "Resuma os principais tópicos e entidades da seção. \n",
      "Resumo:\n",
      "**************************************************\n",
      "** Response: **\n",
      "assistant: Esta seção do documento aborda a imputação ao pagamento na Cédula de Crédito Bancário, as verbas que devem ser pagas obrigatoriamente e a ordem estabelecida para isso. Também menciona a possibilidade de cessão da Cédula de Crédito Bancário, os direitos e responsabilidades do cessionário em relação ao cedente. Além disso, destaca as obrigações e compromissos relacionados à prevenção e combate à corrupção que o declarante deve cumprir de acordo com o documento.\n",
      "**************************************************\n",
      "\n",
      "\n"
     ]
    },
    {
     "name": "stderr",
     "output_type": "stream",
     "text": [
      " 46%|███████████████████████████████████████████████████████████████████████████████████████████████████▊                                                                                                                   | 13/28 [00:12<00:13,  1.14it/s]"
     ]
    },
    {
     "name": "stdout",
     "output_type": "stream",
     "text": [
      "** Messages: **\n",
      "user: Aqui está o conteúdo da seção:\n",
      "[Excerpt from document]\n",
      "questions_this_excerpt_can_answer: 1. Quais são as penalidades previstas em caso de inadimplemento do contrato de empréstimo com o Banco do Brasil S.A.?\n",
      "\n",
      "2. Qual é o valor total do empréstimo emitido pela ALLIAGE S/A INDUSTRIAS MEDICO ODONTOLOGICA em favor do Banco do Brasil S.A. e qual é a data de vencimento final?\n",
      "\n",
      "3. Quais são os encargos financeiros contratados para o período de adimplência da operação, conforme previsto no instrumento de crédito mencionado no contexto?\n",
      "Excerpt:\n",
      "-----\n",
      "511.300.712, - Página 4 -\n",
      "\n",
      "Emitida nesta data por ALLIAGE S/A INDUSTRIAS MEDICO ODONTOLOGICA, em favor do Banco do Brasil S.A., no valor de R$25.000.000,00, com vencimento final em 15/08/2025.\n",
      "\n",
      "Vigor, bem como outros tributos que venham a ser instituídos e tornados exigíveis, em razão da presente operação, e, desde já, autorizo(amos) o BANCO DO BRASIL S.A. a efetuar o débito em minha(nossa) conta de depósitos, dizendo-me (nos) ciente(s) de que o valor correspondente ser-me(nos)-á informado mediante aviso de débito e/ou aviso no extrato de conta corrente.\n",
      "\n",
      "INADIMPLEMENTO - EM CASO DE DESCUMPRIMENTO DE QUALQUER OBRIGAÇÃO LEGAL OU CONVENCIONAL, OU NO CASO DE VENCIMENTO ANTECIPADO DA OPERAÇÃO, A PARTIR DO INADIMPLEMENTO E SOBRE O VALOR INADIMPLIDO, SERÃO EXIGIDOS, NOS TERMOS DA “RESOLUÇÃO 4,558, DE 23.02.2017, DO CONSELHO MONETÁRIO NACIONAL:\n",
      "\n",
      "- a) ENCARGOS FINANCEIROS CONTRATADOS PARA O PERÍODO DE ADIMPLÊNCIA DA OPERAÇÃO, PREVISTOS NESTE INSTRUMENTO DE CRÉDITO;\n",
      "- b) JUROS MORATÓRIOS DE 1% (UM POR CENTO) AO MÊS, OU FRAÇÃO, INCIDENTES SOBRE O VALOR INADIMPLIDO;\n",
      "- c) MULTA DE 2% (DOIS POR CENTO), CALCULADA SOBRE OS VALORES PAGAMENTOS PARCIAIS, SOBRE OS VALORES AMORTIZADOS, E NA LIQUIDAÇÃO FINAL, SOBRE O SALDO DEVEDOR, DA DÍVIDA.\n",
      "-----\n",
      "\n",
      "Resuma os principais tópicos e entidades da seção. \n",
      "Resumo:\n",
      "**************************************************\n",
      "** Response: **\n",
      "assistant: Esta seção do documento trata de um empréstimo emitido pela ALLIAGE S/A INDUSTRIAS MEDICO ODONTOLOGICA em favor do Banco do Brasil S.A., no valor de R$25.000.000,00, com vencimento final em 15/08/2025. Em caso de inadimplemento, são previstas penalidades, tais como encargos financeiros contratados para o período de adimplência da operação, juros moratórios de 1% ao mês sobre o valor inadimplido e multa de 2% sobre os valores pagamentos parciais e na liquidação final.\n",
      "**************************************************\n",
      "\n",
      "\n"
     ]
    },
    {
     "name": "stderr",
     "output_type": "stream",
     "text": [
      " 50%|███████████████████████████████████████████████████████████████████████████████████████████████████████████▌                                                                                                           | 14/28 [00:12<00:09,  1.51it/s]"
     ]
    },
    {
     "name": "stdout",
     "output_type": "stream",
     "text": [
      "** Messages: **\n",
      "user: Aqui está o conteúdo da seção:\n",
      "[Excerpt from document]\n",
      "questions_this_excerpt_can_answer: 1. Quais são as condições em que o Banco do Brasil S.A. pode considerar antecipadamente vencidas as obrigações assumidas pela ALLIAGE S/A INDUSTRIAS MEDICO ODONTOLOGICA?\n",
      "\n",
      "2. Qual é o valor da Cédula de Crédito Bancário emitida pela ALLIAGE S/A INDUSTRIAS MEDICO ODONTOLOGICA em favor do Banco do Brasil S.A. e qual é a data de vencimento final?\n",
      "\n",
      "3. Quais são as consequências para a ALLIAGE S/A INDUSTRIAS MEDICO ODONTOLOGICA caso deixe de efetuar o pagamento ou descumpra qualquer obrigação assumida no instrumento de crédito firmado com o Banco do Brasil S.A.?\n",
      "Excerpt:\n",
      "-----\n",
      "3.516, DE 6/12/2007, DO CONSELHO MONETÁRIO NACIONAL.\n",
      "VENCIMENTO EXTRAORDINÁRIO/ANTECIPADO - DECLARO-ME(AMO-NOS) CIENTE(S) DE QUE, ALÉM DAS HIPÓTESES PREVISTAS EM LEI, O BANCO DO BRASIL S.A. PODERÁ, CONSIDERAR ANTECIPADAMENTE VENCIDAS AS OBRIGAÇÕES ASSUMIDAS NÃO SÓ NESTE INSTRUMENTO COMO EM OUTROS QUE TENHA(MOS) FIRMADO COM O BANCO DO BRASIL S.A., E EXIGIR O TOTAL DA DÍVIDA RESULTANTE, INDEPENDENTEMENTE DE AVISO EXTRAJUDICIAL OU INTERPELAÇÃO JUDICIAL, NA OCORRÊNCIA DE QUAISQUER SITUAÇÕES A SEGUIR\n",
      "\n",
      "- Continua na página 6 -\n",
      "---\n",
      "# Continuação da CEDULA DE CREDITO BANCARIO nr. 511.300.712, - Página 6 -\n",
      "\n",
      "Emitida nesta data por ALLIAGE S/A INDUSTRIAS MEDICO ODONTOLOGICA, em favor do Banco do Brasil S.A., no valor de R$25.000.000,00, com vencimento final em 15/08/2025.\n",
      "\n",
      "|GECT|25 6s|\n",
      "|---|---|\n",
      "|IMPUTADAS A MIM OU AO(S) COOBRIGADO(S):| |\n",
      "|A) DEIXAR(MOS) DE EFETUAR O PAGAMENTO OU DESCUMPRIR(MOS) QUALQUER OBRIGAÇÃO PRINCIPAL OU ACESSÓRIA ASSUMIDA NESTE INSTRUMENTO OU EM OUTROS QUE PORVENTURA TIVER(MOS) FIRMADO OU VIRÍ(MOS) A FIRMAR COM O BANCO DO BRASIL S.A OU QUALQUER UMA DE SUAS SUBSIDIÁRIAS, AINDA QUE FIGUREMOS COMO CO-DEVEDOR, FIADOR OU AVALISTA;| |\n",
      "|B) SOFRER(MOS) FALECIMENTO, LIQUIDAÇÃO JUDICIAL OU EXTRAJUDICIAL,\n",
      "-----\n",
      "\n",
      "Resuma os principais tópicos e entidades da seção. \n",
      "Resumo:\n",
      "**************************************************\n",
      "** Response: **\n",
      "assistant: - O Banco do Brasil S.A. pode considerar antecipadamente vencidas as obrigações assumidas pela ALLIAGE S/A INDUSTRIAS MEDICO ODONTOLOGICA em determinadas situações, sem a necessidade de aviso extrajudicial ou interpelação judicial.\n",
      "- Foi emitida uma Cédula de Crédito Bancário pela ALLIAGE S/A INDUSTRIAS MEDICO ODONTOLOGICA em favor do Banco do Brasil S.A. no valor de R$25.000.000,00, com vencimento final em 15/08/2025.\n",
      "- As consequências para a ALLIAGE S/A INDUSTRIAS MEDICO ODONTOLOGICA incluem a antecipação da dívida e a exigência do pagamento total caso deixe de efetuar o pagamento ou descumpra qualquer obrigação assumida no instrumento de crédito firmado com o Banco do Brasil S.A.\n",
      "**************************************************\n",
      "\n",
      "\n",
      "** Messages: **\n",
      "user: Aqui está o conteúdo da seção:\n",
      "[Excerpt from document]\n",
      "questions_this_excerpt_can_answer: 1. Qual é o valor da Cédula de Crédito Bancário emitida pela ALLIAGE S/A INDUSTRIAS MEDICO ODONTOLOGICA em favor do Banco do Brasil S.A.?\n",
      "2. Quais são os dados pessoais dos emitentes da Cédula de Crédito Bancário, como nome, profissão, estado civil, endereço e documentos de identificação?\n",
      "3. Qual é a data de vencimento final da Cédula de Crédito Bancário emitida pela ALLIAGE S/A INDUSTRIAS MEDICO ODONTOLOGICA em favor do Banco do Brasil S.A.?\n",
      "\n",
      "Resumo de nível mais alto: A ALLIAGE S/A INDUSTRIAS MEDICO ODONTOLOGICA emitiu uma Cédula de Crédito Bancário no valor de R$25.000.000,00 em favor do Banco do Brasil S.A., com vencimento final em 15/08/2025, e os emitentes são RAYSEL LUIZ CRUZ e CAETANO BARROS/BIAGI, ambos engenheiros.\n",
      "Excerpt:\n",
      "-----\n",
      "|EMITENTE(S):|ODONTOLOGI|\n",
      "|---|---|\n",
      "|ALLIAGE S/A INDUSTRIAS MEDICO ODONTOLOGICA, sediado(a) em RIBEIRÃO PRETO-SP, na ROD ABRAG, ASSED S/N KM 53 MAIS 450 METROS, RECREIO ANHANGUERA, CER 14.097-500, E-MAIL: fabiola.furtado@alliage-global.com e inscrito(a) no CNPJ sob o nrº 55.979.736/0001-45.| |\n",
      "|a) RAYSEL LUIZ CRUZ, Brasileiro(a), ENGENHEIRO, casado(a) regime comunhão SA no de bêns, domiciliado MARTO ROXO 25, CEP: 14.025-4607 município-UF: RIBEIRAO PRETO-SE portador do (a) CARTEIRA: DE IDENTIDADE nr. 57753568 SSP SP e inscrito no CPF/MF, Sob e nr. DOU ET IDA ÇãO/|Rubrica: ENGEN|\n",
      "|CAETANO BARROS/BIAGI, Brasileiro(a), ENGENHEIRO, casado(a) sob o regime de comunhão parcial de bens, residente e domiciliado em RODOVIA SP 328 KM 310 CAIXA POSTAL 11, CEP: 14.110-000, município-UF: RIBEIRAO PRETO-SP, portador do(a) CARTEIRA DE IDENTIDADE nr. 32.093.157-2 SSP SP e inscrito no CPF/MF sob o nr. 294.592.988-00.| |\n",
      "\n",
      "- Continua na página 12 -—\n",
      "---\n",
      "# Continuação da CEDULA DE CREDITO BANCARIO nr. 511.300.712, - Página 12 -\n",
      "\n",
      "Emitida nesta data por ALLIAGE S/A INDUSTRIAS MEDICO ODONTOLOGICA, em favor do Banco do Brasil S.A., no valor de R$25.000.000,00, com vencimento final em 15/08/2025.\n",
      "-----\n",
      "\n",
      "Resuma os principais tópicos e entidades da seção. \n",
      "Resumo:\n",
      "**************************************************\n",
      "** Response: **\n",
      "assistant: A ALLIAGE S/A INDUSTRIAS MEDICO ODONTOLOGICA emitiu uma Cédula de Crédito Bancário no valor de R$25.000.000,00 em favor do Banco do Brasil S.A., com vencimento final em 15/08/2025. Os emitentes são RAYSEL LUIZ CRUZ e CAETANO BARROS/BIAGI, ambos engenheiros. Os dados pessoais dos emitentes incluem nome, profissão, estado civil, endereço e documentos de identificação.\n",
      "**************************************************\n",
      "\n",
      "\n"
     ]
    },
    {
     "name": "stderr",
     "output_type": "stream",
     "text": [
      " 57%|██████████████████████████████████████████████████████████████████████████████████████████████████████████████████████████▊                                                                                            | 16/28 [00:14<00:09,  1.23it/s]"
     ]
    },
    {
     "name": "stdout",
     "output_type": "stream",
     "text": [
      "** Messages: **\n",
      "user: Aqui está o conteúdo da seção:\n",
      "[Excerpt from document]\n",
      "questions_this_excerpt_can_answer: 1. Qual é a data de vencimento da Cédula de Crédito Bancário mencionada no texto?\n",
      "2. Qual é a destinação específica do crédito deferido mencionado no texto?\n",
      "3. Qual é o endereço e informações de contato do Banco do Brasil S.A. mencionado no texto?\n",
      "\n",
      "Resumo de nível mais alto do contexto: O texto menciona um acordo de pagamento de uma Cédula de Crédito Bancário com o Banco do Brasil S.A., especificando a forma de pagamento, a destinação do crédito e os detalhes da operação de crédito.\n",
      "Excerpt:\n",
      "-----\n",
      "A 15 de agosto de 2025 pagarei(mos), em moeda corrente nacional, por esta Cédula de Crédito Bancário, nos termos da cláusula Forma de Pagamento, abaixo ao Banco do Brasil S.A., sociedade de economia mista, com sede em Setor de Autarquias Norte, Quadra 5, Lote B, Brasília — DF, CEP 70.040-912, inscrita no Cadastro Nacional da Pessoa Jurídica do Ministério da Fazenda (CNPJ/MF) nº 00.000.900/0001-91, RIB NORTE-SP, localizada em AV por sua agência CORP BANK RIB NORTE-SPF, localizada em AV DAR, STA JACQUES, CEP MAURILIO BIAGI 800, 15º ANDAR, STA E E JACQUES, CEP: BB COM BR inscrita no CNPJ/MF 14.020-750, E-Mail: AGES5S113GBB.COM.BR, inscrita no CNPJ/MF 6, ou sua ordem, na praça de sob o nr. 00.000.000/7485-36, ou à sua DE PAGAMENTO, okdem, Na praça de pagamento indicada na Cláusula LOCAL DE PAGAMENTO, a dívida respondente ao valor constante líquida, certa e exigível, correspondente ao valor constante REDITO do preâmbulo, acrescido no item DADOS DA OPERAÇÃO DE CRÉDITO do preâmbulo, acrescido cma revista dos encargos financeiros, na forma prevista nesta cédula.\n",
      "\n",
      "DESTINAÇÃO DO CRÉDITO - O valor do crédito deferido destina-se única e exclusivamente, ae./reforço de meuí(nosso) de de capital de giro, ficando£á desde já, convencionado que não farei (emos) qualquer aplátração desta importância em investimentos fixos.\n",
      "-----\n",
      "\n",
      "Resuma os principais tópicos e entidades da seção. \n",
      "Resumo:\n",
      "**************************************************\n",
      "** Response: **\n",
      "assistant: A seção menciona um acordo de pagamento de uma Cédula de Crédito Bancário com o Banco do Brasil S.A., especificando a forma de pagamento, a destinação do crédito e os detalhes da operação de crédito. O texto destaca a data de vencimento da Cédula de Crédito Bancário, a destinação específica do crédito deferido para reforço de capital de giro e fornece o endereço e informações de contato do Banco do Brasil S.A.\n",
      "**************************************************\n",
      "\n",
      "\n"
     ]
    },
    {
     "name": "stderr",
     "output_type": "stream",
     "text": [
      " 61%|██████████████████████████████████████████████████████████████████████████████████████████████████████████████████████████████████▌                                                                                    | 17/28 [00:14<00:08,  1.35it/s]"
     ]
    },
    {
     "name": "stdout",
     "output_type": "stream",
     "text": [
      "** Messages: **\n",
      "user: Aqui está o conteúdo da seção:\n",
      "[Excerpt from document]\n",
      "questions_this_excerpt_can_answer: 1. Qual é o valor do crédito concedido pela ALLIAGE S/A Indústrias Médico Odontológica?\n",
      "2. Qual é a data de vencimento da operação de crédito?\n",
      "3. Qual é a taxa de comissão flat e os encargos financeiros associados ao crédito concedido pela ALLIAGE S/A Indústrias Médico Odontológica? \n",
      "\n",
      "Resumo de nível mais alto: A ALLIAGE S/A Indústrias Médico Odontológica está buscando um crédito bancário no valor de R$25.000.000,00 com vencimento em 15/08/2025, e as condições incluem uma comissão flat de 0,68% sobre o crédito concedido e encargos financeiros baseados na taxa média Ndo CW acrescida de sobretaxa efetiva de 2,48 pontos percentuais por ano.\n",
      "Excerpt:\n",
      "-----\n",
      "# CEDULA DE CREDITO BANCARIO\n",
      "\n",
      "Nr. 511.300.712\n",
      "\n",
      "# 1. EMITENTE:\n",
      "\n",
      "|Razão ou denominação social:|ALLIAGE S/A INDUSTRIAS MEDICO ODONTOLOGICA|\n",
      "|---|---|\n",
      "|CNPJ....:|55.979.736/0001-45|\n",
      "|Conta Corrente:|000.003.203-4|\n",
      "|Endereço:|ROD ABRAÃO ASSED S/N KM 53 MAIS 450 METROS, RECREIO ANHANGUERA|\n",
      "|Cidade..:|RIBEIRÃO PRETO-SP|\n",
      "|CEP:|14.097-500|\n",
      "|E-MAIL:|fabiola.furtadoCalliage-global.com|\n",
      "\n",
      "# 2. DADOS DA OPERAÇÃO DE CRÉDITO:\n",
      "\n",
      "|Valor:|R$25.000.000,00 (vinte e cinco milhões de reais)|\n",
      "|---|---|\n",
      "|Vencimento:|15/08/2025|\n",
      "|Comissão Flat:|0,68% (SEIS DECIMOS POR CENTO), sobre o crédito concedido.|\n",
      "|Encargos Financeiros:|Taxa media Ndo CW acrescida de sobretaxa efetiva de 2,48 pontos percentuais sobretaxa efetiva de 2,48 pontos percentuais fão ano.\n",
      "-----\n",
      "\n",
      "Resuma os principais tópicos e entidades da seção. \n",
      "Resumo:\n",
      "**************************************************\n",
      "** Response: **\n",
      "assistant: A ALLIAGE S/A Indústrias Médico Odontológica está buscando um crédito bancário no valor de R$25.000.000,00 com vencimento em 15/08/2025. As condições incluem uma comissão flat de 0,68% sobre o crédito concedido e encargos financeiros baseados na taxa média Ndo CW acrescida de sobretaxa efetiva de 2,48 pontos percentuais por ano.\n",
      "**************************************************\n",
      "\n",
      "\n"
     ]
    },
    {
     "name": "stderr",
     "output_type": "stream",
     "text": [
      " 64%|██████████████████████████████████████████████████████████████████████████████████████████████████████████████████████████████████████████▏                                                                            | 18/28 [00:15<00:06,  1.52it/s]"
     ]
    },
    {
     "name": "stdout",
     "output_type": "stream",
     "text": [
      "** Messages: **\n",
      "user: Aqui está o conteúdo da seção:\n",
      "[Excerpt from document]\n",
      "questions_this_excerpt_can_answer: 1. Quais são os encargos financeiros e de inadimplemento que podem incidir sobre o crédito mencionado na Cédula de Crédito Bancário?\n",
      "2. Em que data está previsto o vencimento final da Cédula de Crédito Bancário emitida pela ALLIAGE S/A INDUSTRIAS MEDICO ODONTOLOGICA em favor do Banco do Brasil S.A.?\n",
      "3. Quais são as autorizações concedidas pelo emitente da Cédula de Crédito Bancário ao Banco do Brasil S.A. em relação ao débito em conta e às despesas cartorárias?\n",
      "\n",
      "Resumo de nível mais alto: O contexto apresenta detalhes sobre uma Cédula de Crédito Bancário emitida pela ALLIAGE S/A INDUSTRIAS MEDICO ODONTOLOGICA em favor do Banco do Brasil S.A., incluindo informações sobre encargos, vencimento, autorizações para débito em conta e despesas cartorárias.\n",
      "Excerpt:\n",
      "-----\n",
      "nos estritos termos desta CEDULA DE CREDITO BANCARIO, por meio de planilhas de cálculos elaboradas para fins de cobrança judicial ou extrajudicial, que integrarão o presente Instrumento para todos os fins de direito, das quais constarão os lançamentos a débito ou a crédito efetuados em minha(nossa) conta corrente de depósitos, os montantes utilizados, as eventuais amortizações da dívida, os encargos financeiros e os encargos de inadimplemento, multas e demais obrigações, incidentes sobre o crédito.\n",
      "\n",
      "- Continua na página 5 -\n",
      "---\n",
      "1.2.5.17.10.1.1 CCB 511300712 - BB.pdf - Page 5\n",
      "\n",
      "Continuação da CEDULA DE CREDITO BANCARIO nr. 511.300.712, emitida nesta data por ALLIAGE S/A INDUSTRIAS MEDICO ODONTOLOGICA, em favor do Banco do Brasil S.A., no valor de R$25.000.000,00, com vencimento final em 15/08/2025.\n",
      "AUTORIZAÇÃO PARA DÉBITO EM CONTA - Autorizo(amos) o BANCO DO BRASIL S.A. a utilizar o saldo de qualquer espécie de conta que mantenho(amos) junto a qualquer agência do BANCO DO BRASIL S.A., para liquidação ou amortização da dívida resultante desta CEDULA DE CREDITO BANCARIO, inclusive para pagamento de tarifas, tributos, encargos, despesas com registro cartorário, ou qualquer despesa decorrente desta operação.\n",
      "DESPESAS CARTORÁRIAS - Declaro-me(amo-nos) ciente(s) e concorde(s) de que o BANCO DO BRASIL S.A., à seu critério exclusivo e a qualquer tempo, poderá levar a registro no(s) cartório(s) competente(s) este instrumento e seus garantia(s) nele(s) eventual(is) aditivo(s), inclusive a(s) garantia(s) nele(s) por mim(nos) ou por terceiro(s).\n",
      "-----\n",
      "\n",
      "Resuma os principais tópicos e entidades da seção. \n",
      "Resumo:\n",
      "**************************************************\n",
      "** Response: **\n",
      "assistant: A seção apresenta detalhes sobre uma Cédula de Crédito Bancário emitida pela ALLIAGE S/A INDUSTRIAS MEDICO ODONTOLOGICA em favor do Banco do Brasil S.A., incluindo informações sobre encargos financeiros, vencimento da cédula, autorização para débito em conta e despesas cartorárias. O documento menciona a utilização de planilhas de cálculos para registro de débitos e créditos na conta corrente, o valor da cédula, a data de vencimento final, a autorização para débito em conta e a possibilidade de registro cartorário do instrumento.\n",
      "**************************************************\n",
      "\n",
      "\n"
     ]
    },
    {
     "name": "stderr",
     "output_type": "stream",
     "text": [
      " 68%|█████████████████████████████████████████████████████████████████████████████████████████████████████████████████████████████████████████████████▉                                                                     | 19/28 [00:15<00:05,  1.70it/s]"
     ]
    },
    {
     "name": "stdout",
     "output_type": "stream",
     "text": [
      "** Messages: **\n",
      "user: Aqui está o conteúdo da seção:\n",
      "[Excerpt from document]\n",
      "questions_this_excerpt_can_answer: 1. Quais são as possíveis consequências para o devedor caso não forneça informações completas ou alteradas ao Banco do Brasil S.A.?\n",
      "2. Qual é o prazo estabelecido para concluir o registro do instrumento e eventuais aditivos, e quais são as condições que podem levar à suspensão desse registro?\n",
      "3. Sob quais circunstâncias o Banco do Brasil S.A. pode considerar antecipadamente vencido o presente instrumento e suspender qualquer desembolso?\n",
      "\n",
      "Resumo de nível mais alto:\n",
      "O contexto apresenta cláusulas e condições de um contrato de crédito bancário entre o devedor e o Banco do Brasil S.A., incluindo a obrigação de fornecer informações completas e corretas, prazos para registro do instrumento e possíveis consequências em caso de descumprimento das condições estabelecidas.\n",
      "Excerpt:\n",
      "-----\n",
      "A. E(NOS) FIZER;| |\n",
      "|F) DIRETAMENTE Ox ATRAVÉS DE PREPOSTOS OU MANDATÁRIOS, PRESTAR(MOS) AONBANCÇONDO\" BRASIL S.A. INFORMAÇÕES INCOMPLETAS OU ALTERADAS,” INCRUSTVE ATRAVÉS DE DOCUMENTO PÚBLICO OU PARTICULAR DE QUALQUER NATUREZA E/OU DEIXAR(MOS) DE PRESTAR INFORMAÇÕES QUE,%SE DO CONHECIMENTO DO BANCO DO BRASIL S.A. PODERIAM ALTERAR SEUS JULGAMENTOS E/OU AVALIAÇÕES;| |\n",
      "|G) NÃO, CONCLUIR(MOS) O REGISTRO DESTE INSTRUMENTO E DE SEUS) SN. EVENTUAL(IS) ADITIVO(S), INCLUSIVE QUANTO À(S) GARANTIA(S) NELE(S) PACTUADA(S), EM DECORRÊNCIA DE QUAISQUER IRREGULARIDADES E/OU PENDÊNCIAS DE RESPONSABILIDADE MINHA (NOSSA) E/OU DO(S) TERCEIRO(S) GARANTIDOR(ES), NO PRAZO DE 10 (DEZ) DIAS ÚTEIS, CONTADOS DA DATA DE ASSINATURA DO TÍTULO (PODENDO O BANCO DO BRASIL PRORROGAR O PRAZO PARA SOLUÇÃO DE EVENTUAL PENDÊNCIA);| |\n",
      "\n",
      "PARÁGRAFO ÚNICO - DECLARO-ME (AMO-NOS) CIENTE(S) DE QUE O BANCO, TAMBÉM, PODERÁ CONSIDERAR VENCIDO ANTECIPADAMENTE O PRESENTE INSTRUMENTO E IMEDIATA SUSTAÇÃO DE QUALQUER DESEMBOLSO, NA HIPÓTESE DE:\n",
      "\n",
      "(1) HOUVER DECISÃO ADMINISTRATIVA FINAL SANCIONADORA, EXARADA POR ÓRGÃO COMPETENTE, E/OU SENTENÇA TRANSITADA EM\n",
      "\n",
      "- Continua na página 7 -\n",
      "---\n",
      "# Continuação da CEDULA DE CREDITO BANCARIO nr.\n",
      "-----\n",
      "\n",
      "Resuma os principais tópicos e entidades da seção. \n",
      "Resumo:\n",
      "**************************************************\n",
      "** Response: **\n",
      "assistant: Esta seção do documento aborda cláusulas e condições de um contrato de crédito bancário entre o devedor e o Banco do Brasil S.A. Os principais tópicos incluem a obrigação de fornecer informações completas e corretas, prazos para registro do instrumento e possíveis consequências em caso de descumprimento das condições estabelecidas. O Banco do Brasil S.A. pode considerar antecipadamente vencido o contrato e suspender qualquer desembolso em determinadas circunstâncias.\n",
      "**************************************************\n",
      "\n",
      "\n"
     ]
    },
    {
     "name": "stderr",
     "output_type": "stream",
     "text": [
      " 71%|█████████████████████████████████████████████████████████████████████████████████████████████████████████████████████████████████████████████████████████▌                                                             | 20/28 [00:16<00:06,  1.29it/s]"
     ]
    },
    {
     "name": "stdout",
     "output_type": "stream",
     "text": [
      "** Messages: **\n",
      "user: Aqui está o conteúdo da seção:\n",
      "[Excerpt from document]\n",
      "questions_this_excerpt_can_answer: 1. Quais são os encargos financeiros e juros moratórios previstos para o período de normalidade de um contrato com o Banco do Brasil S.A.?\n",
      "2. Em que situações o devedor será responsável por prejuízos decorrentes de sua mora, de acordo com o artigo 395 do Código Civil?\n",
      "3. Qual é a porcentagem dos honorários advocatícios que o devedor deve pagar em caso de cobrança extrajudicial e judicial pelo Banco do Brasil S.A.?\n",
      "\n",
      "Resumo de nível mais alto: O contexto fornece informações detalhadas sobre os encargos financeiros, juros moratórios, responsabilidades do devedor em caso de mora e honorários advocatícios em um contrato com o Banco do Brasil S.A. Essas informações são importantes para entender as consequências financeiras e legais de um possível atraso no pagamento de uma dívida com o banco.\n",
      "Excerpt:\n",
      "-----\n",
      "PARÁGRAFO PRIMEIRO - OS ENCARGOS FINANCEIROS CONTRATADOS PARA O PERÍODO DE NORMALIDADE E OS JUROS MORATÓRIOS PREVISTOS NAS ALÍNEAS \"a\" E \"B\" SERÃO CALCULADOS, POR DIA DE ATRASO, E EXIGIDOS NOS PAGAMENTOS PARCIAIS E NA LIQUIDAÇÃO DA DÍVIDA, JUNTAMENTE COM AS AMORTIZAÇÕES DE PRINCIPAL, PROPORCIONALMENTE, AOS SEUS VALORES NOMINAIS.\n",
      "\n",
      "PARÁGRAFO SEGUNDO - SEM PREJUÍZO DOS ENCARGOS ANTERIORMENTE PREVISTOS, O DEVEDOR RESPONDERÁ POR PREJUÍZOS A QUE SUA MORA DER CAUSA, NOS TERMOS DO ARTIGO 395 DO CÓDIGO CIVIL, INCLUSIVE DESPESAS DE COBRANÇA E HONORÁRIOS ADVOCATÍCIOS QUANDO DEVIDOS!\n",
      "\n",
      "HONORÁRIOS ADVOCATÍCIOS - Caso tenha o Banco do Brasil S.A. que recorrer a meios de cobrança para o recebimento do seu crédito, obrigo-me (amo-nos) a pagar honorários advocatícios fixados em 10% (dez por cento) sobre o montante do débito apurado, nas cobranças extrajudiciais, e 20% (vinte por cento) nas cobranças judiciais.\n",
      "\n",
      "PLANILHA DE CÁLCULO PARA COBRANÇA - Declaro-me(amo-nos) ciente(s) de que o saldo devedor será demonstrado pelo BANCO DO BRASIL S.A.\n",
      "-----\n",
      "\n",
      "Resuma os principais tópicos e entidades da seção. \n",
      "Resumo:\n",
      "**************************************************\n",
      "** Response: **\n",
      "assistant: - Encargos financeiros e juros moratórios calculados diariamente para pagamentos parciais e liquidação da dívida\n",
      "- Responsabilidade do devedor por prejuízos decorrentes de sua mora, conforme o artigo 395 do Código Civil\n",
      "- Porcentagem dos honorários advocatícios a serem pagos em caso de cobrança extrajudicial (10%) e judicial (20%) pelo Banco do Brasil S.A.\n",
      "- Importância de entender as consequências financeiras e legais de um possível atraso no pagamento de uma dívida com o banco\n",
      "**************************************************\n",
      "\n",
      "\n"
     ]
    },
    {
     "name": "stderr",
     "output_type": "stream",
     "text": [
      " 75%|█████████████████████████████████████████████████████████████████████████████████████████████████████████████████████████████████████████████████████████████████▎                                                     | 21/28 [00:17<00:04,  1.48it/s]"
     ]
    },
    {
     "name": "stdout",
     "output_type": "stream",
     "text": [
      "** Messages: **\n",
      "user: Aqui está o conteúdo da seção:\n",
      "[Excerpt from document]\n",
      "questions_this_excerpt_can_answer: 1. Qual é o valor da Cédula de Crédito Bancário emitida pela ALLIAGE S/A INDUSTRIAS MEDICO ODONTOLOGICA em favor do Banco do Brasil S.A.?\n",
      "2. Qual é a data de vencimento final da Cédula de Crédito Bancário?\n",
      "3. Onde devem ser cumpridas as obrigações assumidas nesta Cédula de Crédito Bancário?\n",
      "\n",
      "Resumo de nível mais alto: Este contexto fornece informações sobre uma Cédula de Crédito Bancário emitida pela ALLIAGE S/A INDUSTRIAS MEDICO ODONTOLOGICA em favor do Banco do Brasil S.A., no valor de R$25.000.000,00, com vencimento final em 15/08/2025. O documento foi aditado, retificado e ratificado, e as obrigações devem ser cumpridas na Agência do Banco do Brasil S.A. em Ribeirão Preto-SP.\n",
      "Excerpt:\n",
      "-----\n",
      "Esta CEDULA DE CREDITO BANCARIO poderá ser\n",
      "\n",
      "Continua na página 11 -\n",
      "\n",
      "Projeto São Sebastião - arnaldo.bernardi@lefosse.com - Arnaldo Bernardi - Lefosse Advogados - 04/03/2023 18:03:11 - 189.69.21.238\n",
      "---\n",
      "# Continuação da CEDULA DE CREDITO BANCARIO nr. 511.300.712, - Página 11 -\n",
      "\n",
      "Emitida nesta data por ALLIAGE S/A INDUSTRIAS MEDICO ODONTOLOGICA, em favor do Banco do Brasil S.A., no valor de R$25.000.000,00, com vencimento final em 15/08/2025.\n",
      "\n",
      "Aditada, retificada e ratificada mediante termo de aditamento escrito, com os requisitos previstos no \"caput\", quanto a quantidade de vias e a via negociável, que passará a integrar este Instrumento para todos os fins de direito.\n",
      "\n",
      "E por ser de minha(nossa) livre e espontânea vontade, assino(amos) esta CEDULA DE CREDITO BANCARIO em 2 (duas) vias de igual teor, para todos os fins de direito.\n",
      "\n",
      "LOCAL DO PAGAMENTO - Cumprirei(emos) as obrigações assumidas nesta CEDULA DE CREDITO BANCARIO junto à Agência do BANCO DO BRASIL S.A., em que for mantida minha(nossa) conta corrente, for praça de pagamento que fica designada como foro deste Instrumento.\n",
      "\n",
      "RIBEIRAO PRETO-SP, 18 de novembro de 2020.\n",
      "-----\n",
      "\n",
      "Resuma os principais tópicos e entidades da seção. \n",
      "Resumo:\n",
      "**************************************************\n",
      "** Response: **\n",
      "assistant: - Tipo de documento: Cédula de Crédito Bancário\n",
      "- Emitente: ALLIAGE S/A INDUSTRIAS MEDICO ODONTOLOGICA\n",
      "- Beneficiário: Banco do Brasil S.A.\n",
      "- Valor: R$25.000.000,00\n",
      "- Data de vencimento final: 15/08/2025\n",
      "- Local de cumprimento das obrigações: Agência do Banco do Brasil S.A. em Ribeirão Preto-SP.\n",
      "**************************************************\n",
      "\n",
      "\n"
     ]
    },
    {
     "name": "stderr",
     "output_type": "stream",
     "text": [
      " 79%|████████████████████████████████████████████████████████████████████████████████████████████████████████████████████████████████████████████████████████████████████████▉                                              | 22/28 [00:17<00:03,  1.94it/s]"
     ]
    },
    {
     "name": "stdout",
     "output_type": "stream",
     "text": [
      "** Messages: **\n",
      "user: Aqui está o conteúdo da seção:\n",
      "[Excerpt from document]\n",
      "questions_this_excerpt_can_answer: 1. Quais são os encargos financeiros pactuados e as comissões a serem pagas ao Banco do Brasil S.A. em relação à linha de crédito solicitada?\n",
      "2. Quais são as tarifas aplicáveis à operação de crédito, incluindo a tarifa de abertura de crédito e de manutenção, conforme estabelecido na Tabela de Tarifas de Serviços Bancários do Banco do Brasil S.A.?\n",
      "3. Qual é a obrigação do devedor em relação ao Imposto sobre Operações de Crédito, Câmbio e Seguros ou relativas à Títulos ou Valores Mobiliários (IOF) de acordo com a legislação em vigor?\n",
      "Excerpt:\n",
      "-----\n",
      "f FLAT Alem aos encargos financeiros pactuados COMISSÃO FLAT - Além dos êhcargos financeiros pactuados, pagarei(emos) 4o BANCO DO BRASIL 5.A., por conta pagarei(emos) ao £fBANCO DO” BRASIL S.A., por conta ecao assessoria na ,.$eléçãoNe adequação da linha de crédito, nhe(nossa conforme minhélnossa) solicitação, Comissão Flat no (SEIS percentual de 0% 63) (SETS DECIMOS POR CENTO), calculada sobre credito o valor do Teérdi to concedido e exigida na data de sua acao primeira liberàçãox Autorizo(amos) o BANCO DO BRASIL S.A. a debitar .em minhãá(nossa) conta corrente, mediante aviso, oO valor dévido a tal título.\n",
      "\n",
      "TARIFAS - Além dos encargos financeiros pactuados, autorizo4(amaos) o BANCO DO BRASIL S.A. a debitar em mihhanossá) conta de depósitos, a título de remuneração sobremsrserviços, o valor correspondente à(s) tarifa(s) de aberturà de crédito, de manutenção e demais tarifas aplicáveis à operação, vigentes à época da cobrança, constantes da Tabela de Tarifas de Serviços Bancários, que se encontra disponível em qualquer agência do BANCO DO BRASIL S.A.; dizendo-me(nos) ciente(s) de que tais débitos ser-me(nos)-ão informados mediante aviso de débito e/ou aviso no extrato de conta corrente.\n",
      "\n",
      "IOF - Obrigo-me(amo-nos) a pagar o Imposto sobre Operações de Crédito, Câmbio e Seguros ou relativas à Títulos ou Valores Mobiliários (IOF), de acordo com a legislação em\n",
      "\n",
      "Continua na página 4\n",
      "---\n",
      "# Continuação da CEDULA DE CREDITO BANCARIO nr.\n",
      "-----\n",
      "\n",
      "Resuma os principais tópicos e entidades da seção. \n",
      "Resumo:\n",
      "**************************************************\n",
      "** Response: **\n",
      "assistant: Esta seção do documento aborda os encargos financeiros pactuados, comissões e tarifas a serem pagas ao Banco do Brasil S.A. em relação à linha de crédito solicitada. Também menciona a obrigação do devedor em relação ao Imposto sobre Operações de Crédito, Câmbio e Seguros ou relativas à Títulos ou Valores Mobiliários (IOF) de acordo com a legislação em vigor. O texto destaca a comissão flat, as tarifas aplicáveis à operação de crédito e a autorização para debitar os valores devidos em conta corrente.\n",
      "**************************************************\n",
      "\n",
      "\n"
     ]
    },
    {
     "name": "stderr",
     "output_type": "stream",
     "text": [
      " 82%|████████████████████████████████████████████████████████████████████████████████████████████████████████████████████████████████████████████████████████████████████████████████▌                                      | 23/28 [00:18<00:03,  1.42it/s]"
     ]
    },
    {
     "name": "stdout",
     "output_type": "stream",
     "text": [
      "** Messages: **\n",
      "user: Aqui está o conteúdo da seção:\n",
      "[Excerpt from document]\n",
      "questions_this_excerpt_can_answer: 1. Quais são as condições em que o banco pode considerar a antecipação da liquidação de uma operação de crédito?\n",
      "2. Quais são as circunstâncias em que o controle direto ou indireto de uma empresa pode resultar na imediata liquidação de uma operação de crédito?\n",
      "3. Como a transferência de controle societário ou alterações no capital social podem afetar a relação entre uma empresa e o banco em termos de operações de crédito?\n",
      "Excerpt:\n",
      "-----\n",
      "OU “CONDENADO(S) RADORES DI JUDICIALMENTE (NÓS OU NOSSOS ADMINISTRADORES\" QU DIRIGENTES) IMES PELA PRÁTICAS DE QUAISQUER DESSES CRIMES: ANTECIPADO CLAUSULA ESPECIAL DE VENCIMENTO ANTECIPADOW- SEM PREJUIZO DE ANTE PADO OUTRAS CAUSAS DE VENCIMENTO ANTECIPADOY DA OBRIGACAO, STRUMENTO PREVISTA EM CLAUSULAS DESTE INSTRUMENTO OU DECORRENTES DE VENGIDA LEI, O BANCO PODERA CONSIDERAR NENSIDA A OPERACAO DE CREDITO IDACAO SE , ~NA E EXIGIR SUA IMEDIATA LIQUIDAÇÃO -SHKANA SUA VIGENCIA E SEM BANCO: EXPRESSA CONCORDANCIA DO BANCO: T)FOR TRANSFERIDO O CONTROLE DE NOSSO CAP DIRETO E/ OU INDIRETO PÉ NGESO, CAPITAL SOCIAL; II) HOUVER LARIDADE DE ALTERACAO DE TITULARIDADE DE NOSSO CAPITAL SOCIAL, STA DI ENVOLVENDO QUALQUER ACIONISTA, DIRETO OU INDIRETO, INCLUSIVE RE COM TRANSFERENCIAS ENTRE SI, COM VARIACAO SUPERIOR A 10% (DEZ TOT DO GAPOR CENTO) DO TGFAL DO GAPITAL SOCIAL; III) HOUVER ALTERACAO OCIAL DE QU DO CAPITAL SOCÉBEL, \"DE 'OUALQUER DE NOSSAS CONTROLADAS QUE PERDA DE RESULTE EM PERDA, be NOSSO CONTROLE SOCIETARIO, DIRETO OU SSAS EMPRESAS INDIRETO, DESSAS. ALTERACAOEMPRESAS.\n",
      "-----\n",
      "\n",
      "Resuma os principais tópicos e entidades da seção. \n",
      "Resumo:\n",
      "**************************************************\n",
      "** Response: **\n",
      "assistant: Esta seção do documento aborda as condições em que o banco pode considerar a antecipação da liquidação de uma operação de crédito, incluindo a transferência de controle societário ou alterações no capital social que podem afetar essa relação. O texto destaca a possibilidade de antecipação da liquidação em casos de condenação judicial de administradores por práticas criminosas, bem como a necessidade de consentimento do banco para transferências de controle ou alterações significativas no capital social da empresa.\n",
      "**************************************************\n",
      "\n",
      "\n"
     ]
    },
    {
     "name": "stderr",
     "output_type": "stream",
     "text": [
      " 86%|████████████████████████████████████████████████████████████████████████████████████████████████████████████████████████████████████████████████████████████████████████████████████████▎                              | 24/28 [00:19<00:03,  1.30it/s]"
     ]
    },
    {
     "name": "stdout",
     "output_type": "stream",
     "text": [
      "** Messages: **\n",
      "user: Aqui está o conteúdo da seção:\n",
      "[Excerpt from document]\n",
      "questions_this_excerpt_can_answer: 1. Quais são as consequências para o cliente caso o Banco do Brasil identifique a prática de crimes contra o meio ambiente ou de lavagem de dinheiro por parte do cliente ou de seus dirigentes?\n",
      "\n",
      "2. Como a preservação de direitos é garantida no presente Instrumento em relação às obrigações do cliente e do Banco do Brasil S.A.?\n",
      "\n",
      "3. Em que circunstâncias o Banco do Brasil S.A. está autorizado a proceder à compensação de créditos do cliente de forma irrevogável e irretratável, conforme previsto no Código Civil?\n",
      "Excerpt:\n",
      "-----\n",
      "NORMAS EMANADAS DO BANCO CENTRAL DO BRASIL, OU QUANDO A AUTORIDADE OU ÓRGÃO COMPETENTE CONCLUIR PELA PRÁTICA, POR MIM (NÓS) OU POR NOSSO(S) DIRIGENTE(S) DE: CRIMES CONTRA O MEIO AMBIENTE, PREVISTOS NA LEI Nº 9.605, DE 12.02.1998; CRIMES DE \"LAVAGEM\" OU OCULTAÇÃO DE BENS, DIREITOS E VALORES, NOS TERMOS DA LEI Nº 9.613, DE 03.03.1998. ESTAS OCORRÊNCIAS ABRANGEM, TAMBÉM, O(S) COOBRIGADO(S) NESTE INSTRUMENTO.\n",
      "\n",
      "PRESERVAÇÃO DE DIREITOS - Declaro-me(amo-nos) ciente(s) de que a abstenção do exercício, por parte do BANCO DO BRASIL por S.A, de quaisquer direitos que lhe assistam pot força do presente Instrumento ou a concordância com obrigações no cumprimento ou inadimplemento de minha (nossa) obrigação não podera afetarão aqueles direitos ou faculdades -- áquê, poderão ser exercidos a qualquer tempo -- e não alterarão, de nenhum modo, as condições estipuladas neste AAA UNO, nem obrigarão o BANCO DO BRASIL S.A relatifamentE à&vencimentos ou inadimplementos futuros.\n",
      "\n",
      "COMPENSAÇÃO DE CRÉDITOS - Autorizo (amos) o BANCO DO BRASIL S.A. em caráter irrevodávêl = irretratável, indepententimente de prévio avi£S& a proceder à compensação, do Codigq Civ prevista no artigo nr.\n",
      "-----\n",
      "\n",
      "Resuma os principais tópicos e entidades da seção. \n",
      "Resumo:\n",
      "**************************************************\n",
      "** Response: **\n",
      "assistant: Esta seção aborda as consequências para o cliente caso o Banco do Brasil identifique a prática de crimes contra o meio ambiente ou de lavagem de dinheiro por parte do cliente ou de seus dirigentes. Também discute a preservação de direitos em relação às obrigações do cliente e do Banco do Brasil S.A., bem como as circunstâncias em que o Banco do Brasil S.A. está autorizado a proceder à compensação de créditos do cliente de forma irrevogável e irretratável, conforme previsto no Código Civil. O texto destaca a importância da preservação dos direitos e a autorização para a compensação de créditos de forma definitiva.\n",
      "**************************************************\n",
      "\n",
      "\n"
     ]
    },
    {
     "name": "stderr",
     "output_type": "stream",
     "text": [
      " 89%|███████████████████████████████████████████████████████████████████████████████████████████████████████████████████████████████████████████████████████████████████████████████████████████████▉                       | 25/28 [00:19<00:02,  1.45it/s]"
     ]
    },
    {
     "name": "stdout",
     "output_type": "stream",
     "text": [
      "** Messages: **\n",
      "user: Aqui está o conteúdo da seção:\n",
      "[Excerpt from document]\n",
      "questions_this_excerpt_can_answer: 1. Quais são as condições para a liquidação antecipada de um título junto ao Banco do Brasil S.A. e quais são as tarifas envolvidas nesse processo?\n",
      "2. Como a Resolução NR. 3.401, de 06.09.2006, do Conselho Monetário Nacional, impacta a possibilidade de liquidação antecipada de uma dívida junto ao Banco do Brasil S.A.?\n",
      "3. Quais são os critérios para isenção da tarifa de 2% do valor amortizado/liquidado em caso de liquidação antecipada de uma dívida junto ao Banco do Brasil S.A.?\n",
      "Excerpt:\n",
      "-----\n",
      "PARÁGRAFO ÚNICO - Em razão do disposto no \"caput\", autorizo(amos), desde já, o BANCO DO BRASIL S.A. a efetuar o débito em minha(nossa) conta de depósitos, mediante aviso de débito e/ou aviso no extrato de conta-corrente, do valor correspondente a todas e quaisquer despesas que o BANCO DO BRASIL S.A. incorrer para o procedimento de registro, inclusive as de impostos, taxas, custas e emolumentos.\n",
      "ANTECIPADA LIQUIDAÇÃO/AMORTIZAÇÃO ANTECIPADA - TENHO(MOS) CIÊNCIA DE QUE O BANCO DO BRASIL S.A. ASSEGURA-ME(NOS) O DIREITO À LIQUIDAÇÃO ANTECIPADA DESTE TÍTULO, INCLUSIVE COM UTILIZAÇÃO DE RECURSOS TRANSFERIDOS POR OUTRA INSTITUIÇÃO FINANCEIRA EM DECORRÊNCIA DA PORTABILIDADE DO CRÉDITO, CONFORME AUTORIZA O ARTIGO PRIMEIRO DA RESOLUÇÃO NR. 3.401, DE 06.09.2006, DO CONSELHO MONETÁRIO NACIONAL, OBSERVADO AINDA O SEGUINTE:\n",
      "A) A LIQUIDAÇÃO OU AMORTIZAÇÃO ANTECIPADA DA DÍVIDA, INDEPENDENTEMENTE DE QUAL SEJA A ORIGEM DOS RECURSOS, ME(NOS) SUJEITARÁ AO PAGAMENTO DE TARIFA EQUIVALENTE A 2% (DOIS POR CENTO) DO VALOR AMORTIZADO/LIQUIDADO, DEVIDO NA DATA DA LIQUIDAÇÃO OU AMORTIZAÇÃO ANTECIPADA.\n",
      "B) NÃO HAVERÁ A COBRANÇA DA TARIFA PREVISTA NA LETRA B) CASO NA DATA DA CONTRATAÇÃO DA OPERAÇÃO TIVER(MOS) SIDO ENQUADRADO(S) COMO MICRO OU PEQUENA EMPRESA, NOS TERMOS DA LEI COMPLEMENTAR No. 123, DE 14/12/2006, E DA RESOLUÇÃO No.\n",
      "-----\n",
      "\n",
      "Resuma os principais tópicos e entidades da seção. \n",
      "Resumo:\n",
      "**************************************************\n",
      "** Response: **\n",
      "assistant: A seção aborda as condições para a liquidação antecipada de um título junto ao Banco do Brasil S.A., incluindo as tarifas envolvidas no processo. O texto menciona a Resolução NR. 3.401, de 06.09.2006, do Conselho Monetário Nacional, que impacta a possibilidade de liquidação antecipada de uma dívida. Também são mencionados os critérios para isenção da tarifa de 2% do valor amortizado/liquidado em caso de liquidação antecipada, especialmente para micro ou pequenas empresas.\n",
      "**************************************************\n",
      "\n",
      "\n"
     ]
    },
    {
     "name": "stderr",
     "output_type": "stream",
     "text": [
      " 93%|███████████████████████████████████████████████████████████████████████████████████████████████████████████████████████████████████████████████████████████████████████████████████████████████████████▋               | 26/28 [00:20<00:01,  1.61it/s]"
     ]
    },
    {
     "name": "stdout",
     "output_type": "stream",
     "text": [
      "** Messages: **\n",
      "user: Aqui está o conteúdo da seção:\n",
      "[Excerpt from document]\n",
      "questions_this_excerpt_can_answer: 1) Quais são as medidas que a empresa se compromete a adotar para evitar danos ao meio ambiente e cumprir a legislação ambiental aplicável?\n",
      "2) Como a empresa garante que não está envolvida em práticas como trabalho análogo ao escravo, tráfico de pessoas, exploração de mão de obra infantil e exploração sexual de menores?\n",
      "3) Como a empresa garante que seus fornecedores diretos também estão comprometidos em proteger o meio ambiente e cumprir a legislação social e trabalhista?\n",
      "\n",
      "Resumo de nível mais alto: O contexto aborda a responsabilidade socioambiental da empresa, incluindo o cumprimento da legislação ambiental, social e trabalhista, a adoção de medidas para evitar danos ao meio ambiente e a garantia de que não está envolvida em práticas prejudiciais. Também destaca a importância de os fornecedores diretos também se comprometerem com essas práticas responsáveis.\n",
      "Excerpt:\n",
      "-----\n",
      "ou dever de qualquer indenização.\n",
      "\n",
      "RESPONSABILIDADE SOCIOAMBIENTAL 1) Obrigo-me (amo-nos) a:\n",
      "\n",
      "(a) cumprir, nas minhas (nossas) atividades na destinacao dos recursos vinculados este titulo de credi Lo, disposLo dos recursos vinculados a este títulb.de crédito, o disposto na Legislação Federal, Estadual, Distrital e Municipal referente a preservação do meió-ambiente;\n",
      "\n",
      "(b) adotar as medidas Eds ambiente *atões destinadas a evitar ou corrigir danos ao meio ambiente não antevistos no momento da contratação do crédito, bem Éomo cumprir ao estabelecido na legislação ambigntal aplicável, inclusive quanto à Lei de Biossegurança;\n",
      "\n",
      "(c) cumprir a Yegisláção social e trabalhista, especialmente as normas retativàs “a saúde e segurança ocupacional e a inexistência dà trabalho análogo ao escravo ou tráfico de pessoas, exploração pessoas,, exploração de mão de obra infantil e exploração sexual de menores;\n",
      "\n",
      "(d) implemenLar esf esforços junto ao(s) meuí(s)/nosso(s) fornecedor (es) direto fornecedor (és) direto(s) de produtos ou serviços, a fim de que esse (s) tambem se qúeese (&) também se comprometa(m) a conjugar esforços para proleger_ preservar protegar, preservar e prevenir práticas danosas ao ao meio ambiente ainda cumpr ambiente e ainda cumprir a legislação social e trabalhista.\n",
      "\n",
      "DECLARAÇÃO ESPECIAL - Declaro (amos) para fins do disposto no inciso II do Art. 11 do Decreto nº 6.321, de 21.12.2007, não adquirir, intermediar, transportar ou comercializar produto ou subproduto de origem animal ou vegetal produzido sobre área objeto de embargo lavrado nos termos do Art.\n",
      "-----\n",
      "\n",
      "Resuma os principais tópicos e entidades da seção. \n",
      "Resumo:\n",
      "**************************************************\n",
      "** Response: **\n",
      "assistant: A seção aborda a responsabilidade socioambiental da empresa, incluindo o cumprimento da legislação ambiental, social e trabalhista. Destaca a adoção de medidas para evitar danos ao meio ambiente, a garantia de não envolvimento em práticas prejudiciais como trabalho análogo ao escravo e exploração de mão de obra infantil, e a importância de os fornecedores diretos também se comprometerem com práticas responsáveis.\n",
      "**************************************************\n",
      "\n",
      "\n"
     ]
    },
    {
     "name": "stderr",
     "output_type": "stream",
     "text": [
      " 96%|███████████████████████████████████████████████████████████████████████████████████████████████████████████████████████████████████████████████████████████████████████████████████████████████████████████████▎       | 27/28 [00:21<00:00,  1.30it/s]"
     ]
    },
    {
     "name": "stdout",
     "output_type": "stream",
     "text": [
      "** Messages: **\n",
      "user: Aqui está o conteúdo da seção:\n",
      "[Excerpt from document]\n",
      "questions_this_excerpt_can_answer: 1. Quais são as obrigações legais que o Decreto nº 6.514 impõe ao informar ao Banco do Brasil S.A. antes da liberação de qualquer crédito pleiteado?\n",
      "2. Qual é o valor e a data de vencimento da Cédula de Crédito Bancário emitida pela ALLIAGE S/A INDUSTRIAS MEDICO ODONTOLOGICA em favor do Banco do Brasil S.A.?\n",
      "3. Como o Sistema de Informações de Crédito do Banco Central (SCR) funciona e quais são as finalidades do registro de débitos e responsabilidades decorrentes de operações de crédito?\n",
      "Excerpt:\n",
      "-----\n",
      "16 do Decreto nº 6.514, de 22.07.2008, ou outra norma legal que venha substituí-lo, OBRIGANDO-ME(NOS) a informar ao Banco do Brasil S.A., impreterivelmente até a data da liberação de qualquer crédito por mim pleiteado, eventuais fatos ou\n",
      "\n",
      "- Continua na página 10 -\n",
      "---\n",
      "# Continuação da CEDULA DE CREDITO BANCARIO nr. 511.300.712, - Página 10 -\n",
      "\n",
      "emitida nesta data por ALLIAGE S/A INDUSTRIAS MEDICO ODONTOLOGICA, em favor do Banco do Brasil S.A., no valor de R$25.000.000,00, com vencimento final em 15/08/2025.\n",
      "\n",
      "circunstâncias que possam ensejar o enquadramento nas disposições legais aqui mencionadas.\n",
      "\n",
      "SISTEMA DE INFORMAÇÕES DE CRÉDITO DO BANCO CENTRAL - SCR -\n",
      "\n",
      "Declaro-me (amo-nos) cienteí(s) que fui (fomos) comunicado(s) que:\n",
      "\n",
      "1. os débitos e responsabilidades decorrentes de operações com características de crédito por mim(ínós) realizadas serão registrados no Sistema de Informações de Crédito do Banco Central - SCR;\n",
      "2. o SCR tem por finalidades fornecer informações ao Bacen para fins de supervisão do risco de crédito af*que estão expostas as instituições financeiras e propiciar o intercâmbio de informações entre essas instithições \"com o objetivo de subsidiar decisões de créditoçe de negócios; de negocios dados constan\n",
      "3. poderei (emos) ter acesso aos dado: Tonestahtes em meio Ce meu (nosso/nossos) nome (s) no SCR por, maAIiG da Central de Atendimento ao Público do Bacen (CAP); \"é WS 8 , exc\n",
      "4.\n",
      "-----\n",
      "\n",
      "Resuma os principais tópicos e entidades da seção. \n",
      "Resumo:\n",
      "**************************************************\n",
      "** Response: **\n",
      "assistant: Esta seção do documento aborda as obrigações legais impostas pelo Decreto nº 6.514 ao informar ao Banco do Brasil S.A. antes da liberação de qualquer crédito pleiteado. Também menciona a Cédula de Crédito Bancário emitida pela ALLIAGE S/A INDUSTRIAS MEDICO ODONTOLOGICA em favor do Banco do Brasil S.A., com valor de R$25.000.000,00 e vencimento em 15/08/2025. Além disso, explica como o Sistema de Informações de Crédito do Banco Central (SCR) funciona e as finalidades do registro de débitos e responsabilidades decorrentes de operações de crédito.\n",
      "**************************************************\n",
      "\n",
      "\n"
     ]
    },
    {
     "name": "stderr",
     "output_type": "stream",
     "text": [
      "100%|███████████████████████████████████████████████████████████████████████████████████████████████████████████████████████████████████████████████████████████████████████████████████████████████████████████████████████| 28/28 [00:21<00:00,  1.28it/s]\n"
     ]
    },
    {
     "name": "stdout",
     "output_type": "stream",
     "text": [
      "**********\n",
      "Trace: index_construction\n",
      "    |_CBEventType.EMBEDDING -> 1.470975 seconds\n",
      "**********\n"
     ]
    }
   ],
   "source": [
    "# check if storage already exists\n",
    "\n",
    "get_from_storage = os.path.exists(PERSIST_DIR)\n",
    "# get_from_storage = False\n",
    "\n",
    "# node_parser_type = \"markdown\"\n",
    "node_parser_type = \"metadata\"\n",
    "if not get_from_storage:\n",
    "    # load the documents and create the index\n",
    "    # documents = SimpleDirectoryReader(llamaindex_dir + \"/data\").load_data()\n",
    "    documents = await parser.aload_data(pdf_file_path)\n",
    "    if node_parser_type == \"markdown\":\n",
    "        node_parser = MarkdownElementNodeParser(llm=OpenAI(model=\"gpt-3.5-turbo\"), num_workers=8)\n",
    "        nodes = node_parser.get_nodes_from_documents(documents=[documents[0]])\n",
    "        base_nodes, objects = node_parser.get_nodes_and_objects(nodes)\n",
    "        nodes_to_index = base_nodes+objects\n",
    "    if node_parser_type == \"metadata\":\n",
    "        pipeline = get_metadata_node_parser_pipeline()\n",
    "        nodes_to_index = pipeline.run(\n",
    "            documents=documents,\n",
    "            # nodes=base_nodes + objects,\n",
    "            in_place=True,\n",
    "            show_progress=True,\n",
    "        )\n",
    "    recursive_index = VectorStoreIndex(nodes=nodes_to_index)\n",
    "    # index = VectorStoreIndex.from_documents(documents)\n",
    "    # store it for later\n",
    "    # saving the embeddings to disk\n",
    "    # By default, this will save the data to the directory storage, but you can change that by passing a persist_dir parameter.\n",
    "    recursive_index.storage_context.persist(persist_dir=PERSIST_DIR)\n",
    "else:\n",
    "    # load the existing index\n",
    "    storage_context = StorageContext.from_defaults(persist_dir=PERSIST_DIR)\n",
    "    recursive_index = load_index_from_storage(storage_context)"
   ]
  },
  {
   "cell_type": "code",
   "execution_count": 91,
   "id": "b419e541-3006-468b-8bb4-019db0c8e33b",
   "metadata": {
    "execution": {
     "iopub.execute_input": "2024-05-12T14:35:08.863084Z",
     "iopub.status.busy": "2024-05-12T14:35:08.862798Z",
     "iopub.status.idle": "2024-05-12T14:35:08.900498Z",
     "shell.execute_reply": "2024-05-12T14:35:08.899788Z",
     "shell.execute_reply.started": "2024-05-12T14:35:08.863061Z"
    }
   },
   "outputs": [],
   "source": [
    "# from llama_index.core.schema import MetadataMode\n",
    "\n",
    "\n",
    "# n_index = 0\n",
    "# nodes_to_index[n_index].excluded_embed_metadata_keys = [\"questions_this_excerpt_can_answer\", \"prev_section_summary\", \"section_summary\"]\n",
    "# nodes_to_index[n_index]\n",
    "\n",
    "# print(nodes_to_index[n_index].get_content(metadata_mode=MetadataMode.EMBED))"
   ]
  },
  {
   "cell_type": "code",
   "execution_count": 93,
   "id": "162bd139-9cd9-4185-8170-1802e5423d23",
   "metadata": {
    "execution": {
     "iopub.execute_input": "2024-05-12T14:37:40.062652Z",
     "iopub.status.busy": "2024-05-12T14:37:40.062339Z",
     "iopub.status.idle": "2024-05-12T14:37:40.105697Z",
     "shell.execute_reply": "2024-05-12T14:37:40.104905Z",
     "shell.execute_reply.started": "2024-05-12T14:37:40.062628Z"
    }
   },
   "outputs": [
    {
     "name": "stdout",
     "output_type": "stream",
     "text": [
      "- Brasil, Bolsa e Balcão (B3); e por data-base, em cada mês, o dia definido para o débito dos encargos financeiros - indicado no item \"DADOS DA OPERAÇÃO\n",
      "\n",
      "- Continua na página 3 - Ex\n",
      "---\n",
      "# Continuação da CEDULA DE CREDITO BANCARIO nr. 511.300.712, - Página 3 -\n",
      "\n",
      "Emitida nesta data por ALLIAGE S/A INDUSTRIAS MEDICO ODONTOLOGICA, em favor do Banco do Brasil S.A., no valor de R$25.000.000,00, com vencimento final em 15/08/2025.\n",
      "\n",
      "DE CRÉDITO\" da introdução. Caso a data-base escolhida seja o dia 29, 30 ou 31, nos meses em que não existirem tais dias, será considerado, como data-base, o primeiro dia do mês subsequente.\n",
      "\n",
      "FORMA DE PAGAMENTO - Sem prejuízo do vencimento retroestipulado e das exigibilidades previstas nas demais cláusulas, inclusive encargos financeiros, obrigo-me(amos) a pagar ao BANCO DO BRASIL S.A. à dívida resultante desta CEDULA DE CREDITO BANCARIO, conforme parcelas, vencimentos e valores pactuados em DADOS DA OPERAÇÃO DEma CRÉDITO, obrigando-me(nos) ainda a liquidar com a última parcela, Incumprimento de todas as responsabilidades resultantes deste XTfistr qo prestações.\n"
     ]
    }
   ],
   "source": [
    "# UPDATE DOCUMENTS WITHOUT HAVING TO PARSE AGAIN\n",
    "for n in nodes_to_index:\n",
    "    n.excluded_embed_metadata_keys = [\"questions_this_excerpt_can_answer\", \"prev_section_summary\", \"section_summary\"]"
   ]
  },
  {
   "cell_type": "code",
   "execution_count": 94,
   "id": "0adfa19d-0a76-4291-a083-41745fbfe4c4",
   "metadata": {
    "execution": {
     "iopub.execute_input": "2024-05-12T14:37:54.150888Z",
     "iopub.status.busy": "2024-05-12T14:37:54.150554Z",
     "iopub.status.idle": "2024-05-12T14:37:55.608040Z",
     "shell.execute_reply": "2024-05-12T14:37:55.607417Z",
     "shell.execute_reply.started": "2024-05-12T14:37:54.150861Z"
    }
   },
   "outputs": [
    {
     "name": "stdout",
     "output_type": "stream",
     "text": [
      "**********\n",
      "Trace: index_construction\n",
      "    |_CBEventType.EMBEDDING -> 1.250255 seconds\n",
      "**********\n"
     ]
    }
   ],
   "source": [
    "recursive_index = VectorStoreIndex(nodes=nodes_to_index)\n",
    "# recursive_index.storage_context.persist(persist_dir=PERSIST_DIR)"
   ]
  },
  {
   "cell_type": "markdown",
   "id": "c574d579-f8c8-4495-b632-d4fa84d0609f",
   "metadata": {},
   "source": [
    "## Check metadata and content"
   ]
  },
  {
   "cell_type": "code",
   "execution_count": 104,
   "id": "de596058-3fa7-4422-b34c-2a1c384f8814",
   "metadata": {
    "execution": {
     "iopub.execute_input": "2024-05-12T14:41:18.160107Z",
     "iopub.status.busy": "2024-05-12T14:41:18.159804Z",
     "iopub.status.idle": "2024-05-12T14:41:18.202440Z",
     "shell.execute_reply": "2024-05-12T14:41:18.201434Z",
     "shell.execute_reply.started": "2024-05-12T14:41:18.160083Z"
    }
   },
   "outputs": [
    {
     "name": "stdout",
     "output_type": "stream",
     "text": [
      "- Brasil, Bolsa e Balcão (B3); e por data-base, em cada mês, o dia definido para o débito dos encargos financeiros - indicado no item \"DADOS DA OPERAÇÃO\n",
      "\n",
      "- Continua na página 3 - Ex\n",
      "---\n",
      "# Continuação da CEDULA DE CREDITO BANCARIO nr. 511.300.712, - Página 3 -\n",
      "\n",
      "Emitida nesta data por ALLIAGE S/A INDUSTRIAS MEDICO ODONTOLOGICA, em favor do Banco do Brasil S.A., no valor de R$25.000.000,00, com vencimento final em 15/08/2025.\n",
      "\n",
      "DE CRÉDITO\" da introdução. Caso a data-base escolhida seja o dia 29, 30 ou 31, nos meses em que não existirem tais dias, será considerado, como data-base, o primeiro dia do mês subsequente.\n",
      "\n",
      "FORMA DE PAGAMENTO - Sem prejuízo do vencimento retroestipulado e das exigibilidades previstas nas demais cláusulas, inclusive encargos financeiros, obrigo-me(amos) a pagar ao BANCO DO BRASIL S.A. à dívida resultante desta CEDULA DE CREDITO BANCARIO, conforme parcelas, vencimentos e valores pactuados em DADOS DA OPERAÇÃO DEma CRÉDITO, obrigando-me(nos) ainda a liquidar com a última parcela, Incumprimento de todas as responsabilidades resultantes deste XTfistr qo prestações.\n"
     ]
    }
   ],
   "source": [
    "n_index = 5\n",
    "print(nodes_to_index[n_index].get_content(metadata_mode=MetadataMode.EMBED))\n",
    "# print(nodes_to_index[n_index].get_content(metadata_mode=MetadataMode.LLM))"
   ]
  },
  {
   "cell_type": "code",
   "execution_count": 24,
   "id": "7752230f-5b81-4954-9deb-455d9c7dd045",
   "metadata": {
    "execution": {
     "iopub.execute_input": "2024-05-11T18:16:19.568574Z",
     "iopub.status.busy": "2024-05-11T18:16:19.568287Z",
     "iopub.status.idle": "2024-05-11T18:16:19.605552Z",
     "shell.execute_reply": "2024-05-11T18:16:19.604731Z",
     "shell.execute_reply.started": "2024-05-11T18:16:19.568549Z"
    }
   },
   "outputs": [],
   "source": [
    "# print(objects[1].metadata[\"col_schema\"])\n",
    "# print(base_nodes[1].metadata)\n",
    "# nodes_with_metadata[0].metadata\n",
    "# TODO: add metadata to these base nodes"
   ]
  },
  {
   "cell_type": "code",
   "execution_count": 44,
   "id": "5da65a28-ed5f-4b67-8010-5d1f6571512e",
   "metadata": {
    "execution": {
     "iopub.execute_input": "2024-05-11T18:33:48.086928Z",
     "iopub.status.busy": "2024-05-11T18:33:48.086473Z",
     "iopub.status.idle": "2024-05-11T18:33:48.126765Z",
     "shell.execute_reply": "2024-05-11T18:33:48.126107Z",
     "shell.execute_reply.started": "2024-05-11T18:33:48.086867Z"
    }
   },
   "outputs": [],
   "source": [
    "def print_node_parsing_result(node, metadata_mode, only_metadata):\n",
    "    print(\"\\n\\n----------------------- \" + node.id_ + \" -----------------------\")\n",
    "    if only_metadata:\n",
    "        print(node.get_metadata_str(mode=metadata_mode))\n",
    "    else:\n",
    "        print(node.get_content(metadata_mode=metadata_mode))\n",
    "\n",
    "def print_nodes_parsing_result(nodes, metadata_mode=\"all\", only_metadata=False, ids_list=None):\n",
    "    print(\"length: \", len(nodes))\n",
    "    for node in nodes:\n",
    "        if ids_list is not None:\n",
    "            # print(node.id_)\n",
    "            if node.id_ in ids_list:\n",
    "                print_node_parsing_result(node, metadata_mode, only_metadata)\n",
    "        else:\n",
    "            print_node_parsing_result(node, metadata_mode, only_metadata)"
   ]
  },
  {
   "cell_type": "code",
   "execution_count": 46,
   "id": "80d461c4-2da6-4a90-99bf-f7a967a98a30",
   "metadata": {
    "execution": {
     "iopub.execute_input": "2024-05-11T18:34:18.328986Z",
     "iopub.status.busy": "2024-05-11T18:34:18.328692Z",
     "iopub.status.idle": "2024-05-11T18:34:18.368640Z",
     "shell.execute_reply": "2024-05-11T18:34:18.367874Z",
     "shell.execute_reply.started": "2024-05-11T18:34:18.328963Z"
    }
   },
   "outputs": [
    {
     "data": {
      "text/plain": [
       "'Qual é a data de assinatura? (Data de emissão)'"
      ]
     },
     "execution_count": 46,
     "metadata": {},
     "output_type": "execute_result"
    }
   ],
   "source": [
    "duvidas[\"Data de Assinatura\"][current_type]"
   ]
  },
  {
   "cell_type": "code",
   "execution_count": 111,
   "id": "d5314bca-31c7-45b3-9a6f-123f7ed3cb16",
   "metadata": {
    "execution": {
     "iopub.execute_input": "2024-05-12T14:50:41.799325Z",
     "iopub.status.busy": "2024-05-12T14:50:41.798967Z",
     "iopub.status.idle": "2024-05-12T14:50:41.850528Z",
     "shell.execute_reply": "2024-05-12T14:50:41.849293Z",
     "shell.execute_reply.started": "2024-05-12T14:50:41.799292Z"
    }
   },
   "outputs": [
    {
     "name": "stdout",
     "output_type": "stream",
     "text": [
      "\n",
      "\n",
      "-------------------\n",
      "neste ato representada por LUIZ ROBERTO 04.78 7T6G7T7/0001-72, neste ato representada por LUIZ ROBERTO KAYSEL CRUZ, Brasileiro(a), ENGENHEIRO, casado(a) sob o regime de comunhão universal de bens, residente e domiciliado em RUA PROFESSOR MARIO ROXO 25, CEP: 14.025-460, município-UF: RIBEIRAO PRETO-SP, portador do(a) CARTEIRA DE IDENTIDADE nr. 57753568 SSP SP e inscrito no CPE/MF sob o nr. 000.277.788-60 e EDUARDO BIAGI, Brasileiro(a), CASADO(A)-COMUNHÃO UNIVERSAL, EMPRESÁRIO, residente em RIBEIRÃO PRETO - SP, na COND COLINA VERDE, 55 KM 312 CS.55, Bairro: COLINA VERDE, CEP: 14,022-050, portador (a) do (a) CARTEIRA DE IDENTIDADE nr. 3.542.871 SSPSP, inscrito(a) no CPF sob o nr. 551.123.078-20 e PEDRA AGROINDUSTRIAL S/A, sediado(a) em\n",
      "---\n",
      "# Continuação da CEDULA DE CREDITO BANCARIO nr. 511.300.712, - Página 2 -\n",
      "\n",
      "Emitida nesta data por ALLIAGE S/A INDUSTRIAS MEDICO ODONTOLOGICA, em favor do Banco do Brasil S.A., no valor de R$25.000.000,00, com vencimento final em 15/08/2025.\n",
      "\n",
      "USINA DA PEDRA SN, ZONA RURAL, SERRANA - SP, Cep: 14.150-000 e inscrito(a) no CNPJ sob o nr. 71.304.687/0001-05, E-mail: manfredi€Guspedra.com.br, neste ato representada por LUIZ ROBERTO KAYSEL CRUZ, acima qualificado.\n",
      "9a9edca6-04d2-4233-bace-bfec50e61e0e\n",
      "\n",
      "\n",
      "-------------------\n",
      "Esta CEDULA DE CREDITO BANCARIO poderá ser\n",
      "\n",
      "Continua na página 11 -\n",
      "\n",
      "Projeto São Sebastião - arnaldo.bernardi@lefosse.com - Arnaldo Bernardi - Lefosse Advogados - 04/03/2023 18:03:11 - 189.69.21.238\n",
      "---\n",
      "# Continuação da CEDULA DE CREDITO BANCARIO nr. 511.300.712, - Página 11 -\n",
      "\n",
      "Emitida nesta data por ALLIAGE S/A INDUSTRIAS MEDICO ODONTOLOGICA, em favor do Banco do Brasil S.A., no valor de R$25.000.000,00, com vencimento final em 15/08/2025.\n",
      "\n",
      "Aditada, retificada e ratificada mediante termo de aditamento escrito, com os requisitos previstos no \"caput\", quanto a quantidade de vias e a via negociável, que passará a integrar este Instrumento para todos os fins de direito.\n",
      "\n",
      "E por ser de minha(nossa) livre e espontânea vontade, assino(amos) esta CEDULA DE CREDITO BANCARIO em 2 (duas) vias de igual teor, para todos os fins de direito.\n",
      "\n",
      "LOCAL DO PAGAMENTO - Cumprirei(emos) as obrigações assumidas nesta CEDULA DE CREDITO BANCARIO junto à Agência do BANCO DO BRASIL S.A., em que for mantida minha(nossa) conta corrente, for praça de pagamento que fica designada como foro deste Instrumento.\n",
      "\n",
      "RIBEIRAO PRETO-SP, 18 de novembro de 2020.\n",
      "ea2927aa-13e7-429f-ab2e-62441f32e654\n",
      "\n",
      "\n",
      "-------------------\n",
      "|EMITENTE(S):|ODONTOLOGI|\n",
      "|---|---|\n",
      "|ALLIAGE S/A INDUSTRIAS MEDICO ODONTOLOGICA, sediado(a) em RIBEIRÃO PRETO-SP, na ROD ABRAG, ASSED S/N KM 53 MAIS 450 METROS, RECREIO ANHANGUERA, CER 14.097-500, E-MAIL: fabiola.furtado@alliage-global.com e inscrito(a) no CNPJ sob o nrº 55.979.736/0001-45.| |\n",
      "|a) RAYSEL LUIZ CRUZ, Brasileiro(a), ENGENHEIRO, casado(a) regime comunhão SA no de bêns, domiciliado MARTO ROXO 25, CEP: 14.025-4607 município-UF: RIBEIRAO PRETO-SE portador do (a) CARTEIRA: DE IDENTIDADE nr. 57753568 SSP SP e inscrito no CPF/MF, Sob e nr. DOU ET IDA ÇãO/|Rubrica: ENGEN|\n",
      "|CAETANO BARROS/BIAGI, Brasileiro(a), ENGENHEIRO, casado(a) sob o regime de comunhão parcial de bens, residente e domiciliado em RODOVIA SP 328 KM 310 CAIXA POSTAL 11, CEP: 14.110-000, município-UF: RIBEIRAO PRETO-SP, portador do(a) CARTEIRA DE IDENTIDADE nr. 32.093.157-2 SSP SP e inscrito no CPF/MF sob o nr. 294.592.988-00.| |\n",
      "\n",
      "- Continua na página 12 -—\n",
      "---\n",
      "# Continuação da CEDULA DE CREDITO BANCARIO nr. 511.300.712, - Página 12 -\n",
      "\n",
      "Emitida nesta data por ALLIAGE S/A INDUSTRIAS MEDICO ODONTOLOGICA, em favor do Banco do Brasil S.A., no valor de R$25.000.000,00, com vencimento final em 15/08/2025.\n",
      "956167cb-3426-4b92-a71c-5a2e725eb167\n",
      "\n",
      "\n",
      "-------------------\n",
      "Por aval ao emitente:\n",
      "\n",
      "|HG EMPREENDIMENTOS E PARTICIPACOES S/A, sediado(a) em FAZENDA DA PEDRA S/N, ZONA RURAL, SERRANA - SP, Cep: 14.150-000 e inscrito(a) no CNPJ sob Oo nr. 04.787.677/0001-72, E-mail: Não possui endereço de e-mail.|Rubrica: A.: >)S | Rubricã: ENGENHE RD|\n",
      "|---|---|\n",
      "|LUIZ ROBERTO YSEL CRUZ, Brasileiro(a), 2» 50- universal casado(a) às o regime de comunhão efa D > ds domi MAR 0/ROXS residente460, omiciliado em RUA PROFESSOR MARIO/ROX porta 14.025-460, município-UF: RIBEIRAO PRETO- NA 0-SP EIRA DE SS CARTEFRA DE IDENTIDADE nr. 577535680Sep E/MF' sob 1» sb o nr. 000.277.788-60. cQU (RuSuca - CÓdvad >, Ài A | ) Rubrica: x [ E/ a CASADO|EEONEEDO BIAGI, Brasilfiro(sd, CAROS 1) “COMUNHAO UNIVERSAL, EIRAO PRE EMPRESARIO, residente em RIBETRAO Bairro: ETO - SP, na COND COLINA VERDE, 55 KM 312 CS.55, Bairro:ssCOLINA VERDE, CEP: 14.022-050, portador(a) do(a) CARTEIRA DE IDENTIDADE nr. 3.542.871 SSPSP, inscrito(a) no«-CPF sob%o nr. 551.123.078-20.|\n",
      "|INDOSTRIAL PEDRA AGROINDUSTRIAL \"S/A, sediado(a) em USINA DA PEDRA SN, ZONA RURAL, 2 ARENA ERRANA - o Cep: 14.150-000 e inscrito(a) no CNPJ redi@usped o) 71.304.687/0001-05, E-mail: GOI RS aom. br.|A.\n",
      "20ce7ef1-e701-4179-8d70-ad181c9681ec\n"
     ]
    }
   ],
   "source": [
    "# nodes_with_metadata[0].metadata[\"questions_this_excerpt_can_answer\"]\n",
    "# nodes_to_index[0].metadata\n",
    "\n",
    "for node in nodes_to_index:\n",
    "    if \"ribeirao\" in node.get_content().lower():\n",
    "        print(\"\\n\\n-------------------\")\n",
    "        print(node.get_content())\n",
    "        print(node.id_)"
   ]
  },
  {
   "cell_type": "code",
   "execution_count": 112,
   "id": "8b54ff99-7fef-4d62-9932-3f5fd34ab595",
   "metadata": {
    "execution": {
     "iopub.execute_input": "2024-05-12T14:50:52.263504Z",
     "iopub.status.busy": "2024-05-12T14:50:52.263204Z",
     "iopub.status.idle": "2024-05-12T14:50:52.305534Z",
     "shell.execute_reply": "2024-05-12T14:50:52.304467Z",
     "shell.execute_reply.started": "2024-05-12T14:50:52.263480Z"
    },
    "scrolled": true
   },
   "outputs": [
    {
     "name": "stdout",
     "output_type": "stream",
     "text": [
      "length:  28\n",
      "\n",
      "\n",
      "----------------------- ea2927aa-13e7-429f-ab2e-62441f32e654 -----------------------\n",
      "questions_this_excerpt_can_answer: 1. Qual é o valor da Cédula de Crédito Bancário emitida pela ALLIAGE S/A INDUSTRIAS MEDICO ODONTOLOGICA em favor do Banco do Brasil S.A.?\n",
      "2. Qual é a data de vencimento final da Cédula de Crédito Bancário?\n",
      "3. Onde devem ser cumpridas as obrigações assumidas nesta Cédula de Crédito Bancário?\n",
      "\n",
      "Resumo de nível mais alto: Este contexto fornece informações sobre uma Cédula de Crédito Bancário emitida pela ALLIAGE S/A INDUSTRIAS MEDICO ODONTOLOGICA em favor do Banco do Brasil S.A., no valor de R$25.000.000,00, com vencimento final em 15/08/2025. O documento foi aditado, retificado e ratificado, e as obrigações devem ser cumpridas na Agência do Banco do Brasil S.A. em Ribeirão Preto-SP.\n",
      "prev_section_summary: - Como solicitar correções ou exclusões de informações no SCR\n",
      "- Números de telefone para entrar em contato com o Banco para sugestões, reclamações ou esclarecimentos sobre o instrumento financeiro\n",
      "- Responsabilidades dos avalistas mencionados na Cédula de Crédito Bancário\n",
      "section_summary: - Tipo de documento: Cédula de Crédito Bancário\n",
      "- Emitente: ALLIAGE S/A INDUSTRIAS MEDICO ODONTOLOGICA\n",
      "- Beneficiário: Banco do Brasil S.A.\n",
      "- Valor: R$25.000.000,00\n",
      "- Data de vencimento final: 15/08/2025\n",
      "- Local de cumprimento das obrigações: Agência do Banco do Brasil S.A. em Ribeirão Preto-SP.\n"
     ]
    }
   ],
   "source": [
    "\n",
    "# print_nodes_parsing_result(base_nodes)\n",
    "# print_nodes_parsing_result(objects, \"embed\")\n",
    "# print_nodes_parsing_result(objects, \"llm\")\n",
    "# print_nodes_parsing_result(nodes_with_metadata, \"embed\")\n",
    "\n",
    "# ids_list = [\"b7d05e4d-21d4-44a5-90a8-a1a188b20072\", \"16966cdb-8c94-40ae-8ab7-4719558a0045\"]\n",
    "# ids_list = [\"956167cb-3426-4b92-a71c-5a2e725eb167\", \"ea2982c0-4153-448c-9923-a0bd4181c06a\"]\n",
    "ids_list = [\"ea2927aa-13e7-429f-ab2e-62441f32e654\"]\n",
    "print_nodes_parsing_result(nodes_to_index, metadata_mode=\"all\", only_metadata=True, ids_list=ids_list)\n",
    "# SEEMS LIKE THE IDEA OF RECURSIVE RETRIEVER IS:\n",
    "# - EMBEDDING RETRIEVAL: WITHOUT THE TABLE NODES CONTENT\n",
    "# - LLM INTERPRETATION: WITH THE TABLE NODES CONTENT"
   ]
  },
  {
   "cell_type": "code",
   "execution_count": 19,
   "id": "010f942b-f911-41f6-9917-b8926e574bf4",
   "metadata": {
    "execution": {
     "iopub.execute_input": "2024-05-08T23:35:45.471854Z",
     "iopub.status.busy": "2024-05-08T23:35:45.471551Z",
     "iopub.status.idle": "2024-05-08T23:35:45.535873Z",
     "shell.execute_reply": "2024-05-08T23:35:45.534807Z",
     "shell.execute_reply.started": "2024-05-08T23:35:45.471829Z"
    },
    "id": "010f942b-f911-41f6-9917-b8926e574bf4"
   },
   "outputs": [],
   "source": [
    "# print(documents[0].text[:500])\n",
    "\n",
    "# ## CEDULA DE CREDITO BANCARIO\n",
    "\n",
    "# INTRODUÇÃO: Nr. 511.300.712\n",
    "\n",
    "# 1. EMITENTE:\n",
    "\n",
    "# |Razão ou denominação social:|ALLIAGE S/A INDUSTRIAS MEDICO ODONTOLOGICA|\n",
    "# |---|---|\n",
    "# |CNPJ:|55.979.736/0001-45|\n",
    "# |Conta Corrente:|000.003.203-4|\n",
    "# |Endereço:|ROD ABRAÃO ASSED S/N KM 53 MAIS 450 METROS, RECREIO ANHANGUERA|\n",
    "# |Cidade:|RIBEIRÃO PRETO-SP|\n",
    "# |CEP:|14.097-500|\n",
    "# |E-MAIL:|fabiola.furtadoCalliage-global.com|\n",
    "\n",
    "# 2. DADOS DA OPERAÇÃO DE CRÉDITO:\n",
    "\n",
    "# |Valor:|R$25.000.000,00 (vinte e cinco milhões de reais)|\n",
    "# |---|---|\n",
    "# |Vencimento:|1"
   ]
  },
  {
   "cell_type": "code",
   "execution_count": null,
   "id": "6af784e2-e2e8-4f83-a892-6376347abac6",
   "metadata": {},
   "outputs": [],
   "source": [
    "# from IPython.display import Markdown, display\n",
    "\n",
    "# # define prompt viewing function\n",
    "# def display_prompt_dict(prompts_dict):\n",
    "#     for k, p in prompts_dict.items():\n",
    "#         text_md = f\"**Prompt Key**: {k}\" f\"**Text:** \"\n",
    "#         display(Markdown(text_md))\n",
    "#         print(p.get_template())\n",
    "#         display(Markdown(\"\"))\n",
    "# prompts_dict = query_engine_base.get_prompts()\n",
    "\n",
    "# display_prompt_dict(prompts_dict)"
   ]
  },
  {
   "cell_type": "markdown",
   "id": "97a02a64-96a3-431e-b5ea-bed657dac951",
   "metadata": {
    "id": "97a02a64-96a3-431e-b5ea-bed657dac951"
   },
   "source": [
    "## Retriever\n",
    "\n",
    "- [Node Postprocessor](https://docs.llamaindex.ai/en/stable/module_guides/querying/node_postprocessors/)"
   ]
  },
  {
   "cell_type": "code",
   "execution_count": 150,
   "id": "d88189f8-d458-44df-ab3f-74d453379fa5",
   "metadata": {
    "execution": {
     "iopub.execute_input": "2024-05-12T21:11:29.843170Z",
     "iopub.status.busy": "2024-05-12T21:11:29.842703Z",
     "iopub.status.idle": "2024-05-12T21:11:29.892920Z",
     "shell.execute_reply": "2024-05-12T21:11:29.892020Z",
     "shell.execute_reply.started": "2024-05-12T21:11:29.843134Z"
    }
   },
   "outputs": [
    {
     "data": {
      "text/plain": [
       "'Em que data o documento foi assinado?'"
      ]
     },
     "execution_count": 150,
     "metadata": {},
     "output_type": "execute_result"
    }
   ],
   "source": [
    "from duvidas import duvidas\n",
    "\n",
    "duvida = duvidas[\"Data de Assinatura\"][current_type]"
   ]
  },
  {
   "cell_type": "code",
   "execution_count": null,
   "id": "84f9ba0a-ead4-46ef-8e38-4765321974e7",
   "metadata": {},
   "outputs": [],
   "source": [
    "debug_post_process = False\n",
    "if debug_post_process:\n",
    "    from llama_index.postprocessor.flag_embedding_reranker import FlagEmbeddingReranker\n",
    "\n",
    "    base_retriever = recursive_index.as_retriever(similarity_top_k=15)\n",
    "    reranker = FlagEmbeddingReranker(\n",
    "        top_n=5,\n",
    "        model=\"BAAI/bge-reranker-large\",\n",
    "    )\n",
    "    retrievals = processor.postprocess_nodes(base_retriever.retrieve(duvida))\n",
    "else:\n",
    "    base_retriever = recursive_index.as_retriever(similarity_top_k=2)\n",
    "    retrievals = base_retriever.retrieve(duvida)"
   ]
  },
  {
   "cell_type": "code",
   "execution_count": 153,
   "id": "dad2a8a1-805b-48f7-a41d-93f420209657",
   "metadata": {
    "colab": {
     "base_uri": "https://localhost:8080/",
     "height": 924
    },
    "execution": {
     "iopub.execute_input": "2024-05-12T21:11:30.670544Z",
     "iopub.status.busy": "2024-05-12T21:11:30.670237Z",
     "iopub.status.idle": "2024-05-12T21:11:30.713288Z",
     "shell.execute_reply": "2024-05-12T21:11:30.712608Z",
     "shell.execute_reply.started": "2024-05-12T21:11:30.670521Z"
    },
    "id": "dad2a8a1-805b-48f7-a41d-93f420209657",
    "outputId": "c0c88a7c-5bc1-4aed-8766-cfe62325a71e"
   },
   "outputs": [
    {
     "data": {
      "text/markdown": [
       "**Node ID:** ea2927aa-13e7-429f-ab2e-62441f32e654<br>**Similarity:** 0.46324079245545213<br>**Text:** Esta CEDULA DE CREDITO BANCARIO poderá ser\n",
       "\n",
       "Continua na página 11 -\n",
       "\n",
       "Projeto São Sebastião - arnaldo.bernardi@lefosse.com - Arnaldo Bernardi - Lefosse Advogados - 04/03/2023 18:03:11 - 189.69.21.238\n",
       "---\n",
       "# Continuação da CEDULA DE CREDITO BANCARIO nr. 511.300.712, - Página 11 -\n",
       "\n",
       "Emitida nesta data por ALLIAGE S/A INDUSTRIAS MEDICO ODONTOLOGICA, em favor do Banco do Brasil S.A., no valor de R$25.000.000,00, com vencimento final em 15/08/2025.\n",
       "\n",
       "Aditada, retificada e ratificada mediante termo de aditamento escrito, com os requisitos previstos no \"caput\", quanto a quantidade de vias e a via negociável, que passará a integrar este Instrumento para todos os fins de direito.\n",
       "\n",
       "E por ser de minha(nossa) livre e espontânea vontade, assino(amos) esta CEDULA DE CREDITO BANCARIO em 2 (duas) vias de igual teor, para todos os fins de direito.\n",
       "\n",
       "LOCAL DO PAGAMENTO - Cumprirei(emos) as obrigações assumidas nesta CEDULA DE CREDITO BANCARIO junto à Agência do BANCO DO BRASIL S.A., em que for mantida minha(nossa) conta corrente, for praça de pagamento que fica designada como foro deste Instrumento.\n",
       "\n",
       "RIBEIRAO PRETO-SP, 18 de novembro de 2020.<br>"
      ],
      "text/plain": [
       "<IPython.core.display.Markdown object>"
      ]
     },
     "metadata": {},
     "output_type": "display_data"
    },
    {
     "data": {
      "text/markdown": [
       "**Node ID:** 9a9edca6-04d2-4233-bace-bfec50e61e0e<br>**Similarity:** 0.46311000544492925<br>**Text:** neste ato representada por LUIZ ROBERTO 04.78 7T6G7T7/0001-72, neste ato representada por LUIZ ROBERTO KAYSEL CRUZ, Brasileiro(a), ENGENHEIRO, casado(a) sob o regime de comunhão universal de bens, residente e domiciliado em RUA PROFESSOR MARIO ROXO 25, CEP: 14.025-460, município-UF: RIBEIRAO PRETO-SP, portador do(a) CARTEIRA DE IDENTIDADE nr. 57753568 SSP SP e inscrito no CPE/MF sob o nr. 000.277.788-60 e EDUARDO BIAGI, Brasileiro(a), CASADO(A)-COMUNHÃO UNIVERSAL, EMPRESÁRIO, residente em RIBEIRÃO PRETO - SP, na COND COLINA VERDE, 55 KM 312 CS.55, Bairro: COLINA VERDE, CEP: 14,022-050, portador (a) do (a) CARTEIRA DE IDENTIDADE nr. 3.542.871 SSPSP, inscrito(a) no CPF sob o nr. 551.123.078-20 e PEDRA AGROINDUSTRIAL S/A, sediado(a) em\n",
       "---\n",
       "# Continuação da CEDULA DE CREDITO BANCARIO nr. 511.300.712, - Página 2 -\n",
       "\n",
       "Emitida nesta data por ALLIAGE S/A INDUSTRIAS MEDICO ODONTOLOGICA, em favor do Banco do Brasil S.A., no valor de R$25.000.000,00, com vencimento final em 15/08/2025.\n",
       "\n",
       "USINA DA PEDRA SN, ZONA RURAL, SERRANA - SP, Cep: 14.150-000 e inscrito(a) no CNPJ sob o nr. 71.304.687/0001-05, E-mail: manfredi€Guspedra.com.br, neste ato representada por LUIZ ROBERTO KAYSEL CRUZ, acima qualificado.<br>"
      ],
      "text/plain": [
       "<IPython.core.display.Markdown object>"
      ]
     },
     "metadata": {},
     "output_type": "display_data"
    }
   ],
   "source": [
    "for n in retrievals:\n",
    "    display_source_node(n, source_length=5000)"
   ]
  },
  {
   "cell_type": "markdown",
   "id": "40dfa9d1-3a6d-4f8f-b18f-3bd7cf690516",
   "metadata": {
    "id": "40dfa9d1-3a6d-4f8f-b18f-3bd7cf690516"
   },
   "source": [
    "## Query engine"
   ]
  },
  {
   "cell_type": "markdown",
   "id": "f50c011c-d283-49e8-93a3-e2e17d3691dc",
   "metadata": {
    "id": "f50c011c-d283-49e8-93a3-e2e17d3691dc"
   },
   "source": [
    "### Base"
   ]
  },
  {
   "cell_type": "code",
   "execution_count": 154,
   "id": "c700599c-56f5-4cce-a4e3-e23ceceb3d3e",
   "metadata": {
    "execution": {
     "iopub.execute_input": "2024-05-12T21:14:20.651818Z",
     "iopub.status.busy": "2024-05-12T21:14:20.651484Z",
     "iopub.status.idle": "2024-05-12T21:14:20.697716Z",
     "shell.execute_reply": "2024-05-12T21:14:20.696782Z",
     "shell.execute_reply.started": "2024-05-12T21:14:20.651791Z"
    },
    "id": "c700599c-56f5-4cce-a4e3-e23ceceb3d3e"
   },
   "outputs": [],
   "source": [
    "from llama_index.core.query_engine.retriever_query_engine import RetrieverQueryEngine\n",
    "query_engine_base = RetrieverQueryEngine.from_args(base_retriever, verbose=True)"
   ]
  },
  {
   "cell_type": "code",
   "execution_count": 155,
   "id": "77220418-daf0-4ec7-bfcf-b138eba2163a",
   "metadata": {
    "execution": {
     "iopub.execute_input": "2024-05-12T21:14:21.104838Z",
     "iopub.status.busy": "2024-05-12T21:14:21.104502Z",
     "iopub.status.idle": "2024-05-12T21:14:22.509860Z",
     "shell.execute_reply": "2024-05-12T21:14:22.509145Z",
     "shell.execute_reply.started": "2024-05-12T21:14:21.104813Z"
    }
   },
   "outputs": [
    {
     "name": "stdout",
     "output_type": "stream",
     "text": [
      "CPU times: user 34.5 ms, sys: 18.4 ms, total: 52.9 ms\n",
      "Wall time: 1.3 s\n"
     ]
    }
   ],
   "source": [
    "%%time\n",
    "\n",
    "from duvidas import duvidas\n",
    "\n",
    "recursive_search = False\n",
    "# recursive_search = True\n",
    "not_to_search = [\n",
    "    # DONE\n",
    "    \"Objeto\", \"Data de Assinatura\", \"Alteração de Controle/ Reorganização\", \"Cessão\", \n",
    "     # TODO LATER\n",
    "     \"Observações\"]\n",
    "\n",
    "# to_search = [\"Garantias\"]\n",
    "# to_search = [\"Cross default\"]\n",
    "# to_search = [\"Objeto\", \"Cessão\"]\n",
    "# to_search = [\"Alteração de Controle/ Reorganização\"]\n",
    "to_search = [\"Data de Assinatura\"]\n",
    "# to_search = [\"Devedor\"]\n",
    "# current_type = \"Contrato de Financiamento\"\n",
    "current_type = \"Cédula de Crédito Bancário\"\n",
    "responses = {}\n",
    "\n",
    "original_stdout = sys.stdout\n",
    "with open(wd_path + '/data/query_engine_output.txt', 'w') as f:\n",
    "    # Redirect stdout to the file\n",
    "    sys.stdout = f\n",
    "    \n",
    "    for col_name, duvida_map in duvidas.items():\n",
    "        # if col_name not in not_to_search:\n",
    "        if col_name in to_search:\n",
    "            print(\"\\n\\n\\n------------- \" + col_name.upper() + \"-------------\\n\")\n",
    "            if recursive_search:\n",
    "                responses[col_name] = recursive_query_engine.query(\n",
    "                    duvidas[col_name][current_type]\n",
    "                )\n",
    "            else:\n",
    "                responses[col_name] = query_engine_base.query(\n",
    "                    duvidas[col_name][current_type]\n",
    "                )\n",
    "    # Restore the original stdout\n",
    "    sys.stdout = original_stdout\n",
    "# 17 seconds"
   ]
  },
  {
   "cell_type": "code",
   "execution_count": 156,
   "id": "1b64e59b-580e-420d-9cc1-1705bd55f4c6",
   "metadata": {
    "execution": {
     "iopub.execute_input": "2024-05-12T21:14:22.511702Z",
     "iopub.status.busy": "2024-05-12T21:14:22.511375Z",
     "iopub.status.idle": "2024-05-12T21:14:22.551384Z",
     "shell.execute_reply": "2024-05-12T21:14:22.550594Z",
     "shell.execute_reply.started": "2024-05-12T21:14:22.511679Z"
    }
   },
   "outputs": [
    {
     "name": "stdout",
     "output_type": "stream",
     "text": [
      "\n",
      "\n",
      "\n",
      "------------- DATA DE ASSINATURA-------------\n",
      "\n",
      "O documento foi assinado em 18 de novembro de 2020.\n"
     ]
    }
   ],
   "source": [
    "for col_name, response in responses.items():\n",
    "    print(\"\\n\\n\\n------------- \" + col_name.upper() + \"-------------\\n\")\n",
    "    print(response)\n",
    "\n",
    "# ------------- DATA DE ASSINATURA-------------\n",
    "\n",
    "# A data de assinatura, ou data de emissão, é 15/08/2025.\n",
    "# O documento foi assinado em 18 de novembro de 2020."
   ]
  },
  {
   "cell_type": "code",
   "execution_count": 56,
   "id": "b5779356-6ff6-4126-bd76-8d093cea06f6",
   "metadata": {
    "colab": {
     "base_uri": "https://localhost:8080/"
    },
    "execution": {
     "iopub.execute_input": "2024-05-09T02:20:10.892835Z",
     "iopub.status.busy": "2024-05-09T02:20:10.892539Z",
     "iopub.status.idle": "2024-05-09T02:20:10.955546Z",
     "shell.execute_reply": "2024-05-09T02:20:10.954697Z",
     "shell.execute_reply.started": "2024-05-09T02:20:10.892813Z"
    },
    "id": "b5779356-6ff6-4126-bd76-8d093cea06f6",
    "outputId": "6fa39e1b-72bc-4c6c-8930-0b6f7e041938"
   },
   "outputs": [],
   "source": [
    "# ------------- ALTERAÇÃO DE CONTROLE/ REORGANIZAÇÃO-------------\n",
    "\n",
    "# WITH RECURSIVE: A cláusula de vencimento antecipado menciona que o Banco do Brasil S.A. poderá considerar vencidas antecipadamente as operações de crédito se houver inadimplemento ou se ocorrer a transferência do controle do capital direto e/ou indireto, bem como a substituição de acionistas que resulte em perda do controle societário.\n",
    "\n",
    "# NO RECURSIVE: A cláusula de vencimento antecipado menciona que o banco pode considerar antecipadamente vencidas as operações de crédito se houver transferência de controle direto e/ou indireto do capital, alteração na titularidade do capital social envolvendo acionistas com variação superior a 10%, ou alteração societária que resulte em perda de controle societário. Também é destacado que qualquer modificação no estatuto ou nos dirigentes deve ser comunicada ao Banco do Brasil durante a vigência da operação de crédito.\n"
   ]
  },
  {
   "cell_type": "markdown",
   "id": "70682855-a244-4264-900e-15309e90ea64",
   "metadata": {
    "id": "70682855-a244-4264-900e-15309e90ea64"
   },
   "source": [
    "### Recursive with reranking"
   ]
  },
  {
   "cell_type": "code",
   "execution_count": 71,
   "id": "fd8cfc65-620d-4ead-8528-3ebf43d59bbc",
   "metadata": {
    "colab": {
     "base_uri": "https://localhost:8080/"
    },
    "execution": {
     "iopub.execute_input": "2024-05-09T03:29:10.926521Z",
     "iopub.status.busy": "2024-05-09T03:29:10.926211Z",
     "iopub.status.idle": "2024-05-09T03:29:24.901125Z",
     "shell.execute_reply": "2024-05-09T03:29:24.898389Z",
     "shell.execute_reply.started": "2024-05-09T03:29:10.926492Z"
    },
    "id": "fd8cfc65-620d-4ead-8528-3ebf43d59bbc",
    "outputId": "bce92e21-b44d-411b-d38e-bfc79019d8a3"
   },
   "outputs": [],
   "source": [
    "from llama_index.postprocessor.flag_embedding_reranker import FlagEmbeddingReranker\n",
    "\n",
    "reranker = FlagEmbeddingReranker(\n",
    "    top_n=5,\n",
    "    model=\"BAAI/bge-reranker-large\",\n",
    ")\n",
    "\n",
    "recursive_query_engine = recursive_index.as_query_engine(\n",
    "    similarity_top_k=15,\n",
    "    node_postprocessors=[reranker],\n",
    "    verbose=True\n",
    ")"
   ]
  },
  {
   "cell_type": "code",
   "execution_count": 23,
   "id": "She0FFa1cTLF",
   "metadata": {
    "colab": {
     "base_uri": "https://localhost:8080/"
    },
    "execution": {
     "iopub.execute_input": "2024-05-08T23:39:05.608167Z",
     "iopub.status.busy": "2024-05-08T23:39:05.607852Z",
     "iopub.status.idle": "2024-05-08T23:39:05.667174Z",
     "shell.execute_reply": "2024-05-08T23:39:05.666376Z",
     "shell.execute_reply.started": "2024-05-08T23:39:05.608143Z"
    },
    "id": "She0FFa1cTLF",
    "outputId": "c26a74ff-2d25-42ca-ca90-1700bde6c666"
   },
   "outputs": [],
   "source": [
    "# !python --version\n",
    "# Python 3.10.12\n",
    "\n",
    "response = recursive_query_engine.query(\n",
    "    # duvidas[\"Data de Assinatura\"][current_type]\n",
    "    duvidas[\"Alteração de Controle/ Reorganização\"][current_type]\n",
    "    )\n",
    "# MIGHT HAVE OUT OF MEMORY ISSUES"
   ]
  },
  {
   "cell_type": "code",
   "execution_count": 22,
   "id": "e012de6b-9903-4d2b-92f5-00a19c2d6354",
   "metadata": {
    "colab": {
     "base_uri": "https://localhost:8080/"
    },
    "execution": {
     "iopub.execute_input": "2024-05-08T23:38:57.547514Z",
     "iopub.status.busy": "2024-05-08T23:38:57.546974Z",
     "iopub.status.idle": "2024-05-08T23:38:57.612965Z",
     "shell.execute_reply": "2024-05-08T23:38:57.612137Z",
     "shell.execute_reply.started": "2024-05-08T23:38:57.547482Z"
    },
    "id": "e012de6b-9903-4d2b-92f5-00a19c2d6354",
    "outputId": "27e9edb9-ac45-4695-ae1a-e641c2db06d0"
   },
   "outputs": [
    {
     "name": "stdout",
     "output_type": "stream",
     "text": [
      "Na cláusula de Alteração de Controle/Reorganização, consta que o banco poderá considerar antecipadamente vencidas as obrigações da operação de crédito se houver transferência do controle direto e/ou indireto do capital, alteração de titularidade do capital social envolvendo qualquer acionista com variação superior a 10% do capital social, ou alteração social de qualquer controlada que resulte em perda de controle societário. Além disso, a cláusula prevê a comunicação obrigatória ao Banco do Brasil em caso de modificação do estatuto ou dos dirigentes durante a vigência da operação de crédito.\n"
     ]
    }
   ],
   "source": [
    "print(response)\n",
    "# A data de assinatura da Cédula de Crédito Bancário é 18 de novembro de 2020 em Ribeirão Preto, São Paulo.\n",
    "\n",
    "# A Alteração de Controle/Reorganização mencionada na cláusula de vencimento antecipado da cédula de crédito bancário ocorre quando há a transferência do controle direto e/ou indireto do capital, alteração de titularidade do capital social com variação superior a 10%, ou mudança na estrutura societária que resulte em perda de controle societário."
   ]
  },
  {
   "cell_type": "code",
   "execution_count": null,
   "id": "eFo2GcF24AWQ",
   "metadata": {
    "id": "eFo2GcF24AWQ"
   },
   "outputs": [],
   "source": []
  }
 ],
 "metadata": {
  "colab": {
   "provenance": []
  },
  "kernelspec": {
   "display_name": "Python 3 (ipykernel)",
   "language": "python",
   "name": "python3"
  },
  "language_info": {
   "codemirror_mode": {
    "name": "ipython",
    "version": 3
   },
   "file_extension": ".py",
   "mimetype": "text/x-python",
   "name": "python",
   "nbconvert_exporter": "python",
   "pygments_lexer": "ipython3",
   "version": "3.11.3"
  }
 },
 "nbformat": 4,
 "nbformat_minor": 5
}
