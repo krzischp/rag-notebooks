{
 "cells": [
  {
   "cell_type": "markdown",
   "id": "76534cce",
   "metadata": {},
   "source": [
    "<a href=\"https://colab.research.google.com/github/jerryjliu/llama_index/blob/main/docs/docs/examples/metadata_extraction/MetadataExtractionSEC.ipynb\" target=\"_parent\"><img src=\"https://colab.research.google.com/assets/colab-badge.svg\" alt=\"Open In Colab\"/></a>"
   ]
  },
  {
   "cell_type": "code",
   "execution_count": null,
   "id": "e9f2e3d6-586c-43b7-8b72-36cd66f6d44c",
   "metadata": {},
   "outputs": [],
   "source": []
  },
  {
   "cell_type": "code",
   "execution_count": null,
   "id": "3ab98e66-978e-4947-a19c-4914ae5f5dff",
   "metadata": {},
   "outputs": [],
   "source": []
  },
  {
   "cell_type": "code",
   "execution_count": null,
   "id": "5f148565-7757-4789-9c0a-8b7590ed689a",
   "metadata": {},
   "outputs": [],
   "source": []
  },
  {
   "cell_type": "code",
   "execution_count": null,
   "id": "649fe68c-d0c3-49fb-b69b-bd7b1ddf2292",
   "metadata": {},
   "outputs": [],
   "source": []
  },
  {
   "cell_type": "code",
   "execution_count": 1,
   "id": "e0aaa081-4de6-43cb-a40f-df4673f10d8c",
   "metadata": {
    "execution": {
     "iopub.execute_input": "2024-05-11T18:09:44.046266Z",
     "iopub.status.busy": "2024-05-11T18:09:44.044057Z",
     "iopub.status.idle": "2024-05-11T18:09:44.100546Z",
     "shell.execute_reply": "2024-05-11T18:09:44.099710Z",
     "shell.execute_reply.started": "2024-05-11T18:09:44.046148Z"
    }
   },
   "outputs": [],
   "source": [
    "%load_ext autoreload\n",
    "%autoreload 2"
   ]
  },
  {
   "cell_type": "code",
   "execution_count": 10,
   "id": "2e0899ea-26e7-4056-9e67-d8ef266b43fd",
   "metadata": {
    "execution": {
     "iopub.execute_input": "2024-05-02T02:18:02.762561Z",
     "iopub.status.busy": "2024-05-02T02:18:02.762232Z",
     "iopub.status.idle": "2024-05-02T02:18:02.787993Z",
     "shell.execute_reply": "2024-05-02T02:18:02.787128Z",
     "shell.execute_reply.started": "2024-05-02T02:18:02.762535Z"
    }
   },
   "outputs": [],
   "source": [
    "import sys\n",
    "import os\n",
    "import openai\n",
    "from dotenv import load_dotenv, find_dotenv"
   ]
  },
  {
   "cell_type": "code",
   "execution_count": null,
   "id": "8d30c03b-a780-43b1-8911-a0385ede80a9",
   "metadata": {
    "execution": {
     "iopub.execute_input": "2024-05-11T18:10:23.073986Z",
     "iopub.status.busy": "2024-05-11T18:10:23.073696Z"
    }
   },
   "outputs": [],
   "source": [
    "from llama_index.core.extractors import (\n",
    "    SummaryExtractor,\n",
    "    QuestionsAnsweredExtractor,\n",
    "    TitleExtractor,\n",
    "    KeywordExtractor,\n",
    "    BaseExtractor,\n",
    ")\n",
    "from llama_index.core.node_parser.text.sentence import SentenceSplitter\n",
    "\n",
    "# base_nodes+objects\n",
    "qa_extractor = QuestionsAnsweredExtractor(questions=3)\n",
    "\n",
    "# assume documents are defined -> extract nodes\n",
    "from llama_index.core.ingestion import IngestionPipeline\n",
    "\n",
    "extractors = [\n",
    "    # TitleExtractor(nodes=5),\n",
    "    # QuestionsAnsweredExtractor(questions=3),\n",
    "    SummaryExtractor(summaries=[\"prev\", \"self\"]),\n",
    "    # KeywordExtractor(keywords=10),\n",
    "    # CustomExtractor()\n",
    "]\n",
    "\n",
    "NODE_PARSER_CHUNK_SIZE = 512\n",
    "NODE_PARSER_CHUNK_OVERLAP = 10\n",
    "\n",
    "\n",
    "sentence_splitter = SentenceSplitter.from_defaults(\n",
    "    chunk_size=NODE_PARSER_CHUNK_SIZE,\n",
    "    chunk_overlap=NODE_PARSER_CHUNK_OVERLAP\n",
    ")\n",
    "\n",
    "transformations = [sentence_splitter] + extractors\n",
    "\n",
    "pipeline = IngestionPipeline(\n",
    "    transformations=transformations\n",
    ")\n"
   ]
  },
  {
   "cell_type": "code",
   "execution_count": 11,
   "id": "a6034da4-faeb-44db-9115-fcc48f649043",
   "metadata": {
    "execution": {
     "iopub.execute_input": "2024-05-02T02:18:02.925835Z",
     "iopub.status.busy": "2024-05-02T02:18:02.925551Z",
     "iopub.status.idle": "2024-05-02T02:18:02.955123Z",
     "shell.execute_reply": "2024-05-02T02:18:02.954446Z",
     "shell.execute_reply.started": "2024-05-02T02:18:02.925813Z"
    }
   },
   "outputs": [],
   "source": [
    "# Get the current working directory\n",
    "llamaindex_dir = os.getcwd()\n",
    "# Get the parent directory\n",
    "llamaindex_dir = os.path.dirname(llamaindex_dir)\n",
    "\n",
    "sys.path.append(llamaindex_dir + \"/utils\")\n",
    "# sys.path\n",
    "\n",
    "_ = load_dotenv(find_dotenv()) # read local .env file\n",
    "\n",
    "openai.api_key  = os.getenv('OPENAI_API_KEY')"
   ]
  },
  {
   "cell_type": "code",
   "execution_count": 12,
   "id": "de08b1e8-770e-4778-a212-42587e2dc771",
   "metadata": {
    "execution": {
     "iopub.execute_input": "2024-05-02T02:18:03.106906Z",
     "iopub.status.busy": "2024-05-02T02:18:03.106555Z",
     "iopub.status.idle": "2024-05-02T02:18:03.130989Z",
     "shell.execute_reply": "2024-05-02T02:18:03.130135Z",
     "shell.execute_reply.started": "2024-05-02T02:18:03.106879Z"
    }
   },
   "outputs": [],
   "source": [
    "from llamaindex_utils import *"
   ]
  },
  {
   "cell_type": "code",
   "execution_count": 13,
   "id": "a7340d46-2296-4fae-8033-a21e7f655b7f",
   "metadata": {
    "execution": {
     "iopub.execute_input": "2024-05-02T02:18:03.269663Z",
     "iopub.status.busy": "2024-05-02T02:18:03.269377Z",
     "iopub.status.idle": "2024-05-02T02:18:03.293900Z",
     "shell.execute_reply": "2024-05-02T02:18:03.293144Z",
     "shell.execute_reply.started": "2024-05-02T02:18:03.269639Z"
    }
   },
   "outputs": [],
   "source": [
    "import logging\n",
    "import sys\n",
    "\n",
    "# logging.basicConfig(stream=sys.stdout, level=logging.DEBUG)\n",
    "logging.basicConfig(stream=sys.stdout, level=logging.WARNING)\n",
    "logging.getLogger().addHandler(logging.StreamHandler(stream=sys.stdout))"
   ]
  },
  {
   "attachments": {},
   "cell_type": "markdown",
   "id": "b07531d9-7473-480d-bee6-c1ee4cbc207c",
   "metadata": {},
   "source": [
    "# Extracting Metadata for Better Document Indexing and Understanding\n",
    "\n",
    "In many cases, especially with long documents, a chunk of text may lack the context necessary to disambiguate the chunk from other similar chunks of text. One method of addressing this is manually labelling each chunk in our dataset or knowledge base. However, this can be labour intensive and time consuming for a large number or continually updated set of documents.\n",
    "\n",
    "To combat this, we use LLMs to extract certain contextual information relevant to the document to better help the retrieval and language models disambiguate similar-looking passages.\n",
    "\n",
    "We do this through our brand-new `Metadata Extractor` modules."
   ]
  },
  {
   "cell_type": "code",
   "execution_count": 15,
   "id": "fdbeeba2-e33a-402b-8d4d-afe777729c5c",
   "metadata": {
    "execution": {
     "iopub.execute_input": "2024-05-02T02:18:25.012757Z",
     "iopub.status.busy": "2024-05-02T02:18:25.012466Z",
     "iopub.status.idle": "2024-05-02T02:18:25.627963Z",
     "shell.execute_reply": "2024-05-02T02:18:25.627510Z",
     "shell.execute_reply.started": "2024-05-02T02:18:25.012734Z"
    }
   },
   "outputs": [],
   "source": [
    "from llama_index import ServiceContext, set_global_service_context\n",
    "from llama_index.embeddings.openai import (\n",
    "    OpenAIEmbedding,\n",
    "    OpenAIEmbeddingMode,\n",
    "    OpenAIEmbeddingModelType,\n",
    ")\n",
    "from llama_index.llms.openai import OpenAI\n",
    "from llama_index.schema import MetadataMode\n",
    "\n",
    "llm = OpenAI(temperature=0.1, model=\"gpt-3.5-turbo\", max_tokens=512)\n",
    "embedding_model = OpenAIEmbedding(\n",
    "    mode=OpenAIEmbeddingMode.SIMILARITY_MODE,\n",
    "    model_type=OpenAIEmbeddingModelType.TEXT_EMBED_ADA_002,\n",
    "    api_key=openai.api_key,\n",
    ")\n",
    "\n",
    "service_context = ServiceContext.from_defaults(\n",
    "  llm=llm, embed_model=embedding_model, chunk_size=512\n",
    ")\n",
    "set_global_service_context(service_context)"
   ]
  },
  {
   "cell_type": "markdown",
   "id": "f887966e",
   "metadata": {},
   "source": [
    "If you're opening this Notebook on colab, you will probably need to install LlamaIndex 🦙."
   ]
  },
  {
   "cell_type": "code",
   "execution_count": 16,
   "id": "1a2eaf14",
   "metadata": {
    "execution": {
     "iopub.execute_input": "2024-05-02T02:18:25.944054Z",
     "iopub.status.busy": "2024-05-02T02:18:25.943769Z",
     "iopub.status.idle": "2024-05-02T02:18:25.968724Z",
     "shell.execute_reply": "2024-05-02T02:18:25.968016Z",
     "shell.execute_reply.started": "2024-05-02T02:18:25.944030Z"
    }
   },
   "outputs": [],
   "source": [
    "# %pip install llama-index-llms-openai\n",
    "# %pip install llama-index-extractors-entity"
   ]
  },
  {
   "cell_type": "code",
   "execution_count": 17,
   "id": "69d1b1f2",
   "metadata": {
    "execution": {
     "iopub.execute_input": "2024-05-02T02:18:26.139742Z",
     "iopub.status.busy": "2024-05-02T02:18:26.139496Z",
     "iopub.status.idle": "2024-05-02T02:18:26.164527Z",
     "shell.execute_reply": "2024-05-02T02:18:26.163465Z",
     "shell.execute_reply.started": "2024-05-02T02:18:26.139720Z"
    }
   },
   "outputs": [],
   "source": [
    "# !pip install llama-index"
   ]
  },
  {
   "cell_type": "code",
   "execution_count": 18,
   "id": "91c807cc-1334-4f92-8a9e-9ccd702f3578",
   "metadata": {
    "execution": {
     "iopub.execute_input": "2024-05-02T02:18:26.331664Z",
     "iopub.status.busy": "2024-05-02T02:18:26.331432Z",
     "iopub.status.idle": "2024-05-02T02:18:26.352035Z",
     "shell.execute_reply": "2024-05-02T02:18:26.351448Z",
     "shell.execute_reply.started": "2024-05-02T02:18:26.331646Z"
    }
   },
   "outputs": [],
   "source": [
    "import nest_asyncio\n",
    "\n",
    "nest_asyncio.apply()\n",
    "\n",
    "# import os\n",
    "# import openai\n",
    "\n",
    "# os.environ[\"OPENAI_API_KEY\"] = \"YOUR_API_KEY_HERE\""
   ]
  },
  {
   "attachments": {},
   "cell_type": "markdown",
   "id": "2db2cf90-f295-4a3d-a47c-4b2b1dd2d7c5",
   "metadata": {},
   "source": [
    "We create a node parser that extracts the document title and hypothetical question embeddings relevant to the document chunk.\n",
    "\n",
    "We also show how to instantiate the `SummaryExtractor` and `KeywordExtractor`, as well as how to create your own custom extractor \n",
    "based on the `BaseExtractor` base class"
   ]
  },
  {
   "cell_type": "code",
   "execution_count": 19,
   "id": "3bda151d-6fb8-427e-82fc-0f3bb469d705",
   "metadata": {
    "execution": {
     "iopub.execute_input": "2024-05-02T02:18:26.741910Z",
     "iopub.status.busy": "2024-05-02T02:18:26.741610Z",
     "iopub.status.idle": "2024-05-02T02:18:26.790388Z",
     "shell.execute_reply": "2024-05-02T02:18:26.789628Z",
     "shell.execute_reply.started": "2024-05-02T02:18:26.741885Z"
    }
   },
   "outputs": [],
   "source": [
    "from llama_index.extractors import (\n",
    "    SummaryExtractor,\n",
    "    QuestionsAnsweredExtractor,\n",
    "    TitleExtractor,\n",
    "    KeywordExtractor,\n",
    "    BaseExtractor,\n",
    ")\n",
    "# from llama_index.extractors.entity import EntityExtractor\n",
    "from llama_index.node_parser import TokenTextSplitter\n",
    "\n",
    "text_splitter = TokenTextSplitter(\n",
    "    separator=\" \", chunk_size=512, chunk_overlap=128\n",
    ")\n",
    "\n",
    "\n",
    "class CustomExtractor(BaseExtractor):\n",
    "    def extract(self, nodes):\n",
    "        metadata_list = [\n",
    "            {\n",
    "                \"custom\": (\n",
    "                    node.metadata[\"document_title\"]\n",
    "                    + \"\\n\"\n",
    "                    + node.metadata[\"excerpt_keywords\"]\n",
    "                )\n",
    "            }\n",
    "            for node in nodes\n",
    "        ]\n",
    "        return metadata_list\n",
    "\n",
    "\n",
    "extractors = [\n",
    "    TitleExtractor(nodes=5, llm=llm),\n",
    "    QuestionsAnsweredExtractor(questions=3, llm=llm),\n",
    "    # EntityExtractor(prediction_threshold=0.5),\n",
    "    # SummaryExtractor(summaries=[\"prev\", \"self\"], llm=llm),\n",
    "    # KeywordExtractor(keywords=10, llm=llm),\n",
    "    # CustomExtractor()\n",
    "]\n",
    "\n",
    "transformations = [text_splitter] + extractors"
   ]
  },
  {
   "cell_type": "code",
   "execution_count": 20,
   "id": "c72c45a9-dcad-4925-b2f7-d25fe5d80c2d",
   "metadata": {
    "execution": {
     "iopub.execute_input": "2024-05-02T02:18:26.964532Z",
     "iopub.status.busy": "2024-05-02T02:18:26.964234Z",
     "iopub.status.idle": "2024-05-02T02:18:26.990839Z",
     "shell.execute_reply": "2024-05-02T02:18:26.989963Z",
     "shell.execute_reply.started": "2024-05-02T02:18:26.964504Z"
    }
   },
   "outputs": [],
   "source": [
    "from llama_index import SimpleDirectoryReader"
   ]
  },
  {
   "attachments": {},
   "cell_type": "markdown",
   "id": "e4e54937-e9e7-48ed-8600-72cd2f3c529b",
   "metadata": {},
   "source": [
    "We first load the 10k annual SEC report for Uber and Lyft for the years 2019 and 2020 respectively."
   ]
  },
  {
   "cell_type": "code",
   "execution_count": 21,
   "id": "a2e5ef50-82ef-4936-bbc2-c022f67007a0",
   "metadata": {
    "execution": {
     "iopub.execute_input": "2024-05-02T02:18:27.389993Z",
     "iopub.status.busy": "2024-05-02T02:18:27.389668Z",
     "iopub.status.idle": "2024-05-02T02:18:27.415911Z",
     "shell.execute_reply": "2024-05-02T02:18:27.414677Z",
     "shell.execute_reply.started": "2024-05-02T02:18:27.389967Z"
    }
   },
   "outputs": [],
   "source": [
    "# !mkdir -p ../data\n",
    "# !wget -O \"../data/10k-132.pdf\" \"https://www.dropbox.com/scl/fi/6dlqdk6e2k1mjhi8dee5j/uber.pdf?rlkey=2jyoe49bg2vwdlz30l76czq6g&dl=1\"\n",
    "# !wget -O \"../data/10k-vFinal.pdf\" \"https://www.dropbox.com/scl/fi/qn7g3vrk5mqb18ko4e5in/lyft.pdf?rlkey=j6jxtjwo8zbstdo4wz3ns8zoj&dl=1\""
   ]
  },
  {
   "cell_type": "code",
   "execution_count": 22,
   "id": "38a46bf6-9539-4ac2-ad97-eb909992b94d",
   "metadata": {
    "execution": {
     "iopub.execute_input": "2024-05-02T02:18:27.574410Z",
     "iopub.status.busy": "2024-05-02T02:18:27.574076Z",
     "iopub.status.idle": "2024-05-02T02:18:31.884015Z",
     "shell.execute_reply": "2024-05-02T02:18:31.883494Z",
     "shell.execute_reply.started": "2024-05-02T02:18:27.574387Z"
    }
   },
   "outputs": [],
   "source": [
    "# Note the uninformative document file name, which may be a common scenario in a production setting\n",
    "uber_docs = SimpleDirectoryReader(input_files=[\"../data/10k-132.pdf\"]).load_data()\n",
    "uber_front_pages = uber_docs[0:3]\n",
    "uber_content = uber_docs[63:69]\n",
    "uber_docs = uber_front_pages + uber_content"
   ]
  },
  {
   "cell_type": "code",
   "execution_count": 23,
   "id": "825901da-7a88-4b36-898a-bb31abf01635",
   "metadata": {
    "execution": {
     "iopub.execute_input": "2024-05-02T02:18:31.885501Z",
     "iopub.status.busy": "2024-05-02T02:18:31.885161Z",
     "iopub.status.idle": "2024-05-02T02:18:31.906972Z",
     "shell.execute_reply": "2024-05-02T02:18:31.906373Z",
     "shell.execute_reply.started": "2024-05-02T02:18:31.885481Z"
    }
   },
   "outputs": [
    {
     "name": "stdout",
     "output_type": "stream",
     "text": [
      "['ce4a15a6-7529-4760-b966-1228c5bb9192', '1ee4abce-7012-46c1-8a13-b716e822028a', 'e8659e3b-226d-4b36-9522-07dce4cbca9c', 'b2d37bf5-bb86-4c16-9a43-693047a0495f', '976852a6-62a3-4487-b8eb-dca416229c8e', 'f2dbaa89-c9b8-4369-b12a-ca91a7d01660', 'e4e9da35-a27a-4896-8723-c9e4f999b5d7', '64867df6-7aa4-4a4e-adbf-b3edb1c3692b', 'ffa17641-73e8-4d0a-bec3-7be80327349c']\n"
     ]
    }
   ],
   "source": [
    "# print(\"uber_front_pages: \", uber_front_pages)\n",
    "print([x.doc_id for x in uber_docs])"
   ]
  },
  {
   "cell_type": "code",
   "execution_count": 24,
   "id": "269f8ecc-489d-435f-9d81-a9c64fd4d400",
   "metadata": {
    "execution": {
     "iopub.execute_input": "2024-05-02T02:18:31.907959Z",
     "iopub.status.busy": "2024-05-02T02:18:31.907687Z",
     "iopub.status.idle": "2024-05-02T02:19:18.563469Z",
     "shell.execute_reply": "2024-05-02T02:19:18.562714Z",
     "shell.execute_reply.started": "2024-05-02T02:18:31.907939Z"
    }
   },
   "outputs": [
    {
     "data": {
      "application/vnd.jupyter.widget-view+json": {
       "model_id": "04673c29dac841e390e61cc0308a3695",
       "version_major": 2,
       "version_minor": 0
      },
      "text/plain": [
       "Extracting titles:   0%|          | 0/5 [00:00<?, ?it/s]"
      ]
     },
     "metadata": {},
     "output_type": "display_data"
    },
    {
     "data": {
      "application/vnd.jupyter.widget-view+json": {
       "model_id": "78cb5319e226440d97533a37a92544eb",
       "version_major": 2,
       "version_minor": 0
      },
      "text/plain": [
       "Extracting questions:   0%|          | 0/20 [00:00<?, ?it/s]"
      ]
     },
     "metadata": {},
     "output_type": "display_data"
    }
   ],
   "source": [
    "from llama_index.ingestion import IngestionPipeline\n",
    "\n",
    "pipeline = IngestionPipeline(transformations=transformations)\n",
    "\n",
    "uber_nodes = pipeline.run(documents=uber_docs)"
   ]
  },
  {
   "cell_type": "code",
   "execution_count": 25,
   "id": "8da4d824-d518-4d37-8322-a35adac05157",
   "metadata": {
    "execution": {
     "iopub.execute_input": "2024-05-02T02:19:18.566465Z",
     "iopub.status.busy": "2024-05-02T02:19:18.566171Z",
     "iopub.status.idle": "2024-05-02T02:19:18.600118Z",
     "shell.execute_reply": "2024-05-02T02:19:18.599481Z",
     "shell.execute_reply.started": "2024-05-02T02:19:18.566439Z"
    }
   },
   "outputs": [
    {
     "name": "stdout",
     "output_type": "stream",
     "text": [
      "2019\n",
      "Annual  \n",
      "Report\n",
      "\n",
      "1. What is the title of Uber Technologies, Inc.'s 2019 Annual Report?\n",
      "2. When was the document \"10k-132.pdf\" last modified?\n",
      "3. What is the file size of the document \"10k-132.pdf\"?\n",
      "------------------------\n",
      "\n",
      "69  \n",
      "Countries\n",
      "10K+  \n",
      "Cities\n",
      "$65B  \n",
      "Gross Bookings\n",
      "111M  \n",
      "MAPCs\n",
      "7B  \n",
      "TripsA global tech \n",
      "platform at \n",
      "massive scale\n",
      "Serving multiple multi-trillion \n",
      "dollar markets with products \n",
      "leveraging our core technology \n",
      "and infrastructure\n",
      "We believe deeply in our bold mission. Every minute \n",
      "of every day, consumers and Drivers on our platform \n",
      "can tap a button and get a ride or tap a button and \n",
      "get work. We revolutionized personal mobility with \n",
      "ridesharing, and we are leveraging our platform to \n",
      "redefine the massive meal delivery and logistics \n",
      "industries. The foundation of our platform is our \n",
      "massive network, leading technology, operational \n",
      "excellence, and product expertise. Together, these \n",
      "elements power movement from point A to point B.\n",
      "\n",
      "1. How many countries does Uber Technologies, Inc. operate in?\n",
      "2. What is the total number of trips completed on Uber's platform?\n",
      "3. How does Uber describe its mission and the industries it aims to revolutionize in its 2019 Annual Report?\n",
      "------------------------\n",
      "\n",
      "UNITED STATES \n",
      "SECURITIES AND EXCH ANGE COMMISSION \n",
      "Washington, D.C. 20549 \n",
      "   \n",
      "FORM 10-K  \n",
      "   \n",
      "(Mark One) \n",
      " ANNUAL REPORT PU RSUANT TO SECTION 13 OR 15(d) OF  THE SECURITIES EXCHANGE ACT OF 1934  \n",
      "For the fiscal year ended December 31, 2019  \n",
      "OR \n",
      " TRANSITION REPORT PURSUANT TO SECTION 13 OR 15(d) OF THE SECURITIES EXCHANGE ACT OF 1934 \n",
      "For the transition period from  to   \n",
      "Commission File Number: 001-38902  \n",
      "   \n",
      "UBER TECHNOLOGIES, INC.  \n",
      "(Exact name of registrant as specified in its charter) \n",
      "   \n",
      " \n",
      "Delaware 45-2647441  \n",
      "(State or other jurisdiction of incorporation or  organization) (I.R.S. Employer Identification No.)  \n",
      "  \n",
      "1455 Market Street, 4th Floor  \n",
      "San Francisco, California 94103 \n",
      "(Address of principal executive offices, including zip code)  \n",
      "(415) 612-8582 \n",
      "(Registrant’s telephone number, including area code)  \n",
      "   \n",
      "Securities registered pursuant to Section 12(b) of the Act:  \n",
      "Title of each class  Trading Symbol(s)   Name of each exchange  \n",
      "on which registered  \n",
      "Common Stock, par value $0.00001 per shar e  UBER  New York Stock Exchange \n",
      "     \n",
      "Securities registered pursuant to Section 12(g) of the Act: None \n",
      "Indicate by check mark whether the registrant is a well-known seas oned issuer, as defined in Rule 405 of the Securities Act. Ye s  No  \n",
      "Indicate by check mark whether the registrant  is not required to file reports pursuant to Section 13 or Section 15(d) of the Ac t. Yes  No  \n",
      "Indicate by check mark whether the registrant (1) has filed all re ports required to be filed by Section 13 or 15(d) of the Secu rities Exchange \n",
      "Act of 1934 during the preceding 12 months (or for such shorter pe riod that the registrant was required to file such reports), and\n",
      "\n",
      "1. What is the exact address of Uber Technologies, Inc.'s principal executive offices, including the zip code?\n",
      "2. What is the phone number of Uber Technologies, Inc. as listed in their official documents?\n",
      "3. Is Uber Technologies, Inc. a well-known seasoned issuer as defined in Rule 405 of the Securities Act?\n",
      "------------------------\n",
      "\n",
      "Rule 405 of the Securities Act. Ye s  No  \n",
      "Indicate by check mark whether the registrant  is not required to file reports pursuant to Section 13 or Section 15(d) of the Ac t. Yes  No  \n",
      "Indicate by check mark whether the registrant (1) has filed all re ports required to be filed by Section 13 or 15(d) of the Secu rities Exchange \n",
      "Act of 1934 during the preceding 12 months (or for such shorter pe riod that the registrant was required to file such reports), and (2) has been \n",
      "subject to such filing requirements for the past 90 days. Yes  No  \n",
      "Indicate by check mark wh ether the registrant has submitted electronically ever y Interactive Data File required to be submitted  pursuant to \n",
      "Rule 405 of Regulation S-T (§232.405 of this chapter) during the preceding 12 months (or for such shorter period that the regis trant was \n",
      "required to submit such files). Yes  No  \n",
      "Indicate by check mark whether the registrant is a large accelerat ed filer, an accelerated filer, a non-accelerated filer, a sm aller reporting \n",
      "company, or an emerging growth company. See the definitions of “large accelerated filer,” “accelerated filer,” “smaller reporti ng company,” \n",
      "and “emerging growth company” in Rule 12b-2 of the Exchange Act. \n",
      "Large accelerated file r  Accelerated file r \n",
      "Non-accelerated file r  Smaller reporting compan y \n",
      "  Emerging growth compan y \n",
      "   \n",
      "If an emerging growth company, indicate by check mark if the registrant has elected not to use the extended transition period f or complying \n",
      "with any new or revised financial accounting standards provided pursuant to Section 13(a) of th e Exchange Act.        \n",
      "Indicate by check mark whether the registrant is a shell comp any (as defined in Rule 12b-2 of the Exchange Act). Yes  No  \n",
      "The aggregate market value of the voting and non-voting common equity  held by non-affiliates of the registrant as of June\n",
      "\n",
      "1. What is the aggregate market value of the voting and non-voting common equity held by non-affiliates of Uber Technologies, Inc. as of June?\n",
      "2. Has Uber Technologies, Inc. submitted all Interactive Data Files required to be submitted pursuant to Rule 405 of Regulation S-T during the preceding 12 months?\n",
      "3. What is the filing status of Uber Technologies, Inc. in terms of being a large accelerated filer, accelerated filer, non-accelerated filer, smaller reporting company, or emerging growth company?\n",
      "------------------------\n",
      "\n",
      "If an emerging growth company, indicate by check mark if the registrant has elected not to use the extended transition period f or complying \n",
      "with any new or revised financial accounting standards provided pursuant to Section 13(a) of th e Exchange Act.        \n",
      "Indicate by check mark whether the registrant is a shell comp any (as defined in Rule 12b-2 of the Exchange Act). Yes  No  \n",
      "The aggregate market value of the voting and non-voting common equity  held by non-affiliates of the registrant as of June 28, 2 019, the last \n",
      "business day of the registrant's most recently completed s econd fiscal quarter, was approximately $59.7 billion based upon the closing price \n",
      "reported for such date on the New York Stock Exchange. \n",
      "The number of shares of the registrant's common stock outstanding as of February 19, 2020 was 1,723,775,076. \n",
      "DOCUMENTS INCORPORATED BY REFERENCE \n",
      "Portions of the registrant’s Definitive Proxy Statement relati ng to the Annual Meeting of Stockholders are incorporated by refe rence into Part \n",
      "III of this Annual Report on Form 10-K where indicated. Such Defi nitive Proxy Statement will be filed with the Securities and E xchange \n",
      "Commission within 120 days after the end of the regi strant’s fiscal year ended December 31, 2019.\n",
      "\n",
      "1. What was the aggregate market value of the voting and non-voting common equity held by non-affiliates of Uber Technologies, Inc. as of June 28, 2019?\n",
      "2. How many shares of Uber Technologies, Inc.'s common stock were outstanding as of February 19, 2020?\n",
      "3. When will portions of Uber Technologies, Inc.'s Definitive Proxy Statement relating to the Annual Meeting of Stockholders be filed with the Securities and Exchange Commission?\n",
      "------------------------\n",
      "\n"
     ]
    }
   ],
   "source": [
    "for i in range(5):\n",
    "    print(uber_nodes[i].text)\n",
    "    print()\n",
    "    print(uber_nodes[i].metadata[\"questions_this_excerpt_can_answer\"])\n",
    "    print(\"------------------------\\n\")"
   ]
  },
  {
   "cell_type": "code",
   "execution_count": 26,
   "id": "93e70bfb-6c02-401b-be91-3827f358b22c",
   "metadata": {
    "execution": {
     "iopub.execute_input": "2024-05-02T02:19:18.601160Z",
     "iopub.status.busy": "2024-05-02T02:19:18.600847Z",
     "iopub.status.idle": "2024-05-02T02:19:25.879859Z",
     "shell.execute_reply": "2024-05-02T02:19:25.879170Z",
     "shell.execute_reply.started": "2024-05-02T02:19:18.601141Z"
    }
   },
   "outputs": [],
   "source": [
    "# Note the uninformative document file name, which may be a common scenario in a production setting\n",
    "lyft_docs = SimpleDirectoryReader(\n",
    "    input_files=[\"../data/10k-vFinal.pdf\"]\n",
    ").load_data()\n",
    "lyft_front_pages = lyft_docs[0:3]\n",
    "lyft_content = lyft_docs[68:73]\n",
    "lyft_docs = lyft_front_pages + lyft_content"
   ]
  },
  {
   "cell_type": "code",
   "execution_count": 27,
   "id": "e3720b40-c50c-4185-aaf4-289ff8ab057e",
   "metadata": {
    "execution": {
     "iopub.execute_input": "2024-05-02T02:19:25.880911Z",
     "iopub.status.busy": "2024-05-02T02:19:25.880638Z",
     "iopub.status.idle": "2024-05-02T02:20:15.396205Z",
     "shell.execute_reply": "2024-05-02T02:20:15.395413Z",
     "shell.execute_reply.started": "2024-05-02T02:19:25.880892Z"
    }
   },
   "outputs": [
    {
     "data": {
      "application/vnd.jupyter.widget-view+json": {
       "model_id": "93ebe87c544e4ef987a3f44ee9964c9e",
       "version_major": 2,
       "version_minor": 0
      },
      "text/plain": [
       "Extracting titles:   0%|          | 0/5 [00:00<?, ?it/s]"
      ]
     },
     "metadata": {},
     "output_type": "display_data"
    },
    {
     "data": {
      "application/vnd.jupyter.widget-view+json": {
       "model_id": "361e4fcf893146b4af383d9d8716da15",
       "version_major": 2,
       "version_minor": 0
      },
      "text/plain": [
       "Extracting questions:   0%|          | 0/20 [00:00<?, ?it/s]"
      ]
     },
     "metadata": {},
     "output_type": "display_data"
    }
   ],
   "source": [
    "from llama_index.ingestion import IngestionPipeline\n",
    "\n",
    "pipeline = IngestionPipeline(transformations=transformations)\n",
    "\n",
    "lyft_nodes = pipeline.run(documents=lyft_docs)"
   ]
  },
  {
   "cell_type": "code",
   "execution_count": 28,
   "id": "98740f96-afdd-45ff-bcc0-2c50965a7349",
   "metadata": {
    "execution": {
     "iopub.execute_input": "2024-05-02T02:20:15.397667Z",
     "iopub.status.busy": "2024-05-02T02:20:15.397359Z",
     "iopub.status.idle": "2024-05-02T02:20:15.426807Z",
     "shell.execute_reply": "2024-05-02T02:20:15.426068Z",
     "shell.execute_reply.started": "2024-05-02T02:20:15.397646Z"
    }
   },
   "outputs": [
    {
     "data": {
      "text/plain": [
       "{'page_label': '2',\n",
       " 'file_name': '10k-vFinal.pdf',\n",
       " 'file_path': '../data/10k-vFinal.pdf',\n",
       " 'file_type': 'application/pdf',\n",
       " 'file_size': 3416577,\n",
       " 'creation_date': '2024-05-01',\n",
       " 'last_modified_date': '2024-05-01',\n",
       " 'last_accessed_date': '2024-05-01',\n",
       " 'document_title': 'Lyft, Inc. Form 10-K Annual Report for Fiscal Year Ended December 31, 2020: Securities Exchange Act Filing Status, Internal Control Reporting, and Market Value Analysis, Incorporation of Proxy Statement for 2021 Annual Meeting of Stockholders',\n",
       " 'questions_this_excerpt_can_answer': '1. Has Lyft, Inc. submitted all required reports to the Securities Exchange Act of 1934 in the past 12 months?\\n2. What is the filing status of Lyft, Inc. as a registrant under the Securities Exchange Act of 1934?\\n3. Has Lyft, Inc. filed a report on the effectiveness of its internal control over financial reporting under Section 404(b) of the Sarbanes-Oxley Act?'}"
      ]
     },
     "execution_count": 28,
     "metadata": {},
     "output_type": "execute_result"
    }
   ],
   "source": [
    "lyft_nodes[2].metadata"
   ]
  },
  {
   "attachments": {},
   "cell_type": "markdown",
   "id": "ddd5805f-c459-40ae-a21c-5fa0de750a60",
   "metadata": {},
   "source": [
    "Since we are asking fairly sophisticated questions, we utilize a subquestion query engine for all QnA pipelines below, and prompt it to pay more attention to the relevance of the retrieved sources. "
   ]
  },
  {
   "cell_type": "code",
   "execution_count": 29,
   "id": "302bb085-86cc-4b76-a452-67bc826b292d",
   "metadata": {
    "execution": {
     "iopub.execute_input": "2024-05-02T02:20:15.428351Z",
     "iopub.status.busy": "2024-05-02T02:20:15.428038Z",
     "iopub.status.idle": "2024-05-02T02:20:15.461650Z",
     "shell.execute_reply": "2024-05-02T02:20:15.461065Z",
     "shell.execute_reply.started": "2024-05-02T02:20:15.428330Z"
    }
   },
   "outputs": [],
   "source": [
    "from llama_index.question_gen.llm_generators import LLMQuestionGenerator\n",
    "from llama_index.question_gen.prompts import (\n",
    "    DEFAULT_SUB_QUESTION_PROMPT_TMPL,\n",
    ")\n",
    "\n",
    "\n",
    "# To generate the subquestions\n",
    "question_gen = LLMQuestionGenerator.from_defaults(\n",
    "    service_context=service_context,\n",
    "    prompt_template_str=\"\"\"\n",
    "        Follow the example, but instead of giving a question, always prefix the question \n",
    "        with: 'By first identifying and quoting the most relevant sources, '. \n",
    "        \"\"\"\n",
    "    + DEFAULT_SUB_QUESTION_PROMPT_TMPL,\n",
    ")"
   ]
  },
  {
   "cell_type": "code",
   "execution_count": 31,
   "id": "e10bf59c-5bb7-4133-b6b8-3e98c995aa4e",
   "metadata": {
    "execution": {
     "iopub.execute_input": "2024-05-02T02:20:40.075508Z",
     "iopub.status.busy": "2024-05-02T02:20:40.075047Z",
     "iopub.status.idle": "2024-05-02T02:20:40.210812Z",
     "shell.execute_reply": "2024-05-02T02:20:40.210319Z",
     "shell.execute_reply.started": "2024-05-02T02:20:40.075481Z"
    }
   },
   "outputs": [],
   "source": [
    "from llama_index import VectorStoreIndex\n",
    "from llama_index.query_engine import SubQuestionQueryEngine\n",
    "from llama_index.tools import QueryEngineTool, ToolMetadata"
   ]
  },
  {
   "attachments": {},
   "cell_type": "markdown",
   "id": "12cd959f-80ac-4d10-9246-d27cc6c1096a",
   "metadata": {},
   "source": [
    "## Querying an Index With No Extra Metadata"
   ]
  },
  {
   "cell_type": "code",
   "execution_count": 44,
   "id": "37dd8992-3716-44da-9309-154fb5946e98",
   "metadata": {
    "execution": {
     "iopub.execute_input": "2024-05-02T02:35:19.236415Z",
     "iopub.status.busy": "2024-05-02T02:35:19.234126Z",
     "iopub.status.idle": "2024-05-02T02:35:19.398962Z",
     "shell.execute_reply": "2024-05-02T02:35:19.398194Z",
     "shell.execute_reply.started": "2024-05-02T02:35:19.236353Z"
    }
   },
   "outputs": [
    {
     "name": "stdout",
     "output_type": "stream",
     "text": [
      "LLM sees:\n",
      " [Excerpt from document]\n",
      "page_label: 66\n",
      "file_name: 10k-132.pdf\n",
      "Excerpt:\n",
      "-----\n",
      "62 2019 Compared to 2018 \n",
      "Adjusted EBITDA loss increased $878 million, or 48%, primar ily attributable to continued investments within our non-\n",
      "Rides offerings and an increase in corpor ate overhead as we grow the business. Th ese investments drove an increase in our \n",
      "Adjusted EBITDA loss margin as a percentage of  Adjusted Net Revenue of (3)% to (21)%. \n",
      "Components of Results of Operations \n",
      "The following discussion on trends in our components of results of operations excludes IPO related impacts as well \n",
      "as the Driver appreciation award of $299 million, both of which occurred during the second quarter of 2019. The Driver \n",
      "appreciation award was accounted for as a Driver incentive.  For additional information about our IPO, see Note 1 - \n",
      "Description of Business and Summary of Significant Accoun ting Policies to our consolidated financial statements \n",
      "included in Part II, Item 8, “Financial  Statements and Supplementary Data”, of  this Annual Report on Form 10-K. \n",
      "Revenue We generate substantially all of our revenue from fees paid by Drivers and Restaurants for use of our platform. We \n",
      "have concluded that we are an agent in these arrangements as we arrange for other parties to provide the service to the end-\n",
      "user. Under this model, revenue is net of Driver and Restau rant earnings and Driver incentives. We act as an agent in \n",
      "these transactions by connecting consumer s to Drivers and Restaurants to facilita te a Trip or meal delivery service. \n",
      "For additional discussion related to our revenue, see the section titled “Management’s Discussion and Analysis of \n",
      "Financial Condition and Results of Operations - Critical Accounting Policies and Estimates - Revenue Recognition,” \n",
      "Note 1 - Description of Business and Summary of Significant Accounting Policies - Revenue Recognition, and Note 2 - \n",
      "Revenue to our consolidated financial stat ements included in Part II, Item 8, “Financial Statements and Supplementary \n",
      "Data”, of this Annual Report on Form 10-K. \n",
      "Cost of Revenue, Exclusive of  Depreciation and Amortization \n",
      "Cost of revenue, exclusive of depreciation and amortization, consists primarily of insurance costs, credit card \n",
      "processing fees, hosting and co-located data center expenses, mobile device and service expenses, amounts related to fare \n",
      "chargebacks and other credit card losses,  excess Driver incentives, and costs incurred with carriers for Freight \n",
      "transportation. Insurance expenses include coverage for auto liability, general\n",
      "-----\n"
     ]
    }
   ],
   "source": [
    "from copy import deepcopy\n",
    "\n",
    "nodes_no_metadata = deepcopy(uber_nodes) + deepcopy(lyft_nodes)\n",
    "for node in nodes_no_metadata:\n",
    "    node.metadata = {\n",
    "        k: node.metadata[k]\n",
    "        for k in node.metadata\n",
    "        if k in [\"page_label\", \"file_name\"]\n",
    "    }\n",
    "print(\n",
    "    \"LLM sees:\\n\",\n",
    "    (nodes_no_metadata)[9].get_content(metadata_mode=MetadataMode.LLM),\n",
    ")"
   ]
  },
  {
   "cell_type": "code",
   "execution_count": 45,
   "id": "028a65d7-8065-4798-acec-1c3486633e14",
   "metadata": {
    "execution": {
     "iopub.execute_input": "2024-05-02T02:35:19.408820Z",
     "iopub.status.busy": "2024-05-02T02:35:19.408531Z",
     "iopub.status.idle": "2024-05-02T02:35:22.156204Z",
     "shell.execute_reply": "2024-05-02T02:35:22.155381Z",
     "shell.execute_reply.started": "2024-05-02T02:35:19.408799Z"
    }
   },
   "outputs": [],
   "source": [
    "index_no_metadata = VectorStoreIndex(\n",
    "    nodes=nodes_no_metadata,\n",
    ")\n",
    "engine_no_metadata = index_no_metadata.as_query_engine(\n",
    "    similarity_top_k=10, llm=OpenAI(model=\"gpt-3.5-turbo-0613\")\n",
    ")"
   ]
  },
  {
   "cell_type": "code",
   "execution_count": null,
   "id": "73ea9e05-ff5a-49b6-8e52-139d156cde47",
   "metadata": {
    "execution": {
     "iopub.status.busy": "2024-05-02T02:20:15.550652Z",
     "iopub.status.idle": "2024-05-02T02:20:15.551276Z",
     "shell.execute_reply": "2024-05-02T02:20:15.551111Z",
     "shell.execute_reply.started": "2024-05-02T02:20:15.551095Z"
    }
   },
   "outputs": [],
   "source": [
    "# final_engine_no_metadata = SubQuestionQueryEngine.from_defaults(\n",
    "#     query_engine_tools=[\n",
    "#         QueryEngineTool(\n",
    "#             query_engine=engine_no_metadata,\n",
    "#             metadata=ToolMetadata(\n",
    "#                 name=\"sec_filing_documents\",\n",
    "#                 description=\"financial information on companies\",\n",
    "#             ),\n",
    "#         )\n",
    "#     ],\n",
    "#     # A module for generating sub questions given a complex question and tools.\n",
    "#     question_gen=question_gen,\n",
    "#     use_async=True,\n",
    "# )"
   ]
  },
  {
   "cell_type": "code",
   "execution_count": null,
   "id": "fd5a3e51-e252-4e24-bc2b-fbc32ce078dd",
   "metadata": {
    "execution": {
     "iopub.status.busy": "2024-05-02T02:20:15.552426Z",
     "iopub.status.idle": "2024-05-02T02:20:15.552815Z",
     "shell.execute_reply": "2024-05-02T02:20:15.552664Z",
     "shell.execute_reply.started": "2024-05-02T02:20:15.552649Z"
    }
   },
   "outputs": [],
   "source": [
    "# response_no_metadata = final_engine_no_metadata.query(\n",
    "#     \"\"\"\n",
    "#     What was the cost due to research and development v.s. sales and marketing for uber and lyft in 2019 in millions of USD?\n",
    "#     Give your answer as a JSON.\n",
    "#     \"\"\"\n",
    "# )\n",
    "# print(response_no_metadata.response)\n",
    "# # Correct answer:\n",
    "# # {\"Uber\": {\"Research and Development\": 4836, \"Sales and Marketing\": 4626},\n",
    "# #  \"Lyft\": {\"Research and Development\": 1505.6, \"Sales and Marketing\": 814 }}"
   ]
  },
  {
   "attachments": {},
   "cell_type": "markdown",
   "id": "e9dafdad-c18c-4e0f-8a35-b691ca73e1f2",
   "metadata": {},
   "source": [
    "**RESULT**: As we can see, the QnA agent does not seem to know where to look for the right documents. As a result it gets the Lyft and Uber data completely mixed up."
   ]
  },
  {
   "attachments": {},
   "cell_type": "markdown",
   "id": "9878905f-c47d-46b2-9ad9-063538e717e1",
   "metadata": {},
   "source": [
    "## Querying an Index With Extracted Metadata"
   ]
  },
  {
   "cell_type": "code",
   "execution_count": 71,
   "id": "97f00a18-e9e6-47db-bef5-cbf5bb5016be",
   "metadata": {
    "execution": {
     "iopub.execute_input": "2024-05-02T01:15:01.532637Z",
     "iopub.status.busy": "2024-05-02T01:15:01.532187Z",
     "iopub.status.idle": "2024-05-02T01:15:01.559805Z",
     "shell.execute_reply": "2024-05-02T01:15:01.558850Z",
     "shell.execute_reply.started": "2024-05-02T01:15:01.532621Z"
    }
   },
   "outputs": [
    {
     "name": "stdout",
     "output_type": "stream",
     "text": [
      "LLM sees:\n",
      " [Excerpt from document]\n",
      "page_label: 66\n",
      "file_name: 10k-132.pdf\n",
      "file_path: ../data/10k-132.pdf\n",
      "file_type: application/pdf\n",
      "file_size: 2829436\n",
      "creation_date: 2024-05-01\n",
      "last_modified_date: 2024-05-01\n",
      "last_accessed_date: 2024-05-01\n",
      "document_title: Revolutionizing Mobility and Logistics: Uber Technologies, Inc. 2019 Annual Report\n",
      "Excerpt:\n",
      "-----\n",
      "62 2019 Compared to 2018 \n",
      "Adjusted EBITDA loss increased $878 million, or 48%, primar ily attributable to continued investments within our non-\n",
      "Rides offerings and an increase in corpor ate overhead as we grow the business. Th ese investments drove an increase in our \n",
      "Adjusted EBITDA loss margin as a percentage of  Adjusted Net Revenue of (3)% to (21)%. \n",
      "Components of Results of Operations \n",
      "The following discussion on trends in our components of results of operations excludes IPO related impacts as well \n",
      "as the Driver appreciation award of $299 million, both of which occurred during the second quarter of 2019. The Driver \n",
      "appreciation award was accounted for as a Driver incentive.  For additional information about our IPO, see Note 1 - \n",
      "Description of Business and Summary of Significant Accoun ting Policies to our consolidated financial statements \n",
      "included in Part II, Item 8, “Financial  Statements and Supplementary Data”, of  this Annual Report on Form 10-K. \n",
      "Revenue We generate substantially all of our revenue from fees paid by Drivers and Restaurants for use of our platform. We \n",
      "have concluded that we are an agent in these arrangements as we arrange for other parties to provide the service to the end-\n",
      "user. Under this model, revenue is net of Driver and Restau rant earnings and Driver incentives. We act as an agent in \n",
      "these transactions by connecting consumer s to Drivers and Restaurants to facilita te a Trip or meal delivery service. \n",
      "For additional discussion related to our revenue, see the section titled “Management’s Discussion and Analysis of \n",
      "Financial Condition and Results of Operations - Critical Accounting Policies and Estimates - Revenue Recognition,” \n",
      "Note 1 - Description of Business and Summary of Significant Accounting Policies - Revenue Recognition, and Note 2 - \n",
      "Revenue to our consolidated financial stat ements included in Part II, Item 8, “Financial Statements and Supplementary \n",
      "Data”, of this Annual Report on Form 10-K. \n",
      "Cost of Revenue, Exclusive of  Depreciation and Amortization \n",
      "Cost of revenue, exclusive of depreciation and amortization, consists primarily of insurance costs, credit card \n",
      "processing fees, hosting and co-located data center expenses, mobile device and service expenses, amounts related to fare \n",
      "chargebacks and other credit card losses,  excess Driver incentives, and costs incurred with carriers for Freight \n",
      "transportation. Insurance expenses include coverage for auto liability, general\n",
      "-----\n"
     ]
    }
   ],
   "source": [
    "print(\n",
    "    \"LLM sees:\\n\",\n",
    "    (uber_nodes + lyft_nodes)[9].get_content(metadata_mode=MetadataMode.LLM),\n",
    ")"
   ]
  },
  {
   "cell_type": "code",
   "execution_count": 32,
   "id": "c7d255de-3034-4035-93bc-45d535ce1700",
   "metadata": {
    "execution": {
     "iopub.execute_input": "2024-05-02T02:20:43.646816Z",
     "iopub.status.busy": "2024-05-02T02:20:43.646518Z",
     "iopub.status.idle": "2024-05-02T02:20:46.585972Z",
     "shell.execute_reply": "2024-05-02T02:20:46.585392Z",
     "shell.execute_reply.started": "2024-05-02T02:20:43.646793Z"
    }
   },
   "outputs": [],
   "source": [
    "index = VectorStoreIndex(\n",
    "    nodes=uber_nodes + lyft_nodes,\n",
    ")"
   ]
  },
  {
   "cell_type": "code",
   "execution_count": 52,
   "id": "2ac38f96-d4c3-467e-a3bc-69988f23d708",
   "metadata": {
    "execution": {
     "iopub.execute_input": "2024-05-02T02:51:38.124348Z",
     "iopub.status.busy": "2024-05-02T02:51:38.124015Z",
     "iopub.status.idle": "2024-05-02T02:51:38.155095Z",
     "shell.execute_reply": "2024-05-02T02:51:38.154454Z",
     "shell.execute_reply.started": "2024-05-02T02:51:38.124323Z"
    }
   },
   "outputs": [
    {
     "name": "stdout",
     "output_type": "stream",
     "text": [
      "[Excerpt from document]\n",
      "page_label: 1\n",
      "file_path: ../data/10k-132.pdf\n",
      "document_title: Revolutionizing Mobility and Logistics: Uber Technologies, Inc. 2019 Annual Report\n",
      "questions_this_excerpt_can_answer: 1. What is the title of Uber Technologies, Inc.'s 2019 Annual Report?\n",
      "2. When was the document \"10k-132.pdf\" last modified?\n",
      "3. What is the file size of the document \"10k-132.pdf\"?\n",
      "Excerpt:\n",
      "-----\n",
      "2019\n",
      "Annual  \n",
      "Report\n",
      "-----\n"
     ]
    }
   ],
   "source": [
    "print(uber_nodes[0].get_content(metadata_mode=MetadataMode.EMBED))"
   ]
  },
  {
   "cell_type": "code",
   "execution_count": 53,
   "id": "08d2181c-d8c3-4d6f-8c17-8603c262143e",
   "metadata": {
    "execution": {
     "iopub.execute_input": "2024-05-02T02:54:16.552020Z",
     "iopub.status.busy": "2024-05-02T02:54:16.551671Z",
     "iopub.status.idle": "2024-05-02T02:54:16.589425Z",
     "shell.execute_reply": "2024-05-02T02:54:16.588572Z",
     "shell.execute_reply.started": "2024-05-02T02:54:16.551995Z"
    }
   },
   "outputs": [
    {
     "name": "stdout",
     "output_type": "stream",
     "text": [
      "[Excerpt from document]\n",
      "page_label: 1\n",
      "Excerpt:\n",
      "-----\n",
      "2019\n",
      "Annual  \n",
      "Report\n",
      "-----\n"
     ]
    }
   ],
   "source": [
    "# IF NO METADATA, THEN IT ONLY EMBEDS THIS:\n",
    "print(nodes_no_metadata[0].get_content(metadata_mode=MetadataMode.EMBED))"
   ]
  },
  {
   "cell_type": "markdown",
   "id": "fd6478f8-3be2-485f-bf11-c5f5ed45ba4a",
   "metadata": {},
   "source": [
    "# Improve the retriever\n",
    "\n",
    "With metadata, the embedding retriever might be better. However, if too much metadata, we might add noise.\n",
    "\n",
    "TODO: test [Retriever (Metadata References)](https://docs.llamaindex.ai/en/stable/examples/retrievers/recursive_retriever_nodes/)"
   ]
  },
  {
   "cell_type": "code",
   "execution_count": 37,
   "id": "2de8768b-6e99-4342-b539-ad692dae189a",
   "metadata": {
    "execution": {
     "iopub.execute_input": "2024-05-02T02:22:03.775420Z",
     "iopub.status.busy": "2024-05-02T02:22:03.775078Z",
     "iopub.status.idle": "2024-05-02T02:22:03.807690Z",
     "shell.execute_reply": "2024-05-02T02:22:03.806907Z",
     "shell.execute_reply.started": "2024-05-02T02:22:03.775394Z"
    }
   },
   "outputs": [],
   "source": [
    "from llama_index.response.notebook_utils import display_source_node\n",
    "\n",
    "question = \"What was the cost due to research and development for uber in 2019 in millions of USD?\""
   ]
  },
  {
   "cell_type": "code",
   "execution_count": 46,
   "id": "acc8b9e0-f9c6-465d-a6da-420d4ed7f1e9",
   "metadata": {
    "execution": {
     "iopub.execute_input": "2024-05-02T02:35:57.237359Z",
     "iopub.status.busy": "2024-05-02T02:35:57.237048Z",
     "iopub.status.idle": "2024-05-02T02:35:57.268340Z",
     "shell.execute_reply": "2024-05-02T02:35:57.267680Z",
     "shell.execute_reply.started": "2024-05-02T02:35:57.237336Z"
    }
   },
   "outputs": [],
   "source": [
    "base_retriever = index.as_retriever(similarity_top_k=2)\n",
    "base_retriever_no_metadata = index_no_metadata.as_retriever(similarity_top_k=2)"
   ]
  },
  {
   "cell_type": "code",
   "execution_count": 47,
   "id": "2bffa63d-9f73-4a63-941b-25c9430cbd14",
   "metadata": {
    "execution": {
     "iopub.execute_input": "2024-05-02T02:36:12.612708Z",
     "iopub.status.busy": "2024-05-02T02:36:12.612274Z",
     "iopub.status.idle": "2024-05-02T02:36:13.312507Z",
     "shell.execute_reply": "2024-05-02T02:36:13.311312Z",
     "shell.execute_reply.started": "2024-05-02T02:36:12.612675Z"
    }
   },
   "outputs": [],
   "source": [
    "retrievals = base_retriever.retrieve(\n",
    "    question\n",
    ")\n",
    "\n",
    "retrievals_no_metadata = base_retriever_no_metadata.retrieve(\n",
    "    question\n",
    ")"
   ]
  },
  {
   "cell_type": "code",
   "execution_count": 49,
   "id": "dfe6ef81-c889-4761-aaa8-53860cdea4c0",
   "metadata": {
    "execution": {
     "iopub.execute_input": "2024-05-02T02:36:32.606241Z",
     "iopub.status.busy": "2024-05-02T02:36:32.605935Z",
     "iopub.status.idle": "2024-05-02T02:36:32.640280Z",
     "shell.execute_reply": "2024-05-02T02:36:32.639605Z",
     "shell.execute_reply.started": "2024-05-02T02:36:32.606217Z"
    }
   },
   "outputs": [
    {
     "data": {
      "text/markdown": [
       "**Node ID:** 27e09a78-e745-476c-ad44-d3e77bdc9670<br>**Similarity:** 0.8559352843492449<br>**Text:** thousands, except for percentages)\n",
       "Research and development $ 909,126 $ 1,505,640 $ 300,836  (40) %  400 %Year Ended December 31,2019 to 2020 \n",
       "% Change2018 to 2019 \n",
       "% Change\n",
       "Research and development expenses decreased  $596.5 million , or 40%, in the year ended December 31, 2020  as compared to \n",
       "the prior year. The decrease was primarily due to a $609.6 million  reduction in stock-based compensation expense primarily \n",
       "attributable to (i) the use of the accelerated attribution method to recognize expenses for RSUs granted prior to the effectiveness of our \n",
       "IPO Registration Statement which resulted in higher stock-based compensation expense for the year ended December 31, 2019 , and \n",
       "(ii) the stock-based compensation benefit related to the restructuring in the second quarter of 2020. The decrease was partially offset \n",
       "by an increase of $47.0 million  in autonomous vehicles research and development costs primarily due to the absence of \n",
       "70<br>"
      ],
      "text/plain": [
       "<IPython.core.display.Markdown object>"
      ]
     },
     "metadata": {},
     "output_type": "display_data"
    },
    {
     "name": "stdout",
     "output_type": "stream",
     "text": [
      "\n",
      "-----------------------------------------\n",
      "\n"
     ]
    },
    {
     "data": {
      "text/markdown": [
       "**Node ID:** 9f0cdd17-fa62-4046-95e3-d3c482bbd150<br>**Similarity:** 0.8539766101325302<br>**Text:** the periods presented (in \n",
       "millions): \n",
       "  Year Ended December 31,   \n",
       "  2017   2018   2019   \n",
       "Revenue  .................................................................................................. $ 7, 932 $ 11,270 $ 14,147 \n",
       "Costs and expenses:        \n",
       "Cost of revenue, exclusive of depreciation and amortization  \n",
       "shown separatel y below.......................................................................  4,1 60  5,623  7,208 \n",
       "Operations and suppor t ...........................................................................  1,354  1,516  2,302 \n",
       "Sales and marketin g ................................................................................  2,524  3,151  4,626 \n",
       "Research and developmen t .....................................................................  1,201  1,505  4,836 \n",
       "Gene ral and administra tive .....................................................................  2,263  2,082  3,299 \n",
       "Depreciation and amortizati on ................................................................  510  426  472 \n",
       "Total costs and expenses  ...................................................................  12 ,012  14,303  22,743 \n",
       "Loss from operations  .........................................................................  (4, 080)  (3,033)  (8,596) \n",
       "Interest expense ......................................................................................  (479)  (648)  (559) \n",
       "Other income (expense), ne t ...................................................................<br>"
      ],
      "text/plain": [
       "<IPython.core.display.Markdown object>"
      ]
     },
     "metadata": {},
     "output_type": "display_data"
    },
    {
     "name": "stdout",
     "output_type": "stream",
     "text": [
      "\n",
      "-----------------------------------------\n",
      "\n"
     ]
    }
   ],
   "source": [
    "for n in retrievals_no_metadata:\n",
    "    display_source_node(n, source_length=1500)\n",
    "    # print(n.metadata[\"questions_this_excerpt_can_answer\"])\n",
    "    print(\"\\n-----------------------------------------\\n\")\n",
    "# Node ID: afc3e421-72a6-461d-8c56-158d83a5756a\n",
    "# Node ID: 9f0cdd17-fa62-4046-95e3-d3c482bbd150"
   ]
  },
  {
   "cell_type": "code",
   "execution_count": 50,
   "id": "dbafe60c-8c18-40af-8e16-bc58f1b44950",
   "metadata": {
    "execution": {
     "iopub.execute_input": "2024-05-02T02:36:36.912851Z",
     "iopub.status.busy": "2024-05-02T02:36:36.912568Z",
     "iopub.status.idle": "2024-05-02T02:36:36.946667Z",
     "shell.execute_reply": "2024-05-02T02:36:36.945893Z",
     "shell.execute_reply.started": "2024-05-02T02:36:36.912829Z"
    }
   },
   "outputs": [
    {
     "data": {
      "text/markdown": [
       "**Node ID:** afc3e421-72a6-461d-8c56-158d83a5756a<br>**Similarity:** 0.8631747362537648<br>**Text:** 64 • Gain on business divestitures, which consists  of gain on sale of divested operations. \n",
       "• Gain (loss) on debt and equity secu rities, net, which consis ts primarily of gains from fair value adjustments \n",
       "relating to our investments such as our investment in Didi. \n",
       "• Foreign currency exchange gains (losses), net, which consist primarily of remeasur ement of transactions and \n",
       "monetary assets and liabilities denominated in currencies other than the functional currency at the end of the period. \n",
       "• Change in fair value of embedded derivatives, which consists primarily of gains and losses on embedded \n",
       "derivatives related to our Convertible Notes until their extinguishment in connection with our IPO. \n",
       "• Gain on extinguishment of convertible notes and settlement of derivatives. • Other, which consists primarily of ch anges in the fair value of warrants an d income from forfeitures of warrants. \n",
       "Provision for (Benefit from) Income Taxes \n",
       "We are subject to income taxes in the United States and fo reign jurisdictions in which we do business. These foreign \n",
       "jurisdictions have different statutory tax rates than those in the United States. Additionally, certain of our foreign earnings  \n",
       "may also be taxable in the United States. Accordingly, our  effective tax rate will vary depending on the relative \n",
       "proportion of foreign to domestic income, use of foreign tax credits, changes in the valuatio n of our deferred tax assets, \n",
       "and liabilities and changes in tax laws. \n",
       "Equity Method Inve...<br>"
      ],
      "text/plain": [
       "<IPython.core.display.Markdown object>"
      ]
     },
     "metadata": {},
     "output_type": "display_data"
    },
    {
     "name": "stdout",
     "output_type": "stream",
     "text": [
      "1. What were the revenue figures for Uber Technologies, Inc. for the years 2017, 2018, and 2019?\n",
      "2. How did the costs and expenses, including cost of revenue and operations and support, change for Uber Technologies, Inc. from 2017 to 2019?\n",
      "3. Can you provide details on the gain on business divestitures, gain (loss) on debt and equity securities, foreign currency exchange gains (losses), and other financial aspects mentioned in the excerpt from Uber Technologies, Inc.'s 2019 Annual Report?\n",
      "\n",
      "-----------------------------------------\n",
      "\n"
     ]
    },
    {
     "data": {
      "text/markdown": [
       "**Node ID:** 9f0cdd17-fa62-4046-95e3-d3c482bbd150<br>**Similarity:** 0.8625019056243356<br>**Text:** the periods presented (in \n",
       "millions): \n",
       "  Year Ended December 31,   \n",
       "  2017   2018   2019   \n",
       "Revenue  .................................................................................................. $ 7, 932 $ 11,270 $ 14,147 \n",
       "Costs and expenses:        \n",
       "Cost of revenue, exclusive of depreciation and amortization  \n",
       "shown separatel y below.......................................................................  4,1 60  5,623  7,208 \n",
       "Operations and suppor t ...........................................................................  1,354  1,516  2,302 \n",
       "Sales and marketin g ................................................................................  2,524  3,151  4,626 \n",
       "Research and developmen t .....................................................................  1,201  1,505  4,836 \n",
       "Gene ral and administra tive .....................................................................  2,263  2,082  3,299 \n",
       "Depreciation and amortizati on ................................................................  510  426  472 \n",
       "Total costs and expenses  ...................................................................  12 ,012  14,303  22,743 \n",
       "Loss from operations  .........................................................................  (4, 080)  (3,033)  (8,596) \n",
       "Interest expense ......................................................................................  (479)  (648)  (559) \n",
       "Other income (expense), ne t ...................................................................<br>"
      ],
      "text/plain": [
       "<IPython.core.display.Markdown object>"
      ]
     },
     "metadata": {},
     "output_type": "display_data"
    },
    {
     "name": "stdout",
     "output_type": "stream",
     "text": [
      "1. What were Uber Technologies, Inc.'s total revenue and total costs and expenses for the years 2017, 2018, and 2019?\n",
      "2. What was Uber Technologies, Inc.'s net income (loss) attributable to non-controlling interests for the years 2017, 2018, and 2019?\n",
      "3. How did Uber Technologies, Inc.'s income (loss) before income taxes and loss from equity method investment change from 2017 to 2019?\n",
      "\n",
      "-----------------------------------------\n",
      "\n"
     ]
    }
   ],
   "source": [
    "for n in retrievals:\n",
    "    display_source_node(n, source_length=1500)\n",
    "    print(n.metadata[\"questions_this_excerpt_can_answer\"])\n",
    "    print(\"\\n-----------------------------------------\\n\")\n",
    "# Node ID: afc3e421-72a6-461d-8c56-158d83a5756a\n",
    "# Node ID: 9f0cdd17-fa62-4046-95e3-d3c482bbd150"
   ]
  },
  {
   "cell_type": "markdown",
   "id": "c07e1c67-6e05-45f1-872a-f806ddf1604f",
   "metadata": {},
   "source": [
    "# SubQuestionQueryEngine"
   ]
  },
  {
   "cell_type": "code",
   "execution_count": null,
   "id": "eccdfa2b-bbd4-4d75-aa2b-4a0bd2cf9d18",
   "metadata": {},
   "outputs": [],
   "source": [
    "engine = index.as_query_engine(similarity_top_k=10, llm=OpenAI(model=\"gpt-3.5-turbo-0613\"))"
   ]
  },
  {
   "cell_type": "code",
   "execution_count": 73,
   "id": "bbe42516-a2ca-4986-9012-cb15682323f5",
   "metadata": {
    "execution": {
     "iopub.execute_input": "2024-05-02T01:15:06.205344Z",
     "iopub.status.busy": "2024-05-02T01:15:06.205046Z",
     "iopub.status.idle": "2024-05-02T01:15:06.235238Z",
     "shell.execute_reply": "2024-05-02T01:15:06.234438Z",
     "shell.execute_reply.started": "2024-05-02T01:15:06.205322Z"
    }
   },
   "outputs": [],
   "source": [
    "final_engine = SubQuestionQueryEngine.from_defaults(\n",
    "    query_engine_tools=[\n",
    "        QueryEngineTool(\n",
    "            query_engine=engine,\n",
    "            metadata=ToolMetadata(\n",
    "                name=\"sec_filing_documents\",\n",
    "                description=\"financial information on companies.\",\n",
    "            ),\n",
    "        )\n",
    "    ],\n",
    "    question_gen=question_gen,\n",
    "    use_async=True,\n",
    ")"
   ]
  },
  {
   "cell_type": "code",
   "execution_count": 74,
   "id": "f48ac2d9-58e9-4b98-9bad-b8ce1eea7934",
   "metadata": {
    "execution": {
     "iopub.execute_input": "2024-05-02T01:15:08.022888Z",
     "iopub.status.busy": "2024-05-02T01:15:08.022597Z",
     "iopub.status.idle": "2024-05-02T01:15:19.361584Z",
     "shell.execute_reply": "2024-05-02T01:15:19.360881Z",
     "shell.execute_reply.started": "2024-05-02T01:15:08.022866Z"
    }
   },
   "outputs": [
    {
     "name": "stdout",
     "output_type": "stream",
     "text": [
      "Generated 4 sub questions.\n",
      "\u001b[1;3;38;2;237;90;200m[sec_filing_documents] Q: By first identifying and quoting the most relevant sources, What was the cost due to research and development for Uber in 2019 in millions of USD?\n",
      "\u001b[0m\u001b[1;3;38;2;90;149;237m[sec_filing_documents] Q: By first identifying and quoting the most relevant sources, What was the cost due to sales and marketing for Uber in 2019 in millions of USD?\n",
      "\u001b[0m\u001b[1;3;38;2;11;159;203m[sec_filing_documents] Q: By first identifying and quoting the most relevant sources, What was the cost due to research and development for Lyft in 2019 in millions of USD?\n",
      "\u001b[0m\u001b[1;3;38;2;155;135;227m[sec_filing_documents] Q: By first identifying and quoting the most relevant sources, What was the cost due to sales and marketing for Lyft in 2019 in millions of USD?\n",
      "\u001b[0m\u001b[1;3;38;2;11;159;203m[sec_filing_documents] A: Research and development $ 909,126 $ 1,505,640 $ 300,836\n",
      "\u001b[0m\u001b[1;3;38;2;155;135;227m[sec_filing_documents] A: Sales and marketing $ 814.1 million\n",
      "\u001b[0m\u001b[1;3;38;2;237;90;200m[sec_filing_documents] A: Repeat: \"Research and development .....................................................................  1,201  1,505  4,836\"\n",
      "\u001b[0m\u001b[1;3;38;2;90;149;237m[sec_filing_documents] A: \"Sales and marketing expenses consist primarily of compensation expenses, including stock-based compensation to sales and marketing employees, advertising expenses, expenses related to consumer acquisition and retention, including consumer discounts, rider facing loyalty programs, promotions, refunds, and credits, Driver referrals, and allocated overhead. We expense advertising and other promotional expenditures as incurred.\"\n",
      "\n",
      "\"Sales and marketing expenses will increase on an absolute dollar basis and vary from period to period as a percentage of revenue for the foreseeable future as we plan to continue to invest in sales and marketing to grow the number of platform users and increase our brand awareness.\"\n",
      "\u001b[0m{\n",
      "    \"Uber\": {\n",
      "        \"Research and Development\": {\n",
      "            \"Cost\": 4836\n",
      "        },\n",
      "        \"Sales and Marketing\": {\n",
      "            \"Cost\": \"Not provided\"\n",
      "        }\n",
      "    },\n",
      "    \"Lyft\": {\n",
      "        \"Research and Development\": {\n",
      "            \"Cost\": 300.836\n",
      "        },\n",
      "        \"Sales and Marketing\": {\n",
      "            \"Cost\": 814.1\n",
      "        }\n",
      "    }\n",
      "}\n"
     ]
    }
   ],
   "source": [
    "response = final_engine.query(\n",
    "    \"\"\"\n",
    "    What was the cost due to research and development v.s. sales and marketing for uber and lyft in 2019 in millions of USD?\n",
    "    Give your answer as a JSON.\n",
    "    \"\"\"\n",
    ")\n",
    "print(response.response)\n",
    "# Correct answer:\n",
    "# {\"Uber\": {\"Research and Development\": 4836, \"Sales and Marketing\": 4626},\n",
    "#  \"Lyft\": {\"Research and Development\": 1505.6, \"Sales and Marketing\": 814 }}"
   ]
  },
  {
   "attachments": {},
   "cell_type": "markdown",
   "id": "8bee6d91-84f4-4bde-89dc-d010f9aebc3e",
   "metadata": {},
   "source": [
    "**RESULT**: As we can see, the LLM answers the questions correctly."
   ]
  },
  {
   "attachments": {},
   "cell_type": "markdown",
   "id": "14826bae-4032-4886-87a8-50f9f28d7ace",
   "metadata": {},
   "source": [
    "### Challenges Identified in the Problem Domain\n",
    "\n",
    "In this example, we observed that the search quality as provided by vector embeddings was rather poor. This was likely due to highly dense financial documents that were likely not representative of the training set for the model.\n",
    "\n",
    "In order to improve the search quality, other methods of neural search that employ more keyword-based approaches may help, such as ColBERTv2/PLAID. In particular, this would help in matching on particular keywords to identify high-relevance chunks.\n",
    "\n",
    "Other valid steps may include utilizing models that are fine-tuned on financial datasets such as Bloomberg GPT.\n",
    "\n",
    "Finally, we can help to further enrich the metadata by providing more contextual information regarding the surrounding context that the chunk is located in.\n",
    "\n",
    "### Improvements to this Example\n",
    "Generally, this example can be improved further with more rigorous evaluation of both the metadata extraction accuracy, and the accuracy and recall of the QnA pipeline. Further, incorporating a larger set of documents as well as the full length documents, which may provide more confounding passages that are difficult to disambiguate, could further stresss test the system we have built and suggest further improvements. "
   ]
  },
  {
   "cell_type": "code",
   "execution_count": null,
   "id": "c3b3177d-5546-422b-8abf-417eca1655da",
   "metadata": {},
   "outputs": [],
   "source": []
  }
 ],
 "metadata": {
  "kernelspec": {
   "display_name": "Python 3 (ipykernel)",
   "language": "python",
   "name": "python3"
  },
  "language_info": {
   "codemirror_mode": {
    "name": "ipython",
    "version": 3
   },
   "file_extension": ".py",
   "mimetype": "text/x-python",
   "name": "python",
   "nbconvert_exporter": "python",
   "pygments_lexer": "ipython3",
   "version": "3.11.3"
  }
 },
 "nbformat": 4,
 "nbformat_minor": 5
}
