{
 "cells": [
  {
   "cell_type": "markdown",
   "id": "94f8a023",
   "metadata": {
    "id": "94f8a023"
   },
   "source": [
    "<a href=\"https://colab.research.google.com/github/jerryjliu/llama_index/blob/main/docs/docs/examples/retrievers/recursive_retriever_nodes.ipynb\" target=\"_parent\"><img src=\"https://colab.research.google.com/assets/colab-badge.svg\" alt=\"Open In Colab\"/></a>"
   ]
  },
  {
   "cell_type": "code",
   "execution_count": null,
   "id": "6441b75f-5c04-41e7-90c5-ba53ce2754b6",
   "metadata": {},
   "outputs": [],
   "source": []
  },
  {
   "cell_type": "code",
   "execution_count": null,
   "id": "3312ee30-587c-4510-91c2-ccb436d9b88d",
   "metadata": {},
   "outputs": [],
   "source": []
  },
  {
   "cell_type": "code",
   "execution_count": null,
   "id": "382793d0-6180-4741-882a-2961b24dfff9",
   "metadata": {},
   "outputs": [],
   "source": []
  },
  {
   "cell_type": "code",
   "execution_count": null,
   "id": "049a780e-29d4-41f9-9d3e-35f479d2c5d3",
   "metadata": {},
   "outputs": [],
   "source": []
  },
  {
   "cell_type": "code",
   "execution_count": 1,
   "id": "9773d626-c2f4-4201-856d-3ce20fbd5d96",
   "metadata": {
    "execution": {
     "iopub.execute_input": "2024-05-03T01:56:29.451111Z",
     "iopub.status.busy": "2024-05-03T01:56:29.450773Z",
     "iopub.status.idle": "2024-05-03T01:56:29.476650Z",
     "shell.execute_reply": "2024-05-03T01:56:29.475954Z",
     "shell.execute_reply.started": "2024-05-03T01:56:29.451084Z"
    }
   },
   "outputs": [],
   "source": [
    "%load_ext autoreload\n",
    "%autoreload 2"
   ]
  },
  {
   "cell_type": "code",
   "execution_count": 2,
   "id": "3f01592c-2c00-4ab5-bd6e-b5401d48aac8",
   "metadata": {
    "execution": {
     "iopub.execute_input": "2024-05-03T01:56:29.649736Z",
     "iopub.status.busy": "2024-05-03T01:56:29.649456Z",
     "iopub.status.idle": "2024-05-03T01:56:30.382447Z",
     "shell.execute_reply": "2024-05-03T01:56:30.381784Z",
     "shell.execute_reply.started": "2024-05-03T01:56:29.649713Z"
    }
   },
   "outputs": [],
   "source": [
    "import sys\n",
    "import os\n",
    "import openai\n",
    "from dotenv import load_dotenv, find_dotenv"
   ]
  },
  {
   "cell_type": "code",
   "execution_count": 3,
   "id": "4c4ff45b-a1ba-4db3-a9e4-4547065baaef",
   "metadata": {
    "execution": {
     "iopub.execute_input": "2024-05-03T01:56:30.384167Z",
     "iopub.status.busy": "2024-05-03T01:56:30.383895Z",
     "iopub.status.idle": "2024-05-03T01:56:30.401494Z",
     "shell.execute_reply": "2024-05-03T01:56:30.400791Z",
     "shell.execute_reply.started": "2024-05-03T01:56:30.384146Z"
    }
   },
   "outputs": [],
   "source": [
    "# Get the current working directory\n",
    "llamaindex_dir = os.getcwd()\n",
    "# Get the parent directory\n",
    "llamaindex_dir = os.path.dirname(llamaindex_dir)\n",
    "\n",
    "sys.path.append(llamaindex_dir + \"/utils\")\n",
    "# sys.path\n",
    "\n",
    "_ = load_dotenv(find_dotenv()) # read local .env file\n",
    "\n",
    "openai.api_key  = os.getenv('OPENAI_API_KEY')"
   ]
  },
  {
   "cell_type": "code",
   "execution_count": 4,
   "id": "a19994f9-9490-45ac-bc60-37c5ae9356c5",
   "metadata": {
    "execution": {
     "iopub.execute_input": "2024-05-03T01:56:30.402595Z",
     "iopub.status.busy": "2024-05-03T01:56:30.402281Z",
     "iopub.status.idle": "2024-05-03T01:56:30.419135Z",
     "shell.execute_reply": "2024-05-03T01:56:30.418547Z",
     "shell.execute_reply.started": "2024-05-03T01:56:30.402572Z"
    }
   },
   "outputs": [],
   "source": [
    "from llamaindex_utils import *"
   ]
  },
  {
   "cell_type": "code",
   "execution_count": 5,
   "id": "9d309013-4026-47fc-8450-b7956e407d06",
   "metadata": {
    "execution": {
     "iopub.execute_input": "2024-05-03T01:56:30.421118Z",
     "iopub.status.busy": "2024-05-03T01:56:30.420834Z",
     "iopub.status.idle": "2024-05-03T01:56:30.436780Z",
     "shell.execute_reply": "2024-05-03T01:56:30.436091Z",
     "shell.execute_reply.started": "2024-05-03T01:56:30.421092Z"
    }
   },
   "outputs": [],
   "source": [
    "import logging\n",
    "import sys\n",
    "\n",
    "# logging.basicConfig(stream=sys.stdout, level=logging.DEBUG)\n",
    "logging.basicConfig(stream=sys.stdout, level=logging.WARNING)\n",
    "logging.getLogger().addHandler(logging.StreamHandler(stream=sys.stdout))"
   ]
  },
  {
   "cell_type": "markdown",
   "id": "29b63b0a-9661-4341-ac5e-8f79348b1214",
   "metadata": {
    "id": "025f3e20-aec9-491c-8c90-234aed406a25"
   },
   "source": [
    "# Recursive Retriever + Node References\n",
    "\n",
    "This guide shows how you can use recursive retrieval to traverse node relationships and fetch nodes based on \"references\".\n",
    "\n",
    "Node references are a powerful concept. When you first perform retrieval, you may want to retrieve the reference as opposed to the raw text. You can have multiple references point to the same node.\n",
    "\n",
    "In this guide we explore some different usages of node references:\n",
    "- **Chunk references**: Different chunk sizes referring to a bigger chunk\n",
    "- **Metadata references**: Summaries + Generated Questions referring to a bigger chunk"
   ]
  },
  {
   "cell_type": "markdown",
   "id": "691e6b21",
   "metadata": {
    "id": "691e6b21"
   },
   "source": [
    "If you're opening this Notebook on colab, you will probably need to install LlamaIndex 🦙."
   ]
  },
  {
   "cell_type": "code",
   "execution_count": 6,
   "id": "97e52e00-191b-4ece-9635-a989376fc83d",
   "metadata": {
    "execution": {
     "iopub.execute_input": "2024-05-03T01:56:31.242500Z",
     "iopub.status.busy": "2024-05-03T01:56:31.242159Z",
     "iopub.status.idle": "2024-05-03T01:56:31.257447Z",
     "shell.execute_reply": "2024-05-03T01:56:31.256665Z",
     "shell.execute_reply.started": "2024-05-03T01:56:31.242471Z"
    }
   },
   "outputs": [],
   "source": [
    "# %pip install llama-index-llms-openai\n",
    "# %pip install llama-index-readers-file"
   ]
  },
  {
   "cell_type": "code",
   "execution_count": 7,
   "id": "4685f064-15b8-444c-89e0-78f350f0ab46",
   "metadata": {
    "execution": {
     "iopub.execute_input": "2024-05-03T01:56:33.493344Z",
     "iopub.status.busy": "2024-05-03T01:56:33.493007Z",
     "iopub.status.idle": "2024-05-03T01:56:33.507858Z",
     "shell.execute_reply": "2024-05-03T01:56:33.506999Z",
     "shell.execute_reply.started": "2024-05-03T01:56:33.493316Z"
    }
   },
   "outputs": [],
   "source": [
    "# %load_ext autoreload\n",
    "# %autoreload 2\n",
    "# %env OPENAI_API_KEY=YOUR_OPENAI_KEY"
   ]
  },
  {
   "cell_type": "code",
   "execution_count": 8,
   "id": "42164863",
   "metadata": {
    "execution": {
     "iopub.execute_input": "2024-05-03T01:56:33.675101Z",
     "iopub.status.busy": "2024-05-03T01:56:33.674751Z",
     "iopub.status.idle": "2024-05-03T01:56:33.689663Z",
     "shell.execute_reply": "2024-05-03T01:56:33.688665Z",
     "shell.execute_reply.started": "2024-05-03T01:56:33.675076Z"
    },
    "id": "42164863"
   },
   "outputs": [],
   "source": [
    "# !pip install llama-index pypdf"
   ]
  },
  {
   "cell_type": "markdown",
   "id": "273f38de-e79a-4ce2-ad4e-2c70afc33f34",
   "metadata": {
    "id": "273f38de-e79a-4ce2-ad4e-2c70afc33f34"
   },
   "source": [
    "## Load Data + Setup\n",
    "\n",
    "In this section we download the Llama 2 paper and create an initial set of nodes (chunk size 1024)."
   ]
  },
  {
   "cell_type": "code",
   "execution_count": 9,
   "id": "1eb829ef-b54b-4095-a832-6d1d115aa645",
   "metadata": {
    "execution": {
     "iopub.execute_input": "2024-05-03T01:56:38.721822Z",
     "iopub.status.busy": "2024-05-03T01:56:38.721540Z",
     "iopub.status.idle": "2024-05-03T01:56:47.971727Z",
     "shell.execute_reply": "2024-05-03T01:56:47.970550Z",
     "shell.execute_reply.started": "2024-05-03T01:56:38.721799Z"
    },
    "id": "1eb829ef-b54b-4095-a832-6d1d115aa645",
    "outputId": "5a104ca3-b3a7-433a-824a-e68f44c25310"
   },
   "outputs": [
    {
     "name": "stdout",
     "output_type": "stream",
     "text": [
      "--2024-05-02 22:56:38--  https://arxiv.org/pdf/2307.09288.pdf\n",
      "Resolving arxiv.org (arxiv.org)... 151.101.195.42, 151.101.67.42, 151.101.3.42, ...\n",
      "Connecting to arxiv.org (arxiv.org)|151.101.195.42|:443... connected.\n",
      "HTTP request sent, awaiting response... 301 Moved Permanently\n",
      "Location: http://arxiv.org/pdf/2307.09288 [following]\n",
      "--2024-05-02 22:56:39--  http://arxiv.org/pdf/2307.09288\n",
      "Connecting to arxiv.org (arxiv.org)|151.101.195.42|:80... connected.\n",
      "HTTP request sent, awaiting response... 200 OK\n",
      "Length: 13661300 (13M) [application/pdf]\n",
      "Saving to: ‘../data/llama2.pdf’\n",
      "\n",
      "../data/llama2.pdf  100%[===================>]  13.03M  1.65MB/s    in 7.9s    \n",
      "\n",
      "2024-05-02 22:56:47 (1.65 MB/s) - ‘../data/llama2.pdf’ saved [13661300/13661300]\n",
      "\n"
     ]
    }
   ],
   "source": [
    "# !mkdir -p 'data/'\n",
    "!wget --user-agent \"Mozilla\" \"https://arxiv.org/pdf/2307.09288.pdf\" -O \"../data/llama2.pdf\""
   ]
  },
  {
   "cell_type": "code",
   "execution_count": 11,
   "id": "6cd97455-5ff3-43ee-8222-f496ec234dc7",
   "metadata": {
    "execution": {
     "iopub.execute_input": "2024-05-03T01:57:35.519506Z",
     "iopub.status.busy": "2024-05-03T01:57:35.519213Z",
     "iopub.status.idle": "2024-05-03T01:57:36.342817Z",
     "shell.execute_reply": "2024-05-03T01:57:36.342321Z",
     "shell.execute_reply.started": "2024-05-03T01:57:35.519485Z"
    },
    "id": "6cd97455-5ff3-43ee-8222-f496ec234dc7"
   },
   "outputs": [],
   "source": [
    "from pathlib import Path\n",
    "from llama_index.readers.file.docs_reader import PDFReader\n",
    "from llama_index.response.notebook_utils import display_source_node\n",
    "from llama_index.retrievers import RecursiveRetriever\n",
    "from llama_index.query_engine import RetrieverQueryEngine\n",
    "from llama_index import VectorStoreIndex\n",
    "from llama_index.llms.openai import OpenAI\n",
    "import json"
   ]
  },
  {
   "cell_type": "code",
   "execution_count": 13,
   "id": "a07c0e42-1ae8-4267-9355-6bb75323f82a",
   "metadata": {
    "execution": {
     "iopub.execute_input": "2024-05-03T01:57:44.188497Z",
     "iopub.status.busy": "2024-05-03T01:57:44.187956Z",
     "iopub.status.idle": "2024-05-03T01:57:48.575079Z",
     "shell.execute_reply": "2024-05-03T01:57:48.574388Z",
     "shell.execute_reply.started": "2024-05-03T01:57:44.188473Z"
    },
    "id": "a07c0e42-1ae8-4267-9355-6bb75323f82a"
   },
   "outputs": [],
   "source": [
    "loader = PDFReader()\n",
    "docs0 = loader.load_data(file=Path(\"../data/llama2.pdf\"))"
   ]
  },
  {
   "cell_type": "code",
   "execution_count": 15,
   "id": "493e5492-a6ae-4e3e-aa23-274c0605b165",
   "metadata": {
    "execution": {
     "iopub.execute_input": "2024-05-03T01:59:48.241176Z",
     "iopub.status.busy": "2024-05-03T01:59:48.240937Z",
     "iopub.status.idle": "2024-05-03T01:59:48.269756Z",
     "shell.execute_reply": "2024-05-03T01:59:48.269090Z",
     "shell.execute_reply.started": "2024-05-03T01:59:48.241158Z"
    },
    "id": "493e5492-a6ae-4e3e-aa23-274c0605b165"
   },
   "outputs": [],
   "source": [
    "from llama_index import Document\n",
    "\n",
    "doc_text = \"\\n\\n\".join([d.get_content() for d in docs0])\n",
    "docs = [Document(text=doc_text)]"
   ]
  },
  {
   "cell_type": "code",
   "execution_count": 16,
   "id": "7c2abcd3-6cae-49dd-8719-9b738d000652",
   "metadata": {
    "execution": {
     "iopub.execute_input": "2024-05-03T01:59:57.318865Z",
     "iopub.status.busy": "2024-05-03T01:59:57.318529Z",
     "iopub.status.idle": "2024-05-03T01:59:57.345853Z",
     "shell.execute_reply": "2024-05-03T01:59:57.345099Z",
     "shell.execute_reply.started": "2024-05-03T01:59:57.318839Z"
    },
    "id": "7c2abcd3-6cae-49dd-8719-9b738d000652"
   },
   "outputs": [],
   "source": [
    "from llama_index.node_parser import SentenceSplitter\n",
    "from llama_index.schema import IndexNode"
   ]
  },
  {
   "cell_type": "code",
   "execution_count": 17,
   "id": "91b997ae-9260-4ae7-af2f-0f8d38625d32",
   "metadata": {
    "execution": {
     "iopub.execute_input": "2024-05-03T01:59:59.385251Z",
     "iopub.status.busy": "2024-05-03T01:59:59.385036Z",
     "iopub.status.idle": "2024-05-03T02:00:02.325540Z",
     "shell.execute_reply": "2024-05-03T02:00:02.324631Z",
     "shell.execute_reply.started": "2024-05-03T01:59:59.385233Z"
    },
    "id": "91b997ae-9260-4ae7-af2f-0f8d38625d32"
   },
   "outputs": [],
   "source": [
    "node_parser = SentenceSplitter(chunk_size=1024)"
   ]
  },
  {
   "cell_type": "code",
   "execution_count": 22,
   "id": "365ea235-836c-4d0c-bab1-1e86d6c35ade",
   "metadata": {
    "execution": {
     "iopub.execute_input": "2024-05-03T02:03:09.935699Z",
     "iopub.status.busy": "2024-05-03T02:03:09.935472Z",
     "iopub.status.idle": "2024-05-03T02:03:09.962704Z",
     "shell.execute_reply": "2024-05-03T02:03:09.961862Z",
     "shell.execute_reply.started": "2024-05-03T02:03:09.935682Z"
    }
   },
   "outputs": [],
   "source": [
    "# docs"
   ]
  },
  {
   "cell_type": "code",
   "execution_count": 23,
   "id": "0cda44b0-fd27-4255-9aa7-08d358635772",
   "metadata": {
    "execution": {
     "iopub.execute_input": "2024-05-03T02:03:21.125953Z",
     "iopub.status.busy": "2024-05-03T02:03:21.125660Z",
     "iopub.status.idle": "2024-05-03T02:03:21.450208Z",
     "shell.execute_reply": "2024-05-03T02:03:21.449732Z",
     "shell.execute_reply.started": "2024-05-03T02:03:21.125930Z"
    },
    "id": "0cda44b0-fd27-4255-9aa7-08d358635772"
   },
   "outputs": [],
   "source": [
    "base_nodes = node_parser.get_nodes_from_documents(docs)\n",
    "# set node ids to be a constant\n",
    "for idx, node in enumerate(base_nodes):\n",
    "    node.id_ = f\"node-{idx}\""
   ]
  },
  {
   "cell_type": "code",
   "execution_count": 28,
   "id": "38e47623-b67d-45d6-9b24-33ba84719f1f",
   "metadata": {
    "execution": {
     "iopub.execute_input": "2024-05-03T02:29:14.800839Z",
     "iopub.status.busy": "2024-05-03T02:29:14.800293Z",
     "iopub.status.idle": "2024-05-03T02:29:14.888969Z",
     "shell.execute_reply": "2024-05-03T02:29:14.888066Z",
     "shell.execute_reply.started": "2024-05-03T02:29:14.800814Z"
    },
    "id": "38e47623-b67d-45d6-9b24-33ba84719f1f"
   },
   "outputs": [],
   "source": [
    "from llama_index.embeddings import resolve_embed_model\n",
    "from llama_index.embeddings.openai import OpenAIEmbedding\n",
    "\n",
    "# pytorch is not supported yet on python 3.11. So I would ne to downgrade to python 3.10 first, before to run:\n",
    "# poetry add transformers\n",
    "# poetry add torch\n",
    "\n",
    "# embed_model = resolve_embed_model(\"local:BAAI/bge-small-en\")\n",
    "\n",
    "# embed_model = OpenAIEmbedding(model=\"text-embedding-3-large\")\n",
    "embed_model = OpenAIEmbedding(\n",
    "    model=\"text-embedding-ada-002\",\n",
    ")\n",
    "llm = OpenAI(model=\"gpt-3.5-turbo\")"
   ]
  },
  {
   "cell_type": "markdown",
   "id": "f43ebab2-fc46-41ea-8a92-9148994d793f",
   "metadata": {
    "id": "f43ebab2-fc46-41ea-8a92-9148994d793f"
   },
   "source": [
    "## Baseline Retriever\n",
    "\n",
    "Define a baseline retriever that simply fetches the top-k raw text nodes by embedding similarity."
   ]
  },
  {
   "cell_type": "code",
   "execution_count": 29,
   "id": "704fb3da-710e-4ad9-b630-565911917f0c",
   "metadata": {
    "execution": {
     "iopub.execute_input": "2024-05-03T02:29:18.653153Z",
     "iopub.status.busy": "2024-05-03T02:29:18.652809Z",
     "iopub.status.idle": "2024-05-03T02:29:26.199394Z",
     "shell.execute_reply": "2024-05-03T02:29:26.198683Z",
     "shell.execute_reply.started": "2024-05-03T02:29:18.653127Z"
    },
    "id": "704fb3da-710e-4ad9-b630-565911917f0c"
   },
   "outputs": [],
   "source": [
    "base_index = VectorStoreIndex(base_nodes, embed_model=embed_model)\n",
    "base_retriever = base_index.as_retriever(similarity_top_k=2)"
   ]
  },
  {
   "cell_type": "code",
   "execution_count": 30,
   "id": "160c339b-601a-486b-9e17-dd6cc9f133ea",
   "metadata": {
    "execution": {
     "iopub.execute_input": "2024-05-03T02:30:33.025163Z",
     "iopub.status.busy": "2024-05-03T02:30:33.024840Z",
     "iopub.status.idle": "2024-05-03T02:30:33.583397Z",
     "shell.execute_reply": "2024-05-03T02:30:33.582573Z",
     "shell.execute_reply.started": "2024-05-03T02:30:33.025135Z"
    },
    "id": "160c339b-601a-486b-9e17-dd6cc9f133ea"
   },
   "outputs": [],
   "source": [
    "retrievals = base_retriever.retrieve(\n",
    "    \"Can you tell me about the key concepts for safety finetuning\"\n",
    ")"
   ]
  },
  {
   "cell_type": "code",
   "execution_count": 31,
   "id": "3bbb9409-ed0f-40f6-926e-3ca315589001",
   "metadata": {
    "execution": {
     "iopub.execute_input": "2024-05-03T02:30:39.912754Z",
     "iopub.status.busy": "2024-05-03T02:30:39.912412Z",
     "iopub.status.idle": "2024-05-03T02:30:39.950291Z",
     "shell.execute_reply": "2024-05-03T02:30:39.949663Z",
     "shell.execute_reply.started": "2024-05-03T02:30:39.912727Z"
    }
   },
   "outputs": [
    {
     "data": {
      "text/markdown": [
       "**Node ID:** node-26<br>**Similarity:** 0.8584494664679967<br>**Text:** AsLLMsareintegratedanddeployed,welookforwardto\n",
       "continuing research that will amplify their potential for positive impact on these important social issues.\n",
       "4.2 Safety Fine-Tuning\n",
       "In this section, we describe our approach to safety fine-tuning, including safety categories, annotation\n",
       "guidelines,andthetechniquesweusetomitigatesafetyrisks. Weemployaprocesssimilartothegeneral\n",
       "fine-tuning methods as described in Section 3, with some notable differences related to safety concerns.\n",
       "Specifically, we use the following techniques in safety fine-tuning:\n",
       "1.Supervised Safety Fine-Tuning : We initialize by gathering adversarial prompts and safe demonstra-\n",
       "tions that are then included in the general supervised fine-tuning process (Section 3.1). This teaches\n",
       "themodeltoalignwithoursafetyguidelinesevenbeforeRLHF,andthuslaysthefoundationfor\n",
       "high-quality human preference data annotation.\n",
       "2.Safety RLHF : Subsequently, we integrate safety in the general RLHF pipeline described in Sec-\n",
       "tion 3.2.2. This includes training a safety-specific reward model and gathering more challenging\n",
       "adversarial prompts for rejection sampling style fine-tuning and PPO optimization.\n",
       "3.SafetyContextDistillation : Finally,werefineourRLHFpipelinewithcontextdistillation(Askell\n",
       "etal.,2021b). Thisinvolvesgeneratingsafermodelresponsesbyprefixingapromptwithasafety\n",
       "preprompt, e.g., “You are a safe and responsible assistant,” and then fine-tuning the model on the safer\n",
       "responses without the preprompt, which essentially distill...<br>"
      ],
      "text/plain": [
       "<IPython.core.display.Markdown object>"
      ]
     },
     "metadata": {},
     "output_type": "display_data"
    },
    {
     "data": {
      "text/markdown": [
       "**Node ID:** node-27<br>**Similarity:** 0.8059016730230016<br>**Text:** Subsequently,\n",
       "annotators are tasked with crafting a safe and helpful response that the model should produce.\n",
       "4.2.3 Safety RLHF\n",
       "Weobserveearlyinthedevelopmentof Llama 2-Chat thatitisabletogeneralizefromthesafedemonstrations\n",
       "insupervisedfine-tuning. Themodelquicklylearnstowritedetailedsaferesponses,addresssafetyconcerns,\n",
       "explainwhythetopicmightbesensitive,andprovideadditionalhelpfulinformation. Inparticular,when\n",
       "the model outputs safe responses, they are often more detailed than what the average annotator writes.\n",
       "Therefore, after gathering only a few thousand supervised demonstrations, we switched entirely to RLHF to\n",
       "teachthemodelhowtowritemorenuancedresponses. ComprehensivetuningwithRLHFhastheadded\n",
       "benefit that it may make the model more robust to jailbreak attempts (Bai et al., 2022a).\n",
       "WeconductRLHFbyfirstcollectinghumanpreferencedataforsafetysimilartoSection3.2.2: annotators\n",
       "writeapromptthattheybelievecanelicitunsafebehavior,andthencomparemultiplemodelresponsesto\n",
       "theprompts,selectingtheresponsethatissafestaccordingtoasetofguidelines. Wethenusethehuman\n",
       "preference data to train a safety reward model (see Section 3.2.2), and also reuse the adversarial prompts to\n",
       "sample from the model during the RLHF stage.\n",
       "BetterLong-TailSafetyRobustnesswithoutHurtingHelpfulness Safetyisinherentlyalong-tailproblem,\n",
       "wherethe challengecomesfrom asmallnumber ofveryspecific cases. Weinvestigatetheimpact ofSafety\n",
       "RLHFbytakingtwointermediate Llama 2-Chat checkpoints—onewithoutadversarialpromptsint...<br>"
      ],
      "text/plain": [
       "<IPython.core.display.Markdown object>"
      ]
     },
     "metadata": {},
     "output_type": "display_data"
    }
   ],
   "source": [
    "for n in retrievals:\n",
    "    display_source_node(n, source_length=1500)"
   ]
  },
  {
   "cell_type": "code",
   "execution_count": null,
   "id": "632610f3-c8f2-440a-ab27-5ca7d65f882a",
   "metadata": {
    "id": "632610f3-c8f2-440a-ab27-5ca7d65f882a",
    "outputId": "f3351385-fe93-4c7c-c83b-e603e44ba630"
   },
   "outputs": [
    {
     "data": {
      "text/markdown": [
       "**Node ID:** node-26<br>**Similarity:** 0.8581930837671874<br>**Text:** AsLLMsareintegratedanddeployed,welookforwardto\n",
       "continuing research that will amplify their potential for positive impact on these important social issues.\n",
       "4.2 Safety Fine-Tuning\n",
       "In this section, we describe our approach to safety fine-tuning, including safety categories, annotation\n",
       "guidelines,andthetechniquesweusetomitigatesafetyrisks. Weemployaprocesssimilartothegeneral\n",
       "fine-tuning methods as described in Section 3, with some notable differences related to safety concerns.\n",
       "Specifically, we use the following techniques in safety fine-tuning:\n",
       "1.Supervised Safety Fine-Tuning : We initialize by gathering adversarial prompts and safe demonstra-\n",
       "tions that are then included in the general supervised fine-tuning process (Section 3.1). This teaches\n",
       "themodeltoalignwithoursafetyguidelinesevenbeforeRLHF,andthuslaysthefoundationfor\n",
       "high-quality human preference data annotation.\n",
       "2.Safety RLHF : Subsequently, we integrate safety in the general RLHF pipeline described in Sec-\n",
       "tion 3.2.2. This includes training a safety-specific reward model and gathering more challenging\n",
       "adversarial prompts for rejection sampling style fine-tuning and PPO optimization.\n",
       "3.SafetyContextDistillation : Finally,werefineourRLHFpipelinewithcontextdistillation(Askell\n",
       "etal.,2021b). Thisinvolvesgeneratingsafermodelresponsesbyprefixingapromptwithasafety\n",
       "preprompt, e.g., “You are a safe and responsible assistant,” and then fine-tuning the model on the safer\n",
       "responses without the preprompt, which essentially distill...<br>"
      ],
      "text/plain": [
       "<IPython.core.display.Markdown object>"
      ]
     },
     "metadata": {},
     "output_type": "display_data"
    },
    {
     "data": {
      "text/markdown": [
       "**Node ID:** node-33<br>**Similarity:** 0.8442806881920294<br>**Text:** Examples of evaluation prompts and responses can be found in Appendix A.4.6.\n",
       "We then asked raters to judge models for safety violations on a five-point Likert scale with the following\n",
       "definitions:\n",
       "•5- No safety violations and very helpful\n",
       "•4- No safety violations and only minor non-safety issues\n",
       "•3- No safety violations but not helpful or other major non-safety issues\n",
       "•2- Mild or moderate safety violations\n",
       "29\n",
       "\n",
       "(a)Overall violation percentage.\n",
       " (b)Overall safety and helpfulness mean rating.\n",
       "Figure17: Overallsafetymeasures. Left: Llama 2-Chat haslowviolationpercentageoverallacrossmodel\n",
       "sizes.Right: Llama 2-Chat has high safety and helpfulness mean rating overall across model sizes. It is\n",
       "important to note that these results are subject to limitations of the prompt set, subjectivity of the review\n",
       "guidelines, and subjectivity of individual raters.\n",
       "•1- Severe safety violations\n",
       "We consider a rating of 1 or 2 as violation and use violation percentage as our main evaluation metric, with\n",
       "themeanratingasasupplement. Eachexampleisannotatedbythreeannotatorsandwetakethemajority\n",
       "votetodetermineiftheresponseisviolatingornot. WeusedGwet’sAC1/2statistictomeasureinter-rater\n",
       "reliability(IRR)asinthehelpfulnesshumanevaluation. TheIRRscoresrangefrom 0.70to0.95depending\n",
       "on the annotation batch, indicating a high degree of agreement among annotators on safety assessments.\n",
       "OnLlama 2-Chat annotations, the average IRR is 0.92according to Gwet’s AC2 measure. We see lower IRR\n",
       "scoresonbatcheswherethemo...<br>"
      ],
      "text/plain": [
       "<IPython.core.display.Markdown object>"
      ]
     },
     "metadata": {},
     "output_type": "display_data"
    }
   ],
   "source": [
    "# with local:BAAI/bge-small-en embedding model\n",
    "for n in retrievals:\n",
    "    display_source_node(n, source_length=1500)"
   ]
  },
  {
   "cell_type": "code",
   "execution_count": 32,
   "id": "96dd8a01-1cae-4614-beab-5b5e0434fefe",
   "metadata": {
    "execution": {
     "iopub.execute_input": "2024-05-03T02:31:43.286719Z",
     "iopub.status.busy": "2024-05-03T02:31:43.286362Z",
     "iopub.status.idle": "2024-05-03T02:31:43.364044Z",
     "shell.execute_reply": "2024-05-03T02:31:43.363286Z",
     "shell.execute_reply.started": "2024-05-03T02:31:43.286693Z"
    },
    "id": "96dd8a01-1cae-4614-beab-5b5e0434fefe"
   },
   "outputs": [],
   "source": [
    "query_engine_base = RetrieverQueryEngine.from_args(base_retriever, llm=llm)"
   ]
  },
  {
   "cell_type": "code",
   "execution_count": 33,
   "id": "2ca3971b-b6cc-419f-815a-4bdc945e4888",
   "metadata": {
    "execution": {
     "iopub.execute_input": "2024-05-03T02:32:04.708695Z",
     "iopub.status.busy": "2024-05-03T02:32:04.708352Z",
     "iopub.status.idle": "2024-05-03T02:32:07.700956Z",
     "shell.execute_reply": "2024-05-03T02:32:07.700225Z",
     "shell.execute_reply.started": "2024-05-03T02:32:04.708669Z"
    }
   },
   "outputs": [
    {
     "name": "stdout",
     "output_type": "stream",
     "text": [
      "The key concepts for safety fine-tuning include supervised safety fine-tuning, safety RLHF (Reward Learning from Human Feedback), and safety context distillation. Supervised safety fine-tuning involves gathering adversarial prompts and safe demonstrations to align the model with safety guidelines. Safety RLHF integrates safety into the reinforcement learning pipeline by training a safety-specific reward model and using challenging adversarial prompts for fine-tuning. Safety context distillation refines the RLHF pipeline by generating safer model responses through prefixing prompts with safety preprompts and fine-tuning the model on these safer responses.\n"
     ]
    }
   ],
   "source": [
    "response = query_engine_base.query(\n",
    "    \"Can you tell me about the key concepts for safety finetuning\"\n",
    ")\n",
    "print(str(response))"
   ]
  },
  {
   "cell_type": "code",
   "execution_count": null,
   "id": "82ae66ff-7d12-45c8-9b1a-adb20bd3c7ea",
   "metadata": {
    "id": "82ae66ff-7d12-45c8-9b1a-adb20bd3c7ea",
    "outputId": "a56df243-44e8-4900-e3e3-5dc63a925b12"
   },
   "outputs": [
    {
     "name": "stdout",
     "output_type": "stream",
     "text": [
      "The key concepts for safety fine-tuning include supervised safety fine-tuning, safety RLHF (Reinforcement Learning from Human Feedback), and safety context distillation. In supervised safety fine-tuning, adversarial prompts and safe demonstrations are gathered and included in the general supervised fine-tuning process. This helps the model align with safety guidelines and lays the foundation for high-quality human preference data annotation. Safety RLHF involves integrating safety in the general RLHF pipeline, which includes training a safety-specific reward model and gathering more challenging adversarial prompts for rejection sampling style fine-tuning and PPO (Proximal Policy Optimization) optimization. Safety context distillation is the final step, where the RLHF pipeline is refined with context distillation. This involves generating safer model responses by prefixing a prompt with a safety preprompt and then fine-tuning the model on the safer responses without the preprompt.\n"
     ]
    }
   ],
   "source": [
    "# with local:BAAI/bge-small-en embedding model\n",
    "response = query_engine_base.query(\n",
    "    \"Can you tell me about the key concepts for safety finetuning\"\n",
    ")\n",
    "print(str(response))"
   ]
  },
  {
   "cell_type": "markdown",
   "id": "d5431df3-d255-4492-bce4-bbebde6f2306",
   "metadata": {
    "id": "d5431df3-d255-4492-bce4-bbebde6f2306"
   },
   "source": [
    "## Chunk References: Smaller Child Chunks Referring to Bigger Parent Chunk\n",
    "\n",
    "In this usage example, we show how to build a graph of smaller chunks pointing to bigger parent chunks.\n",
    "\n",
    "During query-time, we retrieve smaller chunks, but we follow references to bigger chunks. This allows us to have more context for synthesis."
   ]
  },
  {
   "cell_type": "code",
   "execution_count": null,
   "id": "49c784d8-71e6-42bc-84d9-a2aea4217b8b",
   "metadata": {
    "id": "49c784d8-71e6-42bc-84d9-a2aea4217b8b"
   },
   "outputs": [],
   "source": [
    "sub_chunk_sizes = [128, 256, 512]\n",
    "sub_node_parsers = [\n",
    "    SentenceSplitter(chunk_size=c, chunk_overlap=20) for c in sub_chunk_sizes\n",
    "]\n",
    "\n",
    "all_nodes = []\n",
    "for base_node in base_nodes:\n",
    "    for n in sub_node_parsers:\n",
    "        sub_nodes = n.get_nodes_from_documents([base_node])\n",
    "        sub_inodes = [\n",
    "            IndexNode.from_text_node(sn, base_node.node_id) for sn in sub_nodes\n",
    "        ]\n",
    "        all_nodes.extend(sub_inodes)\n",
    "\n",
    "    # also add original node to node\n",
    "    original_node = IndexNode.from_text_node(base_node, base_node.node_id)\n",
    "    all_nodes.append(original_node)"
   ]
  },
  {
   "cell_type": "code",
   "execution_count": null,
   "id": "2d614088-b122-40ad-811a-29cc0c2a295e",
   "metadata": {
    "id": "2d614088-b122-40ad-811a-29cc0c2a295e"
   },
   "outputs": [],
   "source": [
    "all_nodes_dict = {n.node_id: n for n in all_nodes}"
   ]
  },
  {
   "cell_type": "code",
   "execution_count": null,
   "id": "a44ef2d5-0342-4073-831f-f35dd6f04dc0",
   "metadata": {
    "id": "a44ef2d5-0342-4073-831f-f35dd6f04dc0"
   },
   "outputs": [],
   "source": [
    "vector_index_chunk = VectorStoreIndex(all_nodes, embed_model=embed_model)"
   ]
  },
  {
   "cell_type": "code",
   "execution_count": null,
   "id": "c06af99f-02be-4055-a6ea-3071ffe8fc8a",
   "metadata": {
    "id": "c06af99f-02be-4055-a6ea-3071ffe8fc8a"
   },
   "outputs": [],
   "source": [
    "vector_retriever_chunk = vector_index_chunk.as_retriever(similarity_top_k=2)"
   ]
  },
  {
   "cell_type": "code",
   "execution_count": null,
   "id": "4c7c5e43-45b5-42d6-afc5-cb81ed3cb211",
   "metadata": {
    "id": "4c7c5e43-45b5-42d6-afc5-cb81ed3cb211"
   },
   "outputs": [],
   "source": [
    "retriever_chunk = RecursiveRetriever(\n",
    "    \"vector\",\n",
    "    retriever_dict={\"vector\": vector_retriever_chunk},\n",
    "    node_dict=all_nodes_dict,\n",
    "    verbose=True,\n",
    ")"
   ]
  },
  {
   "cell_type": "code",
   "execution_count": null,
   "id": "9e9f7bcb-5442-4d2d-a7eb-814b68ebb45c",
   "metadata": {
    "id": "9e9f7bcb-5442-4d2d-a7eb-814b68ebb45c",
    "outputId": "6b4303c2-261c-42c0-95dd-6a1082746da2"
   },
   "outputs": [
    {
     "name": "stdout",
     "output_type": "stream",
     "text": [
      "\u001b[1;3;34mRetrieving with query id None: Can you tell me about the key concepts for safety finetuning\n",
      "\u001b[0m\u001b[1;3;38;5;200mRetrieved node with id, entering: node-26\n",
      "\u001b[0m\u001b[1;3;34mRetrieving with query id node-26: Can you tell me about the key concepts for safety finetuning\n",
      "\u001b[0m\u001b[1;3;38;5;200mRetrieved node with id, entering: node-1\n",
      "\u001b[0m\u001b[1;3;34mRetrieving with query id node-1: Can you tell me about the key concepts for safety finetuning\n",
      "\u001b[0m"
     ]
    },
    {
     "data": {
      "text/markdown": [
       "**Node ID:** node-26<br>**Similarity:** 0.8809071991986446<br>**Text:** AsLLMsareintegratedanddeployed,welookforwardto\n",
       "continuing research that will amplify their potential for positive impact on these important social issues.\n",
       "4.2 Safety Fine-Tuning\n",
       "In this section, we describe our approach to safety fine-tuning, including safety categories, annotation\n",
       "guidelines,andthetechniquesweusetomitigatesafetyrisks. Weemployaprocesssimilartothegeneral\n",
       "fine-tuning methods as described in Section 3, with some notable differences related to safety concerns.\n",
       "Specifically, we use the following techniques in safety fine-tuning:\n",
       "1.Supervised Safety Fine-Tuning : We initialize by gathering adversarial prompts and safe demonstra-\n",
       "tions that are then included in the general supervised fine-tuning process (Section 3.1). This teaches\n",
       "themodeltoalignwithoursafetyguidelinesevenbeforeRLHF,andthuslaysthefoundationfor\n",
       "high-quality human preference data annotation.\n",
       "2.Safety RLHF : Subsequently, we integrate safety in the general RLHF pipeline described in Sec-\n",
       "tion 3.2.2. This includes training a safety-specific reward model and gathering more challenging\n",
       "adversarial prompts for rejection sampling style fine-tuning and PPO optimization.\n",
       "3.SafetyContextDistillation : Finally,werefineourRLHFpipelinewithcontextdistillation(Askell\n",
       "etal.,2021b). Thisinvolvesgeneratingsafermodelresponsesbyprefixingapromptwithasafety\n",
       "preprompt, e.g., “You are a safe and responsible assistant,” and then fine-tuning the model on the safer\n",
       "responses without the preprompt, which essentially distillsthe safety preprompt (context) into the\n",
       "model. Weuseatargetedapproachthatallowsoursafetyrewardmodeltochoosewhethertouse\n",
       "context distillation for each sample.\n",
       "4.2.1 Safety Categories and Annotation Guidelines\n",
       "Based on limitations of LLMs known from prior work, we design instructions for our annotation team to\n",
       "createadversarialpromptsalongtwodimensions: a riskcategory ,orpotentialtopicaboutwhichtheLLM\n",
       "couldproduceunsafecontent;andan attackvector ,orquestionstyletocoverdifferentvarietiesofprompts\n",
       "...<br>"
      ],
      "text/plain": [
       "<IPython.core.display.Markdown object>"
      ]
     },
     "metadata": {},
     "output_type": "display_data"
    },
    {
     "data": {
      "text/markdown": [
       "**Node ID:** node-1<br>**Similarity:** 0.8744334039911964<br>**Text:** . . . . . . . . . . . . . . . . . . . . . . . . . . . . . . . . . . . . 9\n",
       "3.2 Reinforcement Learning with Human Feedback (RLHF) . . . . . . . . . . . . . . . . . . . . . 9\n",
       "3.3 System Message for Multi-Turn Consistency . . . . . . . . . . . . . . . . . . . . . . . . . . . . . 16\n",
       "3.4 RLHF Results . . . . . . . . . . . . . . . . . . . . . . . . . . . . . . . . . . . . . . . . . . . . . . 17\n",
       "4 Safety 20\n",
       "4.1 Safety in Pretraining . . . . . . . . . . . . . . . . . . . . . . . . . . . . . . . . . . . . . . . . . . 20\n",
       "4.2 Safety Fine-Tuning . . . . . . . . . . . . . . . . . . . . . . . . . . . . . . . . . . . . . . . . . . . 23\n",
       "4.3 Red Teaming . . . . . . . . . . . . . . . . . . . . . . . . . . . . . . . . . . . . . . . . . . . . . . . 28\n",
       "4.4 Safety Evaluation of Llama 2-Chat . . . . . . . . . . . . . . . . . . . . . . . . . . . . . . . . . . 29\n",
       "5 Discussion 32\n",
       "5.1 Learnings and Observations . . . . . . . . . . . . . . . . . . . . . . . . . . . . . . . . . . . . . . 32\n",
       "5.2 Limitations and Ethical Considerations . . . . . . . . . . . . . . . . . . . . . . . . . . . . . . . 34\n",
       "5.3 Responsible Release Strategy . . . . . . . . . . . . . . . . . . . . . . . . . . . . . . . . . . . . . 35\n",
       "6 Related Work 35\n",
       "7 Conclusion 36\n",
       "A Appendix 46\n",
       "A.1 Contributions . . . . . . . . . . . . . . . . . . . . . . . . . . . . . . . . . . . . . . .<br>"
      ],
      "text/plain": [
       "<IPython.core.display.Markdown object>"
      ]
     },
     "metadata": {},
     "output_type": "display_data"
    }
   ],
   "source": [
    "nodes = retriever_chunk.retrieve(\n",
    "    \"Can you tell me about the key concepts for safety finetuning\"\n",
    ")\n",
    "for node in nodes:\n",
    "    display_source_node(node, source_length=2000)"
   ]
  },
  {
   "cell_type": "code",
   "execution_count": null,
   "id": "411f26ad-d13b-4858-938e-efcfa899e8cd",
   "metadata": {
    "id": "411f26ad-d13b-4858-938e-efcfa899e8cd"
   },
   "outputs": [],
   "source": [
    "query_engine_chunk = RetrieverQueryEngine.from_args(retriever_chunk, llm=llm)"
   ]
  },
  {
   "cell_type": "code",
   "execution_count": null,
   "id": "4cd98366-0d5f-4d04-87cd-b811990b7485",
   "metadata": {
    "id": "4cd98366-0d5f-4d04-87cd-b811990b7485",
    "outputId": "d2abb236-6afc-43ca-baee-390a7d39c71f"
   },
   "outputs": [
    {
     "name": "stdout",
     "output_type": "stream",
     "text": [
      "\u001b[1;3;34mRetrieving with query id None: Can you tell me about the key concepts for safety finetuning\n",
      "\u001b[0m\u001b[1;3;38;5;200mRetrieved node with id, entering: node-26\n",
      "\u001b[0m\u001b[1;3;34mRetrieving with query id node-26: Can you tell me about the key concepts for safety finetuning\n",
      "\u001b[0m\u001b[1;3;38;5;200mRetrieved node with id, entering: node-1\n",
      "\u001b[0m\u001b[1;3;34mRetrieving with query id node-1: Can you tell me about the key concepts for safety finetuning\n",
      "\u001b[0mThe key concepts for safety fine-tuning include supervised safety fine-tuning, safety RLHF (Reinforcement Learning with Human Feedback), and safety context distillation. Supervised safety fine-tuning involves gathering adversarial prompts and safe demonstrations to teach the model to align with safety guidelines. Safety RLHF integrates safety into the general RLHF pipeline by training a safety-specific reward model and gathering challenging adversarial prompts for rejection sampling style fine-tuning and PPO optimization. Safety context distillation involves generating safer model responses by prefixing a prompt with a safety preprompt and fine-tuning the model on the safer responses without the preprompt. These techniques aim to mitigate safety risks and improve the model's ability to provide safe and responsible responses.\n"
     ]
    }
   ],
   "source": [
    "response = query_engine_chunk.query(\n",
    "    \"Can you tell me about the key concepts for safety finetuning\"\n",
    ")\n",
    "print(str(response))"
   ]
  },
  {
   "cell_type": "markdown",
   "id": "3bcc7379-c077-40b7-ba4e-f47f80def0c7",
   "metadata": {
    "id": "3bcc7379-c077-40b7-ba4e-f47f80def0c7"
   },
   "source": [
    "## Metadata References: Summaries + Generated Questions referring to a bigger chunk\n",
    "\n",
    "In this usage example, we show how to define additional context that references the source node.\n",
    "\n",
    "This additional context includes summaries as well as generated questions.\n",
    "\n",
    "During query-time, we retrieve smaller chunks, but we follow references to bigger chunks. This allows us to have more context for synthesis."
   ]
  },
  {
   "cell_type": "code",
   "execution_count": null,
   "id": "7e3c4f8f",
   "metadata": {
    "id": "7e3c4f8f"
   },
   "outputs": [],
   "source": [
    "import nest_asyncio\n",
    "\n",
    "nest_asyncio.apply()"
   ]
  },
  {
   "cell_type": "code",
   "execution_count": null,
   "id": "24e40c5e-4868-487f-aaf4-f333aa4bda66",
   "metadata": {
    "id": "24e40c5e-4868-487f-aaf4-f333aa4bda66"
   },
   "outputs": [],
   "source": [
    "from llama_index.core.node_parser import SentenceSplitter\n",
    "from llama_index.core.schema import IndexNode\n",
    "from llama_index.core.extractors import (\n",
    "    SummaryExtractor,\n",
    "    QuestionsAnsweredExtractor,\n",
    ")"
   ]
  },
  {
   "cell_type": "code",
   "execution_count": null,
   "id": "5c5d6f87-790e-4b82-abb2-cc6944678b00",
   "metadata": {
    "id": "5c5d6f87-790e-4b82-abb2-cc6944678b00"
   },
   "outputs": [],
   "source": [
    "extractors = [\n",
    "    SummaryExtractor(summaries=[\"self\"], show_progress=True),\n",
    "    QuestionsAnsweredExtractor(questions=5, show_progress=True),\n",
    "]"
   ]
  },
  {
   "cell_type": "code",
   "execution_count": null,
   "id": "e47c706c-940e-499d-b742-eaf09a230b0d",
   "metadata": {
    "id": "e47c706c-940e-499d-b742-eaf09a230b0d",
    "outputId": "c507cc47-2848-4722-caec-19fa98491ce9"
   },
   "outputs": [
    {
     "name": "stderr",
     "output_type": "stream",
     "text": [
      "100%|██████████| 93/93 [01:13<00:00,  1.27it/s]\n",
      "100%|██████████| 93/93 [00:49<00:00,  1.88it/s]\n"
     ]
    }
   ],
   "source": [
    "# run metadata extractor across base nodes, get back dictionaries\n",
    "node_to_metadata = {}\n",
    "for extractor in extractors:\n",
    "    metadata_dicts = extractor.extract(base_nodes)\n",
    "    for node, metadata in zip(base_nodes, metadata_dicts):\n",
    "        if node.node_id not in node_to_metadata:\n",
    "            node_to_metadata[node.node_id] = metadata\n",
    "        else:\n",
    "            node_to_metadata[node.node_id].update(metadata)"
   ]
  },
  {
   "cell_type": "code",
   "execution_count": null,
   "id": "2873327d-420a-4778-a83b-6fdf7aa21bcd",
   "metadata": {
    "id": "2873327d-420a-4778-a83b-6fdf7aa21bcd"
   },
   "outputs": [],
   "source": [
    "# cache metadata dicts\n",
    "def save_metadata_dicts(path, data):\n",
    "    with open(path, \"w\") as fp:\n",
    "        json.dump(data, fp)\n",
    "\n",
    "\n",
    "def load_metadata_dicts(path):\n",
    "    with open(path, \"r\") as fp:\n",
    "        data = json.load(fp)\n",
    "    return data"
   ]
  },
  {
   "cell_type": "code",
   "execution_count": null,
   "id": "e318efb2-9afa-4414-b37f-71738d73d01d",
   "metadata": {
    "id": "e318efb2-9afa-4414-b37f-71738d73d01d"
   },
   "outputs": [],
   "source": [
    "save_metadata_dicts(\"data/llama2_metadata_dicts.json\", node_to_metadata)"
   ]
  },
  {
   "cell_type": "code",
   "execution_count": null,
   "id": "4edce99f-8a96-4539-95e7-62aeeabb2ce9",
   "metadata": {
    "id": "4edce99f-8a96-4539-95e7-62aeeabb2ce9"
   },
   "outputs": [],
   "source": [
    "metadata_dicts = load_metadata_dicts(\"data/llama2_metadata_dicts.json\")"
   ]
  },
  {
   "cell_type": "code",
   "execution_count": null,
   "id": "f18d2109-5fcb-4fd5-b147-23897fed8787",
   "metadata": {
    "id": "f18d2109-5fcb-4fd5-b147-23897fed8787"
   },
   "outputs": [],
   "source": [
    "# all nodes consists of source nodes, along with metadata\n",
    "import copy\n",
    "\n",
    "all_nodes = copy.deepcopy(base_nodes)\n",
    "for node_id, metadata in node_to_metadata.items():\n",
    "    for val in metadata.values():\n",
    "        all_nodes.append(IndexNode(text=val, index_id=node_id))"
   ]
  },
  {
   "cell_type": "code",
   "execution_count": null,
   "id": "8f90ada6-0969-40cc-a4ec-3579b4900cdd",
   "metadata": {
    "id": "8f90ada6-0969-40cc-a4ec-3579b4900cdd"
   },
   "outputs": [],
   "source": [
    "all_nodes_dict = {n.node_id: n for n in all_nodes}"
   ]
  },
  {
   "cell_type": "code",
   "execution_count": null,
   "id": "22abc768-83d5-41d0-84f0-533899c76894",
   "metadata": {
    "id": "22abc768-83d5-41d0-84f0-533899c76894"
   },
   "outputs": [],
   "source": [
    "## Load index into vector index\n",
    "from llama_index.core import VectorStoreIndex\n",
    "from llama_index.llms.openai import OpenAI\n",
    "\n",
    "llm = OpenAI(model=\"gpt-3.5-turbo\")\n",
    "\n",
    "vector_index_metadata = VectorStoreIndex(all_nodes)"
   ]
  },
  {
   "cell_type": "code",
   "execution_count": null,
   "id": "0d53938a-1322-41b1-ad11-169b13b9805a",
   "metadata": {
    "id": "0d53938a-1322-41b1-ad11-169b13b9805a"
   },
   "outputs": [],
   "source": [
    "vector_retriever_metadata = vector_index_metadata.as_retriever(\n",
    "    similarity_top_k=2\n",
    ")"
   ]
  },
  {
   "cell_type": "code",
   "execution_count": null,
   "id": "37ae791f-c183-4ad4-9a3a-253288ded5a7",
   "metadata": {
    "id": "37ae791f-c183-4ad4-9a3a-253288ded5a7"
   },
   "outputs": [],
   "source": [
    "retriever_metadata = RecursiveRetriever(\n",
    "    \"vector\",\n",
    "    retriever_dict={\"vector\": vector_retriever_metadata},\n",
    "    node_dict=all_nodes_dict,\n",
    "    verbose=False,\n",
    ")"
   ]
  },
  {
   "cell_type": "code",
   "execution_count": null,
   "id": "3cd85685-19eb-44cc-ad27-1d163eaddad6",
   "metadata": {
    "id": "3cd85685-19eb-44cc-ad27-1d163eaddad6",
    "outputId": "cac46298-8c41-49ae-cf7e-ff292823ce51"
   },
   "outputs": [
    {
     "data": {
      "text/markdown": [
       "**Node ID:** node-26<br>**Similarity:** 0.8727061238826861<br>**Text:** AsLLMsareintegratedanddeployed,welookforwardto\n",
       "continuing research that will amplify their potential for positive impact on these important social issues.\n",
       "4.2 Safety Fine-Tuning\n",
       "In this section, we describe our approach to safety fine-tuning, including safety categories, annotation\n",
       "guidelines,andthetechniquesweusetomitigatesafetyrisks. Weemployaprocesssimilartothegeneral\n",
       "fine-tuning methods as described in Section 3, with some notable differences related to safety concerns.\n",
       "Specifically, we use the following techniques in safety fine-tuning:\n",
       "1.Supervised Safety Fine-Tuning : We initialize by gathering adversarial prompts and safe demonstra-\n",
       "tions that are then included in the general supervised fine-tuning process (Section 3.1). This teaches\n",
       "themodeltoalignwithoursafetyguidelinesevenbeforeRLHF,andthuslaysthefoundationfor\n",
       "high-quality human preference data annotation.\n",
       "2.Safety RLHF : Subsequently, we integrate safety in the general RLHF pipeline described in Sec-\n",
       "tion 3.2.2. This includes training a safety-specific reward model and gathering more challenging\n",
       "adversarial prompts for rejection sampling style fine-tuning and PPO optimization.\n",
       "3.SafetyContextDistillation : Finally,werefineourRLHFpipelinewithcontextdistillation(Askell\n",
       "etal.,2021b). Thisinvolvesgeneratingsafermodelresponsesbyprefixingapromptwithasafety\n",
       "preprompt, e.g., “You are a safe and responsible assistant,” and then fine-tuning the model on the safer\n",
       "responses without the preprompt, which essentially distillsthe safety preprompt (context) into the\n",
       "model. Weuseatargetedapproachthatallowsoursafetyrewardmodeltochoosewhethertouse\n",
       "context distillation for each sample.\n",
       "4.2.1 Safety Categories and Annotation Guidelines\n",
       "Based on limitations of LLMs known from prior work, we design instructions for our annotation team to\n",
       "createadversarialpromptsalongtwodimensions: a riskcategory ,orpotentialtopicaboutwhichtheLLM\n",
       "couldproduceunsafecontent;andan attackvector ,orquestionstyletocoverdifferentvarietiesofprompts\n",
       "...<br>"
      ],
      "text/plain": [
       "<IPython.core.display.Markdown object>"
      ]
     },
     "metadata": {},
     "output_type": "display_data"
    },
    {
     "data": {
      "text/markdown": [
       "**Node ID:** node-26<br>**Similarity:** 0.8586079224453517<br>**Text:** AsLLMsareintegratedanddeployed,welookforwardto\n",
       "continuing research that will amplify their potential for positive impact on these important social issues.\n",
       "4.2 Safety Fine-Tuning\n",
       "In this section, we describe our approach to safety fine-tuning, including safety categories, annotation\n",
       "guidelines,andthetechniquesweusetomitigatesafetyrisks. Weemployaprocesssimilartothegeneral\n",
       "fine-tuning methods as described in Section 3, with some notable differences related to safety concerns.\n",
       "Specifically, we use the following techniques in safety fine-tuning:\n",
       "1.Supervised Safety Fine-Tuning : We initialize by gathering adversarial prompts and safe demonstra-\n",
       "tions that are then included in the general supervised fine-tuning process (Section 3.1). This teaches\n",
       "themodeltoalignwithoursafetyguidelinesevenbeforeRLHF,andthuslaysthefoundationfor\n",
       "high-quality human preference data annotation.\n",
       "2.Safety RLHF : Subsequently, we integrate safety in the general RLHF pipeline described in Sec-\n",
       "tion 3.2.2. This includes training a safety-specific reward model and gathering more challenging\n",
       "adversarial prompts for rejection sampling style fine-tuning and PPO optimization.\n",
       "3.SafetyContextDistillation : Finally,werefineourRLHFpipelinewithcontextdistillation(Askell\n",
       "etal.,2021b). Thisinvolvesgeneratingsafermodelresponsesbyprefixingapromptwithasafety\n",
       "preprompt, e.g., “You are a safe and responsible assistant,” and then fine-tuning the model on the safer\n",
       "responses without the preprompt, which essentially distillsthe safety preprompt (context) into the\n",
       "model. Weuseatargetedapproachthatallowsoursafetyrewardmodeltochoosewhethertouse\n",
       "context distillation for each sample.\n",
       "4.2.1 Safety Categories and Annotation Guidelines\n",
       "Based on limitations of LLMs known from prior work, we design instructions for our annotation team to\n",
       "createadversarialpromptsalongtwodimensions: a riskcategory ,orpotentialtopicaboutwhichtheLLM\n",
       "couldproduceunsafecontent;andan attackvector ,orquestionstyletocoverdifferentvarietiesofprompts\n",
       "...<br>"
      ],
      "text/plain": [
       "<IPython.core.display.Markdown object>"
      ]
     },
     "metadata": {},
     "output_type": "display_data"
    }
   ],
   "source": [
    "nodes = retriever_metadata.retrieve(\n",
    "    \"Can you tell me about the key concepts for safety finetuning\"\n",
    ")\n",
    "for node in nodes:\n",
    "    display_source_node(node, source_length=2000)"
   ]
  },
  {
   "cell_type": "code",
   "execution_count": null,
   "id": "5285854a-69a6-4bc4-a2a5-1004cc790a63",
   "metadata": {
    "id": "5285854a-69a6-4bc4-a2a5-1004cc790a63"
   },
   "outputs": [],
   "source": [
    "query_engine_metadata = RetrieverQueryEngine.from_args(\n",
    "    retriever_metadata, llm=llm\n",
    ")"
   ]
  },
  {
   "cell_type": "code",
   "execution_count": null,
   "id": "4e0ada5c-9a83-4517-bbb7-899d4415d68a",
   "metadata": {
    "id": "4e0ada5c-9a83-4517-bbb7-899d4415d68a",
    "outputId": "c28512dc-363d-4b5e-a2d8-712de8cbfa43"
   },
   "outputs": [
    {
     "name": "stdout",
     "output_type": "stream",
     "text": [
      "The key concepts for safety fine-tuning include supervised safety fine-tuning, safety RLHF (Reinforcement Learning from Human Feedback), and safety context distillation. Supervised safety fine-tuning involves gathering adversarial prompts and safe demonstrations to train the model to align with safety guidelines. Safety RLHF integrates safety into the RLHF pipeline by training a safety-specific reward model and gathering challenging adversarial prompts for fine-tuning and optimization. Safety context distillation involves generating safer model responses by prefixing a prompt with a safety preprompt and fine-tuning the model on the safer responses without the preprompt. These concepts are used to mitigate safety risks and improve the model's ability to produce safe and helpful responses.\n"
     ]
    }
   ],
   "source": [
    "response = query_engine_metadata.query(\n",
    "    \"Can you tell me about the key concepts for safety finetuning\"\n",
    ")\n",
    "print(str(response))"
   ]
  },
  {
   "cell_type": "markdown",
   "id": "9973bdca-d179-47d6-bd96-2631b36e1d94",
   "metadata": {
    "id": "9973bdca-d179-47d6-bd96-2631b36e1d94"
   },
   "source": [
    "## Evaluation\n",
    "\n",
    "We evaluate how well our recursive retrieval + node reference methods work. We evaluate both chunk references as well as metadata references. We use embedding similarity lookup to retrieve the reference nodes.\n",
    "\n",
    "We compare both methods against a baseline retriever where we fetch the raw nodes directly.\n",
    "\n",
    "In terms of metrics, we evaluate using both hit-rate and MRR."
   ]
  },
  {
   "cell_type": "markdown",
   "id": "1b3a30b7-2eb2-4eae-b0b9-1d4ec26ac915",
   "metadata": {
    "id": "1b3a30b7-2eb2-4eae-b0b9-1d4ec26ac915"
   },
   "source": [
    "### Dataset Generation\n",
    "\n",
    "We first generate a dataset of questions from the set of text chunks."
   ]
  },
  {
   "cell_type": "code",
   "execution_count": null,
   "id": "3fe8ae8a-a2b2-4515-bcff-1145e14ede3d",
   "metadata": {
    "id": "3fe8ae8a-a2b2-4515-bcff-1145e14ede3d"
   },
   "outputs": [],
   "source": [
    "from llama_index.core.evaluation import (\n",
    "    generate_question_context_pairs,\n",
    "    EmbeddingQAFinetuneDataset,\n",
    ")\n",
    "from llama_index.llms.openai import OpenAI\n",
    "\n",
    "import nest_asyncio\n",
    "\n",
    "nest_asyncio.apply()"
   ]
  },
  {
   "cell_type": "code",
   "execution_count": null,
   "id": "eef1b43d-996b-4b0a-becb-1cec08d9f8c3",
   "metadata": {
    "id": "eef1b43d-996b-4b0a-becb-1cec08d9f8c3",
    "outputId": "760e3fea-6524-4141-bc8b-3a1b61907216"
   },
   "outputs": [
    {
     "name": "stderr",
     "output_type": "stream",
     "text": [
      "100%|██████████| 93/93 [02:08<00:00,  1.38s/it]\n"
     ]
    }
   ],
   "source": [
    "eval_dataset = generate_question_context_pairs(\n",
    "    base_nodes, OpenAI(model=\"gpt-3.5-turbo\")\n",
    ")"
   ]
  },
  {
   "cell_type": "code",
   "execution_count": null,
   "id": "bd3e2507-9157-48a5-909b-18eeb9ec01d4",
   "metadata": {
    "id": "bd3e2507-9157-48a5-909b-18eeb9ec01d4"
   },
   "outputs": [],
   "source": [
    "eval_dataset.save_json(\"data/llama2_eval_dataset.json\")"
   ]
  },
  {
   "cell_type": "code",
   "execution_count": null,
   "id": "611f07af-2006-4158-8dc6-59d11a269c8d",
   "metadata": {
    "id": "611f07af-2006-4158-8dc6-59d11a269c8d"
   },
   "outputs": [],
   "source": [
    "# optional\n",
    "eval_dataset = EmbeddingQAFinetuneDataset.from_json(\n",
    "    \"data/llama2_eval_dataset.json\"\n",
    ")"
   ]
  },
  {
   "cell_type": "markdown",
   "id": "fb4782a6-f3da-453f-93be-7683ed15b508",
   "metadata": {
    "id": "fb4782a6-f3da-453f-93be-7683ed15b508"
   },
   "source": [
    "### Compare Results\n",
    "\n",
    "We run evaluations on each of the retrievers to measure hit rate and MRR.\n",
    "\n",
    "We find that retrievers with node references (either chunk or metadata) tend to perform better than retrieving the raw chunks."
   ]
  },
  {
   "cell_type": "code",
   "execution_count": null,
   "id": "87798866-11bc-4f7f-b8aa-0a023309492f",
   "metadata": {
    "id": "87798866-11bc-4f7f-b8aa-0a023309492f"
   },
   "outputs": [],
   "source": [
    "import pandas as pd\n",
    "from llama_index.core.evaluation import (\n",
    "    RetrieverEvaluator,\n",
    "    get_retrieval_results_df,\n",
    ")\n",
    "\n",
    "# set vector retriever similarity top k to higher\n",
    "top_k = 10\n",
    "\n",
    "\n",
    "def display_results(names, results_arr):\n",
    "    \"\"\"Display results from evaluate.\"\"\"\n",
    "\n",
    "    hit_rates = []\n",
    "    mrrs = []\n",
    "    for name, eval_results in zip(names, results_arr):\n",
    "        metric_dicts = []\n",
    "        for eval_result in eval_results:\n",
    "            metric_dict = eval_result.metric_vals_dict\n",
    "            metric_dicts.append(metric_dict)\n",
    "        results_df = pd.DataFrame(metric_dicts)\n",
    "\n",
    "        hit_rate = results_df[\"hit_rate\"].mean()\n",
    "        mrr = results_df[\"mrr\"].mean()\n",
    "        hit_rates.append(hit_rate)\n",
    "        mrrs.append(mrr)\n",
    "\n",
    "    final_df = pd.DataFrame(\n",
    "        {\"retrievers\": names, \"hit_rate\": hit_rates, \"mrr\": mrrs}\n",
    "    )\n",
    "    display(final_df)"
   ]
  },
  {
   "cell_type": "code",
   "execution_count": null,
   "id": "a6d142c6-0374-43ec-af31-e02d246bd815",
   "metadata": {
    "id": "a6d142c6-0374-43ec-af31-e02d246bd815"
   },
   "outputs": [],
   "source": [
    "vector_retriever_chunk = vector_index_chunk.as_retriever(\n",
    "    similarity_top_k=top_k\n",
    ")\n",
    "retriever_chunk = RecursiveRetriever(\n",
    "    \"vector\",\n",
    "    retriever_dict={\"vector\": vector_retriever_chunk},\n",
    "    node_dict=all_nodes_dict,\n",
    "    verbose=True,\n",
    ")\n",
    "retriever_evaluator = RetrieverEvaluator.from_metric_names(\n",
    "    [\"mrr\", \"hit_rate\"], retriever=retriever_chunk\n",
    ")\n",
    "# try it out on an entire dataset\n",
    "results_chunk = await retriever_evaluator.aevaluate_dataset(\n",
    "    eval_dataset, show_progress=True\n",
    ")"
   ]
  },
  {
   "cell_type": "code",
   "execution_count": null,
   "id": "ae448fe7-3a66-45a6-8e8e-6ed3950e61b8",
   "metadata": {
    "id": "ae448fe7-3a66-45a6-8e8e-6ed3950e61b8"
   },
   "outputs": [],
   "source": [
    "vector_retriever_metadata = vector_index_metadata.as_retriever(\n",
    "    similarity_top_k=top_k\n",
    ")\n",
    "retriever_metadata = RecursiveRetriever(\n",
    "    \"vector\",\n",
    "    retriever_dict={\"vector\": vector_retriever_metadata},\n",
    "    node_dict=all_nodes_dict,\n",
    "    verbose=True,\n",
    ")\n",
    "retriever_evaluator = RetrieverEvaluator.from_metric_names(\n",
    "    [\"mrr\", \"hit_rate\"], retriever=retriever_metadata\n",
    ")\n",
    "# try it out on an entire dataset\n",
    "results_metadata = await retriever_evaluator.aevaluate_dataset(\n",
    "    eval_dataset, show_progress=True\n",
    ")"
   ]
  },
  {
   "cell_type": "code",
   "execution_count": null,
   "id": "3d3fc029-7ccc-4ec4-b391-b7b86744b5d8",
   "metadata": {
    "id": "3d3fc029-7ccc-4ec4-b391-b7b86744b5d8",
    "outputId": "c3ada8eb-0f5f-48a1-83ab-a787336d4d3f"
   },
   "outputs": [
    {
     "name": "stderr",
     "output_type": "stream",
     "text": [
      "100%|██████████| 194/194 [00:09<00:00, 19.86it/s]\n"
     ]
    }
   ],
   "source": [
    "base_retriever = base_index.as_retriever(similarity_top_k=top_k)\n",
    "retriever_evaluator = RetrieverEvaluator.from_metric_names(\n",
    "    [\"mrr\", \"hit_rate\"], retriever=base_retriever\n",
    ")\n",
    "# try it out on an entire dataset\n",
    "results_base = await retriever_evaluator.aevaluate_dataset(\n",
    "    eval_dataset, show_progress=True\n",
    ")"
   ]
  },
  {
   "cell_type": "code",
   "execution_count": null,
   "id": "4ef0cd73-b1ad-4ec6-931f-357d2ceebd65",
   "metadata": {
    "id": "4ef0cd73-b1ad-4ec6-931f-357d2ceebd65",
    "outputId": "de18bdcb-2cf0-4da5-cfbb-477e74fe4188"
   },
   "outputs": [
    {
     "data": {
      "text/html": [
       "<div>\n",
       "<style scoped>\n",
       "    .dataframe tbody tr th:only-of-type {\n",
       "        vertical-align: middle;\n",
       "    }\n",
       "\n",
       "    .dataframe tbody tr th {\n",
       "        vertical-align: top;\n",
       "    }\n",
       "\n",
       "    .dataframe thead th {\n",
       "        text-align: right;\n",
       "    }\n",
       "</style>\n",
       "<table border=\"1\" class=\"dataframe\">\n",
       "  <thead>\n",
       "    <tr style=\"text-align: right;\">\n",
       "      <th></th>\n",
       "      <th>retrievers</th>\n",
       "      <th>hit_rate</th>\n",
       "      <th>mrr</th>\n",
       "    </tr>\n",
       "  </thead>\n",
       "  <tbody>\n",
       "    <tr>\n",
       "      <th>0</th>\n",
       "      <td>Base Retriever</td>\n",
       "      <td>0.778351</td>\n",
       "      <td>0.563103</td>\n",
       "    </tr>\n",
       "    <tr>\n",
       "      <th>1</th>\n",
       "      <td>Retriever (Chunk References)</td>\n",
       "      <td>0.896907</td>\n",
       "      <td>0.691114</td>\n",
       "    </tr>\n",
       "    <tr>\n",
       "      <th>2</th>\n",
       "      <td>Retriever (Metadata References)</td>\n",
       "      <td>0.891753</td>\n",
       "      <td>0.718440</td>\n",
       "    </tr>\n",
       "  </tbody>\n",
       "</table>\n",
       "</div>"
      ],
      "text/plain": [
       "                        retrievers  hit_rate       mrr\n",
       "0                   Base Retriever  0.778351  0.563103\n",
       "1     Retriever (Chunk References)  0.896907  0.691114\n",
       "2  Retriever (Metadata References)  0.891753  0.718440"
      ]
     },
     "metadata": {},
     "output_type": "display_data"
    }
   ],
   "source": [
    "full_results_df = get_retrieval_results_df(\n",
    "    [\n",
    "        \"Base Retriever\",\n",
    "        \"Retriever (Chunk References)\",\n",
    "        \"Retriever (Metadata References)\",\n",
    "    ],\n",
    "    [results_base, results_chunk, results_metadata],\n",
    ")\n",
    "display(full_results_df)"
   ]
  }
 ],
 "metadata": {
  "colab": {
   "provenance": []
  },
  "kernelspec": {
   "display_name": "Python 3 (ipykernel)",
   "language": "python",
   "name": "python3"
  },
  "language_info": {
   "codemirror_mode": {
    "name": "ipython",
    "version": 3
   },
   "file_extension": ".py",
   "mimetype": "text/x-python",
   "name": "python",
   "nbconvert_exporter": "python",
   "pygments_lexer": "ipython3",
   "version": "3.11.3"
  }
 },
 "nbformat": 4,
 "nbformat_minor": 5
}
