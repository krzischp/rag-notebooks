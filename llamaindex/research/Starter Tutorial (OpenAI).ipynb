{
 "cells": [
  {
   "cell_type": "code",
   "execution_count": null,
   "id": "3977cad9-5c46-4836-a58e-6e6ee2c370a3",
   "metadata": {},
   "outputs": [],
   "source": []
  },
  {
   "cell_type": "code",
   "execution_count": null,
   "id": "0ac89ca9-08d4-4f9c-a908-a823f5fcf22b",
   "metadata": {},
   "outputs": [],
   "source": []
  },
  {
   "cell_type": "code",
   "execution_count": null,
   "id": "f5f6055a-110d-473c-8ddd-b73977744a4e",
   "metadata": {},
   "outputs": [],
   "source": []
  },
  {
   "cell_type": "code",
   "execution_count": 16,
   "id": "cf095f85-1b9a-4430-86bc-28d80bc8037e",
   "metadata": {
    "execution": {
     "iopub.execute_input": "2024-04-27T18:04:33.113544Z",
     "iopub.status.busy": "2024-04-27T18:04:33.113215Z",
     "iopub.status.idle": "2024-04-27T18:04:33.174802Z",
     "shell.execute_reply": "2024-04-27T18:04:33.172748Z",
     "shell.execute_reply.started": "2024-04-27T18:04:33.113519Z"
    }
   },
   "outputs": [
    {
     "name": "stdout",
     "output_type": "stream",
     "text": [
      "The autoreload extension is already loaded. To reload it, use:\n",
      "  %reload_ext autoreload\n"
     ]
    }
   ],
   "source": [
    "%load_ext autoreload\n",
    "%autoreload 2"
   ]
  },
  {
   "cell_type": "code",
   "execution_count": null,
   "id": "7d771622-8d4f-4522-83dd-4ef5eca15c82",
   "metadata": {},
   "outputs": [],
   "source": [
    "import sys\n",
    "import os\n",
    "import openai\n",
    "from dotenv import load_dotenv, find_dotenv"
   ]
  },
  {
   "cell_type": "code",
   "execution_count": 17,
   "id": "084e8e01-65bc-4d64-a5fc-b3eefdef02e4",
   "metadata": {
    "execution": {
     "iopub.execute_input": "2024-04-27T18:04:33.317164Z",
     "iopub.status.busy": "2024-04-27T18:04:33.316876Z",
     "iopub.status.idle": "2024-04-27T18:04:33.341991Z",
     "shell.execute_reply": "2024-04-27T18:04:33.340823Z",
     "shell.execute_reply.started": "2024-04-27T18:04:33.317142Z"
    }
   },
   "outputs": [],
   "source": [
    "# Get the current working directory\n",
    "llamaindex_dir = os.getcwd()\n",
    "# Get the parent directory\n",
    "llamaindex_dir = os.path.dirname(llamaindex_dir)\n",
    "\n",
    "sys.path.append(llamaindex_dir + \"/utils\")\n",
    "# sys.path\n",
    "\n",
    "_ = load_dotenv(find_dotenv()) # read local .env file\n",
    "\n",
    "openai.api_key  = os.getenv('OPENAI_API_KEY')"
   ]
  },
  {
   "cell_type": "code",
   "execution_count": 21,
   "id": "351708be-dd65-47a1-b281-1e4b2be5265f",
   "metadata": {
    "execution": {
     "iopub.execute_input": "2024-04-27T18:04:44.057057Z",
     "iopub.status.busy": "2024-04-27T18:04:44.056715Z",
     "iopub.status.idle": "2024-04-27T18:04:44.083532Z",
     "shell.execute_reply": "2024-04-27T18:04:44.082670Z",
     "shell.execute_reply.started": "2024-04-27T18:04:44.057031Z"
    }
   },
   "outputs": [],
   "source": [
    "from llamaindex_utils import *"
   ]
  },
  {
   "cell_type": "code",
   "execution_count": 24,
   "id": "89691402-64a9-4dab-a536-14e864ff417b",
   "metadata": {
    "execution": {
     "iopub.execute_input": "2024-04-27T18:08:12.132158Z",
     "iopub.status.busy": "2024-04-27T18:08:12.131861Z",
     "iopub.status.idle": "2024-04-27T18:08:12.162899Z",
     "shell.execute_reply": "2024-04-27T18:08:12.161709Z",
     "shell.execute_reply.started": "2024-04-27T18:08:12.132135Z"
    }
   },
   "outputs": [],
   "source": [
    "import logging\n",
    "import sys\n",
    "\n",
    "# logging.basicConfig(stream=sys.stdout, level=logging.DEBUG)\n",
    "logging.basicConfig(stream=sys.stdout, level=logging.WARNING)\n",
    "logging.getLogger().addHandler(logging.StreamHandler(stream=sys.stdout))"
   ]
  },
  {
   "cell_type": "markdown",
   "id": "b9b839aa-8e8a-4c6c-95b0-a2d52dd23fa9",
   "metadata": {},
   "source": [
    "# Load data and build an index + Storing your index + Query your data"
   ]
  },
  {
   "cell_type": "code",
   "execution_count": 22,
   "id": "b44d5c4b-5492-4605-b4c3-ea3139558312",
   "metadata": {
    "execution": {
     "iopub.execute_input": "2024-04-27T18:05:02.528412Z",
     "iopub.status.busy": "2024-04-27T18:05:02.528118Z",
     "iopub.status.idle": "2024-04-27T18:05:11.459440Z",
     "shell.execute_reply": "2024-04-27T18:05:11.458723Z",
     "shell.execute_reply.started": "2024-04-27T18:05:02.528390Z"
    }
   },
   "outputs": [],
   "source": [
    "# from llama_index.core import VectorStoreIndex, SimpleDirectoryReader\n",
    "from llama_index import VectorStoreIndex, SimpleDirectoryReader, StorageContext, load_index_from_storage\n",
    "\n",
    "# documents = SimpleDirectoryReader(llamaindex_dir + \"/data\").load_data()\n",
    "# index = VectorStoreIndex.from_documents(documents)"
   ]
  },
  {
   "cell_type": "code",
   "execution_count": 28,
   "id": "ca88744e-3a87-40d2-9bec-5fd515bd529e",
   "metadata": {
    "execution": {
     "iopub.execute_input": "2024-04-27T18:12:12.754860Z",
     "iopub.status.busy": "2024-04-27T18:12:12.754573Z",
     "iopub.status.idle": "2024-04-27T18:12:12.783013Z",
     "shell.execute_reply": "2024-04-27T18:12:12.781879Z",
     "shell.execute_reply.started": "2024-04-27T18:12:12.754838Z"
    }
   },
   "outputs": [],
   "source": [
    "# check if storage already exists\n",
    "PERSIST_DIR = \"./storage\"\n",
    "if not os.path.exists(PERSIST_DIR):\n",
    "    # load the documents and create the index\n",
    "    documents = SimpleDirectoryReader(llamaindex_dir + \"/data\").load_data()\n",
    "    index = VectorStoreIndex.from_documents(documents)\n",
    "    # store it for later\n",
    "    # saving the embeddings to disk\n",
    "    # By default, this will save the data to the directory storage, but you can change that by passing a persist_dir parameter.\n",
    "    index.storage_context.persist(persist_dir=PERSIST_DIR)\n",
    "else:\n",
    "    # load the existing index\n",
    "    storage_context = StorageContext.from_defaults(persist_dir=PERSIST_DIR)\n",
    "    index = load_index_from_storage(storage_context)"
   ]
  },
  {
   "cell_type": "code",
   "execution_count": null,
   "id": "e016ea8e-8c76-4d5a-a537-fd915fd77571",
   "metadata": {},
   "outputs": [],
   "source": [
    "# Either way we can now query the index\n",
    "query_engine = index.as_query_engine()\n",
    "response = query_engine.query(\"What did the author do growing up?\")\n",
    "print(response)"
   ]
  },
  {
   "cell_type": "code",
   "execution_count": null,
   "id": "3c8b2901-0d57-4167-b0b0-ed3d35fc0c68",
   "metadata": {},
   "outputs": [],
   "source": []
  },
  {
   "cell_type": "code",
   "execution_count": null,
   "id": "7ae90b44-678d-4b6f-9e41-ff386a143dba",
   "metadata": {},
   "outputs": [],
   "source": []
  }
 ],
 "metadata": {
  "kernelspec": {
   "display_name": "Python 3 (ipykernel)",
   "language": "python",
   "name": "python3"
  },
  "language_info": {
   "codemirror_mode": {
    "name": "ipython",
    "version": 3
   },
   "file_extension": ".py",
   "mimetype": "text/x-python",
   "name": "python",
   "nbconvert_exporter": "python",
   "pygments_lexer": "ipython3",
   "version": "3.11.3"
  }
 },
 "nbformat": 4,
 "nbformat_minor": 5
}
